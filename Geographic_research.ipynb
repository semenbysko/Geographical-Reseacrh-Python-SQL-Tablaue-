{
  "nbformat": 4,
  "nbformat_minor": 0,
  "metadata": {
    "colab": {
      "provenance": [],
      "collapsed_sections": [
        "Q3yTPRnN_Ay-",
        "ikESh6fhuI8Y",
        "yiwBhlWGuOaf",
        "6Pq7On9-DRSs",
        "ofPCZIqz47sT",
        "G5ZAvyOPPffG",
        "fFxwBLQb6YYR",
        "Sd4jBEj86hKO",
        "TY99zfTN-cGk",
        "oWtrUOM-BuT2"
      ]
    },
    "kernelspec": {
      "name": "python3",
      "display_name": "Python 3"
    },
    "language_info": {
      "name": "python"
    },
    "widgets": {
      "application/vnd.jupyter.widget-state+json": {
        "583e7a68549e42e895dc2252f59aad13": {
          "model_module": "@jupyter-widgets/controls",
          "model_name": "VBoxModel",
          "model_module_version": "2.0.0",
          "state": {
            "_dom_classes": [
              "widget-interact"
            ],
            "_model_module": "@jupyter-widgets/controls",
            "_model_module_version": "2.0.0",
            "_model_name": "VBoxModel",
            "_view_count": null,
            "_view_module": "@jupyter-widgets/controls",
            "_view_module_version": "2.0.0",
            "_view_name": "VBoxView",
            "box_style": "",
            "children": [
              "IPY_MODEL_b2d21c6ec9de4fc083336bd4decb6ca1",
              "IPY_MODEL_b0b2fc1a0e41479db9447bcfdfd3d7e1",
              "IPY_MODEL_b71a7f9ff9ca47b6bdce75ac2d6861f4"
            ],
            "layout": "IPY_MODEL_3d1cb93d72d64b7caa84af4f987e560d",
            "tabbable": null,
            "tooltip": null
          }
        },
        "b2d21c6ec9de4fc083336bd4decb6ca1": {
          "model_module": "@jupyter-widgets/controls",
          "model_name": "DropdownModel",
          "model_module_version": "2.0.0",
          "state": {
            "_dom_classes": [],
            "_model_module": "@jupyter-widgets/controls",
            "_model_module_version": "2.0.0",
            "_model_name": "DropdownModel",
            "_options_labels": [
              "continent",
              "sub-region",
              "country"
            ],
            "_view_count": null,
            "_view_module": "@jupyter-widgets/controls",
            "_view_module_version": "2.0.0",
            "_view_name": "DropdownView",
            "description": "By:",
            "description_allow_html": false,
            "disabled": false,
            "index": 0,
            "layout": "IPY_MODEL_06ccbabc80b840c3ba6f8fb0b9dfdf16",
            "style": "IPY_MODEL_25044454c8f14d7393a5a3dc8e175a93",
            "tabbable": null,
            "tooltip": null
          }
        },
        "b0b2fc1a0e41479db9447bcfdfd3d7e1": {
          "model_module": "@jupyter-widgets/controls",
          "model_name": "DropdownModel",
          "model_module_version": "2.0.0",
          "state": {
            "_dom_classes": [],
            "_model_module": "@jupyter-widgets/controls",
            "_model_module_version": "2.0.0",
            "_model_name": "DropdownModel",
            "_options_labels": [
              "all",
              "1",
              "2",
              "3",
              "4",
              "5",
              "6",
              "7",
              "8",
              "9",
              "10"
            ],
            "_view_count": null,
            "_view_module": "@jupyter-widgets/controls",
            "_view_module_version": "2.0.0",
            "_view_name": "DropdownView",
            "description": "Top:",
            "description_allow_html": false,
            "disabled": false,
            "index": 0,
            "layout": "IPY_MODEL_f0d30468f3f046f58d374de8dde6a8b6",
            "style": "IPY_MODEL_1430e32260ba49d890577e3c54a92869",
            "tabbable": null,
            "tooltip": null
          }
        },
        "b71a7f9ff9ca47b6bdce75ac2d6861f4": {
          "model_module": "@jupyter-widgets/output",
          "model_name": "OutputModel",
          "model_module_version": "1.0.0",
          "state": {
            "_dom_classes": [],
            "_model_module": "@jupyter-widgets/output",
            "_model_module_version": "1.0.0",
            "_model_name": "OutputModel",
            "_view_count": null,
            "_view_module": "@jupyter-widgets/output",
            "_view_module_version": "1.0.0",
            "_view_name": "OutputView",
            "layout": "IPY_MODEL_46ff62b944764fc7a49ef9cdd3d5a959",
            "msg_id": "",
            "outputs": [
              {
                "output_type": "display_data",
                "data": {
                  "text/html": "<html>\n<head><meta charset=\"utf-8\" /></head>\n<body>\n    <div>            <script src=\"https://cdnjs.cloudflare.com/ajax/libs/mathjax/2.7.5/MathJax.js?config=TeX-AMS-MML_SVG\"></script><script type=\"text/javascript\">if (window.MathJax && window.MathJax.Hub && window.MathJax.Hub.Config) {window.MathJax.Hub.Config({SVG: {font: \"STIX-Web\"}});}</script>                <script type=\"text/javascript\">window.PlotlyConfig = {MathJaxConfig: 'local'};</script>\n        <script charset=\"utf-8\" src=\"https://cdn.plot.ly/plotly-3.1.0.min.js\" integrity=\"sha256-Ei4740bWZhaUTQuD6q9yQlgVCMPBz6CZWhevDYPv93A=\" crossorigin=\"anonymous\"></script>                <div id=\"56178edf-9bc5-4833-bfe4-e4f212469645\" class=\"plotly-graph-div\" style=\"height:1000px; width:1500px;\"></div>            <script type=\"text/javascript\">                window.PLOTLYENV=window.PLOTLYENV || {};                                if (document.getElementById(\"56178edf-9bc5-4833-bfe4-e4f212469645\")) {                    Plotly.newPlot(                        \"56178edf-9bc5-4833-bfe4-e4f212469645\",                        [{\"hovertemplate\":\"\\u003cb\\u003e%{label}\\u003c\\u002fb\\u003e\\u003cbr\\u003eRevenue: %{value}\\u003cextra\\u003e\\u003c\\u002fextra\\u003e\",\"labels\":[\"Americas\",\"Asia\",\"Europe\",\"Oceania\",\"Africa\",\"(not set)\"],\"marker\":{\"colorbar\":{\"title\":{\"text\":\"Revenue\"}},\"colors\":{\"dtype\":\"f8\",\"bdata\":\"AAAAANDYcEEzMzOTJP9cQc3MzAyIo1ZBzczMzLhKFkEAAAAAfDcUQWZmZmY2FfJA\"},\"colorscale\":[[0.0,\"rgb(196, 230, 195)\"],[0.16666666666666666,\"rgb(150, 210, 164)\"],[0.3333333333333333,\"rgb(109, 188, 144)\"],[0.5,\"rgb(77, 162, 132)\"],[0.6666666666666666,\"rgb(54, 135, 122)\"],[0.8333333333333334,\"rgb(38, 107, 110)\"],[1.0,\"rgb(29, 79, 96)\"]],\"showscale\":false},\"parents\":[\"\",\"\",\"\",\"\",\"\",\"\"],\"text\":[\"\\u003cspan style='color:white'\\u003e\\u003cb\\u003eAmericas\\u003c\\u002fb\\u003e\\u003c\\u002fspan\\u003e\\u003cbr\\u003e\\u003cspan style='font-size:10px; color:white'\\u003e$17.67M\\u003c\\u002fspan\\u003e\",\"\\u003cspan style='color:white'\\u003e\\u003cb\\u003eAsia\\u003c\\u002fb\\u003e\\u003c\\u002fspan\\u003e\\u003cbr\\u003e\\u003cspan style='font-size:10px; color:white'\\u003e$7.60M\\u003c\\u002fspan\\u003e\",\"\\u003cspan style='color:white'\\u003e\\u003cb\\u003eEurope\\u003c\\u002fb\\u003e\\u003c\\u002fspan\\u003e\\u003cbr\\u003e\\u003cspan style='font-size:10px; color:white'\\u003e$5.93M\\u003c\\u002fspan\\u003e\",\"\\u003cspan style='color:white'\\u003e\\u003cb\\u003eOceania\\u003c\\u002fb\\u003e\\u003c\\u002fspan\\u003e\\u003cbr\\u003e\\u003cspan style='font-size:10px; color:white'\\u003e$0.37M\\u003c\\u002fspan\\u003e\",\"\\u003cspan style='color:white'\\u003e\\u003cb\\u003eAfrica\\u003c\\u002fb\\u003e\\u003c\\u002fspan\\u003e\\u003cbr\\u003e\\u003cspan style='font-size:10px; color:white'\\u003e$0.33M\\u003c\\u002fspan\\u003e\",\"\\u003cspan style='color:white'\\u003e\\u003cb\\u003e(not set)\\u003c\\u002fb\\u003e\\u003c\\u002fspan\\u003e\\u003cbr\\u003e\\u003cspan style='font-size:10px; color:white'\\u003e$0.07M\\u003c\\u002fspan\\u003e\"],\"textinfo\":\"text\",\"values\":{\"dtype\":\"f8\",\"bdata\":\"AAAAANDYcEEzMzOTJP9cQc3MzAyIo1ZBzczMzLhKFkEAAAAAfDcUQWZmZmY2FfJA\"},\"type\":\"treemap\",\"domain\":{\"x\":[0.0,0.45],\"y\":[0.7777777777777778,1.0]}},{\"hovertemplate\":\"\\u003cb\\u003e%{label}\\u003c\\u002fb\\u003e\\u003cbr\\u003e% of Total: %{value:.2f}%\\u003cextra\\u003e\\u003c\\u002fextra\\u003e\",\"labels\":[\"Americas\",\"Asia\",\"Europe\",\"Oceania\",\"Africa\",\"(not set)\"],\"marker\":{\"colorbar\":{\"title\":{\"text\":\"% of Total\"}},\"colors\":{\"dtype\":\"f8\",\"bdata\":\"p4c6GFygS0C1ZYxXasY3QGw89K7ljzJAJR26fxRH8j+BnCdqgZPwPyx6GTY1p80\\u002f\"},\"colorscale\":[[0.0,\"rgb(196, 230, 195)\"],[0.16666666666666666,\"rgb(150, 210, 164)\"],[0.3333333333333333,\"rgb(109, 188, 144)\"],[0.5,\"rgb(77, 162, 132)\"],[0.6666666666666666,\"rgb(54, 135, 122)\"],[0.8333333333333334,\"rgb(38, 107, 110)\"],[1.0,\"rgb(29, 79, 96)\"]],\"showscale\":false},\"parents\":[\"\",\"\",\"\",\"\",\"\",\"\"],\"text\":[\"\\u003cspan style='color:white'\\u003e\\u003cb\\u003eAmericas\\u003c\\u002fb\\u003e\\u003c\\u002fspan\\u003e\\u003cbr\\u003e\\u003cspan style='font-size:10px; color:white'\\u003e55.25%\\u003c\\u002fspan\\u003e\",\"\\u003cspan style='color:white'\\u003e\\u003cb\\u003eAsia\\u003c\\u002fb\\u003e\\u003c\\u002fspan\\u003e\\u003cbr\\u003e\\u003cspan style='font-size:10px; color:white'\\u003e23.78%\\u003c\\u002fspan\\u003e\",\"\\u003cspan style='color:white'\\u003e\\u003cb\\u003eEurope\\u003c\\u002fb\\u003e\\u003c\\u002fspan\\u003e\\u003cbr\\u003e\\u003cspan style='font-size:10px; color:white'\\u003e18.56%\\u003c\\u002fspan\\u003e\",\"\\u003cspan style='color:white'\\u003e\\u003cb\\u003eOceania\\u003c\\u002fb\\u003e\\u003c\\u002fspan\\u003e\\u003cbr\\u003e\\u003cspan style='font-size:10px; color:white'\\u003e1.14%\\u003c\\u002fspan\\u003e\",\"\\u003cspan style='color:white'\\u003e\\u003cb\\u003eAfrica\\u003c\\u002fb\\u003e\\u003c\\u002fspan\\u003e\\u003cbr\\u003e\\u003cspan style='font-size:10px; color:white'\\u003e1.04%\\u003c\\u002fspan\\u003e\",\"\\u003cspan style='color:white'\\u003e\\u003cb\\u003e(not set)\\u003c\\u002fb\\u003e\\u003c\\u002fspan\\u003e\\u003cbr\\u003e\\u003cspan style='font-size:10px; color:white'\\u003e0.23%\\u003c\\u002fspan\\u003e\"],\"textinfo\":\"text\",\"values\":{\"dtype\":\"f8\",\"bdata\":\"p4c6GFygS0C1ZYxXasY3QGw89K7ljzJAJR26fxRH8j+BnCdqgZPwPyx6GTY1p80\\u002f\"},\"type\":\"treemap\",\"domain\":{\"x\":[0.55,1.0],\"y\":[0.7777777777777778,1.0]}},{\"cliponaxis\":true,\"marker\":{\"color\":{\"dtype\":\"f8\",\"bdata\":\"gNo7r89MkECRCZmQCVuPQJMKBiipiI5AY77h7hrhjUAorzq7N8GNQHJB1RL5no1A\"},\"colorscale\":[[0.0,\"rgb(196, 230, 195)\"],[0.16666666666666666,\"rgb(150, 210, 164)\"],[0.3333333333333333,\"rgb(109, 188, 144)\"],[0.5,\"rgb(77, 162, 132)\"],[0.6666666666666666,\"rgb(54, 135, 122)\"],[0.8333333333333334,\"rgb(38, 107, 110)\"],[1.0,\"rgb(29, 79, 96)\"]]},\"text\":{\"dtype\":\"f8\",\"bdata\":\"AAAAAABMkEAAAAAAAFiPQAAAAAAAiI5AAAAAAADgjUAAAAAAAMCNQAAAAAAAoI1A\"},\"textfont\":{\"color\":\"black\",\"size\":9},\"textposition\":\"outside\",\"x\":[\"(not set)\",\"Oceania\",\"Africa\",\"Asia\",\"Americas\",\"Europe\"],\"y\":{\"dtype\":\"f8\",\"bdata\":\"gNo7r89MkECRCZmQCVuPQJMKBiipiI5AY77h7hrhjUAorzq7N8GNQHJB1RL5no1A\"},\"type\":\"bar\",\"xaxis\":\"x\",\"yaxis\":\"y\"},{\"hoverinfo\":\"text\",\"hovertext\":[\"0.071K\",\"0.339K\",\"0.364K\",\"6.261K\",\"7.95K\",\"18.553K\"],\"insidetextanchor\":\"middle\",\"legendgroup\":\"orders\",\"marker\":{\"color\":\"darkcyan\"},\"orientation\":\"h\",\"showlegend\":true,\"text\":[\"8.93%\",\"9.36%\",\"9.83%\",\"9.61%\",\"9.57%\",\"9.6%\"],\"textangle\":0,\"textfont\":{\"color\":\"white\",\"size\":7},\"textposition\":\"inside\",\"x\":{\"dtype\":\"i2\",\"bdata\":\"RwBTAWwBdRgOH3lI\"},\"y\":[\"(not set)\",\"Africa\",\"Oceania\",\"Europe\",\"Asia\",\"Americas\"],\"type\":\"bar\",\"xaxis\":\"x2\",\"yaxis\":\"y2\"},{\"hoverinfo\":\"text\",\"hovertext\":[\"0.724K\",\"3.281K\",\"3.339K\",\"58.874K\",\"75.163K\",\"174.626K\"],\"insidetextanchor\":\"middle\",\"legendgroup\":\"orders\",\"marker\":{\"color\":\"seagreen\"},\"orientation\":\"h\",\"showlegend\":true,\"text\":[\"91.07%\",\"90.64%\",\"90.17%\",\"90.39%\",\"90.43%\",\"90.4%\"],\"textangle\":0,\"textfont\":{\"color\":\"white\",\"size\":7},\"textposition\":\"inside\",\"x\":{\"dtype\":\"i4\",\"bdata\":\"1AIAANEMAAALDQAA+uUAAJslAQAiqgIA\"},\"y\":[\"(not set)\",\"Africa\",\"Oceania\",\"Europe\",\"Asia\",\"Americas\"],\"type\":\"bar\",\"xaxis\":\"x2\",\"yaxis\":\"y2\"},{\"hoverinfo\":\"skip\",\"mode\":\"text\",\"showlegend\":false,\"text\":[\"0.8K\",\"3.62K\",\"3.7K\",\"65.14K\",\"83.11K\",\"193.18K\"],\"textfont\":{\"color\":\"black\",\"size\":10},\"x\":{\"dtype\":\"f8\",\"bdata\":\"AAAAAMDiskAAAAAAAHm+QGZmZmYm0L5AAAAAAHys8UBnZmZmSkj2QJqZmZmvPwlB\"},\"y\":[\"(not set)\",\"Africa\",\"Oceania\",\"Europe\",\"Asia\",\"Americas\"],\"type\":\"scatter\",\"xaxis\":\"x2\",\"yaxis\":\"y2\"},{\"hoverinfo\":\"text\",\"hovertext\":[\"0.013K\",\"0.07K\",\"0.072K\",\"1.405K\",\"1.788K\",\"4.13K\"],\"insidetextanchor\":\"middle\",\"legendgroup\":\"users\",\"marker\":{\"color\":\"darkcyan\"},\"orientation\":\"h\",\"showlegend\":true,\"text\":[\"24.53%\",\"26.32%\",\"26.47%\",\"27.18%\",\"26.83%\",\"26.61%\"],\"textangle\":0,\"textfont\":{\"color\":\"white\",\"size\":7},\"textposition\":\"inside\",\"x\":{\"dtype\":\"i2\",\"bdata\":\"DQBGAEgAfQX8BiIQ\"},\"y\":[\"(not set)\",\"Africa\",\"Oceania\",\"Europe\",\"Asia\",\"Americas\"],\"type\":\"bar\",\"xaxis\":\"x3\",\"yaxis\":\"y3\"},{\"hoverinfo\":\"text\",\"hovertext\":[\"0.002K\",\"0.034K\",\"0.046K\",\"0.763K\",\"1.051K\",\"2.408K\"],\"insidetextanchor\":\"middle\",\"legendgroup\":\"users\",\"marker\":{\"color\":\"mediumaquamarine\"},\"orientation\":\"h\",\"showlegend\":true,\"text\":[\"3.77%\",\"12.78%\",\"16.91%\",\"14.76%\",\"15.77%\",\"15.52%\"],\"textangle\":0,\"textfont\":{\"color\":\"white\",\"size\":7},\"textposition\":\"inside\",\"x\":{\"dtype\":\"i2\",\"bdata\":\"AgAiAC4A+wIbBGgJ\"},\"y\":[\"(not set)\",\"Africa\",\"Oceania\",\"Europe\",\"Asia\",\"Americas\"],\"type\":\"bar\",\"xaxis\":\"x3\",\"yaxis\":\"y3\"},{\"hoverinfo\":\"text\",\"hovertext\":[\"0.036K\",\"0.159K\",\"0.149K\",\"2.923K\",\"3.721K\",\"8.744K\"],\"insidetextanchor\":\"middle\",\"legendgroup\":\"users\",\"marker\":{\"color\":\"seagreen\"},\"orientation\":\"h\",\"showlegend\":true,\"text\":[\"67.92%\",\"59.77%\",\"54.78%\",\"56.54%\",\"55.84%\",\"56.34%\"],\"textangle\":0,\"textfont\":{\"color\":\"white\",\"size\":7},\"textposition\":\"inside\",\"x\":{\"dtype\":\"i2\",\"bdata\":\"JACfAJUAawuJDigi\"},\"y\":[\"(not set)\",\"Africa\",\"Oceania\",\"Europe\",\"Asia\",\"Americas\"],\"type\":\"bar\",\"xaxis\":\"x3\",\"yaxis\":\"y3\"},{\"hoverinfo\":\"text\",\"hovertext\":[\"0.002K\",\"0.003K\",\"0.005K\",\"0.079K\",\"0.104K\",\"0.238K\"],\"insidetextanchor\":\"middle\",\"legendgroup\":\"users\",\"marker\":{\"color\":\"rosybrown\"},\"orientation\":\"h\",\"showlegend\":true,\"text\":[\"3.77%\",\"1.13%\",\"1.84%\",\"1.53%\",\"1.56%\",\"1.53%\"],\"textangle\":0,\"textfont\":{\"color\":\"white\",\"size\":7},\"textposition\":\"inside\",\"x\":{\"dtype\":\"i2\",\"bdata\":\"AgADAAUATwBoAO4A\"},\"y\":[\"(not set)\",\"Africa\",\"Oceania\",\"Europe\",\"Asia\",\"Americas\"],\"type\":\"bar\",\"xaxis\":\"x3\",\"yaxis\":\"y3\"},{\"hoverinfo\":\"skip\",\"mode\":\"text\",\"showlegend\":false,\"text\":[\"0.05K\",\"0.27K\",\"0.27K\",\"5.17K\",\"6.66K\",\"15.52K\"],\"textfont\":{\"color\":\"black\",\"size\":10},\"x\":{\"dtype\":\"f8\",\"bdata\":\"FK5H4XpIgUAehetRuPCHQDMzMzMzIYhAhetRuF4otkCF61G4Hv+7QLgeheuRTc9A\"},\"y\":[\"(not set)\",\"Africa\",\"Oceania\",\"Europe\",\"Asia\",\"Americas\"],\"type\":\"scatter\",\"xaxis\":\"x3\",\"yaxis\":\"y3\"}],                        {\"template\":{\"data\":{\"histogram2dcontour\":[{\"type\":\"histogram2dcontour\",\"colorbar\":{\"outlinewidth\":0,\"ticks\":\"\"},\"colorscale\":[[0.0,\"#0d0887\"],[0.1111111111111111,\"#46039f\"],[0.2222222222222222,\"#7201a8\"],[0.3333333333333333,\"#9c179e\"],[0.4444444444444444,\"#bd3786\"],[0.5555555555555556,\"#d8576b\"],[0.6666666666666666,\"#ed7953\"],[0.7777777777777778,\"#fb9f3a\"],[0.8888888888888888,\"#fdca26\"],[1.0,\"#f0f921\"]]}],\"choropleth\":[{\"type\":\"choropleth\",\"colorbar\":{\"outlinewidth\":0,\"ticks\":\"\"}}],\"histogram2d\":[{\"type\":\"histogram2d\",\"colorbar\":{\"outlinewidth\":0,\"ticks\":\"\"},\"colorscale\":[[0.0,\"#0d0887\"],[0.1111111111111111,\"#46039f\"],[0.2222222222222222,\"#7201a8\"],[0.3333333333333333,\"#9c179e\"],[0.4444444444444444,\"#bd3786\"],[0.5555555555555556,\"#d8576b\"],[0.6666666666666666,\"#ed7953\"],[0.7777777777777778,\"#fb9f3a\"],[0.8888888888888888,\"#fdca26\"],[1.0,\"#f0f921\"]]}],\"heatmap\":[{\"type\":\"heatmap\",\"colorbar\":{\"outlinewidth\":0,\"ticks\":\"\"},\"colorscale\":[[0.0,\"#0d0887\"],[0.1111111111111111,\"#46039f\"],[0.2222222222222222,\"#7201a8\"],[0.3333333333333333,\"#9c179e\"],[0.4444444444444444,\"#bd3786\"],[0.5555555555555556,\"#d8576b\"],[0.6666666666666666,\"#ed7953\"],[0.7777777777777778,\"#fb9f3a\"],[0.8888888888888888,\"#fdca26\"],[1.0,\"#f0f921\"]]}],\"contourcarpet\":[{\"type\":\"contourcarpet\",\"colorbar\":{\"outlinewidth\":0,\"ticks\":\"\"}}],\"contour\":[{\"type\":\"contour\",\"colorbar\":{\"outlinewidth\":0,\"ticks\":\"\"},\"colorscale\":[[0.0,\"#0d0887\"],[0.1111111111111111,\"#46039f\"],[0.2222222222222222,\"#7201a8\"],[0.3333333333333333,\"#9c179e\"],[0.4444444444444444,\"#bd3786\"],[0.5555555555555556,\"#d8576b\"],[0.6666666666666666,\"#ed7953\"],[0.7777777777777778,\"#fb9f3a\"],[0.8888888888888888,\"#fdca26\"],[1.0,\"#f0f921\"]]}],\"surface\":[{\"type\":\"surface\",\"colorbar\":{\"outlinewidth\":0,\"ticks\":\"\"},\"colorscale\":[[0.0,\"#0d0887\"],[0.1111111111111111,\"#46039f\"],[0.2222222222222222,\"#7201a8\"],[0.3333333333333333,\"#9c179e\"],[0.4444444444444444,\"#bd3786\"],[0.5555555555555556,\"#d8576b\"],[0.6666666666666666,\"#ed7953\"],[0.7777777777777778,\"#fb9f3a\"],[0.8888888888888888,\"#fdca26\"],[1.0,\"#f0f921\"]]}],\"mesh3d\":[{\"type\":\"mesh3d\",\"colorbar\":{\"outlinewidth\":0,\"ticks\":\"\"}}],\"scatter\":[{\"fillpattern\":{\"fillmode\":\"overlay\",\"size\":10,\"solidity\":0.2},\"type\":\"scatter\"}],\"parcoords\":[{\"type\":\"parcoords\",\"line\":{\"colorbar\":{\"outlinewidth\":0,\"ticks\":\"\"}}}],\"scatterpolargl\":[{\"type\":\"scatterpolargl\",\"marker\":{\"colorbar\":{\"outlinewidth\":0,\"ticks\":\"\"}}}],\"bar\":[{\"error_x\":{\"color\":\"#2a3f5f\"},\"error_y\":{\"color\":\"#2a3f5f\"},\"marker\":{\"line\":{\"color\":\"#E5ECF6\",\"width\":0.5},\"pattern\":{\"fillmode\":\"overlay\",\"size\":10,\"solidity\":0.2}},\"type\":\"bar\"}],\"scattergeo\":[{\"type\":\"scattergeo\",\"marker\":{\"colorbar\":{\"outlinewidth\":0,\"ticks\":\"\"}}}],\"scatterpolar\":[{\"type\":\"scatterpolar\",\"marker\":{\"colorbar\":{\"outlinewidth\":0,\"ticks\":\"\"}}}],\"histogram\":[{\"marker\":{\"pattern\":{\"fillmode\":\"overlay\",\"size\":10,\"solidity\":0.2}},\"type\":\"histogram\"}],\"scattergl\":[{\"type\":\"scattergl\",\"marker\":{\"colorbar\":{\"outlinewidth\":0,\"ticks\":\"\"}}}],\"scatter3d\":[{\"type\":\"scatter3d\",\"line\":{\"colorbar\":{\"outlinewidth\":0,\"ticks\":\"\"}},\"marker\":{\"colorbar\":{\"outlinewidth\":0,\"ticks\":\"\"}}}],\"scattermap\":[{\"type\":\"scattermap\",\"marker\":{\"colorbar\":{\"outlinewidth\":0,\"ticks\":\"\"}}}],\"scattermapbox\":[{\"type\":\"scattermapbox\",\"marker\":{\"colorbar\":{\"outlinewidth\":0,\"ticks\":\"\"}}}],\"scatterternary\":[{\"type\":\"scatterternary\",\"marker\":{\"colorbar\":{\"outlinewidth\":0,\"ticks\":\"\"}}}],\"scattercarpet\":[{\"type\":\"scattercarpet\",\"marker\":{\"colorbar\":{\"outlinewidth\":0,\"ticks\":\"\"}}}],\"carpet\":[{\"aaxis\":{\"endlinecolor\":\"#2a3f5f\",\"gridcolor\":\"white\",\"linecolor\":\"white\",\"minorgridcolor\":\"white\",\"startlinecolor\":\"#2a3f5f\"},\"baxis\":{\"endlinecolor\":\"#2a3f5f\",\"gridcolor\":\"white\",\"linecolor\":\"white\",\"minorgridcolor\":\"white\",\"startlinecolor\":\"#2a3f5f\"},\"type\":\"carpet\"}],\"table\":[{\"cells\":{\"fill\":{\"color\":\"#EBF0F8\"},\"line\":{\"color\":\"white\"}},\"header\":{\"fill\":{\"color\":\"#C8D4E3\"},\"line\":{\"color\":\"white\"}},\"type\":\"table\"}],\"barpolar\":[{\"marker\":{\"line\":{\"color\":\"#E5ECF6\",\"width\":0.5},\"pattern\":{\"fillmode\":\"overlay\",\"size\":10,\"solidity\":0.2}},\"type\":\"barpolar\"}],\"pie\":[{\"automargin\":true,\"type\":\"pie\"}]},\"layout\":{\"autotypenumbers\":\"strict\",\"colorway\":[\"#636efa\",\"#EF553B\",\"#00cc96\",\"#ab63fa\",\"#FFA15A\",\"#19d3f3\",\"#FF6692\",\"#B6E880\",\"#FF97FF\",\"#FECB52\"],\"font\":{\"color\":\"#2a3f5f\"},\"hovermode\":\"closest\",\"hoverlabel\":{\"align\":\"left\"},\"paper_bgcolor\":\"white\",\"plot_bgcolor\":\"#E5ECF6\",\"polar\":{\"bgcolor\":\"#E5ECF6\",\"angularaxis\":{\"gridcolor\":\"white\",\"linecolor\":\"white\",\"ticks\":\"\"},\"radialaxis\":{\"gridcolor\":\"white\",\"linecolor\":\"white\",\"ticks\":\"\"}},\"ternary\":{\"bgcolor\":\"#E5ECF6\",\"aaxis\":{\"gridcolor\":\"white\",\"linecolor\":\"white\",\"ticks\":\"\"},\"baxis\":{\"gridcolor\":\"white\",\"linecolor\":\"white\",\"ticks\":\"\"},\"caxis\":{\"gridcolor\":\"white\",\"linecolor\":\"white\",\"ticks\":\"\"}},\"coloraxis\":{\"colorbar\":{\"outlinewidth\":0,\"ticks\":\"\"}},\"colorscale\":{\"sequential\":[[0.0,\"#0d0887\"],[0.1111111111111111,\"#46039f\"],[0.2222222222222222,\"#7201a8\"],[0.3333333333333333,\"#9c179e\"],[0.4444444444444444,\"#bd3786\"],[0.5555555555555556,\"#d8576b\"],[0.6666666666666666,\"#ed7953\"],[0.7777777777777778,\"#fb9f3a\"],[0.8888888888888888,\"#fdca26\"],[1.0,\"#f0f921\"]],\"sequentialminus\":[[0.0,\"#0d0887\"],[0.1111111111111111,\"#46039f\"],[0.2222222222222222,\"#7201a8\"],[0.3333333333333333,\"#9c179e\"],[0.4444444444444444,\"#bd3786\"],[0.5555555555555556,\"#d8576b\"],[0.6666666666666666,\"#ed7953\"],[0.7777777777777778,\"#fb9f3a\"],[0.8888888888888888,\"#fdca26\"],[1.0,\"#f0f921\"]],\"diverging\":[[0,\"#8e0152\"],[0.1,\"#c51b7d\"],[0.2,\"#de77ae\"],[0.3,\"#f1b6da\"],[0.4,\"#fde0ef\"],[0.5,\"#f7f7f7\"],[0.6,\"#e6f5d0\"],[0.7,\"#b8e186\"],[0.8,\"#7fbc41\"],[0.9,\"#4d9221\"],[1,\"#276419\"]]},\"xaxis\":{\"gridcolor\":\"white\",\"linecolor\":\"white\",\"ticks\":\"\",\"title\":{\"standoff\":15},\"zerolinecolor\":\"white\",\"automargin\":true,\"zerolinewidth\":2},\"yaxis\":{\"gridcolor\":\"white\",\"linecolor\":\"white\",\"ticks\":\"\",\"title\":{\"standoff\":15},\"zerolinecolor\":\"white\",\"automargin\":true,\"zerolinewidth\":2},\"scene\":{\"xaxis\":{\"backgroundcolor\":\"#E5ECF6\",\"gridcolor\":\"white\",\"linecolor\":\"white\",\"showbackground\":true,\"ticks\":\"\",\"zerolinecolor\":\"white\",\"gridwidth\":2},\"yaxis\":{\"backgroundcolor\":\"#E5ECF6\",\"gridcolor\":\"white\",\"linecolor\":\"white\",\"showbackground\":true,\"ticks\":\"\",\"zerolinecolor\":\"white\",\"gridwidth\":2},\"zaxis\":{\"backgroundcolor\":\"#E5ECF6\",\"gridcolor\":\"white\",\"linecolor\":\"white\",\"showbackground\":true,\"ticks\":\"\",\"zerolinecolor\":\"white\",\"gridwidth\":2}},\"shapedefaults\":{\"line\":{\"color\":\"#2a3f5f\"}},\"annotationdefaults\":{\"arrowcolor\":\"#2a3f5f\",\"arrowhead\":0,\"arrowwidth\":1},\"geo\":{\"bgcolor\":\"white\",\"landcolor\":\"#E5ECF6\",\"subunitcolor\":\"white\",\"showland\":true,\"showlakes\":true,\"lakecolor\":\"white\"},\"title\":{\"x\":0.05},\"mapbox\":{\"style\":\"light\"}}},\"xaxis\":{\"anchor\":\"y\",\"domain\":[0.0,1.0],\"title\":{\"text\":\"continent\"}},\"yaxis\":{\"anchor\":\"x\",\"domain\":[0.3888888888888889,0.6111111111111112],\"title\":{\"text\":\"AOV\"}},\"xaxis2\":{\"anchor\":\"y2\",\"domain\":[0.0,0.45]},\"yaxis2\":{\"anchor\":\"x2\",\"domain\":[0.0,0.22222222222222224]},\"xaxis3\":{\"anchor\":\"y3\",\"domain\":[0.55,1.0]},\"yaxis3\":{\"anchor\":\"x3\",\"domain\":[0.0,0.22222222222222224]},\"annotations\":[{\"font\":{\"size\":16},\"showarrow\":false,\"text\":\"Revenue by continent\",\"x\":0.225,\"xanchor\":\"center\",\"xref\":\"paper\",\"y\":1.0,\"yanchor\":\"bottom\",\"yref\":\"paper\"},{\"font\":{\"size\":16},\"showarrow\":false,\"text\":\"% Revenue from Total by continent\",\"x\":0.775,\"xanchor\":\"center\",\"xref\":\"paper\",\"y\":1.0,\"yanchor\":\"bottom\",\"yref\":\"paper\"},{\"font\":{\"size\":16},\"showarrow\":false,\"text\":\"AOV by continent\",\"x\":0.5,\"xanchor\":\"center\",\"xref\":\"paper\",\"y\":0.6111111111111112,\"yanchor\":\"bottom\",\"yref\":\"paper\"},{\"font\":{\"size\":16},\"showarrow\":false,\"text\":\"Sessions & orders by continent\",\"x\":0.225,\"xanchor\":\"center\",\"xref\":\"paper\",\"y\":0.22222222222222224,\"yanchor\":\"bottom\",\"yref\":\"paper\"},{\"font\":{\"size\":16},\"showarrow\":false,\"text\":\"Register users(verified & subscribed) by continent\",\"x\":0.775,\"xanchor\":\"center\",\"xref\":\"paper\",\"y\":0.22222222222222224,\"yanchor\":\"bottom\",\"yref\":\"paper\"},{\"align\":\"left\",\"bgcolor\":\"rgba(255, 255, 255, 0.8)\",\"font\":{\"size\":10},\"showarrow\":false,\"text\":\"\\u003cspan style=\\\"color:#008080;font-size:18px;\\\"\\u003e■\\u003c\\u002fspan\\u003e **verified**\\u003cbr\\u003e\\u003cspan style=\\\"color:#3CB371;font-size:18px;\\\"\\u003e■\\u003c\\u002fspan\\u003e **subscribed**\\u003cbr\\u003e\\u003cspan style=\\\"color:#B7E1FC;font-size:18px;\\\"\\u003e■\\u003c\\u002fspan\\u003e **other reg**\",\"x\":0.999,\"xref\":\"paper\",\"y\":0.23,\"yref\":\"paper\"},{\"align\":\"left\",\"bgcolor\":\"rgba(255, 255, 255, 0.8)\",\"font\":{\"size\":10},\"showarrow\":false,\"text\":\"\\u003cspan style=\\\"color:#3CB371;font-size:18px;\\\"\\u003e■\\u003c\\u002fspan\\u003e **orders**\\u003cbr\\u003e\\u003cspan style=\\\"color:#B7E1FC;font-size:18px;\\\"\\u003e■\\u003c\\u002fspan\\u003e **sessions without orders**\",\"x\":0.4,\"xref\":\"paper\",\"y\":0.23,\"yref\":\"paper\"}],\"margin\":{\"t\":50,\"b\":50,\"l\":25,\"r\":25},\"legend\":{\"font\":{\"size\":12},\"x\":0.0,\"y\":0.1,\"traceorder\":\"normal\",\"bgcolor\":\"rgba(255, 255, 255, 0.5)\"},\"title\":{\"text\":\"Analysis by continent\"},\"height\":1000,\"width\":1500,\"showlegend\":false,\"barmode\":\"stack\",\"plot_bgcolor\":\"aliceblue\",\"paper_bgcolor\":\"lightcyan\"},                        {\"responsive\": true}                    ).then(function(){\n                            \nvar gd = document.getElementById('56178edf-9bc5-4833-bfe4-e4f212469645');\nvar x = new MutationObserver(function (mutations, observer) {{\n        var display = window.getComputedStyle(gd).display;\n        if (!display || display === 'none') {{\n            console.log([gd, 'removed!']);\n            Plotly.purge(gd);\n            observer.disconnect();\n        }}\n}});\n\n// Listen for the removal of the full notebook cells\nvar notebookContainer = gd.closest('#notebook-container');\nif (notebookContainer) {{\n    x.observe(notebookContainer, {childList: true});\n}}\n\n// Listen for the clearing of the current output cell\nvar outputEl = gd.closest('.output');\nif (outputEl) {{\n    x.observe(outputEl, {childList: true});\n}}\n\n                        })                };            </script>        </div>\n</body>\n</html>"
                },
                "metadata": {}
              }
            ],
            "tabbable": null,
            "tooltip": null
          }
        },
        "3d1cb93d72d64b7caa84af4f987e560d": {
          "model_module": "@jupyter-widgets/base",
          "model_name": "LayoutModel",
          "model_module_version": "2.0.0",
          "state": {
            "_model_module": "@jupyter-widgets/base",
            "_model_module_version": "2.0.0",
            "_model_name": "LayoutModel",
            "_view_count": null,
            "_view_module": "@jupyter-widgets/base",
            "_view_module_version": "2.0.0",
            "_view_name": "LayoutView",
            "align_content": null,
            "align_items": null,
            "align_self": null,
            "border_bottom": null,
            "border_left": null,
            "border_right": null,
            "border_top": null,
            "bottom": null,
            "display": null,
            "flex": null,
            "flex_flow": null,
            "grid_area": null,
            "grid_auto_columns": null,
            "grid_auto_flow": null,
            "grid_auto_rows": null,
            "grid_column": null,
            "grid_gap": null,
            "grid_row": null,
            "grid_template_areas": null,
            "grid_template_columns": null,
            "grid_template_rows": null,
            "height": null,
            "justify_content": null,
            "justify_items": null,
            "left": null,
            "margin": null,
            "max_height": null,
            "max_width": null,
            "min_height": null,
            "min_width": null,
            "object_fit": null,
            "object_position": null,
            "order": null,
            "overflow": null,
            "padding": null,
            "right": null,
            "top": null,
            "visibility": null,
            "width": null
          }
        },
        "06ccbabc80b840c3ba6f8fb0b9dfdf16": {
          "model_module": "@jupyter-widgets/base",
          "model_name": "LayoutModel",
          "model_module_version": "2.0.0",
          "state": {
            "_model_module": "@jupyter-widgets/base",
            "_model_module_version": "2.0.0",
            "_model_name": "LayoutModel",
            "_view_count": null,
            "_view_module": "@jupyter-widgets/base",
            "_view_module_version": "2.0.0",
            "_view_name": "LayoutView",
            "align_content": null,
            "align_items": null,
            "align_self": null,
            "border_bottom": null,
            "border_left": null,
            "border_right": null,
            "border_top": null,
            "bottom": null,
            "display": null,
            "flex": null,
            "flex_flow": null,
            "grid_area": null,
            "grid_auto_columns": null,
            "grid_auto_flow": null,
            "grid_auto_rows": null,
            "grid_column": null,
            "grid_gap": null,
            "grid_row": null,
            "grid_template_areas": null,
            "grid_template_columns": null,
            "grid_template_rows": null,
            "height": null,
            "justify_content": null,
            "justify_items": null,
            "left": null,
            "margin": null,
            "max_height": null,
            "max_width": null,
            "min_height": null,
            "min_width": null,
            "object_fit": null,
            "object_position": null,
            "order": null,
            "overflow": null,
            "padding": null,
            "right": null,
            "top": null,
            "visibility": null,
            "width": null
          }
        },
        "25044454c8f14d7393a5a3dc8e175a93": {
          "model_module": "@jupyter-widgets/controls",
          "model_name": "DescriptionStyleModel",
          "model_module_version": "2.0.0",
          "state": {
            "_model_module": "@jupyter-widgets/controls",
            "_model_module_version": "2.0.0",
            "_model_name": "DescriptionStyleModel",
            "_view_count": null,
            "_view_module": "@jupyter-widgets/base",
            "_view_module_version": "2.0.0",
            "_view_name": "StyleView",
            "description_width": ""
          }
        },
        "f0d30468f3f046f58d374de8dde6a8b6": {
          "model_module": "@jupyter-widgets/base",
          "model_name": "LayoutModel",
          "model_module_version": "2.0.0",
          "state": {
            "_model_module": "@jupyter-widgets/base",
            "_model_module_version": "2.0.0",
            "_model_name": "LayoutModel",
            "_view_count": null,
            "_view_module": "@jupyter-widgets/base",
            "_view_module_version": "2.0.0",
            "_view_name": "LayoutView",
            "align_content": null,
            "align_items": null,
            "align_self": null,
            "border_bottom": null,
            "border_left": null,
            "border_right": null,
            "border_top": null,
            "bottom": null,
            "display": null,
            "flex": null,
            "flex_flow": null,
            "grid_area": null,
            "grid_auto_columns": null,
            "grid_auto_flow": null,
            "grid_auto_rows": null,
            "grid_column": null,
            "grid_gap": null,
            "grid_row": null,
            "grid_template_areas": null,
            "grid_template_columns": null,
            "grid_template_rows": null,
            "height": null,
            "justify_content": null,
            "justify_items": null,
            "left": null,
            "margin": null,
            "max_height": null,
            "max_width": null,
            "min_height": null,
            "min_width": null,
            "object_fit": null,
            "object_position": null,
            "order": null,
            "overflow": null,
            "padding": null,
            "right": null,
            "top": null,
            "visibility": null,
            "width": null
          }
        },
        "1430e32260ba49d890577e3c54a92869": {
          "model_module": "@jupyter-widgets/controls",
          "model_name": "DescriptionStyleModel",
          "model_module_version": "2.0.0",
          "state": {
            "_model_module": "@jupyter-widgets/controls",
            "_model_module_version": "2.0.0",
            "_model_name": "DescriptionStyleModel",
            "_view_count": null,
            "_view_module": "@jupyter-widgets/base",
            "_view_module_version": "2.0.0",
            "_view_name": "StyleView",
            "description_width": ""
          }
        },
        "46ff62b944764fc7a49ef9cdd3d5a959": {
          "model_module": "@jupyter-widgets/base",
          "model_name": "LayoutModel",
          "model_module_version": "2.0.0",
          "state": {
            "_model_module": "@jupyter-widgets/base",
            "_model_module_version": "2.0.0",
            "_model_name": "LayoutModel",
            "_view_count": null,
            "_view_module": "@jupyter-widgets/base",
            "_view_module_version": "2.0.0",
            "_view_name": "LayoutView",
            "align_content": null,
            "align_items": null,
            "align_self": null,
            "border_bottom": null,
            "border_left": null,
            "border_right": null,
            "border_top": null,
            "bottom": null,
            "display": null,
            "flex": null,
            "flex_flow": null,
            "grid_area": null,
            "grid_auto_columns": null,
            "grid_auto_flow": null,
            "grid_auto_rows": null,
            "grid_column": null,
            "grid_gap": null,
            "grid_row": null,
            "grid_template_areas": null,
            "grid_template_columns": null,
            "grid_template_rows": null,
            "height": null,
            "justify_content": null,
            "justify_items": null,
            "left": null,
            "margin": null,
            "max_height": null,
            "max_width": null,
            "min_height": null,
            "min_width": null,
            "object_fit": null,
            "object_position": null,
            "order": null,
            "overflow": null,
            "padding": null,
            "right": null,
            "top": null,
            "visibility": null,
            "width": null
          }
        },
        "d0b183d8bd8846ca99547d8c96284330": {
          "model_module": "@jupyter-widgets/controls",
          "model_name": "VBoxModel",
          "model_module_version": "2.0.0",
          "state": {
            "_dom_classes": [
              "widget-interact"
            ],
            "_model_module": "@jupyter-widgets/controls",
            "_model_module_version": "2.0.0",
            "_model_name": "VBoxModel",
            "_view_count": null,
            "_view_module": "@jupyter-widgets/controls",
            "_view_module_version": "2.0.0",
            "_view_name": "VBoxView",
            "box_style": "",
            "children": [
              "IPY_MODEL_b2d21c6ec9de4fc083336bd4decb6ca1",
              "IPY_MODEL_6091f3c842804e32bb49c40e1e8f76e1"
            ],
            "layout": "IPY_MODEL_9c7ae845845442c18d977ac89edaad6b",
            "tabbable": null,
            "tooltip": null
          }
        },
        "6091f3c842804e32bb49c40e1e8f76e1": {
          "model_module": "@jupyter-widgets/output",
          "model_name": "OutputModel",
          "model_module_version": "1.0.0",
          "state": {
            "_dom_classes": [],
            "_model_module": "@jupyter-widgets/output",
            "_model_module_version": "1.0.0",
            "_model_name": "OutputModel",
            "_view_count": null,
            "_view_module": "@jupyter-widgets/output",
            "_view_module_version": "1.0.0",
            "_view_name": "OutputView",
            "layout": "IPY_MODEL_e156337744da42f19f24da2afbd3f295",
            "msg_id": "",
            "outputs": [
              {
                "output_type": "display_data",
                "data": {
                  "text/html": "<html>\n<head><meta charset=\"utf-8\" /></head>\n<body>\n    <div>            <script src=\"https://cdnjs.cloudflare.com/ajax/libs/mathjax/2.7.5/MathJax.js?config=TeX-AMS-MML_SVG\"></script><script type=\"text/javascript\">if (window.MathJax && window.MathJax.Hub && window.MathJax.Hub.Config) {window.MathJax.Hub.Config({SVG: {font: \"STIX-Web\"}});}</script>                <script type=\"text/javascript\">window.PlotlyConfig = {MathJaxConfig: 'local'};</script>\n        <script charset=\"utf-8\" src=\"https://cdn.plot.ly/plotly-3.1.0.min.js\" integrity=\"sha256-Ei4740bWZhaUTQuD6q9yQlgVCMPBz6CZWhevDYPv93A=\" crossorigin=\"anonymous\"></script>                <div id=\"19a2cfc8-c2cb-441a-b126-876b9d5d7ac3\" class=\"plotly-graph-div\" style=\"height:500px; width:1200px;\"></div>            <script type=\"text/javascript\">                window.PLOTLYENV=window.PLOTLYENV || {};                                if (document.getElementById(\"19a2cfc8-c2cb-441a-b126-876b9d5d7ac3\")) {                    Plotly.newPlot(                        \"19a2cfc8-c2cb-441a-b126-876b9d5d7ac3\",                        [{\"alignmentgroup\":\"True\",\"hovertemplate\":\"device=desktop\\u003cbr\\u003econtinent=%{x}\\u003cbr\\u003etotal_revenue=%{y}\\u003cextra\\u003e\\u003c\\u002fextra\\u003e\",\"legendgroup\":\"desktop\",\"marker\":{\"color\":\"steelblue\",\"pattern\":{\"shape\":\"\"}},\"name\":\"desktop\",\"offsetgroup\":\"desktop\",\"orientation\":\"v\",\"showlegend\":true,\"textposition\":\"auto\",\"x\":[\"Americas\",\"Asia\",\"Europe\",\"Oceania\",\"Africa\",\"(not set)\"],\"xaxis\":\"x\",\"y\":{\"dtype\":\"f8\",\"bdata\":\"zczMbKMFZEGamZmZabZQQTMzM3M0qEpBmpmZma0SDkGamZmZWaMHQc3MzMxsN+lA\"},\"yaxis\":\"y\",\"type\":\"bar\"},{\"alignmentgroup\":\"True\",\"hovertemplate\":\"device=mobile\\u003cbr\\u003econtinent=%{x}\\u003cbr\\u003etotal_revenue=%{y}\\u003cextra\\u003e\\u003c\\u002fextra\\u003e\",\"legendgroup\":\"mobile\",\"marker\":{\"color\":\"mediumaquamarine\",\"pattern\":{\"shape\":\"\"}},\"name\":\"mobile\",\"offsetgroup\":\"mobile\",\"orientation\":\"v\",\"showlegend\":true,\"textposition\":\"auto\",\"x\":[\"Americas\",\"Asia\",\"Europe\",\"Africa\",\"Oceania\",\"(not set)\"],\"xaxis\":\"x\",\"y\":{\"dtype\":\"f8\",\"bdata\":\"MzMzE3PdWUEzMzMzKxpHQWZmZma2okFBzczMzFzn\\u002f0AAAAAAqCj7QAAAAACA1NVA\"},\"yaxis\":\"y\",\"type\":\"bar\"},{\"alignmentgroup\":\"True\",\"hovertemplate\":\"device=tablet\\u003cbr\\u003econtinent=%{x}\\u003cbr\\u003etotal_revenue=%{y}\\u003cextra\\u003e\\u003c\\u002fextra\\u003e\",\"legendgroup\":\"tablet\",\"marker\":{\"color\":\"wheat\",\"pattern\":{\"shape\":\"\"}},\"name\":\"tablet\",\"offsetgroup\":\"tablet\",\"orientation\":\"v\",\"showlegend\":true,\"textposition\":\"auto\",\"x\":[\"Americas\",\"Asia\",\"Europe\",\"Oceania\",\"Africa\",\"(not set)\"],\"xaxis\":\"x\",\"y\":{\"dtype\":\"f8\",\"bdata\":\"MzMzM2GoF0EAAAAArHQHQQAAAACohP9AAAAAAADOvUAAAAAAAP66QAAAAAAAgFFA\"},\"yaxis\":\"y\",\"type\":\"bar\"},{\"alignmentgroup\":\"True\",\"hovertemplate\":\"device=desktop\\u003cbr\\u003econtinent=%{x}\\u003cbr\\u003eaov=%{y}\\u003cextra\\u003e\\u003c\\u002fextra\\u003e\",\"legendgroup\":\"desktop\",\"marker\":{\"color\":\"steelblue\",\"pattern\":{\"shape\":\"\"}},\"name\":\"desktop\",\"offsetgroup\":\"desktop\",\"orientation\":\"v\",\"showlegend\":false,\"textposition\":\"auto\",\"x\":[\"Americas\",\"Asia\",\"Europe\",\"Oceania\",\"Africa\",\"(not set)\"],\"xaxis\":\"x2\",\"y\":{\"dtype\":\"f8\",\"bdata\":\"QuBhTGIRjkDmmKktMWGNQLbBRHVo241A3OXYlO89kEBDiQZuERiQQLbz\\u002fdR4I5BA\"},\"yaxis\":\"y2\",\"type\":\"bar\"},{\"alignmentgroup\":\"True\",\"hovertemplate\":\"device=mobile\\u003cbr\\u003econtinent=%{x}\\u003cbr\\u003eaov=%{y}\\u003cextra\\u003e\\u003c\\u002fextra\\u003e\",\"legendgroup\":\"mobile\",\"marker\":{\"color\":\"mediumaquamarine\",\"pattern\":{\"shape\":\"\"}},\"name\":\"mobile\",\"offsetgroup\":\"mobile\",\"orientation\":\"v\",\"showlegend\":false,\"textposition\":\"auto\",\"x\":[\"Americas\",\"Asia\",\"Europe\",\"Africa\",\"Oceania\",\"(not set)\"],\"xaxis\":\"x2\",\"y\":{\"dtype\":\"f8\",\"bdata\":\"YnQh0gtCjUBnaKwAt1uOQFEC4kywOI1AtmALtuBbjEAWQcNJ3XWNQM3MzMzMdpFA\"},\"yaxis\":\"y2\",\"type\":\"bar\"},{\"alignmentgroup\":\"True\",\"hovertemplate\":\"device=tablet\\u003cbr\\u003econtinent=%{x}\\u003cbr\\u003eaov=%{y}\\u003cextra\\u003e\\u003c\\u002fextra\\u003e\",\"legendgroup\":\"tablet\",\"marker\":{\"color\":\"wheat\",\"pattern\":{\"shape\":\"\"}},\"name\":\"tablet\",\"offsetgroup\":\"tablet\",\"orientation\":\"v\",\"showlegend\":false,\"textposition\":\"auto\",\"x\":[\"Americas\",\"Asia\",\"Europe\",\"Oceania\",\"Africa\",\"(not set)\"],\"xaxis\":\"x2\",\"y\":{\"dtype\":\"f8\",\"bdata\":\"DKN3e9U0jkBAyVhUw1qRQJtssskmkI5A5DiO4zh+ikCSJEmSJNmOQAAAAAAAgFFA\"},\"yaxis\":\"y2\",\"type\":\"bar\"}],                        {\"template\":{\"data\":{\"histogram2dcontour\":[{\"type\":\"histogram2dcontour\",\"colorbar\":{\"outlinewidth\":0,\"ticks\":\"\"},\"colorscale\":[[0.0,\"#0d0887\"],[0.1111111111111111,\"#46039f\"],[0.2222222222222222,\"#7201a8\"],[0.3333333333333333,\"#9c179e\"],[0.4444444444444444,\"#bd3786\"],[0.5555555555555556,\"#d8576b\"],[0.6666666666666666,\"#ed7953\"],[0.7777777777777778,\"#fb9f3a\"],[0.8888888888888888,\"#fdca26\"],[1.0,\"#f0f921\"]]}],\"choropleth\":[{\"type\":\"choropleth\",\"colorbar\":{\"outlinewidth\":0,\"ticks\":\"\"}}],\"histogram2d\":[{\"type\":\"histogram2d\",\"colorbar\":{\"outlinewidth\":0,\"ticks\":\"\"},\"colorscale\":[[0.0,\"#0d0887\"],[0.1111111111111111,\"#46039f\"],[0.2222222222222222,\"#7201a8\"],[0.3333333333333333,\"#9c179e\"],[0.4444444444444444,\"#bd3786\"],[0.5555555555555556,\"#d8576b\"],[0.6666666666666666,\"#ed7953\"],[0.7777777777777778,\"#fb9f3a\"],[0.8888888888888888,\"#fdca26\"],[1.0,\"#f0f921\"]]}],\"heatmap\":[{\"type\":\"heatmap\",\"colorbar\":{\"outlinewidth\":0,\"ticks\":\"\"},\"colorscale\":[[0.0,\"#0d0887\"],[0.1111111111111111,\"#46039f\"],[0.2222222222222222,\"#7201a8\"],[0.3333333333333333,\"#9c179e\"],[0.4444444444444444,\"#bd3786\"],[0.5555555555555556,\"#d8576b\"],[0.6666666666666666,\"#ed7953\"],[0.7777777777777778,\"#fb9f3a\"],[0.8888888888888888,\"#fdca26\"],[1.0,\"#f0f921\"]]}],\"contourcarpet\":[{\"type\":\"contourcarpet\",\"colorbar\":{\"outlinewidth\":0,\"ticks\":\"\"}}],\"contour\":[{\"type\":\"contour\",\"colorbar\":{\"outlinewidth\":0,\"ticks\":\"\"},\"colorscale\":[[0.0,\"#0d0887\"],[0.1111111111111111,\"#46039f\"],[0.2222222222222222,\"#7201a8\"],[0.3333333333333333,\"#9c179e\"],[0.4444444444444444,\"#bd3786\"],[0.5555555555555556,\"#d8576b\"],[0.6666666666666666,\"#ed7953\"],[0.7777777777777778,\"#fb9f3a\"],[0.8888888888888888,\"#fdca26\"],[1.0,\"#f0f921\"]]}],\"surface\":[{\"type\":\"surface\",\"colorbar\":{\"outlinewidth\":0,\"ticks\":\"\"},\"colorscale\":[[0.0,\"#0d0887\"],[0.1111111111111111,\"#46039f\"],[0.2222222222222222,\"#7201a8\"],[0.3333333333333333,\"#9c179e\"],[0.4444444444444444,\"#bd3786\"],[0.5555555555555556,\"#d8576b\"],[0.6666666666666666,\"#ed7953\"],[0.7777777777777778,\"#fb9f3a\"],[0.8888888888888888,\"#fdca26\"],[1.0,\"#f0f921\"]]}],\"mesh3d\":[{\"type\":\"mesh3d\",\"colorbar\":{\"outlinewidth\":0,\"ticks\":\"\"}}],\"scatter\":[{\"fillpattern\":{\"fillmode\":\"overlay\",\"size\":10,\"solidity\":0.2},\"type\":\"scatter\"}],\"parcoords\":[{\"type\":\"parcoords\",\"line\":{\"colorbar\":{\"outlinewidth\":0,\"ticks\":\"\"}}}],\"scatterpolargl\":[{\"type\":\"scatterpolargl\",\"marker\":{\"colorbar\":{\"outlinewidth\":0,\"ticks\":\"\"}}}],\"bar\":[{\"error_x\":{\"color\":\"#2a3f5f\"},\"error_y\":{\"color\":\"#2a3f5f\"},\"marker\":{\"line\":{\"color\":\"#E5ECF6\",\"width\":0.5},\"pattern\":{\"fillmode\":\"overlay\",\"size\":10,\"solidity\":0.2}},\"type\":\"bar\"}],\"scattergeo\":[{\"type\":\"scattergeo\",\"marker\":{\"colorbar\":{\"outlinewidth\":0,\"ticks\":\"\"}}}],\"scatterpolar\":[{\"type\":\"scatterpolar\",\"marker\":{\"colorbar\":{\"outlinewidth\":0,\"ticks\":\"\"}}}],\"histogram\":[{\"marker\":{\"pattern\":{\"fillmode\":\"overlay\",\"size\":10,\"solidity\":0.2}},\"type\":\"histogram\"}],\"scattergl\":[{\"type\":\"scattergl\",\"marker\":{\"colorbar\":{\"outlinewidth\":0,\"ticks\":\"\"}}}],\"scatter3d\":[{\"type\":\"scatter3d\",\"line\":{\"colorbar\":{\"outlinewidth\":0,\"ticks\":\"\"}},\"marker\":{\"colorbar\":{\"outlinewidth\":0,\"ticks\":\"\"}}}],\"scattermap\":[{\"type\":\"scattermap\",\"marker\":{\"colorbar\":{\"outlinewidth\":0,\"ticks\":\"\"}}}],\"scattermapbox\":[{\"type\":\"scattermapbox\",\"marker\":{\"colorbar\":{\"outlinewidth\":0,\"ticks\":\"\"}}}],\"scatterternary\":[{\"type\":\"scatterternary\",\"marker\":{\"colorbar\":{\"outlinewidth\":0,\"ticks\":\"\"}}}],\"scattercarpet\":[{\"type\":\"scattercarpet\",\"marker\":{\"colorbar\":{\"outlinewidth\":0,\"ticks\":\"\"}}}],\"carpet\":[{\"aaxis\":{\"endlinecolor\":\"#2a3f5f\",\"gridcolor\":\"white\",\"linecolor\":\"white\",\"minorgridcolor\":\"white\",\"startlinecolor\":\"#2a3f5f\"},\"baxis\":{\"endlinecolor\":\"#2a3f5f\",\"gridcolor\":\"white\",\"linecolor\":\"white\",\"minorgridcolor\":\"white\",\"startlinecolor\":\"#2a3f5f\"},\"type\":\"carpet\"}],\"table\":[{\"cells\":{\"fill\":{\"color\":\"#EBF0F8\"},\"line\":{\"color\":\"white\"}},\"header\":{\"fill\":{\"color\":\"#C8D4E3\"},\"line\":{\"color\":\"white\"}},\"type\":\"table\"}],\"barpolar\":[{\"marker\":{\"line\":{\"color\":\"#E5ECF6\",\"width\":0.5},\"pattern\":{\"fillmode\":\"overlay\",\"size\":10,\"solidity\":0.2}},\"type\":\"barpolar\"}],\"pie\":[{\"automargin\":true,\"type\":\"pie\"}]},\"layout\":{\"autotypenumbers\":\"strict\",\"colorway\":[\"#636efa\",\"#EF553B\",\"#00cc96\",\"#ab63fa\",\"#FFA15A\",\"#19d3f3\",\"#FF6692\",\"#B6E880\",\"#FF97FF\",\"#FECB52\"],\"font\":{\"color\":\"#2a3f5f\"},\"hovermode\":\"closest\",\"hoverlabel\":{\"align\":\"left\"},\"paper_bgcolor\":\"white\",\"plot_bgcolor\":\"#E5ECF6\",\"polar\":{\"bgcolor\":\"#E5ECF6\",\"angularaxis\":{\"gridcolor\":\"white\",\"linecolor\":\"white\",\"ticks\":\"\"},\"radialaxis\":{\"gridcolor\":\"white\",\"linecolor\":\"white\",\"ticks\":\"\"}},\"ternary\":{\"bgcolor\":\"#E5ECF6\",\"aaxis\":{\"gridcolor\":\"white\",\"linecolor\":\"white\",\"ticks\":\"\"},\"baxis\":{\"gridcolor\":\"white\",\"linecolor\":\"white\",\"ticks\":\"\"},\"caxis\":{\"gridcolor\":\"white\",\"linecolor\":\"white\",\"ticks\":\"\"}},\"coloraxis\":{\"colorbar\":{\"outlinewidth\":0,\"ticks\":\"\"}},\"colorscale\":{\"sequential\":[[0.0,\"#0d0887\"],[0.1111111111111111,\"#46039f\"],[0.2222222222222222,\"#7201a8\"],[0.3333333333333333,\"#9c179e\"],[0.4444444444444444,\"#bd3786\"],[0.5555555555555556,\"#d8576b\"],[0.6666666666666666,\"#ed7953\"],[0.7777777777777778,\"#fb9f3a\"],[0.8888888888888888,\"#fdca26\"],[1.0,\"#f0f921\"]],\"sequentialminus\":[[0.0,\"#0d0887\"],[0.1111111111111111,\"#46039f\"],[0.2222222222222222,\"#7201a8\"],[0.3333333333333333,\"#9c179e\"],[0.4444444444444444,\"#bd3786\"],[0.5555555555555556,\"#d8576b\"],[0.6666666666666666,\"#ed7953\"],[0.7777777777777778,\"#fb9f3a\"],[0.8888888888888888,\"#fdca26\"],[1.0,\"#f0f921\"]],\"diverging\":[[0,\"#8e0152\"],[0.1,\"#c51b7d\"],[0.2,\"#de77ae\"],[0.3,\"#f1b6da\"],[0.4,\"#fde0ef\"],[0.5,\"#f7f7f7\"],[0.6,\"#e6f5d0\"],[0.7,\"#b8e186\"],[0.8,\"#7fbc41\"],[0.9,\"#4d9221\"],[1,\"#276419\"]]},\"xaxis\":{\"gridcolor\":\"white\",\"linecolor\":\"white\",\"ticks\":\"\",\"title\":{\"standoff\":15},\"zerolinecolor\":\"white\",\"automargin\":true,\"zerolinewidth\":2},\"yaxis\":{\"gridcolor\":\"white\",\"linecolor\":\"white\",\"ticks\":\"\",\"title\":{\"standoff\":15},\"zerolinecolor\":\"white\",\"automargin\":true,\"zerolinewidth\":2},\"scene\":{\"xaxis\":{\"backgroundcolor\":\"#E5ECF6\",\"gridcolor\":\"white\",\"linecolor\":\"white\",\"showbackground\":true,\"ticks\":\"\",\"zerolinecolor\":\"white\",\"gridwidth\":2},\"yaxis\":{\"backgroundcolor\":\"#E5ECF6\",\"gridcolor\":\"white\",\"linecolor\":\"white\",\"showbackground\":true,\"ticks\":\"\",\"zerolinecolor\":\"white\",\"gridwidth\":2},\"zaxis\":{\"backgroundcolor\":\"#E5ECF6\",\"gridcolor\":\"white\",\"linecolor\":\"white\",\"showbackground\":true,\"ticks\":\"\",\"zerolinecolor\":\"white\",\"gridwidth\":2}},\"shapedefaults\":{\"line\":{\"color\":\"#2a3f5f\"}},\"annotationdefaults\":{\"arrowcolor\":\"#2a3f5f\",\"arrowhead\":0,\"arrowwidth\":1},\"geo\":{\"bgcolor\":\"white\",\"landcolor\":\"#E5ECF6\",\"subunitcolor\":\"white\",\"showland\":true,\"showlakes\":true,\"lakecolor\":\"white\"},\"title\":{\"x\":0.05},\"mapbox\":{\"style\":\"light\"}}},\"xaxis\":{\"anchor\":\"y\",\"domain\":[0.0,0.45]},\"yaxis\":{\"anchor\":\"x\",\"domain\":[0.0,1.0]},\"xaxis2\":{\"anchor\":\"y2\",\"domain\":[0.55,1.0]},\"yaxis2\":{\"anchor\":\"x2\",\"domain\":[0.0,1.0]},\"annotations\":[{\"font\":{\"size\":16},\"showarrow\":false,\"text\":\"Revenue by devices\",\"x\":0.225,\"xanchor\":\"center\",\"xref\":\"paper\",\"y\":1.0,\"yanchor\":\"bottom\",\"yref\":\"paper\"},{\"font\":{\"size\":16},\"showarrow\":false,\"text\":\"AOV by devices\",\"x\":0.775,\"xanchor\":\"center\",\"xref\":\"paper\",\"y\":1.0,\"yanchor\":\"bottom\",\"yref\":\"paper\"}],\"title\":{\"text\":\"Analysis by Devices\"},\"barmode\":\"group\",\"height\":500,\"width\":1200,\"showlegend\":true,\"plot_bgcolor\":\"aliceblue\",\"paper_bgcolor\":\"lightcyan\"},                        {\"responsive\": true}                    ).then(function(){\n                            \nvar gd = document.getElementById('19a2cfc8-c2cb-441a-b126-876b9d5d7ac3');\nvar x = new MutationObserver(function (mutations, observer) {{\n        var display = window.getComputedStyle(gd).display;\n        if (!display || display === 'none') {{\n            console.log([gd, 'removed!']);\n            Plotly.purge(gd);\n            observer.disconnect();\n        }}\n}});\n\n// Listen for the removal of the full notebook cells\nvar notebookContainer = gd.closest('#notebook-container');\nif (notebookContainer) {{\n    x.observe(notebookContainer, {childList: true});\n}}\n\n// Listen for the clearing of the current output cell\nvar outputEl = gd.closest('.output');\nif (outputEl) {{\n    x.observe(outputEl, {childList: true});\n}}\n\n                        })                };            </script>        </div>\n</body>\n</html>"
                },
                "metadata": {}
              }
            ],
            "tabbable": null,
            "tooltip": null
          }
        },
        "9c7ae845845442c18d977ac89edaad6b": {
          "model_module": "@jupyter-widgets/base",
          "model_name": "LayoutModel",
          "model_module_version": "2.0.0",
          "state": {
            "_model_module": "@jupyter-widgets/base",
            "_model_module_version": "2.0.0",
            "_model_name": "LayoutModel",
            "_view_count": null,
            "_view_module": "@jupyter-widgets/base",
            "_view_module_version": "2.0.0",
            "_view_name": "LayoutView",
            "align_content": null,
            "align_items": null,
            "align_self": null,
            "border_bottom": null,
            "border_left": null,
            "border_right": null,
            "border_top": null,
            "bottom": null,
            "display": null,
            "flex": null,
            "flex_flow": null,
            "grid_area": null,
            "grid_auto_columns": null,
            "grid_auto_flow": null,
            "grid_auto_rows": null,
            "grid_column": null,
            "grid_gap": null,
            "grid_row": null,
            "grid_template_areas": null,
            "grid_template_columns": null,
            "grid_template_rows": null,
            "height": null,
            "justify_content": null,
            "justify_items": null,
            "left": null,
            "margin": null,
            "max_height": null,
            "max_width": null,
            "min_height": null,
            "min_width": null,
            "object_fit": null,
            "object_position": null,
            "order": null,
            "overflow": null,
            "padding": null,
            "right": null,
            "top": null,
            "visibility": null,
            "width": null
          }
        },
        "e156337744da42f19f24da2afbd3f295": {
          "model_module": "@jupyter-widgets/base",
          "model_name": "LayoutModel",
          "model_module_version": "2.0.0",
          "state": {
            "_model_module": "@jupyter-widgets/base",
            "_model_module_version": "2.0.0",
            "_model_name": "LayoutModel",
            "_view_count": null,
            "_view_module": "@jupyter-widgets/base",
            "_view_module_version": "2.0.0",
            "_view_name": "LayoutView",
            "align_content": null,
            "align_items": null,
            "align_self": null,
            "border_bottom": null,
            "border_left": null,
            "border_right": null,
            "border_top": null,
            "bottom": null,
            "display": null,
            "flex": null,
            "flex_flow": null,
            "grid_area": null,
            "grid_auto_columns": null,
            "grid_auto_flow": null,
            "grid_auto_rows": null,
            "grid_column": null,
            "grid_gap": null,
            "grid_row": null,
            "grid_template_areas": null,
            "grid_template_columns": null,
            "grid_template_rows": null,
            "height": null,
            "justify_content": null,
            "justify_items": null,
            "left": null,
            "margin": null,
            "max_height": null,
            "max_width": null,
            "min_height": null,
            "min_width": null,
            "object_fit": null,
            "object_position": null,
            "order": null,
            "overflow": null,
            "padding": null,
            "right": null,
            "top": null,
            "visibility": null,
            "width": null
          }
        },
        "248abe6802f64465b08587aca6c223e0": {
          "model_module": "@jupyter-widgets/controls",
          "model_name": "VBoxModel",
          "model_module_version": "2.0.0",
          "state": {
            "_dom_classes": [
              "widget-interact"
            ],
            "_model_module": "@jupyter-widgets/controls",
            "_model_module_version": "2.0.0",
            "_model_name": "VBoxModel",
            "_view_count": null,
            "_view_module": "@jupyter-widgets/controls",
            "_view_module_version": "2.0.0",
            "_view_name": "VBoxView",
            "box_style": "",
            "children": [
              "IPY_MODEL_b2d21c6ec9de4fc083336bd4decb6ca1",
              "IPY_MODEL_d9c0e6797f504d4bb2ece37ee0f9a9f3"
            ],
            "layout": "IPY_MODEL_e6bf0cde3d794b21bd0d4887df48cb3d",
            "tabbable": null,
            "tooltip": null
          }
        },
        "d9c0e6797f504d4bb2ece37ee0f9a9f3": {
          "model_module": "@jupyter-widgets/output",
          "model_name": "OutputModel",
          "model_module_version": "1.0.0",
          "state": {
            "_dom_classes": [],
            "_model_module": "@jupyter-widgets/output",
            "_model_module_version": "1.0.0",
            "_model_name": "OutputModel",
            "_view_count": null,
            "_view_module": "@jupyter-widgets/output",
            "_view_module_version": "1.0.0",
            "_view_name": "OutputView",
            "layout": "IPY_MODEL_8e6627707a9d4c999099fa0b087b70fb",
            "msg_id": "",
            "outputs": [
              {
                "output_type": "display_data",
                "data": {
                  "text/html": "<html>\n<head><meta charset=\"utf-8\" /></head>\n<body>\n    <div>            <script src=\"https://cdnjs.cloudflare.com/ajax/libs/mathjax/2.7.5/MathJax.js?config=TeX-AMS-MML_SVG\"></script><script type=\"text/javascript\">if (window.MathJax && window.MathJax.Hub && window.MathJax.Hub.Config) {window.MathJax.Hub.Config({SVG: {font: \"STIX-Web\"}});}</script>                <script type=\"text/javascript\">window.PlotlyConfig = {MathJaxConfig: 'local'};</script>\n        <script charset=\"utf-8\" src=\"https://cdn.plot.ly/plotly-3.1.0.min.js\" integrity=\"sha256-Ei4740bWZhaUTQuD6q9yQlgVCMPBz6CZWhevDYPv93A=\" crossorigin=\"anonymous\"></script>                <div id=\"1de8faa8-2a2c-4a2a-ba04-59df74272a1c\" class=\"plotly-graph-div\" style=\"height:500px; width:1200px;\"></div>            <script type=\"text/javascript\">                window.PLOTLYENV=window.PLOTLYENV || {};                                if (document.getElementById(\"1de8faa8-2a2c-4a2a-ba04-59df74272a1c\")) {                    Plotly.newPlot(                        \"1de8faa8-2a2c-4a2a-ba04-59df74272a1c\",                        [{\"alignmentgroup\":\"True\",\"hovertemplate\":\"browser=Chrome\\u003cbr\\u003econtinent=%{x}\\u003cbr\\u003etotal_revenue=%{y}\\u003cextra\\u003e\\u003c\\u002fextra\\u003e\",\"legendgroup\":\"Chrome\",\"marker\":{\"color\":\"steelblue\",\"pattern\":{\"shape\":\"\"}},\"name\":\"Chrome\",\"offsetgroup\":\"Chrome\",\"orientation\":\"v\",\"showlegend\":true,\"textposition\":\"auto\",\"x\":[\"Americas\",\"Asia\",\"Europe\",\"Oceania\",\"Africa\"],\"xaxis\":\"x\",\"y\":{\"dtype\":\"f8\",\"bdata\":\"MzMzI1RPZ0EAAACg62pTQZqZmZmeU05BzczMzHolEUHNzMzMoL4JQQ==\"},\"yaxis\":\"y\",\"type\":\"bar\"},{\"alignmentgroup\":\"True\",\"hovertemplate\":\"browser=Safari\\u003cbr\\u003econtinent=%{x}\\u003cbr\\u003etotal_revenue=%{y}\\u003cextra\\u003e\\u003c\\u002fextra\\u003e\",\"legendgroup\":\"Safari\",\"marker\":{\"color\":\"mediumaquamarine\",\"pattern\":{\"shape\":\"\"}},\"name\":\"Safari\",\"offsetgroup\":\"Safari\",\"orientation\":\"v\",\"showlegend\":true,\"textposition\":\"auto\",\"x\":[\"Americas\",\"Asia\",\"Europe\",\"Africa\",\"Oceania\"],\"xaxis\":\"x\",\"y\":{\"dtype\":\"f8\",\"bdata\":\"zczMDBV2TkGamZmZg0Q8QWZmZuZ3IzdBZmZmZr699UAAAAAA0B7uQA==\"},\"yaxis\":\"y\",\"type\":\"bar\"},{\"alignmentgroup\":\"True\",\"hovertemplate\":\"browser=Edge\\u003cbr\\u003econtinent=%{x}\\u003cbr\\u003etotal_revenue=%{y}\\u003cextra\\u003e\\u003c\\u002fextra\\u003e\",\"legendgroup\":\"Edge\",\"marker\":{\"color\":\"wheat\",\"pattern\":{\"shape\":\"\"}},\"name\":\"Edge\",\"offsetgroup\":\"Edge\",\"orientation\":\"v\",\"showlegend\":true,\"textposition\":\"auto\",\"x\":[\"Americas\",\"Asia\",\"Europe\",\"Africa\",\"Oceania\"],\"xaxis\":\"x\",\"y\":{\"dtype\":\"f8\",\"bdata\":\"AAAAAK67GEEzMzMzg\\u002foCQTMzMzOLHAFBAAAAAAD1wUAAAAAAAB6rQA==\"},\"yaxis\":\"y\",\"type\":\"bar\"},{\"alignmentgroup\":\"True\",\"hovertemplate\":\"browser=Firefox\\u003cbr\\u003econtinent=%{x}\\u003cbr\\u003etotal_revenue=%{y}\\u003cextra\\u003e\\u003c\\u002fextra\\u003e\",\"legendgroup\":\"Firefox\",\"marker\":{\"color\":\"darksalmon\",\"pattern\":{\"shape\":\"\"}},\"name\":\"Firefox\",\"offsetgroup\":\"Firefox\",\"orientation\":\"v\",\"showlegend\":true,\"textposition\":\"auto\",\"x\":[\"Americas\",\"Asia\",\"Europe\",\"Oceania\",\"Africa\"],\"xaxis\":\"x\",\"y\":{\"dtype\":\"f8\",\"bdata\":\"MzMzM6FeE0FmZmZmrmEAQQAAAABor\\u002fhAAAAAAIBow0AAAAAAACWzQA==\"},\"yaxis\":\"y\",\"type\":\"bar\"},{\"alignmentgroup\":\"True\",\"hovertemplate\":\"browser=Android Webview\\u003cbr\\u003econtinent=%{x}\\u003cbr\\u003etotal_revenue=%{y}\\u003cextra\\u003e\\u003c\\u002fextra\\u003e\",\"legendgroup\":\"Android Webview\",\"marker\":{\"color\":\"rosybrown\",\"pattern\":{\"shape\":\"\"}},\"name\":\"Android Webview\",\"offsetgroup\":\"Android Webview\",\"orientation\":\"v\",\"showlegend\":true,\"textposition\":\"auto\",\"x\":[\"Americas\",\"Asia\",\"Europe\",\"Africa\",\"Oceania\"],\"xaxis\":\"x\",\"y\":{\"dtype\":\"f8\",\"bdata\":\"AAAAAMQUDkFmZmZmXvP7QAAAAACg8+RAAAAAAACAsUAAAAAAAECaQA==\"},\"yaxis\":\"y\",\"type\":\"bar\"},{\"alignmentgroup\":\"True\",\"hovertemplate\":\"browser=Chrome\\u003cbr\\u003econtinent=%{x}\\u003cbr\\u003eaov=%{y}\\u003cextra\\u003e\\u003c\\u002fextra\\u003e\",\"legendgroup\":\"Chrome\",\"marker\":{\"color\":\"steelblue\",\"pattern\":{\"shape\":\"\"}},\"name\":\"Chrome\",\"offsetgroup\":\"Chrome\",\"orientation\":\"v\",\"showlegend\":false,\"textposition\":\"auto\",\"x\":[\"Americas\",\"Asia\",\"Europe\",\"Oceania\",\"Africa\"],\"xaxis\":\"x2\",\"y\":{\"dtype\":\"f8\",\"bdata\":\"\\u002fm4Qo80DjkAqTwvdsQmNQJnSM4bODI1AWCX3LnaAkEDckzRB7I2NQA==\"},\"yaxis\":\"y2\",\"type\":\"bar\"},{\"alignmentgroup\":\"True\",\"hovertemplate\":\"browser=Safari\\u003cbr\\u003econtinent=%{x}\\u003cbr\\u003eaov=%{y}\\u003cextra\\u003e\\u003c\\u002fextra\\u003e\",\"legendgroup\":\"Safari\",\"marker\":{\"color\":\"mediumaquamarine\",\"pattern\":{\"shape\":\"\"}},\"name\":\"Safari\",\"offsetgroup\":\"Safari\",\"orientation\":\"v\",\"showlegend\":false,\"textposition\":\"auto\",\"x\":[\"Americas\",\"Asia\",\"Europe\",\"Africa\",\"Oceania\"],\"xaxis\":\"x2\",\"y\":{\"dtype\":\"f8\",\"bdata\":\"V8TK8R95jED7oIYTYFyPQFtDbGS9jI9A44qcMq78j0CtG0yRzwyKQA==\"},\"yaxis\":\"y2\",\"type\":\"bar\"},{\"alignmentgroup\":\"True\",\"hovertemplate\":\"browser=Edge\\u003cbr\\u003econtinent=%{x}\\u003cbr\\u003eaov=%{y}\\u003cextra\\u003e\\u003c\\u002fextra\\u003e\",\"legendgroup\":\"Edge\",\"marker\":{\"color\":\"wheat\",\"pattern\":{\"shape\":\"\"}},\"name\":\"Edge\",\"offsetgroup\":\"Edge\",\"orientation\":\"v\",\"showlegend\":false,\"textposition\":\"auto\",\"x\":[\"Americas\",\"Asia\",\"Europe\",\"Africa\",\"Oceania\"],\"xaxis\":\"x2\",\"y\":{\"dtype\":\"f8\",\"bdata\":\"BUTnq3uWjkAfVd8XjM6NQN7QCAKeAo1AL7roooseikAAAAAAAB57QA==\"},\"yaxis\":\"y2\",\"type\":\"bar\"},{\"alignmentgroup\":\"True\",\"hovertemplate\":\"browser=Firefox\\u003cbr\\u003econtinent=%{x}\\u003cbr\\u003eaov=%{y}\\u003cextra\\u003e\\u003c\\u002fextra\\u003e\",\"legendgroup\":\"Firefox\",\"marker\":{\"color\":\"darksalmon\",\"pattern\":{\"shape\":\"\"}},\"name\":\"Firefox\",\"offsetgroup\":\"Firefox\",\"orientation\":\"v\",\"showlegend\":false,\"textposition\":\"auto\",\"x\":[\"Americas\",\"Asia\",\"Europe\",\"Oceania\",\"Africa\"],\"xaxis\":\"x2\",\"y\":{\"dtype\":\"f8\",\"bdata\":\"wZelSxTIjUDoGpgtXpyOQCvDN6LASI9AJUmSJEkulkAAAAAAACWTQA==\"},\"yaxis\":\"y2\",\"type\":\"bar\"},{\"alignmentgroup\":\"True\",\"hovertemplate\":\"browser=Android Webview\\u003cbr\\u003econtinent=%{x}\\u003cbr\\u003eaov=%{y}\\u003cextra\\u003e\\u003c\\u002fextra\\u003e\",\"legendgroup\":\"Android Webview\",\"marker\":{\"color\":\"rosybrown\",\"pattern\":{\"shape\":\"\"}},\"name\":\"Android Webview\",\"offsetgroup\":\"Android Webview\",\"orientation\":\"v\",\"showlegend\":false,\"textposition\":\"auto\",\"x\":[\"Americas\",\"Asia\",\"Europe\",\"Africa\",\"Oceania\"],\"xaxis\":\"x2\",\"y\":{\"dtype\":\"f8\",\"bdata\":\"iYD4aEIckEA1rytDUWmQQF100UUXUYRAAAAAAACAkUAAAAAAAECaQA==\"},\"yaxis\":\"y2\",\"type\":\"bar\"}],                        {\"template\":{\"data\":{\"histogram2dcontour\":[{\"type\":\"histogram2dcontour\",\"colorbar\":{\"outlinewidth\":0,\"ticks\":\"\"},\"colorscale\":[[0.0,\"#0d0887\"],[0.1111111111111111,\"#46039f\"],[0.2222222222222222,\"#7201a8\"],[0.3333333333333333,\"#9c179e\"],[0.4444444444444444,\"#bd3786\"],[0.5555555555555556,\"#d8576b\"],[0.6666666666666666,\"#ed7953\"],[0.7777777777777778,\"#fb9f3a\"],[0.8888888888888888,\"#fdca26\"],[1.0,\"#f0f921\"]]}],\"choropleth\":[{\"type\":\"choropleth\",\"colorbar\":{\"outlinewidth\":0,\"ticks\":\"\"}}],\"histogram2d\":[{\"type\":\"histogram2d\",\"colorbar\":{\"outlinewidth\":0,\"ticks\":\"\"},\"colorscale\":[[0.0,\"#0d0887\"],[0.1111111111111111,\"#46039f\"],[0.2222222222222222,\"#7201a8\"],[0.3333333333333333,\"#9c179e\"],[0.4444444444444444,\"#bd3786\"],[0.5555555555555556,\"#d8576b\"],[0.6666666666666666,\"#ed7953\"],[0.7777777777777778,\"#fb9f3a\"],[0.8888888888888888,\"#fdca26\"],[1.0,\"#f0f921\"]]}],\"heatmap\":[{\"type\":\"heatmap\",\"colorbar\":{\"outlinewidth\":0,\"ticks\":\"\"},\"colorscale\":[[0.0,\"#0d0887\"],[0.1111111111111111,\"#46039f\"],[0.2222222222222222,\"#7201a8\"],[0.3333333333333333,\"#9c179e\"],[0.4444444444444444,\"#bd3786\"],[0.5555555555555556,\"#d8576b\"],[0.6666666666666666,\"#ed7953\"],[0.7777777777777778,\"#fb9f3a\"],[0.8888888888888888,\"#fdca26\"],[1.0,\"#f0f921\"]]}],\"contourcarpet\":[{\"type\":\"contourcarpet\",\"colorbar\":{\"outlinewidth\":0,\"ticks\":\"\"}}],\"contour\":[{\"type\":\"contour\",\"colorbar\":{\"outlinewidth\":0,\"ticks\":\"\"},\"colorscale\":[[0.0,\"#0d0887\"],[0.1111111111111111,\"#46039f\"],[0.2222222222222222,\"#7201a8\"],[0.3333333333333333,\"#9c179e\"],[0.4444444444444444,\"#bd3786\"],[0.5555555555555556,\"#d8576b\"],[0.6666666666666666,\"#ed7953\"],[0.7777777777777778,\"#fb9f3a\"],[0.8888888888888888,\"#fdca26\"],[1.0,\"#f0f921\"]]}],\"surface\":[{\"type\":\"surface\",\"colorbar\":{\"outlinewidth\":0,\"ticks\":\"\"},\"colorscale\":[[0.0,\"#0d0887\"],[0.1111111111111111,\"#46039f\"],[0.2222222222222222,\"#7201a8\"],[0.3333333333333333,\"#9c179e\"],[0.4444444444444444,\"#bd3786\"],[0.5555555555555556,\"#d8576b\"],[0.6666666666666666,\"#ed7953\"],[0.7777777777777778,\"#fb9f3a\"],[0.8888888888888888,\"#fdca26\"],[1.0,\"#f0f921\"]]}],\"mesh3d\":[{\"type\":\"mesh3d\",\"colorbar\":{\"outlinewidth\":0,\"ticks\":\"\"}}],\"scatter\":[{\"fillpattern\":{\"fillmode\":\"overlay\",\"size\":10,\"solidity\":0.2},\"type\":\"scatter\"}],\"parcoords\":[{\"type\":\"parcoords\",\"line\":{\"colorbar\":{\"outlinewidth\":0,\"ticks\":\"\"}}}],\"scatterpolargl\":[{\"type\":\"scatterpolargl\",\"marker\":{\"colorbar\":{\"outlinewidth\":0,\"ticks\":\"\"}}}],\"bar\":[{\"error_x\":{\"color\":\"#2a3f5f\"},\"error_y\":{\"color\":\"#2a3f5f\"},\"marker\":{\"line\":{\"color\":\"#E5ECF6\",\"width\":0.5},\"pattern\":{\"fillmode\":\"overlay\",\"size\":10,\"solidity\":0.2}},\"type\":\"bar\"}],\"scattergeo\":[{\"type\":\"scattergeo\",\"marker\":{\"colorbar\":{\"outlinewidth\":0,\"ticks\":\"\"}}}],\"scatterpolar\":[{\"type\":\"scatterpolar\",\"marker\":{\"colorbar\":{\"outlinewidth\":0,\"ticks\":\"\"}}}],\"histogram\":[{\"marker\":{\"pattern\":{\"fillmode\":\"overlay\",\"size\":10,\"solidity\":0.2}},\"type\":\"histogram\"}],\"scattergl\":[{\"type\":\"scattergl\",\"marker\":{\"colorbar\":{\"outlinewidth\":0,\"ticks\":\"\"}}}],\"scatter3d\":[{\"type\":\"scatter3d\",\"line\":{\"colorbar\":{\"outlinewidth\":0,\"ticks\":\"\"}},\"marker\":{\"colorbar\":{\"outlinewidth\":0,\"ticks\":\"\"}}}],\"scattermap\":[{\"type\":\"scattermap\",\"marker\":{\"colorbar\":{\"outlinewidth\":0,\"ticks\":\"\"}}}],\"scattermapbox\":[{\"type\":\"scattermapbox\",\"marker\":{\"colorbar\":{\"outlinewidth\":0,\"ticks\":\"\"}}}],\"scatterternary\":[{\"type\":\"scatterternary\",\"marker\":{\"colorbar\":{\"outlinewidth\":0,\"ticks\":\"\"}}}],\"scattercarpet\":[{\"type\":\"scattercarpet\",\"marker\":{\"colorbar\":{\"outlinewidth\":0,\"ticks\":\"\"}}}],\"carpet\":[{\"aaxis\":{\"endlinecolor\":\"#2a3f5f\",\"gridcolor\":\"white\",\"linecolor\":\"white\",\"minorgridcolor\":\"white\",\"startlinecolor\":\"#2a3f5f\"},\"baxis\":{\"endlinecolor\":\"#2a3f5f\",\"gridcolor\":\"white\",\"linecolor\":\"white\",\"minorgridcolor\":\"white\",\"startlinecolor\":\"#2a3f5f\"},\"type\":\"carpet\"}],\"table\":[{\"cells\":{\"fill\":{\"color\":\"#EBF0F8\"},\"line\":{\"color\":\"white\"}},\"header\":{\"fill\":{\"color\":\"#C8D4E3\"},\"line\":{\"color\":\"white\"}},\"type\":\"table\"}],\"barpolar\":[{\"marker\":{\"line\":{\"color\":\"#E5ECF6\",\"width\":0.5},\"pattern\":{\"fillmode\":\"overlay\",\"size\":10,\"solidity\":0.2}},\"type\":\"barpolar\"}],\"pie\":[{\"automargin\":true,\"type\":\"pie\"}]},\"layout\":{\"autotypenumbers\":\"strict\",\"colorway\":[\"#636efa\",\"#EF553B\",\"#00cc96\",\"#ab63fa\",\"#FFA15A\",\"#19d3f3\",\"#FF6692\",\"#B6E880\",\"#FF97FF\",\"#FECB52\"],\"font\":{\"color\":\"#2a3f5f\"},\"hovermode\":\"closest\",\"hoverlabel\":{\"align\":\"left\"},\"paper_bgcolor\":\"white\",\"plot_bgcolor\":\"#E5ECF6\",\"polar\":{\"bgcolor\":\"#E5ECF6\",\"angularaxis\":{\"gridcolor\":\"white\",\"linecolor\":\"white\",\"ticks\":\"\"},\"radialaxis\":{\"gridcolor\":\"white\",\"linecolor\":\"white\",\"ticks\":\"\"}},\"ternary\":{\"bgcolor\":\"#E5ECF6\",\"aaxis\":{\"gridcolor\":\"white\",\"linecolor\":\"white\",\"ticks\":\"\"},\"baxis\":{\"gridcolor\":\"white\",\"linecolor\":\"white\",\"ticks\":\"\"},\"caxis\":{\"gridcolor\":\"white\",\"linecolor\":\"white\",\"ticks\":\"\"}},\"coloraxis\":{\"colorbar\":{\"outlinewidth\":0,\"ticks\":\"\"}},\"colorscale\":{\"sequential\":[[0.0,\"#0d0887\"],[0.1111111111111111,\"#46039f\"],[0.2222222222222222,\"#7201a8\"],[0.3333333333333333,\"#9c179e\"],[0.4444444444444444,\"#bd3786\"],[0.5555555555555556,\"#d8576b\"],[0.6666666666666666,\"#ed7953\"],[0.7777777777777778,\"#fb9f3a\"],[0.8888888888888888,\"#fdca26\"],[1.0,\"#f0f921\"]],\"sequentialminus\":[[0.0,\"#0d0887\"],[0.1111111111111111,\"#46039f\"],[0.2222222222222222,\"#7201a8\"],[0.3333333333333333,\"#9c179e\"],[0.4444444444444444,\"#bd3786\"],[0.5555555555555556,\"#d8576b\"],[0.6666666666666666,\"#ed7953\"],[0.7777777777777778,\"#fb9f3a\"],[0.8888888888888888,\"#fdca26\"],[1.0,\"#f0f921\"]],\"diverging\":[[0,\"#8e0152\"],[0.1,\"#c51b7d\"],[0.2,\"#de77ae\"],[0.3,\"#f1b6da\"],[0.4,\"#fde0ef\"],[0.5,\"#f7f7f7\"],[0.6,\"#e6f5d0\"],[0.7,\"#b8e186\"],[0.8,\"#7fbc41\"],[0.9,\"#4d9221\"],[1,\"#276419\"]]},\"xaxis\":{\"gridcolor\":\"white\",\"linecolor\":\"white\",\"ticks\":\"\",\"title\":{\"standoff\":15},\"zerolinecolor\":\"white\",\"automargin\":true,\"zerolinewidth\":2},\"yaxis\":{\"gridcolor\":\"white\",\"linecolor\":\"white\",\"ticks\":\"\",\"title\":{\"standoff\":15},\"zerolinecolor\":\"white\",\"automargin\":true,\"zerolinewidth\":2},\"scene\":{\"xaxis\":{\"backgroundcolor\":\"#E5ECF6\",\"gridcolor\":\"white\",\"linecolor\":\"white\",\"showbackground\":true,\"ticks\":\"\",\"zerolinecolor\":\"white\",\"gridwidth\":2},\"yaxis\":{\"backgroundcolor\":\"#E5ECF6\",\"gridcolor\":\"white\",\"linecolor\":\"white\",\"showbackground\":true,\"ticks\":\"\",\"zerolinecolor\":\"white\",\"gridwidth\":2},\"zaxis\":{\"backgroundcolor\":\"#E5ECF6\",\"gridcolor\":\"white\",\"linecolor\":\"white\",\"showbackground\":true,\"ticks\":\"\",\"zerolinecolor\":\"white\",\"gridwidth\":2}},\"shapedefaults\":{\"line\":{\"color\":\"#2a3f5f\"}},\"annotationdefaults\":{\"arrowcolor\":\"#2a3f5f\",\"arrowhead\":0,\"arrowwidth\":1},\"geo\":{\"bgcolor\":\"white\",\"landcolor\":\"#E5ECF6\",\"subunitcolor\":\"white\",\"showland\":true,\"showlakes\":true,\"lakecolor\":\"white\"},\"title\":{\"x\":0.05},\"mapbox\":{\"style\":\"light\"}}},\"xaxis\":{\"anchor\":\"y\",\"domain\":[0.0,0.45]},\"yaxis\":{\"anchor\":\"x\",\"domain\":[0.0,1.0]},\"xaxis2\":{\"anchor\":\"y2\",\"domain\":[0.55,1.0]},\"yaxis2\":{\"anchor\":\"x2\",\"domain\":[0.0,1.0]},\"annotations\":[{\"font\":{\"size\":16},\"showarrow\":false,\"text\":\"Revenue by browsers\",\"x\":0.225,\"xanchor\":\"center\",\"xref\":\"paper\",\"y\":1.0,\"yanchor\":\"bottom\",\"yref\":\"paper\"},{\"font\":{\"size\":16},\"showarrow\":false,\"text\":\"AOV by browsers\",\"x\":0.775,\"xanchor\":\"center\",\"xref\":\"paper\",\"y\":1.0,\"yanchor\":\"bottom\",\"yref\":\"paper\"}],\"title\":{\"text\":\"Analysis by Browsers\"},\"barmode\":\"group\",\"height\":500,\"width\":1200,\"showlegend\":true,\"plot_bgcolor\":\"aliceblue\",\"paper_bgcolor\":\"lightcyan\"},                        {\"responsive\": true}                    ).then(function(){\n                            \nvar gd = document.getElementById('1de8faa8-2a2c-4a2a-ba04-59df74272a1c');\nvar x = new MutationObserver(function (mutations, observer) {{\n        var display = window.getComputedStyle(gd).display;\n        if (!display || display === 'none') {{\n            console.log([gd, 'removed!']);\n            Plotly.purge(gd);\n            observer.disconnect();\n        }}\n}});\n\n// Listen for the removal of the full notebook cells\nvar notebookContainer = gd.closest('#notebook-container');\nif (notebookContainer) {{\n    x.observe(notebookContainer, {childList: true});\n}}\n\n// Listen for the clearing of the current output cell\nvar outputEl = gd.closest('.output');\nif (outputEl) {{\n    x.observe(outputEl, {childList: true});\n}}\n\n                        })                };            </script>        </div>\n</body>\n</html>"
                },
                "metadata": {}
              }
            ],
            "tabbable": null,
            "tooltip": null
          }
        },
        "e6bf0cde3d794b21bd0d4887df48cb3d": {
          "model_module": "@jupyter-widgets/base",
          "model_name": "LayoutModel",
          "model_module_version": "2.0.0",
          "state": {
            "_model_module": "@jupyter-widgets/base",
            "_model_module_version": "2.0.0",
            "_model_name": "LayoutModel",
            "_view_count": null,
            "_view_module": "@jupyter-widgets/base",
            "_view_module_version": "2.0.0",
            "_view_name": "LayoutView",
            "align_content": null,
            "align_items": null,
            "align_self": null,
            "border_bottom": null,
            "border_left": null,
            "border_right": null,
            "border_top": null,
            "bottom": null,
            "display": null,
            "flex": null,
            "flex_flow": null,
            "grid_area": null,
            "grid_auto_columns": null,
            "grid_auto_flow": null,
            "grid_auto_rows": null,
            "grid_column": null,
            "grid_gap": null,
            "grid_row": null,
            "grid_template_areas": null,
            "grid_template_columns": null,
            "grid_template_rows": null,
            "height": null,
            "justify_content": null,
            "justify_items": null,
            "left": null,
            "margin": null,
            "max_height": null,
            "max_width": null,
            "min_height": null,
            "min_width": null,
            "object_fit": null,
            "object_position": null,
            "order": null,
            "overflow": null,
            "padding": null,
            "right": null,
            "top": null,
            "visibility": null,
            "width": null
          }
        },
        "8e6627707a9d4c999099fa0b087b70fb": {
          "model_module": "@jupyter-widgets/base",
          "model_name": "LayoutModel",
          "model_module_version": "2.0.0",
          "state": {
            "_model_module": "@jupyter-widgets/base",
            "_model_module_version": "2.0.0",
            "_model_name": "LayoutModel",
            "_view_count": null,
            "_view_module": "@jupyter-widgets/base",
            "_view_module_version": "2.0.0",
            "_view_name": "LayoutView",
            "align_content": null,
            "align_items": null,
            "align_self": null,
            "border_bottom": null,
            "border_left": null,
            "border_right": null,
            "border_top": null,
            "bottom": null,
            "display": null,
            "flex": null,
            "flex_flow": null,
            "grid_area": null,
            "grid_auto_columns": null,
            "grid_auto_flow": null,
            "grid_auto_rows": null,
            "grid_column": null,
            "grid_gap": null,
            "grid_row": null,
            "grid_template_areas": null,
            "grid_template_columns": null,
            "grid_template_rows": null,
            "height": null,
            "justify_content": null,
            "justify_items": null,
            "left": null,
            "margin": null,
            "max_height": null,
            "max_width": null,
            "min_height": null,
            "min_width": null,
            "object_fit": null,
            "object_position": null,
            "order": null,
            "overflow": null,
            "padding": null,
            "right": null,
            "top": null,
            "visibility": null,
            "width": null
          }
        },
        "3ae2e2eabe2240248928b6a8cb35013e": {
          "model_module": "@jupyter-widgets/controls",
          "model_name": "VBoxModel",
          "model_module_version": "2.0.0",
          "state": {
            "_dom_classes": [
              "widget-interact"
            ],
            "_model_module": "@jupyter-widgets/controls",
            "_model_module_version": "2.0.0",
            "_model_name": "VBoxModel",
            "_view_count": null,
            "_view_module": "@jupyter-widgets/controls",
            "_view_module_version": "2.0.0",
            "_view_name": "VBoxView",
            "box_style": "",
            "children": [
              "IPY_MODEL_b2d21c6ec9de4fc083336bd4decb6ca1",
              "IPY_MODEL_dff82f848f3c4c9eb52379276735df7a"
            ],
            "layout": "IPY_MODEL_c47564fa18ac4c069471264e7e79c4a7",
            "tabbable": null,
            "tooltip": null
          }
        },
        "dff82f848f3c4c9eb52379276735df7a": {
          "model_module": "@jupyter-widgets/output",
          "model_name": "OutputModel",
          "model_module_version": "1.0.0",
          "state": {
            "_dom_classes": [],
            "_model_module": "@jupyter-widgets/output",
            "_model_module_version": "1.0.0",
            "_model_name": "OutputModel",
            "_view_count": null,
            "_view_module": "@jupyter-widgets/output",
            "_view_module_version": "1.0.0",
            "_view_name": "OutputView",
            "layout": "IPY_MODEL_3cc2d9076f254614b35889c592712f1e",
            "msg_id": "",
            "outputs": [
              {
                "output_type": "display_data",
                "data": {
                  "text/html": "<html>\n<head><meta charset=\"utf-8\" /></head>\n<body>\n    <div>            <script src=\"https://cdnjs.cloudflare.com/ajax/libs/mathjax/2.7.5/MathJax.js?config=TeX-AMS-MML_SVG\"></script><script type=\"text/javascript\">if (window.MathJax && window.MathJax.Hub && window.MathJax.Hub.Config) {window.MathJax.Hub.Config({SVG: {font: \"STIX-Web\"}});}</script>                <script type=\"text/javascript\">window.PlotlyConfig = {MathJaxConfig: 'local'};</script>\n        <script charset=\"utf-8\" src=\"https://cdn.plot.ly/plotly-3.1.0.min.js\" integrity=\"sha256-Ei4740bWZhaUTQuD6q9yQlgVCMPBz6CZWhevDYPv93A=\" crossorigin=\"anonymous\"></script>                <div id=\"2fb9aba5-0e52-4911-9642-a5ae6b4fc64f\" class=\"plotly-graph-div\" style=\"height:500px; width:1200px;\"></div>            <script type=\"text/javascript\">                window.PLOTLYENV=window.PLOTLYENV || {};                                if (document.getElementById(\"2fb9aba5-0e52-4911-9642-a5ae6b4fc64f\")) {                    Plotly.newPlot(                        \"2fb9aba5-0e52-4911-9642-a5ae6b4fc64f\",                        [{\"alignmentgroup\":\"True\",\"hovertemplate\":\"operating_system=Web\\u003cbr\\u003econtinent=%{x}\\u003cbr\\u003etotal_revenue=%{y}\\u003cextra\\u003e\\u003c\\u002fextra\\u003e\",\"legendgroup\":\"Web\",\"marker\":{\"color\":\"steelblue\",\"pattern\":{\"shape\":\"\"}},\"name\":\"Web\",\"offsetgroup\":\"Web\",\"orientation\":\"v\",\"showlegend\":true,\"textposition\":\"auto\",\"x\":[\"Americas\",\"Asia\",\"Europe\",\"Oceania\",\"Africa\"],\"xaxis\":\"x\",\"y\":{\"dtype\":\"f8\",\"bdata\":\"ZmZmxjhYY0EAAACgSflQQc3MzMwJLEpBzczMzOB3B0GamZmZfbMGQQ==\"},\"yaxis\":\"y\",\"type\":\"bar\"},{\"alignmentgroup\":\"True\",\"hovertemplate\":\"operating_system=Windows\\u003cbr\\u003econtinent=%{x}\\u003cbr\\u003etotal_revenue=%{y}\\u003cextra\\u003e\\u003c\\u002fextra\\u003e\",\"legendgroup\":\"Windows\",\"marker\":{\"color\":\"mediumaquamarine\",\"pattern\":{\"shape\":\"\"}},\"name\":\"Windows\",\"offsetgroup\":\"Windows\",\"orientation\":\"v\",\"showlegend\":true,\"textposition\":\"auto\",\"x\":[\"Americas\",\"Asia\",\"Europe\",\"Oceania\",\"Africa\"],\"xaxis\":\"x\",\"y\":{\"dtype\":\"f8\",\"bdata\":\"AAAAgI5pQEGamZmZkdYoQTMzMzNJ6iZBMzMzM1P06EAAAAAAwJ7ZQA==\"},\"yaxis\":\"y\",\"type\":\"bar\"},{\"alignmentgroup\":\"True\",\"hovertemplate\":\"operating_system=iOS\\u003cbr\\u003econtinent=%{x}\\u003cbr\\u003etotal_revenue=%{y}\\u003cextra\\u003e\\u003c\\u002fextra\\u003e\",\"legendgroup\":\"iOS\",\"marker\":{\"color\":\"wheat\",\"pattern\":{\"shape\":\"\"}},\"name\":\"iOS\",\"offsetgroup\":\"iOS\",\"orientation\":\"v\",\"showlegend\":true,\"textposition\":\"auto\",\"x\":[\"Americas\",\"Asia\",\"Europe\",\"Africa\",\"Oceania\"],\"xaxis\":\"x\",\"y\":{\"dtype\":\"f8\",\"bdata\":\"MzMzMx\\u002f\\u002fPkFmZmZmFE4pQWZmZmb9piRBMzMzMzP23kAAAAAAoE3bQA==\"},\"yaxis\":\"y\",\"type\":\"bar\"},{\"alignmentgroup\":\"True\",\"hovertemplate\":\"operating_system=Android\\u003cbr\\u003econtinent=%{x}\\u003cbr\\u003etotal_revenue=%{y}\\u003cextra\\u003e\\u003c\\u002fextra\\u003e\",\"legendgroup\":\"Android\",\"marker\":{\"color\":\"darksalmon\",\"pattern\":{\"shape\":\"\"}},\"name\":\"Android\",\"offsetgroup\":\"Android\",\"orientation\":\"v\",\"showlegend\":true,\"textposition\":\"auto\",\"x\":[\"Americas\",\"Asia\",\"Europe\",\"Oceania\",\"Africa\"],\"xaxis\":\"x\",\"y\":{\"dtype\":\"f8\",\"bdata\":\"zczMTA66N0FmZmZm+IIkQWZmZmao\\u002fBxBAAAAAOBG6EAAAAAAsK7iQA==\"},\"yaxis\":\"y\",\"type\":\"bar\"},{\"alignmentgroup\":\"True\",\"hovertemplate\":\"operating_system=Macintosh\\u003cbr\\u003econtinent=%{x}\\u003cbr\\u003etotal_revenue=%{y}\\u003cextra\\u003e\\u003c\\u002fextra\\u003e\",\"legendgroup\":\"Macintosh\",\"marker\":{\"color\":\"rosybrown\",\"pattern\":{\"shape\":\"\"}},\"name\":\"Macintosh\",\"offsetgroup\":\"Macintosh\",\"orientation\":\"v\",\"showlegend\":true,\"textposition\":\"auto\",\"x\":[\"Americas\",\"Asia\",\"Europe\",\"Africa\",\"Oceania\"],\"xaxis\":\"x\",\"y\":{\"dtype\":\"f8\",\"bdata\":\"ZmZmZhwZNEFmZmZm5cIjQc3MzMxcXBtBAAAAAOAM50AAAAAAAHPiQA==\"},\"yaxis\":\"y\",\"type\":\"bar\"},{\"alignmentgroup\":\"True\",\"hovertemplate\":\"operating_system=Web\\u003cbr\\u003econtinent=%{x}\\u003cbr\\u003eaov=%{y}\\u003cextra\\u003e\\u003c\\u002fextra\\u003e\",\"legendgroup\":\"Web\",\"marker\":{\"color\":\"steelblue\",\"pattern\":{\"shape\":\"\"}},\"name\":\"Web\",\"offsetgroup\":\"Web\",\"orientation\":\"v\",\"showlegend\":false,\"textposition\":\"auto\",\"x\":[\"Americas\",\"Asia\",\"Europe\",\"Oceania\",\"Africa\"],\"xaxis\":\"x2\",\"y\":{\"dtype\":\"f8\",\"bdata\":\"Jgy+0xSEjUCHyfBAz52NQIcMD0l\\u002fVo1A9Qjbsu\\u002fwikClxUlanD6PQA==\"},\"yaxis\":\"y2\",\"type\":\"bar\"},{\"alignmentgroup\":\"True\",\"hovertemplate\":\"operating_system=Windows\\u003cbr\\u003econtinent=%{x}\\u003cbr\\u003eaov=%{y}\\u003cextra\\u003e\\u003c\\u002fextra\\u003e\",\"legendgroup\":\"Windows\",\"marker\":{\"color\":\"mediumaquamarine\",\"pattern\":{\"shape\":\"\"}},\"name\":\"Windows\",\"offsetgroup\":\"Windows\",\"orientation\":\"v\",\"showlegend\":false,\"textposition\":\"auto\",\"x\":[\"Americas\",\"Asia\",\"Europe\",\"Oceania\",\"Africa\"],\"xaxis\":\"x2\",\"y\":{\"dtype\":\"f8\",\"bdata\":\"vcUjWTeZjkDtlK5BwFKMQH9YpklJmJBAlUu5lEsDk0CSJEmSJIWDQA==\"},\"yaxis\":\"y2\",\"type\":\"bar\"},{\"alignmentgroup\":\"True\",\"hovertemplate\":\"operating_system=iOS\\u003cbr\\u003econtinent=%{x}\\u003cbr\\u003eaov=%{y}\\u003cextra\\u003e\\u003c\\u002fextra\\u003e\",\"legendgroup\":\"iOS\",\"marker\":{\"color\":\"wheat\",\"pattern\":{\"shape\":\"\"}},\"name\":\"iOS\",\"offsetgroup\":\"iOS\",\"orientation\":\"v\",\"showlegend\":false,\"textposition\":\"auto\",\"x\":[\"Americas\",\"Asia\",\"Europe\",\"Africa\",\"Oceania\"],\"xaxis\":\"x2\",\"y\":{\"dtype\":\"f8\",\"bdata\":\"BKMzCPUVjkBzt+iAkq6NQKIyz7UhIY1AVOOlm8TQg0CamZmZmR+NQA==\"},\"yaxis\":\"y2\",\"type\":\"bar\"},{\"alignmentgroup\":\"True\",\"hovertemplate\":\"operating_system=Android\\u003cbr\\u003econtinent=%{x}\\u003cbr\\u003eaov=%{y}\\u003cextra\\u003e\\u003c\\u002fextra\\u003e\",\"legendgroup\":\"Android\",\"marker\":{\"color\":\"darksalmon\",\"pattern\":{\"shape\":\"\"}},\"name\":\"Android\",\"offsetgroup\":\"Android\",\"orientation\":\"v\",\"showlegend\":false,\"textposition\":\"auto\",\"x\":[\"Americas\",\"Asia\",\"Europe\",\"Oceania\",\"Africa\"],\"xaxis\":\"x2\",\"y\":{\"dtype\":\"f8\",\"bdata\":\"UUpV42ujjkAdB3MRXGWPQO7wRa6iAIxAS0tLS0vZlkAIH3zwwR2SQA==\"},\"yaxis\":\"y2\",\"type\":\"bar\"},{\"alignmentgroup\":\"True\",\"hovertemplate\":\"operating_system=Macintosh\\u003cbr\\u003econtinent=%{x}\\u003cbr\\u003eaov=%{y}\\u003cextra\\u003e\\u003c\\u002fextra\\u003e\",\"legendgroup\":\"Macintosh\",\"marker\":{\"color\":\"rosybrown\",\"pattern\":{\"shape\":\"\"}},\"name\":\"Macintosh\",\"offsetgroup\":\"Macintosh\",\"orientation\":\"v\",\"showlegend\":false,\"textposition\":\"auto\",\"x\":[\"Americas\",\"Asia\",\"Europe\",\"Africa\",\"Oceania\"],\"xaxis\":\"x2\",\"y\":{\"dtype\":\"f8\",\"bdata\":\"LaiNpsgBjUDhSLU\\u002ffnqQQP2fDYDJH41AhetRuB6BnUBP7MRO7LSWQA==\"},\"yaxis\":\"y2\",\"type\":\"bar\"}],                        {\"template\":{\"data\":{\"histogram2dcontour\":[{\"type\":\"histogram2dcontour\",\"colorbar\":{\"outlinewidth\":0,\"ticks\":\"\"},\"colorscale\":[[0.0,\"#0d0887\"],[0.1111111111111111,\"#46039f\"],[0.2222222222222222,\"#7201a8\"],[0.3333333333333333,\"#9c179e\"],[0.4444444444444444,\"#bd3786\"],[0.5555555555555556,\"#d8576b\"],[0.6666666666666666,\"#ed7953\"],[0.7777777777777778,\"#fb9f3a\"],[0.8888888888888888,\"#fdca26\"],[1.0,\"#f0f921\"]]}],\"choropleth\":[{\"type\":\"choropleth\",\"colorbar\":{\"outlinewidth\":0,\"ticks\":\"\"}}],\"histogram2d\":[{\"type\":\"histogram2d\",\"colorbar\":{\"outlinewidth\":0,\"ticks\":\"\"},\"colorscale\":[[0.0,\"#0d0887\"],[0.1111111111111111,\"#46039f\"],[0.2222222222222222,\"#7201a8\"],[0.3333333333333333,\"#9c179e\"],[0.4444444444444444,\"#bd3786\"],[0.5555555555555556,\"#d8576b\"],[0.6666666666666666,\"#ed7953\"],[0.7777777777777778,\"#fb9f3a\"],[0.8888888888888888,\"#fdca26\"],[1.0,\"#f0f921\"]]}],\"heatmap\":[{\"type\":\"heatmap\",\"colorbar\":{\"outlinewidth\":0,\"ticks\":\"\"},\"colorscale\":[[0.0,\"#0d0887\"],[0.1111111111111111,\"#46039f\"],[0.2222222222222222,\"#7201a8\"],[0.3333333333333333,\"#9c179e\"],[0.4444444444444444,\"#bd3786\"],[0.5555555555555556,\"#d8576b\"],[0.6666666666666666,\"#ed7953\"],[0.7777777777777778,\"#fb9f3a\"],[0.8888888888888888,\"#fdca26\"],[1.0,\"#f0f921\"]]}],\"contourcarpet\":[{\"type\":\"contourcarpet\",\"colorbar\":{\"outlinewidth\":0,\"ticks\":\"\"}}],\"contour\":[{\"type\":\"contour\",\"colorbar\":{\"outlinewidth\":0,\"ticks\":\"\"},\"colorscale\":[[0.0,\"#0d0887\"],[0.1111111111111111,\"#46039f\"],[0.2222222222222222,\"#7201a8\"],[0.3333333333333333,\"#9c179e\"],[0.4444444444444444,\"#bd3786\"],[0.5555555555555556,\"#d8576b\"],[0.6666666666666666,\"#ed7953\"],[0.7777777777777778,\"#fb9f3a\"],[0.8888888888888888,\"#fdca26\"],[1.0,\"#f0f921\"]]}],\"surface\":[{\"type\":\"surface\",\"colorbar\":{\"outlinewidth\":0,\"ticks\":\"\"},\"colorscale\":[[0.0,\"#0d0887\"],[0.1111111111111111,\"#46039f\"],[0.2222222222222222,\"#7201a8\"],[0.3333333333333333,\"#9c179e\"],[0.4444444444444444,\"#bd3786\"],[0.5555555555555556,\"#d8576b\"],[0.6666666666666666,\"#ed7953\"],[0.7777777777777778,\"#fb9f3a\"],[0.8888888888888888,\"#fdca26\"],[1.0,\"#f0f921\"]]}],\"mesh3d\":[{\"type\":\"mesh3d\",\"colorbar\":{\"outlinewidth\":0,\"ticks\":\"\"}}],\"scatter\":[{\"fillpattern\":{\"fillmode\":\"overlay\",\"size\":10,\"solidity\":0.2},\"type\":\"scatter\"}],\"parcoords\":[{\"type\":\"parcoords\",\"line\":{\"colorbar\":{\"outlinewidth\":0,\"ticks\":\"\"}}}],\"scatterpolargl\":[{\"type\":\"scatterpolargl\",\"marker\":{\"colorbar\":{\"outlinewidth\":0,\"ticks\":\"\"}}}],\"bar\":[{\"error_x\":{\"color\":\"#2a3f5f\"},\"error_y\":{\"color\":\"#2a3f5f\"},\"marker\":{\"line\":{\"color\":\"#E5ECF6\",\"width\":0.5},\"pattern\":{\"fillmode\":\"overlay\",\"size\":10,\"solidity\":0.2}},\"type\":\"bar\"}],\"scattergeo\":[{\"type\":\"scattergeo\",\"marker\":{\"colorbar\":{\"outlinewidth\":0,\"ticks\":\"\"}}}],\"scatterpolar\":[{\"type\":\"scatterpolar\",\"marker\":{\"colorbar\":{\"outlinewidth\":0,\"ticks\":\"\"}}}],\"histogram\":[{\"marker\":{\"pattern\":{\"fillmode\":\"overlay\",\"size\":10,\"solidity\":0.2}},\"type\":\"histogram\"}],\"scattergl\":[{\"type\":\"scattergl\",\"marker\":{\"colorbar\":{\"outlinewidth\":0,\"ticks\":\"\"}}}],\"scatter3d\":[{\"type\":\"scatter3d\",\"line\":{\"colorbar\":{\"outlinewidth\":0,\"ticks\":\"\"}},\"marker\":{\"colorbar\":{\"outlinewidth\":0,\"ticks\":\"\"}}}],\"scattermap\":[{\"type\":\"scattermap\",\"marker\":{\"colorbar\":{\"outlinewidth\":0,\"ticks\":\"\"}}}],\"scattermapbox\":[{\"type\":\"scattermapbox\",\"marker\":{\"colorbar\":{\"outlinewidth\":0,\"ticks\":\"\"}}}],\"scatterternary\":[{\"type\":\"scatterternary\",\"marker\":{\"colorbar\":{\"outlinewidth\":0,\"ticks\":\"\"}}}],\"scattercarpet\":[{\"type\":\"scattercarpet\",\"marker\":{\"colorbar\":{\"outlinewidth\":0,\"ticks\":\"\"}}}],\"carpet\":[{\"aaxis\":{\"endlinecolor\":\"#2a3f5f\",\"gridcolor\":\"white\",\"linecolor\":\"white\",\"minorgridcolor\":\"white\",\"startlinecolor\":\"#2a3f5f\"},\"baxis\":{\"endlinecolor\":\"#2a3f5f\",\"gridcolor\":\"white\",\"linecolor\":\"white\",\"minorgridcolor\":\"white\",\"startlinecolor\":\"#2a3f5f\"},\"type\":\"carpet\"}],\"table\":[{\"cells\":{\"fill\":{\"color\":\"#EBF0F8\"},\"line\":{\"color\":\"white\"}},\"header\":{\"fill\":{\"color\":\"#C8D4E3\"},\"line\":{\"color\":\"white\"}},\"type\":\"table\"}],\"barpolar\":[{\"marker\":{\"line\":{\"color\":\"#E5ECF6\",\"width\":0.5},\"pattern\":{\"fillmode\":\"overlay\",\"size\":10,\"solidity\":0.2}},\"type\":\"barpolar\"}],\"pie\":[{\"automargin\":true,\"type\":\"pie\"}]},\"layout\":{\"autotypenumbers\":\"strict\",\"colorway\":[\"#636efa\",\"#EF553B\",\"#00cc96\",\"#ab63fa\",\"#FFA15A\",\"#19d3f3\",\"#FF6692\",\"#B6E880\",\"#FF97FF\",\"#FECB52\"],\"font\":{\"color\":\"#2a3f5f\"},\"hovermode\":\"closest\",\"hoverlabel\":{\"align\":\"left\"},\"paper_bgcolor\":\"white\",\"plot_bgcolor\":\"#E5ECF6\",\"polar\":{\"bgcolor\":\"#E5ECF6\",\"angularaxis\":{\"gridcolor\":\"white\",\"linecolor\":\"white\",\"ticks\":\"\"},\"radialaxis\":{\"gridcolor\":\"white\",\"linecolor\":\"white\",\"ticks\":\"\"}},\"ternary\":{\"bgcolor\":\"#E5ECF6\",\"aaxis\":{\"gridcolor\":\"white\",\"linecolor\":\"white\",\"ticks\":\"\"},\"baxis\":{\"gridcolor\":\"white\",\"linecolor\":\"white\",\"ticks\":\"\"},\"caxis\":{\"gridcolor\":\"white\",\"linecolor\":\"white\",\"ticks\":\"\"}},\"coloraxis\":{\"colorbar\":{\"outlinewidth\":0,\"ticks\":\"\"}},\"colorscale\":{\"sequential\":[[0.0,\"#0d0887\"],[0.1111111111111111,\"#46039f\"],[0.2222222222222222,\"#7201a8\"],[0.3333333333333333,\"#9c179e\"],[0.4444444444444444,\"#bd3786\"],[0.5555555555555556,\"#d8576b\"],[0.6666666666666666,\"#ed7953\"],[0.7777777777777778,\"#fb9f3a\"],[0.8888888888888888,\"#fdca26\"],[1.0,\"#f0f921\"]],\"sequentialminus\":[[0.0,\"#0d0887\"],[0.1111111111111111,\"#46039f\"],[0.2222222222222222,\"#7201a8\"],[0.3333333333333333,\"#9c179e\"],[0.4444444444444444,\"#bd3786\"],[0.5555555555555556,\"#d8576b\"],[0.6666666666666666,\"#ed7953\"],[0.7777777777777778,\"#fb9f3a\"],[0.8888888888888888,\"#fdca26\"],[1.0,\"#f0f921\"]],\"diverging\":[[0,\"#8e0152\"],[0.1,\"#c51b7d\"],[0.2,\"#de77ae\"],[0.3,\"#f1b6da\"],[0.4,\"#fde0ef\"],[0.5,\"#f7f7f7\"],[0.6,\"#e6f5d0\"],[0.7,\"#b8e186\"],[0.8,\"#7fbc41\"],[0.9,\"#4d9221\"],[1,\"#276419\"]]},\"xaxis\":{\"gridcolor\":\"white\",\"linecolor\":\"white\",\"ticks\":\"\",\"title\":{\"standoff\":15},\"zerolinecolor\":\"white\",\"automargin\":true,\"zerolinewidth\":2},\"yaxis\":{\"gridcolor\":\"white\",\"linecolor\":\"white\",\"ticks\":\"\",\"title\":{\"standoff\":15},\"zerolinecolor\":\"white\",\"automargin\":true,\"zerolinewidth\":2},\"scene\":{\"xaxis\":{\"backgroundcolor\":\"#E5ECF6\",\"gridcolor\":\"white\",\"linecolor\":\"white\",\"showbackground\":true,\"ticks\":\"\",\"zerolinecolor\":\"white\",\"gridwidth\":2},\"yaxis\":{\"backgroundcolor\":\"#E5ECF6\",\"gridcolor\":\"white\",\"linecolor\":\"white\",\"showbackground\":true,\"ticks\":\"\",\"zerolinecolor\":\"white\",\"gridwidth\":2},\"zaxis\":{\"backgroundcolor\":\"#E5ECF6\",\"gridcolor\":\"white\",\"linecolor\":\"white\",\"showbackground\":true,\"ticks\":\"\",\"zerolinecolor\":\"white\",\"gridwidth\":2}},\"shapedefaults\":{\"line\":{\"color\":\"#2a3f5f\"}},\"annotationdefaults\":{\"arrowcolor\":\"#2a3f5f\",\"arrowhead\":0,\"arrowwidth\":1},\"geo\":{\"bgcolor\":\"white\",\"landcolor\":\"#E5ECF6\",\"subunitcolor\":\"white\",\"showland\":true,\"showlakes\":true,\"lakecolor\":\"white\"},\"title\":{\"x\":0.05},\"mapbox\":{\"style\":\"light\"}}},\"xaxis\":{\"anchor\":\"y\",\"domain\":[0.0,0.45]},\"yaxis\":{\"anchor\":\"x\",\"domain\":[0.0,1.0]},\"xaxis2\":{\"anchor\":\"y2\",\"domain\":[0.55,1.0]},\"yaxis2\":{\"anchor\":\"x2\",\"domain\":[0.0,1.0]},\"annotations\":[{\"font\":{\"size\":16},\"showarrow\":false,\"text\":\"Revenue by OS\",\"x\":0.225,\"xanchor\":\"center\",\"xref\":\"paper\",\"y\":1.0,\"yanchor\":\"bottom\",\"yref\":\"paper\"},{\"font\":{\"size\":16},\"showarrow\":false,\"text\":\"AOV by OS\",\"x\":0.775,\"xanchor\":\"center\",\"xref\":\"paper\",\"y\":1.0,\"yanchor\":\"bottom\",\"yref\":\"paper\"}],\"title\":{\"text\":\"Analysis by OS\"},\"barmode\":\"group\",\"height\":500,\"width\":1200,\"showlegend\":true,\"plot_bgcolor\":\"aliceblue\",\"paper_bgcolor\":\"lightcyan\"},                        {\"responsive\": true}                    ).then(function(){\n                            \nvar gd = document.getElementById('2fb9aba5-0e52-4911-9642-a5ae6b4fc64f');\nvar x = new MutationObserver(function (mutations, observer) {{\n        var display = window.getComputedStyle(gd).display;\n        if (!display || display === 'none') {{\n            console.log([gd, 'removed!']);\n            Plotly.purge(gd);\n            observer.disconnect();\n        }}\n}});\n\n// Listen for the removal of the full notebook cells\nvar notebookContainer = gd.closest('#notebook-container');\nif (notebookContainer) {{\n    x.observe(notebookContainer, {childList: true});\n}}\n\n// Listen for the clearing of the current output cell\nvar outputEl = gd.closest('.output');\nif (outputEl) {{\n    x.observe(outputEl, {childList: true});\n}}\n\n                        })                };            </script>        </div>\n</body>\n</html>"
                },
                "metadata": {}
              }
            ],
            "tabbable": null,
            "tooltip": null
          }
        },
        "c47564fa18ac4c069471264e7e79c4a7": {
          "model_module": "@jupyter-widgets/base",
          "model_name": "LayoutModel",
          "model_module_version": "2.0.0",
          "state": {
            "_model_module": "@jupyter-widgets/base",
            "_model_module_version": "2.0.0",
            "_model_name": "LayoutModel",
            "_view_count": null,
            "_view_module": "@jupyter-widgets/base",
            "_view_module_version": "2.0.0",
            "_view_name": "LayoutView",
            "align_content": null,
            "align_items": null,
            "align_self": null,
            "border_bottom": null,
            "border_left": null,
            "border_right": null,
            "border_top": null,
            "bottom": null,
            "display": null,
            "flex": null,
            "flex_flow": null,
            "grid_area": null,
            "grid_auto_columns": null,
            "grid_auto_flow": null,
            "grid_auto_rows": null,
            "grid_column": null,
            "grid_gap": null,
            "grid_row": null,
            "grid_template_areas": null,
            "grid_template_columns": null,
            "grid_template_rows": null,
            "height": null,
            "justify_content": null,
            "justify_items": null,
            "left": null,
            "margin": null,
            "max_height": null,
            "max_width": null,
            "min_height": null,
            "min_width": null,
            "object_fit": null,
            "object_position": null,
            "order": null,
            "overflow": null,
            "padding": null,
            "right": null,
            "top": null,
            "visibility": null,
            "width": null
          }
        },
        "3cc2d9076f254614b35889c592712f1e": {
          "model_module": "@jupyter-widgets/base",
          "model_name": "LayoutModel",
          "model_module_version": "2.0.0",
          "state": {
            "_model_module": "@jupyter-widgets/base",
            "_model_module_version": "2.0.0",
            "_model_name": "LayoutModel",
            "_view_count": null,
            "_view_module": "@jupyter-widgets/base",
            "_view_module_version": "2.0.0",
            "_view_name": "LayoutView",
            "align_content": null,
            "align_items": null,
            "align_self": null,
            "border_bottom": null,
            "border_left": null,
            "border_right": null,
            "border_top": null,
            "bottom": null,
            "display": null,
            "flex": null,
            "flex_flow": null,
            "grid_area": null,
            "grid_auto_columns": null,
            "grid_auto_flow": null,
            "grid_auto_rows": null,
            "grid_column": null,
            "grid_gap": null,
            "grid_row": null,
            "grid_template_areas": null,
            "grid_template_columns": null,
            "grid_template_rows": null,
            "height": null,
            "justify_content": null,
            "justify_items": null,
            "left": null,
            "margin": null,
            "max_height": null,
            "max_width": null,
            "min_height": null,
            "min_width": null,
            "object_fit": null,
            "object_position": null,
            "order": null,
            "overflow": null,
            "padding": null,
            "right": null,
            "top": null,
            "visibility": null,
            "width": null
          }
        },
        "d2fbfaf714e14ff6b39d54d9dc9372d0": {
          "model_module": "@jupyter-widgets/controls",
          "model_name": "VBoxModel",
          "model_module_version": "2.0.0",
          "state": {
            "_dom_classes": [
              "widget-interact"
            ],
            "_model_module": "@jupyter-widgets/controls",
            "_model_module_version": "2.0.0",
            "_model_name": "VBoxModel",
            "_view_count": null,
            "_view_module": "@jupyter-widgets/controls",
            "_view_module_version": "2.0.0",
            "_view_name": "VBoxView",
            "box_style": "",
            "children": [
              "IPY_MODEL_b2d21c6ec9de4fc083336bd4decb6ca1",
              "IPY_MODEL_088d6688e4fe41d090c1d82f7be3dd85"
            ],
            "layout": "IPY_MODEL_2a9e5ef6cb8f4181b0aefc6afc22e996",
            "tabbable": null,
            "tooltip": null
          }
        },
        "088d6688e4fe41d090c1d82f7be3dd85": {
          "model_module": "@jupyter-widgets/output",
          "model_name": "OutputModel",
          "model_module_version": "1.0.0",
          "state": {
            "_dom_classes": [],
            "_model_module": "@jupyter-widgets/output",
            "_model_module_version": "1.0.0",
            "_model_name": "OutputModel",
            "_view_count": null,
            "_view_module": "@jupyter-widgets/output",
            "_view_module_version": "1.0.0",
            "_view_name": "OutputView",
            "layout": "IPY_MODEL_14974d6c82494cb2a94305bc3bfbf250",
            "msg_id": "",
            "outputs": [
              {
                "output_type": "display_data",
                "data": {
                  "text/html": "<html>\n<head><meta charset=\"utf-8\" /></head>\n<body>\n    <div>            <script src=\"https://cdnjs.cloudflare.com/ajax/libs/mathjax/2.7.5/MathJax.js?config=TeX-AMS-MML_SVG\"></script><script type=\"text/javascript\">if (window.MathJax && window.MathJax.Hub && window.MathJax.Hub.Config) {window.MathJax.Hub.Config({SVG: {font: \"STIX-Web\"}});}</script>                <script type=\"text/javascript\">window.PlotlyConfig = {MathJaxConfig: 'local'};</script>\n        <script charset=\"utf-8\" src=\"https://cdn.plot.ly/plotly-3.1.0.min.js\" integrity=\"sha256-Ei4740bWZhaUTQuD6q9yQlgVCMPBz6CZWhevDYPv93A=\" crossorigin=\"anonymous\"></script>                <div id=\"5941d506-6817-4a01-8db7-d3087eb1e727\" class=\"plotly-graph-div\" style=\"height:1000px; width:1300px;\"></div>            <script type=\"text/javascript\">                window.PLOTLYENV=window.PLOTLYENV || {};                                if (document.getElementById(\"5941d506-6817-4a01-8db7-d3087eb1e727\")) {                    Plotly.newPlot(                        \"5941d506-6817-4a01-8db7-d3087eb1e727\",                        [{\"alignmentgroup\":\"True\",\"hovertemplate\":\"channel=Organic Search\\u003cbr\\u003econtinent=%{x}\\u003cbr\\u003etotal_revenue=%{y}\\u003cextra\\u003e\\u003c\\u002fextra\\u003e\",\"legendgroup\":\"Organic Search\",\"marker\":{\"color\":\"steelblue\",\"pattern\":{\"shape\":\"\"}},\"name\":\"Organic Search\",\"offsetgroup\":\"Organic Search\",\"orientation\":\"v\",\"showlegend\":true,\"textposition\":\"auto\",\"x\":[\"Americas\",\"Asia\",\"Europe\",\"Africa\",\"Oceania\",\"(not set)\"],\"xaxis\":\"x\",\"y\":{\"dtype\":\"f8\",\"bdata\":\"zczMzAgDWEFmZmbmIMxEQc3MzExNb0BBZmZmZka3\\u002f0CamZmZObb7QAAAAAAAdM1A\"},\"yaxis\":\"y\",\"type\":\"bar\"},{\"alignmentgroup\":\"True\",\"hovertemplate\":\"channel=Paid Search\\u003cbr\\u003econtinent=%{x}\\u003cbr\\u003etotal_revenue=%{y}\\u003cextra\\u003e\\u003c\\u002fextra\\u003e\",\"legendgroup\":\"Paid Search\",\"marker\":{\"color\":\"mediumaquamarine\",\"pattern\":{\"shape\":\"\"}},\"name\":\"Paid Search\",\"offsetgroup\":\"Paid Search\",\"orientation\":\"v\",\"showlegend\":true,\"textposition\":\"auto\",\"x\":[\"Americas\",\"Asia\",\"Europe\",\"Oceania\",\"Africa\",\"(not set)\"],\"xaxis\":\"x\",\"y\":{\"dtype\":\"f8\",\"bdata\":\"MzMzk\\u002f+mUUEAAACA2B0\\u002fQZqZmRnuuDhBAAAAAGhS\\u002fEAAAAAAMIj1QAAAAADAdtNA\"},\"yaxis\":\"y\",\"type\":\"bar\"},{\"alignmentgroup\":\"True\",\"hovertemplate\":\"channel=Direct\\u003cbr\\u003econtinent=%{x}\\u003cbr\\u003etotal_revenue=%{y}\\u003cextra\\u003e\\u003c\\u002fextra\\u003e\",\"legendgroup\":\"Direct\",\"marker\":{\"color\":\"wheat\",\"pattern\":{\"shape\":\"\"}},\"name\":\"Direct\",\"offsetgroup\":\"Direct\",\"orientation\":\"v\",\"showlegend\":true,\"textposition\":\"auto\",\"x\":[\"Americas\",\"Asia\",\"Europe\",\"Oceania\",\"Africa\",\"(not set)\"],\"xaxis\":\"x\",\"y\":{\"dtype\":\"f8\",\"bdata\":\"AAAAgPwbUEEAAACAnsg6QWZmZuZ1fjRBAAAAAGAL9EAAAAAAwBjxQAAAAADA8NRA\"},\"yaxis\":\"y\",\"type\":\"bar\"},{\"alignmentgroup\":\"True\",\"hovertemplate\":\"channel=Social Search\\u003cbr\\u003econtinent=%{x}\\u003cbr\\u003etotal_revenue=%{y}\\u003cextra\\u003e\\u003c\\u002fextra\\u003e\",\"legendgroup\":\"Social Search\",\"marker\":{\"color\":\"darksalmon\",\"pattern\":{\"shape\":\"\"}},\"name\":\"Social Search\",\"offsetgroup\":\"Social Search\",\"orientation\":\"v\",\"showlegend\":true,\"textposition\":\"auto\",\"x\":[\"Americas\",\"Asia\",\"Europe\",\"Africa\",\"Oceania\",\"(not set)\"],\"xaxis\":\"x\",\"y\":{\"dtype\":\"f8\",\"bdata\":\"MzMzs+sfNUGamZmZP5QhQWZmZmYsbR5BZmZmZuZ03kBmZmZmxgHeQDMzMzMz7MVA\"},\"yaxis\":\"y\",\"type\":\"bar\"},{\"alignmentgroup\":\"True\",\"hovertemplate\":\"channel=Undefined\\u003cbr\\u003econtinent=%{x}\\u003cbr\\u003etotal_revenue=%{y}\\u003cextra\\u003e\\u003c\\u002fextra\\u003e\",\"legendgroup\":\"Undefined\",\"marker\":{\"color\":\"rosybrown\",\"pattern\":{\"shape\":\"\"}},\"name\":\"Undefined\",\"offsetgroup\":\"Undefined\",\"orientation\":\"v\",\"showlegend\":true,\"textposition\":\"auto\",\"x\":[\"Americas\",\"Asia\",\"Europe\",\"Oceania\",\"Africa\",\"(not set)\"],\"xaxis\":\"x\",\"y\":{\"dtype\":\"f8\",\"bdata\":\"zczMzABVMUHNzMzM5s4eQQAAAABacxNBAAAAAMBZ1kAAAAAAAETHQAAAAAAA9bhA\"},\"yaxis\":\"y\",\"type\":\"bar\"},{\"colorscale\":[[0.0,\"rgb(247,252,240)\"],[0.125,\"rgb(224,243,219)\"],[0.25,\"rgb(204,235,197)\"],[0.375,\"rgb(168,221,181)\"],[0.5,\"rgb(123,204,196)\"],[0.625,\"rgb(78,179,211)\"],[0.75,\"rgb(43,140,190)\"],[0.875,\"rgb(8,104,172)\"],[1.0,\"rgb(8,64,129)\"]],\"showscale\":false,\"text\":{\"dtype\":\"f8\",\"bdata\":\"AAAAAADwlEAAAAAAAJCHQAAAAAAAqI1AAAAAAACIkUAAAAAAAPSYQAAAAAAAQI9AAAAAAAAAj0AAAAAAAPiOQAAAAAAAcI9AAAAAAACwhEAAAAAAAKCOQAAAAAAAGI5AAAAAAADQjEAAAAAAAHiMQAAAAAAAYI5AAAAAAADIjUAAAAAAAKiNQAAAAAAA4I1AAAAAAAC4jUAAAAAAAMCPQAAAAAAAMIxAAAAAAAAYjkAAAAAAAFCOQAAAAAAACI5AAAAAAADgjEAAAAAAAFSRQAAAAAAAYIxAAAAAAADIkEAAAAAAAPiOQAAAAAAAgItA\",\"shape\":\"6, 5\"},\"textfont\":{\"size\":8},\"texttemplate\":\"%{text}\",\"x\":[\"Direct\",\"Organic Search\",\"Paid Search\",\"Social Search\",\"Undefined\"],\"y\":[\"(not set)\",\"Africa\",\"Americas\",\"Asia\",\"Europe\",\"Oceania\"],\"z\":{\"dtype\":\"f8\",\"bdata\":\"AAAAAMDwlEAAAAAAAJCHQAzDMAzDqI1A9ihcj8KJkUAAAAAAAPWYQDMzMzMzQ49ARoUlYFb9jkDSj370o\\u002feOQECbBrRpcI9A5DiO4ziuhECN0oh9Q6COQL6HItV7GI5AWSqm3W3OjED6EmcqQnuMQOZurKNLXY5APRYwy23HjUDHLUOz1KuNQPu4d6fS3I1ADk2oVGG0jUB2BX\\u002fT77yPQPgugt4VMIxAB1dWMzoUjkA6eYlid1GOQJRgb\\u002f0dBI5AsWLzeKXdjECfdYMp8lWRQMfctYR8YIxA0V5Ce4nIkEDlL1n+kvmOQGIndmIngotA\",\"shape\":\"6, 5\"},\"type\":\"heatmap\",\"xaxis\":\"x2\",\"yaxis\":\"y2\"},{\"colorscale\":[[0.0,\"rgb(247,252,240)\"],[0.125,\"rgb(224,243,219)\"],[0.25,\"rgb(204,235,197)\"],[0.375,\"rgb(168,221,181)\"],[0.5,\"rgb(123,204,196)\"],[0.625,\"rgb(78,179,211)\"],[0.75,\"rgb(43,140,190)\"],[0.875,\"rgb(8,104,172)\"],[1.0,\"rgb(8,64,129)\"]],\"showscale\":false,\"text\":{\"dtype\":\"f8\",\"bdata\":\"pb3BFyZTtT9txf6ye\\u002fKwP+LplbIMcbw\\u002feHqlLEMcwz9SSZ2AJsK2P7aEfNCzWbU\\u002fJJf\\u002fkH77uj9Wn6ut2F+2P6MjufyH9Ls\\u002fDk+vlGWIsz\\u002fY8PRKWYa4P3RGlPYGX7g\\u002fGw3gLZCguD\\u002fQRNjw9Eq5Pxe30QDeArk\\u002fUrgehetRuD9fKcsQx7q4P6abxCCwcrg\\u002fBoGVQ4tstz+e76fGSze5P2uad5yiI7k\\u002fTmIQWDm0uD9jf9k9eVi4P+ELk6mCUbk\\u002fEoPAyqFFtj+h1jTvOEW3Pz2bVZ+rrbg\\u002fgSbChqdXuj8ofoy5awm5P9Xnaiv2l70\\u002f\",\"shape\":\"6, 5\"},\"textfont\":{\"size\":8},\"texttemplate\":\"%{text}\",\"x\":[\"Direct\",\"Organic Search\",\"Paid Search\",\"Social Search\",\"Undefined\"],\"y\":[\"(not set)\",\"Africa\",\"Americas\",\"Asia\",\"Europe\",\"Oceania\"],\"z\":{\"dtype\":\"f8\",\"bdata\":\"VVVVVVVVtT+I0EPoIfSwPxzHcRzHcbw\\u002foHJ2C78awz8XbMEWbMG2P9UBNrnXW7U\\u002f5MQM5tn6uj\\u002f1TYlbkmG2PzJ+u9ST8bs\\u002f78tjK4KGsz9obCSA8oW4P6jzUJOdXbg\\u002f7SH5EfSfuD8xXn7dAUy5PyX\\u002fa1xwArk\\u002faIuV4RtRuD8BsK3Ghbu4Pxg4nuykdbg\\u002fQOPnb7Bqtz\\u002fZ2rLrczm5P+4a\\u002f06bI7k\\u002fnfxIsVOzuD960BtsSFi4P2Kd5ZzvT7k\\u002fmC7SOYBDtj9GF1100UW3P3dzRzYdrLg\\u002f5z67gNhUuj\\u002fsDLAe4gi5P+py+4MMlb0\\u002f\",\"shape\":\"6, 5\"},\"type\":\"heatmap\",\"xaxis\":\"x3\",\"yaxis\":\"y3\"}],                        {\"template\":{\"data\":{\"histogram2dcontour\":[{\"type\":\"histogram2dcontour\",\"colorbar\":{\"outlinewidth\":0,\"ticks\":\"\"},\"colorscale\":[[0.0,\"#0d0887\"],[0.1111111111111111,\"#46039f\"],[0.2222222222222222,\"#7201a8\"],[0.3333333333333333,\"#9c179e\"],[0.4444444444444444,\"#bd3786\"],[0.5555555555555556,\"#d8576b\"],[0.6666666666666666,\"#ed7953\"],[0.7777777777777778,\"#fb9f3a\"],[0.8888888888888888,\"#fdca26\"],[1.0,\"#f0f921\"]]}],\"choropleth\":[{\"type\":\"choropleth\",\"colorbar\":{\"outlinewidth\":0,\"ticks\":\"\"}}],\"histogram2d\":[{\"type\":\"histogram2d\",\"colorbar\":{\"outlinewidth\":0,\"ticks\":\"\"},\"colorscale\":[[0.0,\"#0d0887\"],[0.1111111111111111,\"#46039f\"],[0.2222222222222222,\"#7201a8\"],[0.3333333333333333,\"#9c179e\"],[0.4444444444444444,\"#bd3786\"],[0.5555555555555556,\"#d8576b\"],[0.6666666666666666,\"#ed7953\"],[0.7777777777777778,\"#fb9f3a\"],[0.8888888888888888,\"#fdca26\"],[1.0,\"#f0f921\"]]}],\"heatmap\":[{\"type\":\"heatmap\",\"colorbar\":{\"outlinewidth\":0,\"ticks\":\"\"},\"colorscale\":[[0.0,\"#0d0887\"],[0.1111111111111111,\"#46039f\"],[0.2222222222222222,\"#7201a8\"],[0.3333333333333333,\"#9c179e\"],[0.4444444444444444,\"#bd3786\"],[0.5555555555555556,\"#d8576b\"],[0.6666666666666666,\"#ed7953\"],[0.7777777777777778,\"#fb9f3a\"],[0.8888888888888888,\"#fdca26\"],[1.0,\"#f0f921\"]]}],\"contourcarpet\":[{\"type\":\"contourcarpet\",\"colorbar\":{\"outlinewidth\":0,\"ticks\":\"\"}}],\"contour\":[{\"type\":\"contour\",\"colorbar\":{\"outlinewidth\":0,\"ticks\":\"\"},\"colorscale\":[[0.0,\"#0d0887\"],[0.1111111111111111,\"#46039f\"],[0.2222222222222222,\"#7201a8\"],[0.3333333333333333,\"#9c179e\"],[0.4444444444444444,\"#bd3786\"],[0.5555555555555556,\"#d8576b\"],[0.6666666666666666,\"#ed7953\"],[0.7777777777777778,\"#fb9f3a\"],[0.8888888888888888,\"#fdca26\"],[1.0,\"#f0f921\"]]}],\"surface\":[{\"type\":\"surface\",\"colorbar\":{\"outlinewidth\":0,\"ticks\":\"\"},\"colorscale\":[[0.0,\"#0d0887\"],[0.1111111111111111,\"#46039f\"],[0.2222222222222222,\"#7201a8\"],[0.3333333333333333,\"#9c179e\"],[0.4444444444444444,\"#bd3786\"],[0.5555555555555556,\"#d8576b\"],[0.6666666666666666,\"#ed7953\"],[0.7777777777777778,\"#fb9f3a\"],[0.8888888888888888,\"#fdca26\"],[1.0,\"#f0f921\"]]}],\"mesh3d\":[{\"type\":\"mesh3d\",\"colorbar\":{\"outlinewidth\":0,\"ticks\":\"\"}}],\"scatter\":[{\"fillpattern\":{\"fillmode\":\"overlay\",\"size\":10,\"solidity\":0.2},\"type\":\"scatter\"}],\"parcoords\":[{\"type\":\"parcoords\",\"line\":{\"colorbar\":{\"outlinewidth\":0,\"ticks\":\"\"}}}],\"scatterpolargl\":[{\"type\":\"scatterpolargl\",\"marker\":{\"colorbar\":{\"outlinewidth\":0,\"ticks\":\"\"}}}],\"bar\":[{\"error_x\":{\"color\":\"#2a3f5f\"},\"error_y\":{\"color\":\"#2a3f5f\"},\"marker\":{\"line\":{\"color\":\"#E5ECF6\",\"width\":0.5},\"pattern\":{\"fillmode\":\"overlay\",\"size\":10,\"solidity\":0.2}},\"type\":\"bar\"}],\"scattergeo\":[{\"type\":\"scattergeo\",\"marker\":{\"colorbar\":{\"outlinewidth\":0,\"ticks\":\"\"}}}],\"scatterpolar\":[{\"type\":\"scatterpolar\",\"marker\":{\"colorbar\":{\"outlinewidth\":0,\"ticks\":\"\"}}}],\"histogram\":[{\"marker\":{\"pattern\":{\"fillmode\":\"overlay\",\"size\":10,\"solidity\":0.2}},\"type\":\"histogram\"}],\"scattergl\":[{\"type\":\"scattergl\",\"marker\":{\"colorbar\":{\"outlinewidth\":0,\"ticks\":\"\"}}}],\"scatter3d\":[{\"type\":\"scatter3d\",\"line\":{\"colorbar\":{\"outlinewidth\":0,\"ticks\":\"\"}},\"marker\":{\"colorbar\":{\"outlinewidth\":0,\"ticks\":\"\"}}}],\"scattermap\":[{\"type\":\"scattermap\",\"marker\":{\"colorbar\":{\"outlinewidth\":0,\"ticks\":\"\"}}}],\"scattermapbox\":[{\"type\":\"scattermapbox\",\"marker\":{\"colorbar\":{\"outlinewidth\":0,\"ticks\":\"\"}}}],\"scatterternary\":[{\"type\":\"scatterternary\",\"marker\":{\"colorbar\":{\"outlinewidth\":0,\"ticks\":\"\"}}}],\"scattercarpet\":[{\"type\":\"scattercarpet\",\"marker\":{\"colorbar\":{\"outlinewidth\":0,\"ticks\":\"\"}}}],\"carpet\":[{\"aaxis\":{\"endlinecolor\":\"#2a3f5f\",\"gridcolor\":\"white\",\"linecolor\":\"white\",\"minorgridcolor\":\"white\",\"startlinecolor\":\"#2a3f5f\"},\"baxis\":{\"endlinecolor\":\"#2a3f5f\",\"gridcolor\":\"white\",\"linecolor\":\"white\",\"minorgridcolor\":\"white\",\"startlinecolor\":\"#2a3f5f\"},\"type\":\"carpet\"}],\"table\":[{\"cells\":{\"fill\":{\"color\":\"#EBF0F8\"},\"line\":{\"color\":\"white\"}},\"header\":{\"fill\":{\"color\":\"#C8D4E3\"},\"line\":{\"color\":\"white\"}},\"type\":\"table\"}],\"barpolar\":[{\"marker\":{\"line\":{\"color\":\"#E5ECF6\",\"width\":0.5},\"pattern\":{\"fillmode\":\"overlay\",\"size\":10,\"solidity\":0.2}},\"type\":\"barpolar\"}],\"pie\":[{\"automargin\":true,\"type\":\"pie\"}]},\"layout\":{\"autotypenumbers\":\"strict\",\"colorway\":[\"#636efa\",\"#EF553B\",\"#00cc96\",\"#ab63fa\",\"#FFA15A\",\"#19d3f3\",\"#FF6692\",\"#B6E880\",\"#FF97FF\",\"#FECB52\"],\"font\":{\"color\":\"#2a3f5f\"},\"hovermode\":\"closest\",\"hoverlabel\":{\"align\":\"left\"},\"paper_bgcolor\":\"white\",\"plot_bgcolor\":\"#E5ECF6\",\"polar\":{\"bgcolor\":\"#E5ECF6\",\"angularaxis\":{\"gridcolor\":\"white\",\"linecolor\":\"white\",\"ticks\":\"\"},\"radialaxis\":{\"gridcolor\":\"white\",\"linecolor\":\"white\",\"ticks\":\"\"}},\"ternary\":{\"bgcolor\":\"#E5ECF6\",\"aaxis\":{\"gridcolor\":\"white\",\"linecolor\":\"white\",\"ticks\":\"\"},\"baxis\":{\"gridcolor\":\"white\",\"linecolor\":\"white\",\"ticks\":\"\"},\"caxis\":{\"gridcolor\":\"white\",\"linecolor\":\"white\",\"ticks\":\"\"}},\"coloraxis\":{\"colorbar\":{\"outlinewidth\":0,\"ticks\":\"\"}},\"colorscale\":{\"sequential\":[[0.0,\"#0d0887\"],[0.1111111111111111,\"#46039f\"],[0.2222222222222222,\"#7201a8\"],[0.3333333333333333,\"#9c179e\"],[0.4444444444444444,\"#bd3786\"],[0.5555555555555556,\"#d8576b\"],[0.6666666666666666,\"#ed7953\"],[0.7777777777777778,\"#fb9f3a\"],[0.8888888888888888,\"#fdca26\"],[1.0,\"#f0f921\"]],\"sequentialminus\":[[0.0,\"#0d0887\"],[0.1111111111111111,\"#46039f\"],[0.2222222222222222,\"#7201a8\"],[0.3333333333333333,\"#9c179e\"],[0.4444444444444444,\"#bd3786\"],[0.5555555555555556,\"#d8576b\"],[0.6666666666666666,\"#ed7953\"],[0.7777777777777778,\"#fb9f3a\"],[0.8888888888888888,\"#fdca26\"],[1.0,\"#f0f921\"]],\"diverging\":[[0,\"#8e0152\"],[0.1,\"#c51b7d\"],[0.2,\"#de77ae\"],[0.3,\"#f1b6da\"],[0.4,\"#fde0ef\"],[0.5,\"#f7f7f7\"],[0.6,\"#e6f5d0\"],[0.7,\"#b8e186\"],[0.8,\"#7fbc41\"],[0.9,\"#4d9221\"],[1,\"#276419\"]]},\"xaxis\":{\"gridcolor\":\"white\",\"linecolor\":\"white\",\"ticks\":\"\",\"title\":{\"standoff\":15},\"zerolinecolor\":\"white\",\"automargin\":true,\"zerolinewidth\":2},\"yaxis\":{\"gridcolor\":\"white\",\"linecolor\":\"white\",\"ticks\":\"\",\"title\":{\"standoff\":15},\"zerolinecolor\":\"white\",\"automargin\":true,\"zerolinewidth\":2},\"scene\":{\"xaxis\":{\"backgroundcolor\":\"#E5ECF6\",\"gridcolor\":\"white\",\"linecolor\":\"white\",\"showbackground\":true,\"ticks\":\"\",\"zerolinecolor\":\"white\",\"gridwidth\":2},\"yaxis\":{\"backgroundcolor\":\"#E5ECF6\",\"gridcolor\":\"white\",\"linecolor\":\"white\",\"showbackground\":true,\"ticks\":\"\",\"zerolinecolor\":\"white\",\"gridwidth\":2},\"zaxis\":{\"backgroundcolor\":\"#E5ECF6\",\"gridcolor\":\"white\",\"linecolor\":\"white\",\"showbackground\":true,\"ticks\":\"\",\"zerolinecolor\":\"white\",\"gridwidth\":2}},\"shapedefaults\":{\"line\":{\"color\":\"#2a3f5f\"}},\"annotationdefaults\":{\"arrowcolor\":\"#2a3f5f\",\"arrowhead\":0,\"arrowwidth\":1},\"geo\":{\"bgcolor\":\"white\",\"landcolor\":\"#E5ECF6\",\"subunitcolor\":\"white\",\"showland\":true,\"showlakes\":true,\"lakecolor\":\"white\"},\"title\":{\"x\":0.05},\"mapbox\":{\"style\":\"light\"}}},\"xaxis\":{\"anchor\":\"y\",\"domain\":[0.0,1.0]},\"yaxis\":{\"anchor\":\"x\",\"domain\":[0.625,1.0]},\"xaxis2\":{\"anchor\":\"y2\",\"domain\":[0.0,0.45]},\"yaxis2\":{\"anchor\":\"x2\",\"domain\":[0.0,0.375],\"tickfont\":{\"size\":10},\"tickangle\":45},\"xaxis3\":{\"anchor\":\"y3\",\"domain\":[0.55,1.0]},\"yaxis3\":{\"anchor\":\"x3\",\"domain\":[0.0,0.375],\"tickfont\":{\"size\":10},\"tickangle\":45},\"annotations\":[{\"font\":{\"size\":16},\"showarrow\":false,\"text\":\"Revenue by Channel\",\"x\":0.5,\"xanchor\":\"center\",\"xref\":\"paper\",\"y\":1.0,\"yanchor\":\"bottom\",\"yref\":\"paper\"},{\"font\":{\"size\":16},\"showarrow\":false,\"text\":\"AOV by Channel\",\"x\":0.225,\"xanchor\":\"center\",\"xref\":\"paper\",\"y\":0.375,\"yanchor\":\"bottom\",\"yref\":\"paper\"},{\"font\":{\"size\":16},\"showarrow\":false,\"text\":\"Conversion by Channel\",\"x\":0.775,\"xanchor\":\"center\",\"xref\":\"paper\",\"y\":0.375,\"yanchor\":\"bottom\",\"yref\":\"paper\"}],\"title\":{\"text\":\"Analysis by Channels(continent)\"},\"height\":1000,\"width\":1300,\"barmode\":\"group\",\"plot_bgcolor\":\"aliceblue\",\"paper_bgcolor\":\"lightcyan\"},                        {\"responsive\": true}                    ).then(function(){\n                            \nvar gd = document.getElementById('5941d506-6817-4a01-8db7-d3087eb1e727');\nvar x = new MutationObserver(function (mutations, observer) {{\n        var display = window.getComputedStyle(gd).display;\n        if (!display || display === 'none') {{\n            console.log([gd, 'removed!']);\n            Plotly.purge(gd);\n            observer.disconnect();\n        }}\n}});\n\n// Listen for the removal of the full notebook cells\nvar notebookContainer = gd.closest('#notebook-container');\nif (notebookContainer) {{\n    x.observe(notebookContainer, {childList: true});\n}}\n\n// Listen for the clearing of the current output cell\nvar outputEl = gd.closest('.output');\nif (outputEl) {{\n    x.observe(outputEl, {childList: true});\n}}\n\n                        })                };            </script>        </div>\n</body>\n</html>"
                },
                "metadata": {}
              }
            ],
            "tabbable": null,
            "tooltip": null
          }
        },
        "2a9e5ef6cb8f4181b0aefc6afc22e996": {
          "model_module": "@jupyter-widgets/base",
          "model_name": "LayoutModel",
          "model_module_version": "2.0.0",
          "state": {
            "_model_module": "@jupyter-widgets/base",
            "_model_module_version": "2.0.0",
            "_model_name": "LayoutModel",
            "_view_count": null,
            "_view_module": "@jupyter-widgets/base",
            "_view_module_version": "2.0.0",
            "_view_name": "LayoutView",
            "align_content": null,
            "align_items": null,
            "align_self": null,
            "border_bottom": null,
            "border_left": null,
            "border_right": null,
            "border_top": null,
            "bottom": null,
            "display": null,
            "flex": null,
            "flex_flow": null,
            "grid_area": null,
            "grid_auto_columns": null,
            "grid_auto_flow": null,
            "grid_auto_rows": null,
            "grid_column": null,
            "grid_gap": null,
            "grid_row": null,
            "grid_template_areas": null,
            "grid_template_columns": null,
            "grid_template_rows": null,
            "height": null,
            "justify_content": null,
            "justify_items": null,
            "left": null,
            "margin": null,
            "max_height": null,
            "max_width": null,
            "min_height": null,
            "min_width": null,
            "object_fit": null,
            "object_position": null,
            "order": null,
            "overflow": null,
            "padding": null,
            "right": null,
            "top": null,
            "visibility": null,
            "width": null
          }
        },
        "14974d6c82494cb2a94305bc3bfbf250": {
          "model_module": "@jupyter-widgets/base",
          "model_name": "LayoutModel",
          "model_module_version": "2.0.0",
          "state": {
            "_model_module": "@jupyter-widgets/base",
            "_model_module_version": "2.0.0",
            "_model_name": "LayoutModel",
            "_view_count": null,
            "_view_module": "@jupyter-widgets/base",
            "_view_module_version": "2.0.0",
            "_view_name": "LayoutView",
            "align_content": null,
            "align_items": null,
            "align_self": null,
            "border_bottom": null,
            "border_left": null,
            "border_right": null,
            "border_top": null,
            "bottom": null,
            "display": null,
            "flex": null,
            "flex_flow": null,
            "grid_area": null,
            "grid_auto_columns": null,
            "grid_auto_flow": null,
            "grid_auto_rows": null,
            "grid_column": null,
            "grid_gap": null,
            "grid_row": null,
            "grid_template_areas": null,
            "grid_template_columns": null,
            "grid_template_rows": null,
            "height": null,
            "justify_content": null,
            "justify_items": null,
            "left": null,
            "margin": null,
            "max_height": null,
            "max_width": null,
            "min_height": null,
            "min_width": null,
            "object_fit": null,
            "object_position": null,
            "order": null,
            "overflow": null,
            "padding": null,
            "right": null,
            "top": null,
            "visibility": null,
            "width": null
          }
        },
        "39aa883b2f3d42a3958b5469d413fc6e": {
          "model_module": "@jupyter-widgets/controls",
          "model_name": "VBoxModel",
          "model_module_version": "2.0.0",
          "state": {
            "_dom_classes": [
              "widget-interact"
            ],
            "_model_module": "@jupyter-widgets/controls",
            "_model_module_version": "2.0.0",
            "_model_name": "VBoxModel",
            "_view_count": null,
            "_view_module": "@jupyter-widgets/controls",
            "_view_module_version": "2.0.0",
            "_view_name": "VBoxView",
            "box_style": "",
            "children": [
              "IPY_MODEL_b2d21c6ec9de4fc083336bd4decb6ca1",
              "IPY_MODEL_336d266bba484fa88fa726fd317c6b6d"
            ],
            "layout": "IPY_MODEL_5137cfa8834045c287223b2052292f8c",
            "tabbable": null,
            "tooltip": null
          }
        },
        "336d266bba484fa88fa726fd317c6b6d": {
          "model_module": "@jupyter-widgets/output",
          "model_name": "OutputModel",
          "model_module_version": "1.0.0",
          "state": {
            "_dom_classes": [],
            "_model_module": "@jupyter-widgets/output",
            "_model_module_version": "1.0.0",
            "_model_name": "OutputModel",
            "_view_count": null,
            "_view_module": "@jupyter-widgets/output",
            "_view_module_version": "1.0.0",
            "_view_name": "OutputView",
            "layout": "IPY_MODEL_26870403dc874de18ba9117b9308e34a",
            "msg_id": "",
            "outputs": [
              {
                "output_type": "display_data",
                "data": {
                  "text/plain": "<pandas.io.formats.style.Styler at 0x7c25421c0a70>",
                  "text/html": "<style type=\"text/css\">\n#T_39227_row0_col12, #T_39227_row1_col12, #T_39227_row2_col12, #T_39227_row3_col12, #T_39227_row4_col12, #T_39227_row5_col12 {\n  background-color: lightskyblue;\n}\n</style>\n<table id=\"T_39227\" class=\"dataframe\">\n  <thead>\n    <tr>\n      <th class=\"index_name level0\" >product_category</th>\n      <th id=\"T_39227_level0_col0\" class=\"col_heading level0 col0\" >Bar furniture</th>\n      <th id=\"T_39227_level0_col1\" class=\"col_heading level0 col1\" >Beds</th>\n      <th id=\"T_39227_level0_col2\" class=\"col_heading level0 col2\" >Bookcases & shelving units</th>\n      <th id=\"T_39227_level0_col3\" class=\"col_heading level0 col3\" >Cabinets & cupboards</th>\n      <th id=\"T_39227_level0_col4\" class=\"col_heading level0 col4\" >Café furniture</th>\n      <th id=\"T_39227_level0_col5\" class=\"col_heading level0 col5\" >Chairs</th>\n      <th id=\"T_39227_level0_col6\" class=\"col_heading level0 col6\" >Chests of drawers & drawer units</th>\n      <th id=\"T_39227_level0_col7\" class=\"col_heading level0 col7\" >Children's furniture</th>\n      <th id=\"T_39227_level0_col8\" class=\"col_heading level0 col8\" >Nursery furniture</th>\n      <th id=\"T_39227_level0_col9\" class=\"col_heading level0 col9\" >Outdoor furniture</th>\n      <th id=\"T_39227_level0_col10\" class=\"col_heading level0 col10\" >Room dividers</th>\n      <th id=\"T_39227_level0_col11\" class=\"col_heading level0 col11\" >Sideboards, buffets & console tables</th>\n      <th id=\"T_39227_level0_col12\" class=\"col_heading level0 col12\" >Sofas & armchairs</th>\n      <th id=\"T_39227_level0_col13\" class=\"col_heading level0 col13\" >Tables & desks</th>\n    </tr>\n    <tr>\n      <th class=\"index_name level0\" >continent</th>\n      <th class=\"blank col0\" >&nbsp;</th>\n      <th class=\"blank col1\" >&nbsp;</th>\n      <th class=\"blank col2\" >&nbsp;</th>\n      <th class=\"blank col3\" >&nbsp;</th>\n      <th class=\"blank col4\" >&nbsp;</th>\n      <th class=\"blank col5\" >&nbsp;</th>\n      <th class=\"blank col6\" >&nbsp;</th>\n      <th class=\"blank col7\" >&nbsp;</th>\n      <th class=\"blank col8\" >&nbsp;</th>\n      <th class=\"blank col9\" >&nbsp;</th>\n      <th class=\"blank col10\" >&nbsp;</th>\n      <th class=\"blank col11\" >&nbsp;</th>\n      <th class=\"blank col12\" >&nbsp;</th>\n      <th class=\"blank col13\" >&nbsp;</th>\n    </tr>\n  </thead>\n  <tbody>\n    <tr>\n      <th id=\"T_39227_level0_row0\" class=\"row_heading level0 row0\" >(not set)</th>\n      <td id=\"T_39227_row0_col0\" class=\"data row0 col0\" >0$</td>\n      <td id=\"T_39227_row0_col1\" class=\"data row0 col1\" >9,565$</td>\n      <td id=\"T_39227_row0_col2\" class=\"data row0 col2\" >2,597$</td>\n      <td id=\"T_39227_row0_col3\" class=\"data row0 col3\" >5,127$</td>\n      <td id=\"T_39227_row0_col4\" class=\"data row0 col4\" >450$</td>\n      <td id=\"T_39227_row0_col5\" class=\"data row0 col5\" >17,131$</td>\n      <td id=\"T_39227_row0_col6\" class=\"data row0 col6\" >2,010$</td>\n      <td id=\"T_39227_row0_col7\" class=\"data row0 col7\" >118$</td>\n      <td id=\"T_39227_row0_col8\" class=\"data row0 col8\" >200$</td>\n      <td id=\"T_39227_row0_col9\" class=\"data row0 col9\" >3,131$</td>\n      <td id=\"T_39227_row0_col10\" class=\"data row0 col10\" >2,397$</td>\n      <td id=\"T_39227_row0_col11\" class=\"data row0 col11\" >0$</td>\n      <td id=\"T_39227_row0_col12\" class=\"data row0 col12\" >23,345$</td>\n      <td id=\"T_39227_row0_col13\" class=\"data row0 col13\" >7,996$</td>\n    </tr>\n    <tr>\n      <th id=\"T_39227_level0_row1\" class=\"row_heading level0 row1\" >Africa</th>\n      <td id=\"T_39227_row1_col0\" class=\"data row1 col0\" >10,724$</td>\n      <td id=\"T_39227_row1_col1\" class=\"data row1 col1\" >57,568$</td>\n      <td id=\"T_39227_row1_col2\" class=\"data row1 col2\" >32,997$</td>\n      <td id=\"T_39227_row1_col3\" class=\"data row1 col3\" >21,106$</td>\n      <td id=\"T_39227_row1_col4\" class=\"data row1 col4\" >940$</td>\n      <td id=\"T_39227_row1_col5\" class=\"data row1 col5\" >44,877$</td>\n      <td id=\"T_39227_row1_col6\" class=\"data row1 col6\" >10,941$</td>\n      <td id=\"T_39227_row1_col7\" class=\"data row1 col7\" >3,962$</td>\n      <td id=\"T_39227_row1_col8\" class=\"data row1 col8\" >1,995$</td>\n      <td id=\"T_39227_row1_col9\" class=\"data row1 col9\" >16,344$</td>\n      <td id=\"T_39227_row1_col10\" class=\"data row1 col10\" >0$</td>\n      <td id=\"T_39227_row1_col11\" class=\"data row1 col11\" >0$</td>\n      <td id=\"T_39227_row1_col12\" class=\"data row1 col12\" >108,120$</td>\n      <td id=\"T_39227_row1_col13\" class=\"data row1 col13\" >21,658$</td>\n    </tr>\n    <tr>\n      <th id=\"T_39227_level0_row2\" class=\"row_heading level0 row2\" >Americas</th>\n      <td id=\"T_39227_row2_col0\" class=\"data row2 col0\" >406,198$</td>\n      <td id=\"T_39227_row2_col1\" class=\"data row2 col1\" >2,773,094$</td>\n      <td id=\"T_39227_row2_col2\" class=\"data row2 col2\" >1,968,919$</td>\n      <td id=\"T_39227_row2_col3\" class=\"data row2 col3\" >1,275,562$</td>\n      <td id=\"T_39227_row2_col4\" class=\"data row2 col4\" >77,318$</td>\n      <td id=\"T_39227_row2_col5\" class=\"data row2 col5\" >3,309,203$</td>\n      <td id=\"T_39227_row2_col6\" class=\"data row2 col6\" >484,290$</td>\n      <td id=\"T_39227_row2_col7\" class=\"data row2 col7\" >253,435$</td>\n      <td id=\"T_39227_row2_col8\" class=\"data row2 col8\" >80,983$</td>\n      <td id=\"T_39227_row2_col9\" class=\"data row2 col9\" >1,213,115$</td>\n      <td id=\"T_39227_row2_col10\" class=\"data row2 col10\" >44,571$</td>\n      <td id=\"T_39227_row2_col11\" class=\"data row2 col11\" >73,155$</td>\n      <td id=\"T_39227_row2_col12\" class=\"data row2 col12\" >4,737,307$</td>\n      <td id=\"T_39227_row2_col13\" class=\"data row2 col13\" >968,129$</td>\n    </tr>\n    <tr>\n      <th id=\"T_39227_level0_row3\" class=\"row_heading level0 row3\" >Asia</th>\n      <td id=\"T_39227_row3_col0\" class=\"data row3 col0\" >176,684$</td>\n      <td id=\"T_39227_row3_col1\" class=\"data row3 col1\" >1,077,326$</td>\n      <td id=\"T_39227_row3_col2\" class=\"data row3 col2\" >945,369$</td>\n      <td id=\"T_39227_row3_col3\" class=\"data row3 col3\" >545,370$</td>\n      <td id=\"T_39227_row3_col4\" class=\"data row3 col4\" >29,458$</td>\n      <td id=\"T_39227_row3_col5\" class=\"data row3 col5\" >1,524,601$</td>\n      <td id=\"T_39227_row3_col6\" class=\"data row3 col6\" >210,384$</td>\n      <td id=\"T_39227_row3_col7\" class=\"data row3 col7\" >112,389$</td>\n      <td id=\"T_39227_row3_col8\" class=\"data row3 col8\" >30,551$</td>\n      <td id=\"T_39227_row3_col9\" class=\"data row3 col9\" >488,608$</td>\n      <td id=\"T_39227_row3_col10\" class=\"data row3 col10\" >22,231$</td>\n      <td id=\"T_39227_row3_col11\" class=\"data row3 col11\" >24,115$</td>\n      <td id=\"T_39227_row3_col12\" class=\"data row3 col12\" >1,950,022$</td>\n      <td id=\"T_39227_row3_col13\" class=\"data row3 col13\" >464,192$</td>\n    </tr>\n    <tr>\n      <th id=\"T_39227_level0_row4\" class=\"row_heading level0 row4\" >Europe</th>\n      <td id=\"T_39227_row4_col0\" class=\"data row4 col0\" >131,110$</td>\n      <td id=\"T_39227_row4_col1\" class=\"data row4 col1\" >925,048$</td>\n      <td id=\"T_39227_row4_col2\" class=\"data row4 col2\" >650,890$</td>\n      <td id=\"T_39227_row4_col3\" class=\"data row4 col3\" >468,652$</td>\n      <td id=\"T_39227_row4_col4\" class=\"data row4 col4\" >28,812$</td>\n      <td id=\"T_39227_row4_col5\" class=\"data row4 col5\" >1,178,581$</td>\n      <td id=\"T_39227_row4_col6\" class=\"data row4 col6\" >186,793$</td>\n      <td id=\"T_39227_row4_col7\" class=\"data row4 col7\" >93,479$</td>\n      <td id=\"T_39227_row4_col8\" class=\"data row4 col8\" >26,168$</td>\n      <td id=\"T_39227_row4_col9\" class=\"data row4 col9\" >399,553$</td>\n      <td id=\"T_39227_row4_col10\" class=\"data row4 col10\" >19,899$</td>\n      <td id=\"T_39227_row4_col11\" class=\"data row4 col11\" >27,370$</td>\n      <td id=\"T_39227_row4_col12\" class=\"data row4 col12\" >1,491,224$</td>\n      <td id=\"T_39227_row4_col13\" class=\"data row4 col13\" >307,045$</td>\n    </tr>\n    <tr>\n      <th id=\"T_39227_level0_row5\" class=\"row_heading level0 row5\" >Oceania</th>\n      <td id=\"T_39227_row5_col0\" class=\"data row5 col0\" >10,787$</td>\n      <td id=\"T_39227_row5_col1\" class=\"data row5 col1\" >77,126$</td>\n      <td id=\"T_39227_row5_col2\" class=\"data row5 col2\" >40,047$</td>\n      <td id=\"T_39227_row5_col3\" class=\"data row5 col3\" >20,682$</td>\n      <td id=\"T_39227_row5_col4\" class=\"data row5 col4\" >1,190$</td>\n      <td id=\"T_39227_row5_col5\" class=\"data row5 col5\" >73,356$</td>\n      <td id=\"T_39227_row5_col6\" class=\"data row5 col6\" >12,145$</td>\n      <td id=\"T_39227_row5_col7\" class=\"data row5 col7\" >4,314$</td>\n      <td id=\"T_39227_row5_col8\" class=\"data row5 col8\" >1,710$</td>\n      <td id=\"T_39227_row5_col9\" class=\"data row5 col9\" >21,471$</td>\n      <td id=\"T_39227_row5_col10\" class=\"data row5 col10\" >1,190$</td>\n      <td id=\"T_39227_row5_col11\" class=\"data row5 col11\" >1,690$</td>\n      <td id=\"T_39227_row5_col12\" class=\"data row5 col12\" >78,236$</td>\n      <td id=\"T_39227_row5_col13\" class=\"data row5 col13\" >21,287$</td>\n    </tr>\n  </tbody>\n</table>\n"
                },
                "metadata": {}
              }
            ],
            "tabbable": null,
            "tooltip": null
          }
        },
        "5137cfa8834045c287223b2052292f8c": {
          "model_module": "@jupyter-widgets/base",
          "model_name": "LayoutModel",
          "model_module_version": "2.0.0",
          "state": {
            "_model_module": "@jupyter-widgets/base",
            "_model_module_version": "2.0.0",
            "_model_name": "LayoutModel",
            "_view_count": null,
            "_view_module": "@jupyter-widgets/base",
            "_view_module_version": "2.0.0",
            "_view_name": "LayoutView",
            "align_content": null,
            "align_items": null,
            "align_self": null,
            "border_bottom": null,
            "border_left": null,
            "border_right": null,
            "border_top": null,
            "bottom": null,
            "display": null,
            "flex": null,
            "flex_flow": null,
            "grid_area": null,
            "grid_auto_columns": null,
            "grid_auto_flow": null,
            "grid_auto_rows": null,
            "grid_column": null,
            "grid_gap": null,
            "grid_row": null,
            "grid_template_areas": null,
            "grid_template_columns": null,
            "grid_template_rows": null,
            "height": null,
            "justify_content": null,
            "justify_items": null,
            "left": null,
            "margin": null,
            "max_height": null,
            "max_width": null,
            "min_height": null,
            "min_width": null,
            "object_fit": null,
            "object_position": null,
            "order": null,
            "overflow": null,
            "padding": null,
            "right": null,
            "top": null,
            "visibility": null,
            "width": null
          }
        },
        "26870403dc874de18ba9117b9308e34a": {
          "model_module": "@jupyter-widgets/base",
          "model_name": "LayoutModel",
          "model_module_version": "2.0.0",
          "state": {
            "_model_module": "@jupyter-widgets/base",
            "_model_module_version": "2.0.0",
            "_model_name": "LayoutModel",
            "_view_count": null,
            "_view_module": "@jupyter-widgets/base",
            "_view_module_version": "2.0.0",
            "_view_name": "LayoutView",
            "align_content": null,
            "align_items": null,
            "align_self": null,
            "border_bottom": null,
            "border_left": null,
            "border_right": null,
            "border_top": null,
            "bottom": null,
            "display": null,
            "flex": null,
            "flex_flow": null,
            "grid_area": null,
            "grid_auto_columns": null,
            "grid_auto_flow": null,
            "grid_auto_rows": null,
            "grid_column": null,
            "grid_gap": null,
            "grid_row": null,
            "grid_template_areas": null,
            "grid_template_columns": null,
            "grid_template_rows": null,
            "height": null,
            "justify_content": null,
            "justify_items": null,
            "left": null,
            "margin": null,
            "max_height": null,
            "max_width": null,
            "min_height": null,
            "min_width": null,
            "object_fit": null,
            "object_position": null,
            "order": null,
            "overflow": null,
            "padding": null,
            "right": null,
            "top": null,
            "visibility": null,
            "width": null
          }
        },
        "fbc162be4eab45f281612b6dd8250676": {
          "model_module": "@jupyter-widgets/controls",
          "model_name": "VBoxModel",
          "model_module_version": "2.0.0",
          "state": {
            "_dom_classes": [
              "widget-interact"
            ],
            "_model_module": "@jupyter-widgets/controls",
            "_model_module_version": "2.0.0",
            "_model_name": "VBoxModel",
            "_view_count": null,
            "_view_module": "@jupyter-widgets/controls",
            "_view_module_version": "2.0.0",
            "_view_name": "VBoxView",
            "box_style": "",
            "children": [
              "IPY_MODEL_b2d21c6ec9de4fc083336bd4decb6ca1",
              "IPY_MODEL_b090d71c1a7444aebfed18a0545e8980"
            ],
            "layout": "IPY_MODEL_3e834b4af7044365a1f6830d2c1bb4bb",
            "tabbable": null,
            "tooltip": null
          }
        },
        "b090d71c1a7444aebfed18a0545e8980": {
          "model_module": "@jupyter-widgets/output",
          "model_name": "OutputModel",
          "model_module_version": "1.0.0",
          "state": {
            "_dom_classes": [],
            "_model_module": "@jupyter-widgets/output",
            "_model_module_version": "1.0.0",
            "_model_name": "OutputModel",
            "_view_count": null,
            "_view_module": "@jupyter-widgets/output",
            "_view_module_version": "1.0.0",
            "_view_name": "OutputView",
            "layout": "IPY_MODEL_fc1c231631254e449beb2a98e7a77275",
            "msg_id": "",
            "outputs": [
              {
                "output_type": "display_data",
                "data": {
                  "text/html": "<html>\n<head><meta charset=\"utf-8\" /></head>\n<body>\n    <div>            <script src=\"https://cdnjs.cloudflare.com/ajax/libs/mathjax/2.7.5/MathJax.js?config=TeX-AMS-MML_SVG\"></script><script type=\"text/javascript\">if (window.MathJax && window.MathJax.Hub && window.MathJax.Hub.Config) {window.MathJax.Hub.Config({SVG: {font: \"STIX-Web\"}});}</script>                <script type=\"text/javascript\">window.PlotlyConfig = {MathJaxConfig: 'local'};</script>\n        <script charset=\"utf-8\" src=\"https://cdn.plot.ly/plotly-3.1.0.min.js\" integrity=\"sha256-Ei4740bWZhaUTQuD6q9yQlgVCMPBz6CZWhevDYPv93A=\" crossorigin=\"anonymous\"></script>                <div id=\"47638e7b-dc8e-4407-906e-45f6fec2c822\" class=\"plotly-graph-div\" style=\"height:700px; width:800px;\"></div>            <script type=\"text/javascript\">                window.PLOTLYENV=window.PLOTLYENV || {};                                if (document.getElementById(\"47638e7b-dc8e-4407-906e-45f6fec2c822\")) {                    Plotly.newPlot(                        \"47638e7b-dc8e-4407-906e-45f6fec2c822\",                        [{\"colorscale\":[[0.0,\"rgb(247,252,240)\"],[0.125,\"rgb(224,243,219)\"],[0.25,\"rgb(204,235,197)\"],[0.375,\"rgb(168,221,181)\"],[0.5,\"rgb(123,204,196)\"],[0.625,\"rgb(78,179,211)\"],[0.75,\"rgb(43,140,190)\"],[0.875,\"rgb(8,104,172)\"],[1.0,\"rgb(8,64,129)\"]],\"showscale\":false,\"text\":{\"dtype\":\"f8\",\"bdata\":\"AAAAAAAAAADhehSuR+HqP9ejcD0K19M\\u002fZmZmZmZm7j+PwvUoXI\\u002f2PzMzMzMzM\\u002fM\\u002fuB6F61G47j8pXI\\u002fC9Si8P4XrUbgeheM\\u002fKVyPwvUo5D\\u002fsUbgehesmQAAAAAAAAAAAMzMzMzMz8z\\u002fhehSuR+H+P4\\u002fC9Shcj\\u002fY\\u002fFK5H4XoU8j\\u002fXo3A9CtfrP9ejcD0K1+s\\u002fH4XrUbge5T9mZmZmZmbmP4\\u002fC9Shcj\\u002fI\\u002fPQrXo3A96j\\u002fD9Shcj8L1P65H4XoUruc\\u002fAAAAAAAAAAAAAAAAAAAAANejcD0K1\\u002fM\\u002fuB6F61G48j8AAAAAAADwP1K4HoXrUfA\\u002fXI\\u002fC9Shc7z+uR+F6FK7vPylcj8L1KPA\\u002fCtejcD0K7z8K16NwPQrvP1yPwvUoXO8\\u002fpHA9Ctej8D9SuB6F61HwP3sUrkfheuw\\u002fzczMzMzM8D9SuB6F61HwP1yPwvUoXO8\\u002fKVyPwvUo8D9xPQrXo3DtP3E9CtejcPE\\u002fXI\\u002fC9Shc7z\\u002fNzMzMzMzsP6RwPQrXo\\u002fA\\u002fXI\\u002fC9Shc7z8pXI\\u002fC9SjwPx+F61G4Hu0\\u002fuB6F61G47j+kcD0K16PwP5qZmZmZmek\\u002fXI\\u002fC9Shc7z9xPQrXo3DxP7gehetRuO4\\u002fKVyPwvUo8D+4HoXrUbjuP0jhehSuR\\u002fE\\u002f7FG4HoXr8T97FK5H4XrwP8P1KFyPwvE\\u002fSOF6FK5H8T8AAAAAAADwPwAAAAAAAPA\\u002fCtejcD0K8z+4HoXrUbjyP7gehetRuO4\\u002fcT0K16Nw7T97FK5H4Xr0P+xRuB6F6\\u002fU\\u002fuB6F61G47j+kcD0K16PoPwAAAAAAAOg\\u002fpHA9Ctej8D+4HoXrUbjyP+xRuB6F6+k\\u002f9ihcj8L18D8pXI\\u002fC9SjsP2ZmZmZmZvI\\u002fuB6F61G48j89CtejcD3qP6RwPQrXo\\u002fA\\u002f\",\"shape\":\"6, 14\"},\"textfont\":{\"size\":8},\"texttemplate\":\"%{text}\",\"x\":[\"Bar furniture\",\"Beds\",\"Bookcases & shelving units\",\"Cabinets & cupboards\",\"Café furniture\",\"Chairs\",\"Chests of drawers & drawer units\",\"Children's furniture\",\"Nursery furniture\",\"Outdoor furniture\",\"Room dividers\",\"Sideboards, buffets & console tables\",\"Sofas & armchairs\",\"Tables & desks\"],\"y\":[\"(not set)\",\"Africa\",\"Americas\",\"Asia\",\"Europe\",\"Oceania\"],\"z\":{\"dtype\":\"f8\",\"bdata\":\"AAAAAAAAAADWRlDIAdvqPwDkFiKptNM\\u002f3xOgcl9P7j\\u002fsgoDpbX72PwQkw73OPvM\\u002fmFyZ8TOg7j+gWrsfV+G7Pwo7j79LguM\\u002fwrYBUvUw5D97Ktn0ausmQAAAAAAAAAAACoCL7qI48z83caBJrNj+P2akptWThPY\\u002f5wGwAEcS8j8jvV\\u002fRU\\u002f7rPzX0IaC\\u002f5us\\u002fFwtkYosD5T\\u002fx79odFozmP1hlh31+o\\u002fI\\u002f5ss36XUq6j\\u002frfn\\u002fI+cH1P\\u002f7s1QG6kOc\\u002fAAAAAAAAAAAAAAAAAAAAAJmrA24A6PM\\u002fKlWuAteu8j9UAq9rNfzvP0dmoP+VUvA\\u002f+\\u002ft9r\\u002fhR7z+e0a8sKJ7vP76mBrphNPA\\u002f6oD8Crws7z9E9GivVPDuPyMqFDsbYu8\\u002fssH1LoCP8D+9MoqnAWbwP2LUC5wal+w\\u002f9C+o99LE8D+soriPo1rwP\\u002fQxOWWKUe8\\u002fd6SN2pMq8D9mhd6LQ3ntP5NwYRluefE\\u002f5GrwZItq7z\\u002fmD8IUObLsP9Wzy6J2sPA\\u002fQonClSw87z\\u002fc+hQu+SvwP3yFybbECe0\\u002f0AZD3fCy7j\\u002fDL7GP95HwPyxgWWBSsek\\u002fgqNYixFK7z+1qKsy7XLxP4DAl5sXu+4\\u002fpZvc7h418D9lJnnO5NHuPw3TQ4MRSvE\\u002f9BT1VH758T+mN15YWYbwP5aesKexwvE\\u002ftkg7w3E68T\\u002fG4B\\u002fQdtvvP0jtnmmxE\\u002fA\\u002f7igmgFX\\u002f8j\\u002fhwQZ\\u002fzqzyPxI5p0C\\u002fpe4\\u002fs3foffqQ7T+kz1avqor0P78tN+8J9fU\\u002fuFV7vNLP7j89hUSvssvoPxpZBLNOIOg\\u002f7cLHP2C28D+fFhvxg8PyP0ctSv+e1uk\\u002fY8y+YdTp8D9J\\u002fKYWfRPsP3t6XpzPdfI\\u002fd2Ez6qq88j\\u002fCeXwibyDqP\\u002fXMNbBNp\\u002fA\\u002f\",\"shape\":\"6, 14\"},\"type\":\"heatmap\"}],                        {\"template\":{\"data\":{\"histogram2dcontour\":[{\"type\":\"histogram2dcontour\",\"colorbar\":{\"outlinewidth\":0,\"ticks\":\"\"},\"colorscale\":[[0.0,\"#0d0887\"],[0.1111111111111111,\"#46039f\"],[0.2222222222222222,\"#7201a8\"],[0.3333333333333333,\"#9c179e\"],[0.4444444444444444,\"#bd3786\"],[0.5555555555555556,\"#d8576b\"],[0.6666666666666666,\"#ed7953\"],[0.7777777777777778,\"#fb9f3a\"],[0.8888888888888888,\"#fdca26\"],[1.0,\"#f0f921\"]]}],\"choropleth\":[{\"type\":\"choropleth\",\"colorbar\":{\"outlinewidth\":0,\"ticks\":\"\"}}],\"histogram2d\":[{\"type\":\"histogram2d\",\"colorbar\":{\"outlinewidth\":0,\"ticks\":\"\"},\"colorscale\":[[0.0,\"#0d0887\"],[0.1111111111111111,\"#46039f\"],[0.2222222222222222,\"#7201a8\"],[0.3333333333333333,\"#9c179e\"],[0.4444444444444444,\"#bd3786\"],[0.5555555555555556,\"#d8576b\"],[0.6666666666666666,\"#ed7953\"],[0.7777777777777778,\"#fb9f3a\"],[0.8888888888888888,\"#fdca26\"],[1.0,\"#f0f921\"]]}],\"heatmap\":[{\"type\":\"heatmap\",\"colorbar\":{\"outlinewidth\":0,\"ticks\":\"\"},\"colorscale\":[[0.0,\"#0d0887\"],[0.1111111111111111,\"#46039f\"],[0.2222222222222222,\"#7201a8\"],[0.3333333333333333,\"#9c179e\"],[0.4444444444444444,\"#bd3786\"],[0.5555555555555556,\"#d8576b\"],[0.6666666666666666,\"#ed7953\"],[0.7777777777777778,\"#fb9f3a\"],[0.8888888888888888,\"#fdca26\"],[1.0,\"#f0f921\"]]}],\"contourcarpet\":[{\"type\":\"contourcarpet\",\"colorbar\":{\"outlinewidth\":0,\"ticks\":\"\"}}],\"contour\":[{\"type\":\"contour\",\"colorbar\":{\"outlinewidth\":0,\"ticks\":\"\"},\"colorscale\":[[0.0,\"#0d0887\"],[0.1111111111111111,\"#46039f\"],[0.2222222222222222,\"#7201a8\"],[0.3333333333333333,\"#9c179e\"],[0.4444444444444444,\"#bd3786\"],[0.5555555555555556,\"#d8576b\"],[0.6666666666666666,\"#ed7953\"],[0.7777777777777778,\"#fb9f3a\"],[0.8888888888888888,\"#fdca26\"],[1.0,\"#f0f921\"]]}],\"surface\":[{\"type\":\"surface\",\"colorbar\":{\"outlinewidth\":0,\"ticks\":\"\"},\"colorscale\":[[0.0,\"#0d0887\"],[0.1111111111111111,\"#46039f\"],[0.2222222222222222,\"#7201a8\"],[0.3333333333333333,\"#9c179e\"],[0.4444444444444444,\"#bd3786\"],[0.5555555555555556,\"#d8576b\"],[0.6666666666666666,\"#ed7953\"],[0.7777777777777778,\"#fb9f3a\"],[0.8888888888888888,\"#fdca26\"],[1.0,\"#f0f921\"]]}],\"mesh3d\":[{\"type\":\"mesh3d\",\"colorbar\":{\"outlinewidth\":0,\"ticks\":\"\"}}],\"scatter\":[{\"fillpattern\":{\"fillmode\":\"overlay\",\"size\":10,\"solidity\":0.2},\"type\":\"scatter\"}],\"parcoords\":[{\"type\":\"parcoords\",\"line\":{\"colorbar\":{\"outlinewidth\":0,\"ticks\":\"\"}}}],\"scatterpolargl\":[{\"type\":\"scatterpolargl\",\"marker\":{\"colorbar\":{\"outlinewidth\":0,\"ticks\":\"\"}}}],\"bar\":[{\"error_x\":{\"color\":\"#2a3f5f\"},\"error_y\":{\"color\":\"#2a3f5f\"},\"marker\":{\"line\":{\"color\":\"#E5ECF6\",\"width\":0.5},\"pattern\":{\"fillmode\":\"overlay\",\"size\":10,\"solidity\":0.2}},\"type\":\"bar\"}],\"scattergeo\":[{\"type\":\"scattergeo\",\"marker\":{\"colorbar\":{\"outlinewidth\":0,\"ticks\":\"\"}}}],\"scatterpolar\":[{\"type\":\"scatterpolar\",\"marker\":{\"colorbar\":{\"outlinewidth\":0,\"ticks\":\"\"}}}],\"histogram\":[{\"marker\":{\"pattern\":{\"fillmode\":\"overlay\",\"size\":10,\"solidity\":0.2}},\"type\":\"histogram\"}],\"scattergl\":[{\"type\":\"scattergl\",\"marker\":{\"colorbar\":{\"outlinewidth\":0,\"ticks\":\"\"}}}],\"scatter3d\":[{\"type\":\"scatter3d\",\"line\":{\"colorbar\":{\"outlinewidth\":0,\"ticks\":\"\"}},\"marker\":{\"colorbar\":{\"outlinewidth\":0,\"ticks\":\"\"}}}],\"scattermap\":[{\"type\":\"scattermap\",\"marker\":{\"colorbar\":{\"outlinewidth\":0,\"ticks\":\"\"}}}],\"scattermapbox\":[{\"type\":\"scattermapbox\",\"marker\":{\"colorbar\":{\"outlinewidth\":0,\"ticks\":\"\"}}}],\"scatterternary\":[{\"type\":\"scatterternary\",\"marker\":{\"colorbar\":{\"outlinewidth\":0,\"ticks\":\"\"}}}],\"scattercarpet\":[{\"type\":\"scattercarpet\",\"marker\":{\"colorbar\":{\"outlinewidth\":0,\"ticks\":\"\"}}}],\"carpet\":[{\"aaxis\":{\"endlinecolor\":\"#2a3f5f\",\"gridcolor\":\"white\",\"linecolor\":\"white\",\"minorgridcolor\":\"white\",\"startlinecolor\":\"#2a3f5f\"},\"baxis\":{\"endlinecolor\":\"#2a3f5f\",\"gridcolor\":\"white\",\"linecolor\":\"white\",\"minorgridcolor\":\"white\",\"startlinecolor\":\"#2a3f5f\"},\"type\":\"carpet\"}],\"table\":[{\"cells\":{\"fill\":{\"color\":\"#EBF0F8\"},\"line\":{\"color\":\"white\"}},\"header\":{\"fill\":{\"color\":\"#C8D4E3\"},\"line\":{\"color\":\"white\"}},\"type\":\"table\"}],\"barpolar\":[{\"marker\":{\"line\":{\"color\":\"#E5ECF6\",\"width\":0.5},\"pattern\":{\"fillmode\":\"overlay\",\"size\":10,\"solidity\":0.2}},\"type\":\"barpolar\"}],\"pie\":[{\"automargin\":true,\"type\":\"pie\"}]},\"layout\":{\"autotypenumbers\":\"strict\",\"colorway\":[\"#636efa\",\"#EF553B\",\"#00cc96\",\"#ab63fa\",\"#FFA15A\",\"#19d3f3\",\"#FF6692\",\"#B6E880\",\"#FF97FF\",\"#FECB52\"],\"font\":{\"color\":\"#2a3f5f\"},\"hovermode\":\"closest\",\"hoverlabel\":{\"align\":\"left\"},\"paper_bgcolor\":\"white\",\"plot_bgcolor\":\"#E5ECF6\",\"polar\":{\"bgcolor\":\"#E5ECF6\",\"angularaxis\":{\"gridcolor\":\"white\",\"linecolor\":\"white\",\"ticks\":\"\"},\"radialaxis\":{\"gridcolor\":\"white\",\"linecolor\":\"white\",\"ticks\":\"\"}},\"ternary\":{\"bgcolor\":\"#E5ECF6\",\"aaxis\":{\"gridcolor\":\"white\",\"linecolor\":\"white\",\"ticks\":\"\"},\"baxis\":{\"gridcolor\":\"white\",\"linecolor\":\"white\",\"ticks\":\"\"},\"caxis\":{\"gridcolor\":\"white\",\"linecolor\":\"white\",\"ticks\":\"\"}},\"coloraxis\":{\"colorbar\":{\"outlinewidth\":0,\"ticks\":\"\"}},\"colorscale\":{\"sequential\":[[0.0,\"#0d0887\"],[0.1111111111111111,\"#46039f\"],[0.2222222222222222,\"#7201a8\"],[0.3333333333333333,\"#9c179e\"],[0.4444444444444444,\"#bd3786\"],[0.5555555555555556,\"#d8576b\"],[0.6666666666666666,\"#ed7953\"],[0.7777777777777778,\"#fb9f3a\"],[0.8888888888888888,\"#fdca26\"],[1.0,\"#f0f921\"]],\"sequentialminus\":[[0.0,\"#0d0887\"],[0.1111111111111111,\"#46039f\"],[0.2222222222222222,\"#7201a8\"],[0.3333333333333333,\"#9c179e\"],[0.4444444444444444,\"#bd3786\"],[0.5555555555555556,\"#d8576b\"],[0.6666666666666666,\"#ed7953\"],[0.7777777777777778,\"#fb9f3a\"],[0.8888888888888888,\"#fdca26\"],[1.0,\"#f0f921\"]],\"diverging\":[[0,\"#8e0152\"],[0.1,\"#c51b7d\"],[0.2,\"#de77ae\"],[0.3,\"#f1b6da\"],[0.4,\"#fde0ef\"],[0.5,\"#f7f7f7\"],[0.6,\"#e6f5d0\"],[0.7,\"#b8e186\"],[0.8,\"#7fbc41\"],[0.9,\"#4d9221\"],[1,\"#276419\"]]},\"xaxis\":{\"gridcolor\":\"white\",\"linecolor\":\"white\",\"ticks\":\"\",\"title\":{\"standoff\":15},\"zerolinecolor\":\"white\",\"automargin\":true,\"zerolinewidth\":2},\"yaxis\":{\"gridcolor\":\"white\",\"linecolor\":\"white\",\"ticks\":\"\",\"title\":{\"standoff\":15},\"zerolinecolor\":\"white\",\"automargin\":true,\"zerolinewidth\":2},\"scene\":{\"xaxis\":{\"backgroundcolor\":\"#E5ECF6\",\"gridcolor\":\"white\",\"linecolor\":\"white\",\"showbackground\":true,\"ticks\":\"\",\"zerolinecolor\":\"white\",\"gridwidth\":2},\"yaxis\":{\"backgroundcolor\":\"#E5ECF6\",\"gridcolor\":\"white\",\"linecolor\":\"white\",\"showbackground\":true,\"ticks\":\"\",\"zerolinecolor\":\"white\",\"gridwidth\":2},\"zaxis\":{\"backgroundcolor\":\"#E5ECF6\",\"gridcolor\":\"white\",\"linecolor\":\"white\",\"showbackground\":true,\"ticks\":\"\",\"zerolinecolor\":\"white\",\"gridwidth\":2}},\"shapedefaults\":{\"line\":{\"color\":\"#2a3f5f\"}},\"annotationdefaults\":{\"arrowcolor\":\"#2a3f5f\",\"arrowhead\":0,\"arrowwidth\":1},\"geo\":{\"bgcolor\":\"white\",\"landcolor\":\"#E5ECF6\",\"subunitcolor\":\"white\",\"showland\":true,\"showlakes\":true,\"lakecolor\":\"white\"},\"title\":{\"x\":0.05},\"mapbox\":{\"style\":\"light\"}}},\"title\":{\"text\":\"Afinnity Index by Category(continent)\"},\"height\":700,\"width\":800,\"barmode\":\"group\",\"plot_bgcolor\":\"aliceblue\",\"paper_bgcolor\":\"lightcyan\"},                        {\"responsive\": true}                    ).then(function(){\n                            \nvar gd = document.getElementById('47638e7b-dc8e-4407-906e-45f6fec2c822');\nvar x = new MutationObserver(function (mutations, observer) {{\n        var display = window.getComputedStyle(gd).display;\n        if (!display || display === 'none') {{\n            console.log([gd, 'removed!']);\n            Plotly.purge(gd);\n            observer.disconnect();\n        }}\n}});\n\n// Listen for the removal of the full notebook cells\nvar notebookContainer = gd.closest('#notebook-container');\nif (notebookContainer) {{\n    x.observe(notebookContainer, {childList: true});\n}}\n\n// Listen for the clearing of the current output cell\nvar outputEl = gd.closest('.output');\nif (outputEl) {{\n    x.observe(outputEl, {childList: true});\n}}\n\n                        })                };            </script>        </div>\n</body>\n</html>"
                },
                "metadata": {}
              }
            ],
            "tabbable": null,
            "tooltip": null
          }
        },
        "3e834b4af7044365a1f6830d2c1bb4bb": {
          "model_module": "@jupyter-widgets/base",
          "model_name": "LayoutModel",
          "model_module_version": "2.0.0",
          "state": {
            "_model_module": "@jupyter-widgets/base",
            "_model_module_version": "2.0.0",
            "_model_name": "LayoutModel",
            "_view_count": null,
            "_view_module": "@jupyter-widgets/base",
            "_view_module_version": "2.0.0",
            "_view_name": "LayoutView",
            "align_content": null,
            "align_items": null,
            "align_self": null,
            "border_bottom": null,
            "border_left": null,
            "border_right": null,
            "border_top": null,
            "bottom": null,
            "display": null,
            "flex": null,
            "flex_flow": null,
            "grid_area": null,
            "grid_auto_columns": null,
            "grid_auto_flow": null,
            "grid_auto_rows": null,
            "grid_column": null,
            "grid_gap": null,
            "grid_row": null,
            "grid_template_areas": null,
            "grid_template_columns": null,
            "grid_template_rows": null,
            "height": null,
            "justify_content": null,
            "justify_items": null,
            "left": null,
            "margin": null,
            "max_height": null,
            "max_width": null,
            "min_height": null,
            "min_width": null,
            "object_fit": null,
            "object_position": null,
            "order": null,
            "overflow": null,
            "padding": null,
            "right": null,
            "top": null,
            "visibility": null,
            "width": null
          }
        },
        "fc1c231631254e449beb2a98e7a77275": {
          "model_module": "@jupyter-widgets/base",
          "model_name": "LayoutModel",
          "model_module_version": "2.0.0",
          "state": {
            "_model_module": "@jupyter-widgets/base",
            "_model_module_version": "2.0.0",
            "_model_name": "LayoutModel",
            "_view_count": null,
            "_view_module": "@jupyter-widgets/base",
            "_view_module_version": "2.0.0",
            "_view_name": "LayoutView",
            "align_content": null,
            "align_items": null,
            "align_self": null,
            "border_bottom": null,
            "border_left": null,
            "border_right": null,
            "border_top": null,
            "bottom": null,
            "display": null,
            "flex": null,
            "flex_flow": null,
            "grid_area": null,
            "grid_auto_columns": null,
            "grid_auto_flow": null,
            "grid_auto_rows": null,
            "grid_column": null,
            "grid_gap": null,
            "grid_row": null,
            "grid_template_areas": null,
            "grid_template_columns": null,
            "grid_template_rows": null,
            "height": null,
            "justify_content": null,
            "justify_items": null,
            "left": null,
            "margin": null,
            "max_height": null,
            "max_width": null,
            "min_height": null,
            "min_width": null,
            "object_fit": null,
            "object_position": null,
            "order": null,
            "overflow": null,
            "padding": null,
            "right": null,
            "top": null,
            "visibility": null,
            "width": null
          }
        },
        "29f6623893fe410dabe73a1b71e48199": {
          "model_module": "@jupyter-widgets/controls",
          "model_name": "VBoxModel",
          "model_module_version": "2.0.0",
          "state": {
            "_dom_classes": [
              "widget-interact"
            ],
            "_model_module": "@jupyter-widgets/controls",
            "_model_module_version": "2.0.0",
            "_model_name": "VBoxModel",
            "_view_count": null,
            "_view_module": "@jupyter-widgets/controls",
            "_view_module_version": "2.0.0",
            "_view_name": "VBoxView",
            "box_style": "",
            "children": [
              "IPY_MODEL_c4ff4c05fe734ce7b996d51ceeb831bd",
              "IPY_MODEL_b5f9789df6c44f92880e403d9f77924d",
              "IPY_MODEL_e2c2b310080040ee9270a3a331991415"
            ],
            "layout": "IPY_MODEL_b9195953a6b141fa8a3d73a9479111bd",
            "tabbable": null,
            "tooltip": null
          }
        },
        "c4ff4c05fe734ce7b996d51ceeb831bd": {
          "model_module": "@jupyter-widgets/controls",
          "model_name": "DropdownModel",
          "model_module_version": "2.0.0",
          "state": {
            "_dom_classes": [],
            "_model_module": "@jupyter-widgets/controls",
            "_model_module_version": "2.0.0",
            "_model_name": "DropdownModel",
            "_options_labels": [
              "nan",
              "Eastern Asia",
              "Southern Asia",
              "Western Asia",
              "South-eastern Asia",
              "Central Asia",
              "Northern Africa",
              "Sub-Saharan Africa",
              "Northern Europe",
              "Western Europe",
              "Southern Europe",
              "Eastern Europe",
              "Australia and New Zealand",
              "Northern America",
              "Latin America and the Caribbean"
            ],
            "_view_count": null,
            "_view_module": "@jupyter-widgets/controls",
            "_view_module_version": "2.0.0",
            "_view_name": "DropdownView",
            "description": "Sub-region:",
            "description_allow_html": false,
            "disabled": false,
            "index": 13,
            "layout": "IPY_MODEL_7c3f273855754532aa97e99b9fdf9717",
            "style": "IPY_MODEL_9f53c324398041e7a4ca75a88f7fce35",
            "tabbable": null,
            "tooltip": null
          }
        },
        "b5f9789df6c44f92880e403d9f77924d": {
          "model_module": "@jupyter-widgets/controls",
          "model_name": "DropdownModel",
          "model_module_version": "2.0.0",
          "state": {
            "_dom_classes": [],
            "_model_module": "@jupyter-widgets/controls",
            "_model_module_version": "2.0.0",
            "_model_name": "DropdownModel",
            "_options_labels": [
              "None",
              "Cabinets & cupboards",
              "Tables & desks",
              "Chairs",
              "Beds",
              "Bookcases & shelving units",
              "Nursery furniture",
              "Outdoor furniture",
              "Sofas & armchairs",
              "Café furniture",
              "Children's furniture",
              "Chests of drawers & drawer units",
              "Bar furniture",
              "Sideboards, buffets & console tables",
              "Room dividers"
            ],
            "_view_count": null,
            "_view_module": "@jupyter-widgets/controls",
            "_view_module_version": "2.0.0",
            "_view_name": "DropdownView",
            "description": "Category:",
            "description_allow_html": false,
            "disabled": false,
            "index": 3,
            "layout": "IPY_MODEL_caa23a472ef14cbf85d36338fc1ca591",
            "style": "IPY_MODEL_b1a7f078631e4fd9a049d120e9d111d3",
            "tabbable": null,
            "tooltip": null
          }
        },
        "e2c2b310080040ee9270a3a331991415": {
          "model_module": "@jupyter-widgets/output",
          "model_name": "OutputModel",
          "model_module_version": "1.0.0",
          "state": {
            "_dom_classes": [],
            "_model_module": "@jupyter-widgets/output",
            "_model_module_version": "1.0.0",
            "_model_name": "OutputModel",
            "_view_count": null,
            "_view_module": "@jupyter-widgets/output",
            "_view_module_version": "1.0.0",
            "_view_name": "OutputView",
            "layout": "IPY_MODEL_c2e82849d6134eb6b85058fc074f1508",
            "msg_id": "",
            "outputs": [
              {
                "output_type": "display_data",
                "data": {
                  "text/html": "<html>\n<head><meta charset=\"utf-8\" /></head>\n<body>\n    <div>            <script src=\"https://cdnjs.cloudflare.com/ajax/libs/mathjax/2.7.5/MathJax.js?config=TeX-AMS-MML_SVG\"></script><script type=\"text/javascript\">if (window.MathJax && window.MathJax.Hub && window.MathJax.Hub.Config) {window.MathJax.Hub.Config({SVG: {font: \"STIX-Web\"}});}</script>                <script type=\"text/javascript\">window.PlotlyConfig = {MathJaxConfig: 'local'};</script>\n        <script charset=\"utf-8\" src=\"https://cdn.plot.ly/plotly-3.1.0.min.js\" integrity=\"sha256-Ei4740bWZhaUTQuD6q9yQlgVCMPBz6CZWhevDYPv93A=\" crossorigin=\"anonymous\"></script>                <div id=\"8f626bdc-eae1-48f9-80cb-eb627589632e\" class=\"plotly-graph-div\" style=\"height:600px; width:1200px;\"></div>            <script type=\"text/javascript\">                window.PLOTLYENV=window.PLOTLYENV || {};                                if (document.getElementById(\"8f626bdc-eae1-48f9-80cb-eb627589632e\")) {                    Plotly.newPlot(                        \"8f626bdc-eae1-48f9-80cb-eb627589632e\",                        [{\"colorscale\":[[0.0,\"rgb(247,252,240)\"],[0.125,\"rgb(224,243,219)\"],[0.25,\"rgb(204,235,197)\"],[0.375,\"rgb(168,221,181)\"],[0.5,\"rgb(123,204,196)\"],[0.625,\"rgb(78,179,211)\"],[0.75,\"rgb(43,140,190)\"],[0.875,\"rgb(8,104,172)\"],[1.0,\"rgb(8,64,129)\"]],\"showscale\":false,\"text\":{\"dtype\":\"f8\",\"bdata\":\"AAAAAAAA8D+uR+F6FK7vP65H4XoUru8\\u002fAAAAAAAA8D8=\",\"shape\":\"2, 2\"},\"textfont\":{\"size\":8},\"texttemplate\":\"%{text}\",\"x\":[\"Canada\",\"United States\"],\"y\":[\"Canada\",\"United States\"],\"z\":{\"dtype\":\"f8\",\"bdata\":\"AAAAAAAA8D8vsEz8Oa7vPy+wTPw5ru8\\u002fAAAAAAAA8D8=\",\"shape\":\"2, 2\"},\"zmax\":1,\"zmin\":-1,\"type\":\"heatmap\",\"xaxis\":\"x\",\"yaxis\":\"y\"},{\"colorscale\":[[0.0,\"rgb(8,48,107)\"],[0.125,\"rgb(8,81,156)\"],[0.25,\"rgb(33,113,181)\"],[0.375,\"rgb(66,146,198)\"],[0.5,\"rgb(107,174,214)\"],[0.625,\"rgb(158,202,225)\"],[0.75,\"rgb(198,219,239)\"],[0.875,\"rgb(222,235,247)\"],[1.0,\"rgb(247,251,255)\"]],\"showscale\":false,\"text\":{\"dtype\":\"f8\",\"bdata\":\"AAAAAAAAAABLyAc9m1XlP0vIBz2bVeU\\u002fAAAAAAAAAAA=\",\"shape\":\"2, 2\"},\"textfont\":{\"size\":8},\"texttemplate\":\"%{text}\",\"x\":[\"Canada\",\"United States\"],\"y\":[\"Canada\",\"United States\"],\"z\":{\"dtype\":\"f8\",\"bdata\":\"AAAAAAAAAABWVVVVVVXlP1ZVVVVVVeU\\u002fAAAAAAAAAAA=\",\"shape\":\"2, 2\"},\"zmax\":0.1,\"zmin\":0,\"type\":\"heatmap\",\"xaxis\":\"x2\",\"yaxis\":\"y2\"}],                        {\"template\":{\"data\":{\"histogram2dcontour\":[{\"type\":\"histogram2dcontour\",\"colorbar\":{\"outlinewidth\":0,\"ticks\":\"\"},\"colorscale\":[[0.0,\"#0d0887\"],[0.1111111111111111,\"#46039f\"],[0.2222222222222222,\"#7201a8\"],[0.3333333333333333,\"#9c179e\"],[0.4444444444444444,\"#bd3786\"],[0.5555555555555556,\"#d8576b\"],[0.6666666666666666,\"#ed7953\"],[0.7777777777777778,\"#fb9f3a\"],[0.8888888888888888,\"#fdca26\"],[1.0,\"#f0f921\"]]}],\"choropleth\":[{\"type\":\"choropleth\",\"colorbar\":{\"outlinewidth\":0,\"ticks\":\"\"}}],\"histogram2d\":[{\"type\":\"histogram2d\",\"colorbar\":{\"outlinewidth\":0,\"ticks\":\"\"},\"colorscale\":[[0.0,\"#0d0887\"],[0.1111111111111111,\"#46039f\"],[0.2222222222222222,\"#7201a8\"],[0.3333333333333333,\"#9c179e\"],[0.4444444444444444,\"#bd3786\"],[0.5555555555555556,\"#d8576b\"],[0.6666666666666666,\"#ed7953\"],[0.7777777777777778,\"#fb9f3a\"],[0.8888888888888888,\"#fdca26\"],[1.0,\"#f0f921\"]]}],\"heatmap\":[{\"type\":\"heatmap\",\"colorbar\":{\"outlinewidth\":0,\"ticks\":\"\"},\"colorscale\":[[0.0,\"#0d0887\"],[0.1111111111111111,\"#46039f\"],[0.2222222222222222,\"#7201a8\"],[0.3333333333333333,\"#9c179e\"],[0.4444444444444444,\"#bd3786\"],[0.5555555555555556,\"#d8576b\"],[0.6666666666666666,\"#ed7953\"],[0.7777777777777778,\"#fb9f3a\"],[0.8888888888888888,\"#fdca26\"],[1.0,\"#f0f921\"]]}],\"contourcarpet\":[{\"type\":\"contourcarpet\",\"colorbar\":{\"outlinewidth\":0,\"ticks\":\"\"}}],\"contour\":[{\"type\":\"contour\",\"colorbar\":{\"outlinewidth\":0,\"ticks\":\"\"},\"colorscale\":[[0.0,\"#0d0887\"],[0.1111111111111111,\"#46039f\"],[0.2222222222222222,\"#7201a8\"],[0.3333333333333333,\"#9c179e\"],[0.4444444444444444,\"#bd3786\"],[0.5555555555555556,\"#d8576b\"],[0.6666666666666666,\"#ed7953\"],[0.7777777777777778,\"#fb9f3a\"],[0.8888888888888888,\"#fdca26\"],[1.0,\"#f0f921\"]]}],\"surface\":[{\"type\":\"surface\",\"colorbar\":{\"outlinewidth\":0,\"ticks\":\"\"},\"colorscale\":[[0.0,\"#0d0887\"],[0.1111111111111111,\"#46039f\"],[0.2222222222222222,\"#7201a8\"],[0.3333333333333333,\"#9c179e\"],[0.4444444444444444,\"#bd3786\"],[0.5555555555555556,\"#d8576b\"],[0.6666666666666666,\"#ed7953\"],[0.7777777777777778,\"#fb9f3a\"],[0.8888888888888888,\"#fdca26\"],[1.0,\"#f0f921\"]]}],\"mesh3d\":[{\"type\":\"mesh3d\",\"colorbar\":{\"outlinewidth\":0,\"ticks\":\"\"}}],\"scatter\":[{\"fillpattern\":{\"fillmode\":\"overlay\",\"size\":10,\"solidity\":0.2},\"type\":\"scatter\"}],\"parcoords\":[{\"type\":\"parcoords\",\"line\":{\"colorbar\":{\"outlinewidth\":0,\"ticks\":\"\"}}}],\"scatterpolargl\":[{\"type\":\"scatterpolargl\",\"marker\":{\"colorbar\":{\"outlinewidth\":0,\"ticks\":\"\"}}}],\"bar\":[{\"error_x\":{\"color\":\"#2a3f5f\"},\"error_y\":{\"color\":\"#2a3f5f\"},\"marker\":{\"line\":{\"color\":\"#E5ECF6\",\"width\":0.5},\"pattern\":{\"fillmode\":\"overlay\",\"size\":10,\"solidity\":0.2}},\"type\":\"bar\"}],\"scattergeo\":[{\"type\":\"scattergeo\",\"marker\":{\"colorbar\":{\"outlinewidth\":0,\"ticks\":\"\"}}}],\"scatterpolar\":[{\"type\":\"scatterpolar\",\"marker\":{\"colorbar\":{\"outlinewidth\":0,\"ticks\":\"\"}}}],\"histogram\":[{\"marker\":{\"pattern\":{\"fillmode\":\"overlay\",\"size\":10,\"solidity\":0.2}},\"type\":\"histogram\"}],\"scattergl\":[{\"type\":\"scattergl\",\"marker\":{\"colorbar\":{\"outlinewidth\":0,\"ticks\":\"\"}}}],\"scatter3d\":[{\"type\":\"scatter3d\",\"line\":{\"colorbar\":{\"outlinewidth\":0,\"ticks\":\"\"}},\"marker\":{\"colorbar\":{\"outlinewidth\":0,\"ticks\":\"\"}}}],\"scattermap\":[{\"type\":\"scattermap\",\"marker\":{\"colorbar\":{\"outlinewidth\":0,\"ticks\":\"\"}}}],\"scattermapbox\":[{\"type\":\"scattermapbox\",\"marker\":{\"colorbar\":{\"outlinewidth\":0,\"ticks\":\"\"}}}],\"scatterternary\":[{\"type\":\"scatterternary\",\"marker\":{\"colorbar\":{\"outlinewidth\":0,\"ticks\":\"\"}}}],\"scattercarpet\":[{\"type\":\"scattercarpet\",\"marker\":{\"colorbar\":{\"outlinewidth\":0,\"ticks\":\"\"}}}],\"carpet\":[{\"aaxis\":{\"endlinecolor\":\"#2a3f5f\",\"gridcolor\":\"white\",\"linecolor\":\"white\",\"minorgridcolor\":\"white\",\"startlinecolor\":\"#2a3f5f\"},\"baxis\":{\"endlinecolor\":\"#2a3f5f\",\"gridcolor\":\"white\",\"linecolor\":\"white\",\"minorgridcolor\":\"white\",\"startlinecolor\":\"#2a3f5f\"},\"type\":\"carpet\"}],\"table\":[{\"cells\":{\"fill\":{\"color\":\"#EBF0F8\"},\"line\":{\"color\":\"white\"}},\"header\":{\"fill\":{\"color\":\"#C8D4E3\"},\"line\":{\"color\":\"white\"}},\"type\":\"table\"}],\"barpolar\":[{\"marker\":{\"line\":{\"color\":\"#E5ECF6\",\"width\":0.5},\"pattern\":{\"fillmode\":\"overlay\",\"size\":10,\"solidity\":0.2}},\"type\":\"barpolar\"}],\"pie\":[{\"automargin\":true,\"type\":\"pie\"}]},\"layout\":{\"autotypenumbers\":\"strict\",\"colorway\":[\"#636efa\",\"#EF553B\",\"#00cc96\",\"#ab63fa\",\"#FFA15A\",\"#19d3f3\",\"#FF6692\",\"#B6E880\",\"#FF97FF\",\"#FECB52\"],\"font\":{\"color\":\"#2a3f5f\"},\"hovermode\":\"closest\",\"hoverlabel\":{\"align\":\"left\"},\"paper_bgcolor\":\"white\",\"plot_bgcolor\":\"#E5ECF6\",\"polar\":{\"bgcolor\":\"#E5ECF6\",\"angularaxis\":{\"gridcolor\":\"white\",\"linecolor\":\"white\",\"ticks\":\"\"},\"radialaxis\":{\"gridcolor\":\"white\",\"linecolor\":\"white\",\"ticks\":\"\"}},\"ternary\":{\"bgcolor\":\"#E5ECF6\",\"aaxis\":{\"gridcolor\":\"white\",\"linecolor\":\"white\",\"ticks\":\"\"},\"baxis\":{\"gridcolor\":\"white\",\"linecolor\":\"white\",\"ticks\":\"\"},\"caxis\":{\"gridcolor\":\"white\",\"linecolor\":\"white\",\"ticks\":\"\"}},\"coloraxis\":{\"colorbar\":{\"outlinewidth\":0,\"ticks\":\"\"}},\"colorscale\":{\"sequential\":[[0.0,\"#0d0887\"],[0.1111111111111111,\"#46039f\"],[0.2222222222222222,\"#7201a8\"],[0.3333333333333333,\"#9c179e\"],[0.4444444444444444,\"#bd3786\"],[0.5555555555555556,\"#d8576b\"],[0.6666666666666666,\"#ed7953\"],[0.7777777777777778,\"#fb9f3a\"],[0.8888888888888888,\"#fdca26\"],[1.0,\"#f0f921\"]],\"sequentialminus\":[[0.0,\"#0d0887\"],[0.1111111111111111,\"#46039f\"],[0.2222222222222222,\"#7201a8\"],[0.3333333333333333,\"#9c179e\"],[0.4444444444444444,\"#bd3786\"],[0.5555555555555556,\"#d8576b\"],[0.6666666666666666,\"#ed7953\"],[0.7777777777777778,\"#fb9f3a\"],[0.8888888888888888,\"#fdca26\"],[1.0,\"#f0f921\"]],\"diverging\":[[0,\"#8e0152\"],[0.1,\"#c51b7d\"],[0.2,\"#de77ae\"],[0.3,\"#f1b6da\"],[0.4,\"#fde0ef\"],[0.5,\"#f7f7f7\"],[0.6,\"#e6f5d0\"],[0.7,\"#b8e186\"],[0.8,\"#7fbc41\"],[0.9,\"#4d9221\"],[1,\"#276419\"]]},\"xaxis\":{\"gridcolor\":\"white\",\"linecolor\":\"white\",\"ticks\":\"\",\"title\":{\"standoff\":15},\"zerolinecolor\":\"white\",\"automargin\":true,\"zerolinewidth\":2},\"yaxis\":{\"gridcolor\":\"white\",\"linecolor\":\"white\",\"ticks\":\"\",\"title\":{\"standoff\":15},\"zerolinecolor\":\"white\",\"automargin\":true,\"zerolinewidth\":2},\"scene\":{\"xaxis\":{\"backgroundcolor\":\"#E5ECF6\",\"gridcolor\":\"white\",\"linecolor\":\"white\",\"showbackground\":true,\"ticks\":\"\",\"zerolinecolor\":\"white\",\"gridwidth\":2},\"yaxis\":{\"backgroundcolor\":\"#E5ECF6\",\"gridcolor\":\"white\",\"linecolor\":\"white\",\"showbackground\":true,\"ticks\":\"\",\"zerolinecolor\":\"white\",\"gridwidth\":2},\"zaxis\":{\"backgroundcolor\":\"#E5ECF6\",\"gridcolor\":\"white\",\"linecolor\":\"white\",\"showbackground\":true,\"ticks\":\"\",\"zerolinecolor\":\"white\",\"gridwidth\":2}},\"shapedefaults\":{\"line\":{\"color\":\"#2a3f5f\"}},\"annotationdefaults\":{\"arrowcolor\":\"#2a3f5f\",\"arrowhead\":0,\"arrowwidth\":1},\"geo\":{\"bgcolor\":\"white\",\"landcolor\":\"#E5ECF6\",\"subunitcolor\":\"white\",\"showland\":true,\"showlakes\":true,\"lakecolor\":\"white\"},\"title\":{\"x\":0.05},\"mapbox\":{\"style\":\"light\"}}},\"xaxis\":{\"anchor\":\"y\",\"domain\":[0.0,0.45]},\"yaxis\":{\"anchor\":\"x\",\"domain\":[0.0,1.0]},\"xaxis2\":{\"anchor\":\"y2\",\"domain\":[0.55,1.0]},\"yaxis2\":{\"anchor\":\"x2\",\"domain\":[0.0,1.0]},\"annotations\":[{\"font\":{\"size\":16},\"showarrow\":false,\"text\":\"Cor matrix for Chairs in Northern America\",\"x\":0.225,\"xanchor\":\"center\",\"xref\":\"paper\",\"y\":1.0,\"yanchor\":\"bottom\",\"yref\":\"paper\"},{\"font\":{\"size\":16},\"showarrow\":false,\"text\":\"P-Value for Chairs in Northern America\",\"x\":0.775,\"xanchor\":\"center\",\"xref\":\"paper\",\"y\":1.0,\"yanchor\":\"bottom\",\"yref\":\"paper\"}],\"height\":600,\"width\":1200,\"plot_bgcolor\":\"aliceblue\",\"paper_bgcolor\":\"lightcyan\"},                        {\"responsive\": true}                    ).then(function(){\n                            \nvar gd = document.getElementById('8f626bdc-eae1-48f9-80cb-eb627589632e');\nvar x = new MutationObserver(function (mutations, observer) {{\n        var display = window.getComputedStyle(gd).display;\n        if (!display || display === 'none') {{\n            console.log([gd, 'removed!']);\n            Plotly.purge(gd);\n            observer.disconnect();\n        }}\n}});\n\n// Listen for the removal of the full notebook cells\nvar notebookContainer = gd.closest('#notebook-container');\nif (notebookContainer) {{\n    x.observe(notebookContainer, {childList: true});\n}}\n\n// Listen for the clearing of the current output cell\nvar outputEl = gd.closest('.output');\nif (outputEl) {{\n    x.observe(outputEl, {childList: true});\n}}\n\n                        })                };            </script>        </div>\n</body>\n</html>"
                },
                "metadata": {}
              }
            ],
            "tabbable": null,
            "tooltip": null
          }
        },
        "b9195953a6b141fa8a3d73a9479111bd": {
          "model_module": "@jupyter-widgets/base",
          "model_name": "LayoutModel",
          "model_module_version": "2.0.0",
          "state": {
            "_model_module": "@jupyter-widgets/base",
            "_model_module_version": "2.0.0",
            "_model_name": "LayoutModel",
            "_view_count": null,
            "_view_module": "@jupyter-widgets/base",
            "_view_module_version": "2.0.0",
            "_view_name": "LayoutView",
            "align_content": null,
            "align_items": null,
            "align_self": null,
            "border_bottom": null,
            "border_left": null,
            "border_right": null,
            "border_top": null,
            "bottom": null,
            "display": null,
            "flex": null,
            "flex_flow": null,
            "grid_area": null,
            "grid_auto_columns": null,
            "grid_auto_flow": null,
            "grid_auto_rows": null,
            "grid_column": null,
            "grid_gap": null,
            "grid_row": null,
            "grid_template_areas": null,
            "grid_template_columns": null,
            "grid_template_rows": null,
            "height": null,
            "justify_content": null,
            "justify_items": null,
            "left": null,
            "margin": null,
            "max_height": null,
            "max_width": null,
            "min_height": null,
            "min_width": null,
            "object_fit": null,
            "object_position": null,
            "order": null,
            "overflow": null,
            "padding": null,
            "right": null,
            "top": null,
            "visibility": null,
            "width": null
          }
        },
        "7c3f273855754532aa97e99b9fdf9717": {
          "model_module": "@jupyter-widgets/base",
          "model_name": "LayoutModel",
          "model_module_version": "2.0.0",
          "state": {
            "_model_module": "@jupyter-widgets/base",
            "_model_module_version": "2.0.0",
            "_model_name": "LayoutModel",
            "_view_count": null,
            "_view_module": "@jupyter-widgets/base",
            "_view_module_version": "2.0.0",
            "_view_name": "LayoutView",
            "align_content": null,
            "align_items": null,
            "align_self": null,
            "border_bottom": null,
            "border_left": null,
            "border_right": null,
            "border_top": null,
            "bottom": null,
            "display": null,
            "flex": null,
            "flex_flow": null,
            "grid_area": null,
            "grid_auto_columns": null,
            "grid_auto_flow": null,
            "grid_auto_rows": null,
            "grid_column": null,
            "grid_gap": null,
            "grid_row": null,
            "grid_template_areas": null,
            "grid_template_columns": null,
            "grid_template_rows": null,
            "height": null,
            "justify_content": null,
            "justify_items": null,
            "left": null,
            "margin": null,
            "max_height": null,
            "max_width": null,
            "min_height": null,
            "min_width": null,
            "object_fit": null,
            "object_position": null,
            "order": null,
            "overflow": null,
            "padding": null,
            "right": null,
            "top": null,
            "visibility": null,
            "width": null
          }
        },
        "9f53c324398041e7a4ca75a88f7fce35": {
          "model_module": "@jupyter-widgets/controls",
          "model_name": "DescriptionStyleModel",
          "model_module_version": "2.0.0",
          "state": {
            "_model_module": "@jupyter-widgets/controls",
            "_model_module_version": "2.0.0",
            "_model_name": "DescriptionStyleModel",
            "_view_count": null,
            "_view_module": "@jupyter-widgets/base",
            "_view_module_version": "2.0.0",
            "_view_name": "StyleView",
            "description_width": ""
          }
        },
        "caa23a472ef14cbf85d36338fc1ca591": {
          "model_module": "@jupyter-widgets/base",
          "model_name": "LayoutModel",
          "model_module_version": "2.0.0",
          "state": {
            "_model_module": "@jupyter-widgets/base",
            "_model_module_version": "2.0.0",
            "_model_name": "LayoutModel",
            "_view_count": null,
            "_view_module": "@jupyter-widgets/base",
            "_view_module_version": "2.0.0",
            "_view_name": "LayoutView",
            "align_content": null,
            "align_items": null,
            "align_self": null,
            "border_bottom": null,
            "border_left": null,
            "border_right": null,
            "border_top": null,
            "bottom": null,
            "display": null,
            "flex": null,
            "flex_flow": null,
            "grid_area": null,
            "grid_auto_columns": null,
            "grid_auto_flow": null,
            "grid_auto_rows": null,
            "grid_column": null,
            "grid_gap": null,
            "grid_row": null,
            "grid_template_areas": null,
            "grid_template_columns": null,
            "grid_template_rows": null,
            "height": null,
            "justify_content": null,
            "justify_items": null,
            "left": null,
            "margin": null,
            "max_height": null,
            "max_width": null,
            "min_height": null,
            "min_width": null,
            "object_fit": null,
            "object_position": null,
            "order": null,
            "overflow": null,
            "padding": null,
            "right": null,
            "top": null,
            "visibility": null,
            "width": null
          }
        },
        "b1a7f078631e4fd9a049d120e9d111d3": {
          "model_module": "@jupyter-widgets/controls",
          "model_name": "DescriptionStyleModel",
          "model_module_version": "2.0.0",
          "state": {
            "_model_module": "@jupyter-widgets/controls",
            "_model_module_version": "2.0.0",
            "_model_name": "DescriptionStyleModel",
            "_view_count": null,
            "_view_module": "@jupyter-widgets/base",
            "_view_module_version": "2.0.0",
            "_view_name": "StyleView",
            "description_width": ""
          }
        },
        "c2e82849d6134eb6b85058fc074f1508": {
          "model_module": "@jupyter-widgets/base",
          "model_name": "LayoutModel",
          "model_module_version": "2.0.0",
          "state": {
            "_model_module": "@jupyter-widgets/base",
            "_model_module_version": "2.0.0",
            "_model_name": "LayoutModel",
            "_view_count": null,
            "_view_module": "@jupyter-widgets/base",
            "_view_module_version": "2.0.0",
            "_view_name": "LayoutView",
            "align_content": null,
            "align_items": null,
            "align_self": null,
            "border_bottom": null,
            "border_left": null,
            "border_right": null,
            "border_top": null,
            "bottom": null,
            "display": null,
            "flex": null,
            "flex_flow": null,
            "grid_area": null,
            "grid_auto_columns": null,
            "grid_auto_flow": null,
            "grid_auto_rows": null,
            "grid_column": null,
            "grid_gap": null,
            "grid_row": null,
            "grid_template_areas": null,
            "grid_template_columns": null,
            "grid_template_rows": null,
            "height": null,
            "justify_content": null,
            "justify_items": null,
            "left": null,
            "margin": null,
            "max_height": null,
            "max_width": null,
            "min_height": null,
            "min_width": null,
            "object_fit": null,
            "object_position": null,
            "order": null,
            "overflow": null,
            "padding": null,
            "right": null,
            "top": null,
            "visibility": null,
            "width": null
          }
        }
      }
    }
  },
  "cells": [
    {
      "cell_type": "markdown",
      "source": [
        "#Суть дослідження:"
      ],
      "metadata": {
        "id": "Q3yTPRnN_Ay-"
      }
    },
    {
      "cell_type": "markdown",
      "source": [
        "**Мета:** дослідити діяльність компанії в розрізі географії,сформувати поради для подальшого розвитку, знайти нові можливості для розвитку та відобразити всі результати у вигляді зручного інтуітивно зрозумілого дашборда.Будемо досліджувати три географічні розріза: континенти, суб-регіони, країни.  \n",
        "**Задачи:**  \n",
        "1.Дослідити загальні метрики компанії в усіх географічних розрізах,виявити патерни взаємозв'язків.  \n",
        "2.Дослідити прибуток по браузерам, операційним системам та девайсам в усіх географічних розрізах, за наявності таких знайти цікаві з точки зору бізнеса аномалії.  \n",
        "3.Дослідити ефективність каналів трафіку та сформувати рекомендації по їх подальшому розвитку в усіх географічних розрізах.  \n",
        "4.Знайти найприбутковіші категорії та дослідити чи зберігається ця тенденція на всіх географічних розрізах.  \n",
        "5.Провести дослідження за індексом афінності , щоб зрозуміти, на яких ринках робити акцент на тій чи іншій категорії.  \n",
        "6.Пошукати взаємозв'язкі та провести оцінку їх статистичної значущості як для глобальних метрик, так і поглиблено для пошуку більш  скритих інсайтів.  \n",
        "7.Cформувати загальні висновки.  \n",
        "8.Побудувати інтуітивно зрозумілий дашборд в Tablaue  \n",
        "**План виконання:**  \n",
        "1.Зробити всі необхідні підключення.  \n",
        "2.Сформувати датасет.  \n",
        "3.Очистити дані та провести EDA аналіз.  \n",
        "4.Проаналізувати за допомогою графіків загальні метрики компанії в усіх географічних розрізах.  \n",
        "5.Проаналізувати за допомогою графіків всі необхідні категоріальні дані в усіх розрізах географії(подвійна агрегація).  \n",
        "6.Провести пошук,перевірку та надійність взаємозв'язків.  \n",
        "7.Сформувати загальні висновки та рекомендації на основі бізнес логіки.\n",
        "\n"
      ],
      "metadata": {
        "id": "9oLSATn9_EVt"
      }
    },
    {
      "cell_type": "markdown",
      "source": [
        "#Технічні підключення:"
      ],
      "metadata": {
        "id": "ikESh6fhuI8Y"
      }
    },
    {
      "cell_type": "code",
      "execution_count": 1,
      "metadata": {
        "colab": {
          "base_uri": "https://localhost:8080/"
        },
        "id": "BO0UqB9zA-V7",
        "outputId": "92260009-bcc5-43e8-f50c-22346dba3f81"
      },
      "outputs": [
        {
          "output_type": "stream",
          "name": "stdout",
          "text": [
            "Requirement already satisfied: google-cloud-bigquery in /usr/local/lib/python3.12/dist-packages (3.38.0)\n",
            "Requirement already satisfied: google-api-core<3.0.0,>=2.11.1 in /usr/local/lib/python3.12/dist-packages (from google-api-core[grpc]<3.0.0,>=2.11.1->google-cloud-bigquery) (2.25.1)\n",
            "Requirement already satisfied: google-auth<3.0.0,>=2.14.1 in /usr/local/lib/python3.12/dist-packages (from google-cloud-bigquery) (2.38.0)\n",
            "Requirement already satisfied: google-cloud-core<3.0.0,>=2.4.1 in /usr/local/lib/python3.12/dist-packages (from google-cloud-bigquery) (2.4.3)\n",
            "Requirement already satisfied: google-resumable-media<3.0.0,>=2.0.0 in /usr/local/lib/python3.12/dist-packages (from google-cloud-bigquery) (2.7.2)\n",
            "Requirement already satisfied: packaging>=24.2.0 in /usr/local/lib/python3.12/dist-packages (from google-cloud-bigquery) (25.0)\n",
            "Requirement already satisfied: python-dateutil<3.0.0,>=2.8.2 in /usr/local/lib/python3.12/dist-packages (from google-cloud-bigquery) (2.9.0.post0)\n",
            "Requirement already satisfied: requests<3.0.0,>=2.21.0 in /usr/local/lib/python3.12/dist-packages (from google-cloud-bigquery) (2.32.4)\n",
            "Requirement already satisfied: googleapis-common-protos<2.0.0,>=1.56.2 in /usr/local/lib/python3.12/dist-packages (from google-api-core<3.0.0,>=2.11.1->google-api-core[grpc]<3.0.0,>=2.11.1->google-cloud-bigquery) (1.70.0)\n",
            "Requirement already satisfied: protobuf!=3.20.0,!=3.20.1,!=4.21.0,!=4.21.1,!=4.21.2,!=4.21.3,!=4.21.4,!=4.21.5,<7.0.0,>=3.19.5 in /usr/local/lib/python3.12/dist-packages (from google-api-core<3.0.0,>=2.11.1->google-api-core[grpc]<3.0.0,>=2.11.1->google-cloud-bigquery) (5.29.5)\n",
            "Requirement already satisfied: proto-plus<2.0.0,>=1.22.3 in /usr/local/lib/python3.12/dist-packages (from google-api-core<3.0.0,>=2.11.1->google-api-core[grpc]<3.0.0,>=2.11.1->google-cloud-bigquery) (1.26.1)\n",
            "Requirement already satisfied: grpcio<2.0.0,>=1.33.2 in /usr/local/lib/python3.12/dist-packages (from google-api-core[grpc]<3.0.0,>=2.11.1->google-cloud-bigquery) (1.75.0)\n",
            "Requirement already satisfied: grpcio-status<2.0.0,>=1.33.2 in /usr/local/lib/python3.12/dist-packages (from google-api-core[grpc]<3.0.0,>=2.11.1->google-cloud-bigquery) (1.71.2)\n",
            "Requirement already satisfied: cachetools<6.0,>=2.0.0 in /usr/local/lib/python3.12/dist-packages (from google-auth<3.0.0,>=2.14.1->google-cloud-bigquery) (5.5.2)\n",
            "Requirement already satisfied: pyasn1-modules>=0.2.1 in /usr/local/lib/python3.12/dist-packages (from google-auth<3.0.0,>=2.14.1->google-cloud-bigquery) (0.4.2)\n",
            "Requirement already satisfied: rsa<5,>=3.1.4 in /usr/local/lib/python3.12/dist-packages (from google-auth<3.0.0,>=2.14.1->google-cloud-bigquery) (4.9.1)\n",
            "Requirement already satisfied: google-crc32c<2.0dev,>=1.0 in /usr/local/lib/python3.12/dist-packages (from google-resumable-media<3.0.0,>=2.0.0->google-cloud-bigquery) (1.7.1)\n",
            "Requirement already satisfied: six>=1.5 in /usr/local/lib/python3.12/dist-packages (from python-dateutil<3.0.0,>=2.8.2->google-cloud-bigquery) (1.17.0)\n",
            "Requirement already satisfied: charset_normalizer<4,>=2 in /usr/local/lib/python3.12/dist-packages (from requests<3.0.0,>=2.21.0->google-cloud-bigquery) (3.4.3)\n",
            "Requirement already satisfied: idna<4,>=2.5 in /usr/local/lib/python3.12/dist-packages (from requests<3.0.0,>=2.21.0->google-cloud-bigquery) (3.10)\n",
            "Requirement already satisfied: urllib3<3,>=1.21.1 in /usr/local/lib/python3.12/dist-packages (from requests<3.0.0,>=2.21.0->google-cloud-bigquery) (2.5.0)\n",
            "Requirement already satisfied: certifi>=2017.4.17 in /usr/local/lib/python3.12/dist-packages (from requests<3.0.0,>=2.21.0->google-cloud-bigquery) (2025.8.3)\n",
            "Requirement already satisfied: typing-extensions~=4.12 in /usr/local/lib/python3.12/dist-packages (from grpcio<2.0.0,>=1.33.2->google-api-core[grpc]<3.0.0,>=2.11.1->google-cloud-bigquery) (4.15.0)\n",
            "Requirement already satisfied: pyasn1<0.7.0,>=0.6.1 in /usr/local/lib/python3.12/dist-packages (from pyasn1-modules>=0.2.1->google-auth<3.0.0,>=2.14.1->google-cloud-bigquery) (0.6.1)\n"
          ]
        }
      ],
      "source": [
        "!pip install --upgrade google-cloud-bigquery"
      ]
    },
    {
      "cell_type": "code",
      "source": [
        "!pip install --upgrade plotly>=5.0.0 ipywidgets>=7.0.0"
      ],
      "metadata": {
        "id": "b7XCOUeI4aaw"
      },
      "execution_count": 2,
      "outputs": []
    },
    {
      "cell_type": "code",
      "source": [
        "from google.colab import auth\n",
        "from google.cloud import bigquery\n",
        "from google.colab import files,output\n",
        "output.enable_custom_widget_manager()\n",
        "\n",
        "import pandas as pd\n",
        "import numpy as np\n",
        "\n",
        "import scipy.stats as st\n",
        "\n",
        "import kagglehub\n",
        "import os\n",
        "\n",
        "import plotly.express as px\n",
        "import plotly.io as pio\n",
        "import plotly.graph_objects as go\n",
        "from plotly.subplots import make_subplots\n",
        "pio.renderers.default = \"colab\"\n",
        "from IPython.display import clear_output, display,IFrame\n",
        "\n",
        "import ipywidgets as widgets\n",
        "\n",
        "path = kagglehub.dataset_download(\"andradaolteanu/country-mapping-iso-continent-region\") # цей датасет нам знадобиться щоб проаналізувати інформацію в розрізі суб-регіонів"
      ],
      "metadata": {
        "id": "4ekb4Z3cBOxk",
        "colab": {
          "base_uri": "https://localhost:8080/"
        },
        "outputId": "c94e96b3-9849-435e-ccc3-5474864fa887"
      },
      "execution_count": 3,
      "outputs": [
        {
          "output_type": "stream",
          "name": "stdout",
          "text": [
            "Using Colab cache for faster access to the 'country-mapping-iso-continent-region' dataset.\n"
          ]
        }
      ]
    },
    {
      "cell_type": "code",
      "source": [
        "df_countries = pd.read_csv('/kaggle/input/country-mapping-iso-continent-region/continents2.csv')\n",
        "df_countries.rename(columns = {'name': 'country'}, inplace = True) # перейменуємо щоб мати спільне поле для join'a\n",
        "df_countries.head()"
      ],
      "metadata": {
        "id": "sIL99769utsv",
        "colab": {
          "base_uri": "https://localhost:8080/",
          "height": 206
        },
        "outputId": "a3b3939d-4d61-427d-d5f1-a50f2226f913"
      },
      "execution_count": 4,
      "outputs": [
        {
          "output_type": "execute_result",
          "data": {
            "text/plain": [
              "          country alpha-2 alpha-3  country-code     iso_3166-2   region  \\\n",
              "0     Afghanistan      AF     AFG             4  ISO 3166-2:AF     Asia   \n",
              "1   Åland Islands      AX     ALA           248  ISO 3166-2:AX   Europe   \n",
              "2         Albania      AL     ALB             8  ISO 3166-2:AL   Europe   \n",
              "3         Algeria      DZ     DZA            12  ISO 3166-2:DZ   Africa   \n",
              "4  American Samoa      AS     ASM            16  ISO 3166-2:AS  Oceania   \n",
              "\n",
              "        sub-region intermediate-region  region-code  sub-region-code  \\\n",
              "0    Southern Asia                 NaN        142.0             34.0   \n",
              "1  Northern Europe                 NaN        150.0            154.0   \n",
              "2  Southern Europe                 NaN        150.0             39.0   \n",
              "3  Northern Africa                 NaN          2.0             15.0   \n",
              "4        Polynesia                 NaN          9.0             61.0   \n",
              "\n",
              "   intermediate-region-code  \n",
              "0                       NaN  \n",
              "1                       NaN  \n",
              "2                       NaN  \n",
              "3                       NaN  \n",
              "4                       NaN  "
            ],
            "text/html": [
              "\n",
              "  <div id=\"df-5b659df3-7fb5-4c6a-9cc2-f622cf19ebd7\" class=\"colab-df-container\">\n",
              "    <div>\n",
              "<style scoped>\n",
              "    .dataframe tbody tr th:only-of-type {\n",
              "        vertical-align: middle;\n",
              "    }\n",
              "\n",
              "    .dataframe tbody tr th {\n",
              "        vertical-align: top;\n",
              "    }\n",
              "\n",
              "    .dataframe thead th {\n",
              "        text-align: right;\n",
              "    }\n",
              "</style>\n",
              "<table border=\"1\" class=\"dataframe\">\n",
              "  <thead>\n",
              "    <tr style=\"text-align: right;\">\n",
              "      <th></th>\n",
              "      <th>country</th>\n",
              "      <th>alpha-2</th>\n",
              "      <th>alpha-3</th>\n",
              "      <th>country-code</th>\n",
              "      <th>iso_3166-2</th>\n",
              "      <th>region</th>\n",
              "      <th>sub-region</th>\n",
              "      <th>intermediate-region</th>\n",
              "      <th>region-code</th>\n",
              "      <th>sub-region-code</th>\n",
              "      <th>intermediate-region-code</th>\n",
              "    </tr>\n",
              "  </thead>\n",
              "  <tbody>\n",
              "    <tr>\n",
              "      <th>0</th>\n",
              "      <td>Afghanistan</td>\n",
              "      <td>AF</td>\n",
              "      <td>AFG</td>\n",
              "      <td>4</td>\n",
              "      <td>ISO 3166-2:AF</td>\n",
              "      <td>Asia</td>\n",
              "      <td>Southern Asia</td>\n",
              "      <td>NaN</td>\n",
              "      <td>142.0</td>\n",
              "      <td>34.0</td>\n",
              "      <td>NaN</td>\n",
              "    </tr>\n",
              "    <tr>\n",
              "      <th>1</th>\n",
              "      <td>Åland Islands</td>\n",
              "      <td>AX</td>\n",
              "      <td>ALA</td>\n",
              "      <td>248</td>\n",
              "      <td>ISO 3166-2:AX</td>\n",
              "      <td>Europe</td>\n",
              "      <td>Northern Europe</td>\n",
              "      <td>NaN</td>\n",
              "      <td>150.0</td>\n",
              "      <td>154.0</td>\n",
              "      <td>NaN</td>\n",
              "    </tr>\n",
              "    <tr>\n",
              "      <th>2</th>\n",
              "      <td>Albania</td>\n",
              "      <td>AL</td>\n",
              "      <td>ALB</td>\n",
              "      <td>8</td>\n",
              "      <td>ISO 3166-2:AL</td>\n",
              "      <td>Europe</td>\n",
              "      <td>Southern Europe</td>\n",
              "      <td>NaN</td>\n",
              "      <td>150.0</td>\n",
              "      <td>39.0</td>\n",
              "      <td>NaN</td>\n",
              "    </tr>\n",
              "    <tr>\n",
              "      <th>3</th>\n",
              "      <td>Algeria</td>\n",
              "      <td>DZ</td>\n",
              "      <td>DZA</td>\n",
              "      <td>12</td>\n",
              "      <td>ISO 3166-2:DZ</td>\n",
              "      <td>Africa</td>\n",
              "      <td>Northern Africa</td>\n",
              "      <td>NaN</td>\n",
              "      <td>2.0</td>\n",
              "      <td>15.0</td>\n",
              "      <td>NaN</td>\n",
              "    </tr>\n",
              "    <tr>\n",
              "      <th>4</th>\n",
              "      <td>American Samoa</td>\n",
              "      <td>AS</td>\n",
              "      <td>ASM</td>\n",
              "      <td>16</td>\n",
              "      <td>ISO 3166-2:AS</td>\n",
              "      <td>Oceania</td>\n",
              "      <td>Polynesia</td>\n",
              "      <td>NaN</td>\n",
              "      <td>9.0</td>\n",
              "      <td>61.0</td>\n",
              "      <td>NaN</td>\n",
              "    </tr>\n",
              "  </tbody>\n",
              "</table>\n",
              "</div>\n",
              "    <div class=\"colab-df-buttons\">\n",
              "\n",
              "  <div class=\"colab-df-container\">\n",
              "    <button class=\"colab-df-convert\" onclick=\"convertToInteractive('df-5b659df3-7fb5-4c6a-9cc2-f622cf19ebd7')\"\n",
              "            title=\"Convert this dataframe to an interactive table.\"\n",
              "            style=\"display:none;\">\n",
              "\n",
              "  <svg xmlns=\"http://www.w3.org/2000/svg\" height=\"24px\" viewBox=\"0 -960 960 960\">\n",
              "    <path d=\"M120-120v-720h720v720H120Zm60-500h600v-160H180v160Zm220 220h160v-160H400v160Zm0 220h160v-160H400v160ZM180-400h160v-160H180v160Zm440 0h160v-160H620v160ZM180-180h160v-160H180v160Zm440 0h160v-160H620v160Z\"/>\n",
              "  </svg>\n",
              "    </button>\n",
              "\n",
              "  <style>\n",
              "    .colab-df-container {\n",
              "      display:flex;\n",
              "      gap: 12px;\n",
              "    }\n",
              "\n",
              "    .colab-df-convert {\n",
              "      background-color: #E8F0FE;\n",
              "      border: none;\n",
              "      border-radius: 50%;\n",
              "      cursor: pointer;\n",
              "      display: none;\n",
              "      fill: #1967D2;\n",
              "      height: 32px;\n",
              "      padding: 0 0 0 0;\n",
              "      width: 32px;\n",
              "    }\n",
              "\n",
              "    .colab-df-convert:hover {\n",
              "      background-color: #E2EBFA;\n",
              "      box-shadow: 0px 1px 2px rgba(60, 64, 67, 0.3), 0px 1px 3px 1px rgba(60, 64, 67, 0.15);\n",
              "      fill: #174EA6;\n",
              "    }\n",
              "\n",
              "    .colab-df-buttons div {\n",
              "      margin-bottom: 4px;\n",
              "    }\n",
              "\n",
              "    [theme=dark] .colab-df-convert {\n",
              "      background-color: #3B4455;\n",
              "      fill: #D2E3FC;\n",
              "    }\n",
              "\n",
              "    [theme=dark] .colab-df-convert:hover {\n",
              "      background-color: #434B5C;\n",
              "      box-shadow: 0px 1px 3px 1px rgba(0, 0, 0, 0.15);\n",
              "      filter: drop-shadow(0px 1px 2px rgba(0, 0, 0, 0.3));\n",
              "      fill: #FFFFFF;\n",
              "    }\n",
              "  </style>\n",
              "\n",
              "    <script>\n",
              "      const buttonEl =\n",
              "        document.querySelector('#df-5b659df3-7fb5-4c6a-9cc2-f622cf19ebd7 button.colab-df-convert');\n",
              "      buttonEl.style.display =\n",
              "        google.colab.kernel.accessAllowed ? 'block' : 'none';\n",
              "\n",
              "      async function convertToInteractive(key) {\n",
              "        const element = document.querySelector('#df-5b659df3-7fb5-4c6a-9cc2-f622cf19ebd7');\n",
              "        const dataTable =\n",
              "          await google.colab.kernel.invokeFunction('convertToInteractive',\n",
              "                                                    [key], {});\n",
              "        if (!dataTable) return;\n",
              "\n",
              "        const docLinkHtml = 'Like what you see? Visit the ' +\n",
              "          '<a target=\"_blank\" href=https://colab.research.google.com/notebooks/data_table.ipynb>data table notebook</a>'\n",
              "          + ' to learn more about interactive tables.';\n",
              "        element.innerHTML = '';\n",
              "        dataTable['output_type'] = 'display_data';\n",
              "        await google.colab.output.renderOutput(dataTable, element);\n",
              "        const docLink = document.createElement('div');\n",
              "        docLink.innerHTML = docLinkHtml;\n",
              "        element.appendChild(docLink);\n",
              "      }\n",
              "    </script>\n",
              "  </div>\n",
              "\n",
              "\n",
              "    <div id=\"df-5896656c-c1b0-4854-8b52-3758219a1536\">\n",
              "      <button class=\"colab-df-quickchart\" onclick=\"quickchart('df-5896656c-c1b0-4854-8b52-3758219a1536')\"\n",
              "                title=\"Suggest charts\"\n",
              "                style=\"display:none;\">\n",
              "\n",
              "<svg xmlns=\"http://www.w3.org/2000/svg\" height=\"24px\"viewBox=\"0 0 24 24\"\n",
              "     width=\"24px\">\n",
              "    <g>\n",
              "        <path d=\"M19 3H5c-1.1 0-2 .9-2 2v14c0 1.1.9 2 2 2h14c1.1 0 2-.9 2-2V5c0-1.1-.9-2-2-2zM9 17H7v-7h2v7zm4 0h-2V7h2v10zm4 0h-2v-4h2v4z\"/>\n",
              "    </g>\n",
              "</svg>\n",
              "      </button>\n",
              "\n",
              "<style>\n",
              "  .colab-df-quickchart {\n",
              "      --bg-color: #E8F0FE;\n",
              "      --fill-color: #1967D2;\n",
              "      --hover-bg-color: #E2EBFA;\n",
              "      --hover-fill-color: #174EA6;\n",
              "      --disabled-fill-color: #AAA;\n",
              "      --disabled-bg-color: #DDD;\n",
              "  }\n",
              "\n",
              "  [theme=dark] .colab-df-quickchart {\n",
              "      --bg-color: #3B4455;\n",
              "      --fill-color: #D2E3FC;\n",
              "      --hover-bg-color: #434B5C;\n",
              "      --hover-fill-color: #FFFFFF;\n",
              "      --disabled-bg-color: #3B4455;\n",
              "      --disabled-fill-color: #666;\n",
              "  }\n",
              "\n",
              "  .colab-df-quickchart {\n",
              "    background-color: var(--bg-color);\n",
              "    border: none;\n",
              "    border-radius: 50%;\n",
              "    cursor: pointer;\n",
              "    display: none;\n",
              "    fill: var(--fill-color);\n",
              "    height: 32px;\n",
              "    padding: 0;\n",
              "    width: 32px;\n",
              "  }\n",
              "\n",
              "  .colab-df-quickchart:hover {\n",
              "    background-color: var(--hover-bg-color);\n",
              "    box-shadow: 0 1px 2px rgba(60, 64, 67, 0.3), 0 1px 3px 1px rgba(60, 64, 67, 0.15);\n",
              "    fill: var(--button-hover-fill-color);\n",
              "  }\n",
              "\n",
              "  .colab-df-quickchart-complete:disabled,\n",
              "  .colab-df-quickchart-complete:disabled:hover {\n",
              "    background-color: var(--disabled-bg-color);\n",
              "    fill: var(--disabled-fill-color);\n",
              "    box-shadow: none;\n",
              "  }\n",
              "\n",
              "  .colab-df-spinner {\n",
              "    border: 2px solid var(--fill-color);\n",
              "    border-color: transparent;\n",
              "    border-bottom-color: var(--fill-color);\n",
              "    animation:\n",
              "      spin 1s steps(1) infinite;\n",
              "  }\n",
              "\n",
              "  @keyframes spin {\n",
              "    0% {\n",
              "      border-color: transparent;\n",
              "      border-bottom-color: var(--fill-color);\n",
              "      border-left-color: var(--fill-color);\n",
              "    }\n",
              "    20% {\n",
              "      border-color: transparent;\n",
              "      border-left-color: var(--fill-color);\n",
              "      border-top-color: var(--fill-color);\n",
              "    }\n",
              "    30% {\n",
              "      border-color: transparent;\n",
              "      border-left-color: var(--fill-color);\n",
              "      border-top-color: var(--fill-color);\n",
              "      border-right-color: var(--fill-color);\n",
              "    }\n",
              "    40% {\n",
              "      border-color: transparent;\n",
              "      border-right-color: var(--fill-color);\n",
              "      border-top-color: var(--fill-color);\n",
              "    }\n",
              "    60% {\n",
              "      border-color: transparent;\n",
              "      border-right-color: var(--fill-color);\n",
              "    }\n",
              "    80% {\n",
              "      border-color: transparent;\n",
              "      border-right-color: var(--fill-color);\n",
              "      border-bottom-color: var(--fill-color);\n",
              "    }\n",
              "    90% {\n",
              "      border-color: transparent;\n",
              "      border-bottom-color: var(--fill-color);\n",
              "    }\n",
              "  }\n",
              "</style>\n",
              "\n",
              "      <script>\n",
              "        async function quickchart(key) {\n",
              "          const quickchartButtonEl =\n",
              "            document.querySelector('#' + key + ' button');\n",
              "          quickchartButtonEl.disabled = true;  // To prevent multiple clicks.\n",
              "          quickchartButtonEl.classList.add('colab-df-spinner');\n",
              "          try {\n",
              "            const charts = await google.colab.kernel.invokeFunction(\n",
              "                'suggestCharts', [key], {});\n",
              "          } catch (error) {\n",
              "            console.error('Error during call to suggestCharts:', error);\n",
              "          }\n",
              "          quickchartButtonEl.classList.remove('colab-df-spinner');\n",
              "          quickchartButtonEl.classList.add('colab-df-quickchart-complete');\n",
              "        }\n",
              "        (() => {\n",
              "          let quickchartButtonEl =\n",
              "            document.querySelector('#df-5896656c-c1b0-4854-8b52-3758219a1536 button');\n",
              "          quickchartButtonEl.style.display =\n",
              "            google.colab.kernel.accessAllowed ? 'block' : 'none';\n",
              "        })();\n",
              "      </script>\n",
              "    </div>\n",
              "    </div>\n",
              "  </div>\n"
            ],
            "application/vnd.google.colaboratory.intrinsic+json": {
              "type": "dataframe",
              "variable_name": "df_countries",
              "summary": "{\n  \"name\": \"df_countries\",\n  \"rows\": 249,\n  \"fields\": [\n    {\n      \"column\": \"country\",\n      \"properties\": {\n        \"dtype\": \"string\",\n        \"num_unique_values\": 249,\n        \"samples\": [\n          \"Malta\",\n          \"Angola\",\n          \"Heard Island and McDonald Islands\"\n        ],\n        \"semantic_type\": \"\",\n        \"description\": \"\"\n      }\n    },\n    {\n      \"column\": \"alpha-2\",\n      \"properties\": {\n        \"dtype\": \"string\",\n        \"num_unique_values\": 248,\n        \"samples\": [\n          \"BN\",\n          \"AO\",\n          \"RU\"\n        ],\n        \"semantic_type\": \"\",\n        \"description\": \"\"\n      }\n    },\n    {\n      \"column\": \"alpha-3\",\n      \"properties\": {\n        \"dtype\": \"string\",\n        \"num_unique_values\": 249,\n        \"samples\": [\n          \"MLT\",\n          \"AGO\",\n          \"HMD\"\n        ],\n        \"semantic_type\": \"\",\n        \"description\": \"\"\n      }\n    },\n    {\n      \"column\": \"country-code\",\n      \"properties\": {\n        \"dtype\": \"number\",\n        \"std\": 252,\n        \"min\": 4,\n        \"max\": 894,\n        \"num_unique_values\": 249,\n        \"samples\": [\n          470,\n          24,\n          334\n        ],\n        \"semantic_type\": \"\",\n        \"description\": \"\"\n      }\n    },\n    {\n      \"column\": \"iso_3166-2\",\n      \"properties\": {\n        \"dtype\": \"string\",\n        \"num_unique_values\": 249,\n        \"samples\": [\n          \"ISO 3166-2:MT\",\n          \"ISO 3166-2:AO\",\n          \"ISO 3166-2:HM\"\n        ],\n        \"semantic_type\": \"\",\n        \"description\": \"\"\n      }\n    },\n    {\n      \"column\": \"region\",\n      \"properties\": {\n        \"dtype\": \"category\",\n        \"num_unique_values\": 5,\n        \"samples\": [\n          \"Europe\",\n          \"Americas\",\n          \"Africa\"\n        ],\n        \"semantic_type\": \"\",\n        \"description\": \"\"\n      }\n    },\n    {\n      \"column\": \"sub-region\",\n      \"properties\": {\n        \"dtype\": \"category\",\n        \"num_unique_values\": 17,\n        \"samples\": [\n          \"Southern Asia\",\n          \"Northern Europe\",\n          \"Sub-Saharan Africa\"\n        ],\n        \"semantic_type\": \"\",\n        \"description\": \"\"\n      }\n    },\n    {\n      \"column\": \"intermediate-region\",\n      \"properties\": {\n        \"dtype\": \"category\",\n        \"num_unique_values\": 8,\n        \"samples\": [\n          \"Caribbean\",\n          \"Southern Africa\",\n          \"Middle Africa\"\n        ],\n        \"semantic_type\": \"\",\n        \"description\": \"\"\n      }\n    },\n    {\n      \"column\": \"region-code\",\n      \"properties\": {\n        \"dtype\": \"number\",\n        \"std\": 67.34783175969469,\n        \"min\": 2.0,\n        \"max\": 150.0,\n        \"num_unique_values\": 5,\n        \"samples\": [\n          150.0,\n          19.0,\n          2.0\n        ],\n        \"semantic_type\": \"\",\n        \"description\": \"\"\n      }\n    },\n    {\n      \"column\": \"sub-region-code\",\n      \"properties\": {\n        \"dtype\": \"number\",\n        \"std\": 138.33416984258182,\n        \"min\": 15.0,\n        \"max\": 419.0,\n        \"num_unique_values\": 17,\n        \"samples\": [\n          34.0,\n          154.0,\n          202.0\n        ],\n        \"semantic_type\": \"\",\n        \"description\": \"\"\n      }\n    },\n    {\n      \"column\": \"intermediate-region-code\",\n      \"properties\": {\n        \"dtype\": \"number\",\n        \"std\": 111.00032248742244,\n        \"min\": 5.0,\n        \"max\": 830.0,\n        \"num_unique_values\": 8,\n        \"samples\": [\n          29.0,\n          18.0,\n          17.0\n        ],\n        \"semantic_type\": \"\",\n        \"description\": \"\"\n      }\n    }\n  ]\n}"
            }
          },
          "metadata": {},
          "execution_count": 4
        }
      ]
    },
    {
      "cell_type": "code",
      "source": [
        "auth.authenticate_user()"
      ],
      "metadata": {
        "id": "LhDW1ObKBbqf"
      },
      "execution_count": 5,
      "outputs": []
    },
    {
      "cell_type": "markdown",
      "source": [
        "#SQl Запит:"
      ],
      "metadata": {
        "id": "yiwBhlWGuOaf"
      }
    },
    {
      "cell_type": "code",
      "source": [
        "client = bigquery.Client(project=\"data-analytics-mate\")\n",
        "\n",
        "query = \"\"\"\n",
        "WITH product_order AS (\n",
        "       SELECT *\n",
        "       FROM data-analytics-mate.DA.order o\n",
        "       LEFT JOIN data-analytics-mate.DA.product pr\n",
        "       USING(item_id)\n",
        "--всі session_id унікальні--\n",
        "),\n",
        "acount_info AS (\n",
        "       SELECT accs.account_id,\n",
        "              ga_session_id,\n",
        "              is_verified,\n",
        "              is_unsubscribed\n",
        "       FROM data-analytics-mate.DA.account_session accs\n",
        "       JOIN data-analytics-mate.DA.account ac\n",
        "       ON accs.account_id = ac.id\n",
        "),\n",
        "session_date AS (\n",
        "       SELECT *\n",
        "       FROM data-analytics-mate.DA.session_params sp\n",
        "       LEFT JOIN data-analytics-mate.DA.session s\n",
        "       USING(ga_session_id)\n",
        "),\n",
        "combine_data AS (\n",
        "       SELECT *\n",
        "       FROM session_date sd\n",
        "       LEFT JOIN product_order po\n",
        "       USING(ga_session_id)\n",
        "       LEFT JOIN acount_info aif\n",
        "       USING(ga_session_id)\n",
        ")\n",
        "SELECT *\n",
        "FROM combine_data\n",
        "\"\"\"\n",
        "\n",
        "query_job =client.query(query)\n",
        "results = query_job.result()\n"
      ],
      "metadata": {
        "id": "6NNRiIwsBejI"
      },
      "execution_count": 6,
      "outputs": []
    },
    {
      "cell_type": "code",
      "source": [
        "df = results.to_dataframe()\n",
        "df.head()"
      ],
      "metadata": {
        "id": "3I8TzPWMCAci",
        "colab": {
          "base_uri": "https://localhost:8080/",
          "height": 0
        },
        "outputId": "4062c54e-242a-4449-9f63-1a2331cc0a52"
      },
      "execution_count": 7,
      "outputs": [
        {
          "output_type": "execute_result",
          "data": {
            "text/plain": [
              "   ga_session_id   device mobile_model_name operating_system language browser  \\\n",
              "0     7268004754  desktop            Chrome              Web    en-gb  Chrome   \n",
              "1     8321293308  desktop            Chrome              Web     None  Chrome   \n",
              "2     4392362373  desktop            Chrome              Web     None  Chrome   \n",
              "3      140108698  desktop            Safari              Web    en-us  Chrome   \n",
              "4     8351127264   mobile            iPhone              Web    en-us  Safari   \n",
              "\n",
              "   continent    country   medium       name         channel        date  \\\n",
              "0  (not set)  (not set)   (none)   (direct)          Direct  2021-01-19   \n",
              "1  (not set)  (not set)   (none)   (direct)          Direct  2021-01-06   \n",
              "2  (not set)  (not set)  organic  (organic)  Organic Search  2020-11-05   \n",
              "3  (not set)  (not set)   (none)   (direct)          Direct  2020-12-09   \n",
              "4  (not set)  (not set)  organic  (organic)  Organic Search  2020-11-10   \n",
              "\n",
              "   item_id name_1 category  price short_description  account_id  is_verified  \\\n",
              "0     <NA>   None     None    NaN              None        <NA>         <NA>   \n",
              "1     <NA>   None     None    NaN              None        <NA>         <NA>   \n",
              "2     <NA>   None     None    NaN              None        <NA>         <NA>   \n",
              "3     <NA>   None     None    NaN              None        <NA>         <NA>   \n",
              "4     <NA>   None     None    NaN              None        <NA>         <NA>   \n",
              "\n",
              "   is_unsubscribed  \n",
              "0             <NA>  \n",
              "1             <NA>  \n",
              "2             <NA>  \n",
              "3             <NA>  \n",
              "4             <NA>  "
            ],
            "text/html": [
              "\n",
              "  <div id=\"df-ce852978-c5ac-4b76-b144-44ba68c28b3f\" class=\"colab-df-container\">\n",
              "    <div>\n",
              "<style scoped>\n",
              "    .dataframe tbody tr th:only-of-type {\n",
              "        vertical-align: middle;\n",
              "    }\n",
              "\n",
              "    .dataframe tbody tr th {\n",
              "        vertical-align: top;\n",
              "    }\n",
              "\n",
              "    .dataframe thead th {\n",
              "        text-align: right;\n",
              "    }\n",
              "</style>\n",
              "<table border=\"1\" class=\"dataframe\">\n",
              "  <thead>\n",
              "    <tr style=\"text-align: right;\">\n",
              "      <th></th>\n",
              "      <th>ga_session_id</th>\n",
              "      <th>device</th>\n",
              "      <th>mobile_model_name</th>\n",
              "      <th>operating_system</th>\n",
              "      <th>language</th>\n",
              "      <th>browser</th>\n",
              "      <th>continent</th>\n",
              "      <th>country</th>\n",
              "      <th>medium</th>\n",
              "      <th>name</th>\n",
              "      <th>channel</th>\n",
              "      <th>date</th>\n",
              "      <th>item_id</th>\n",
              "      <th>name_1</th>\n",
              "      <th>category</th>\n",
              "      <th>price</th>\n",
              "      <th>short_description</th>\n",
              "      <th>account_id</th>\n",
              "      <th>is_verified</th>\n",
              "      <th>is_unsubscribed</th>\n",
              "    </tr>\n",
              "  </thead>\n",
              "  <tbody>\n",
              "    <tr>\n",
              "      <th>0</th>\n",
              "      <td>7268004754</td>\n",
              "      <td>desktop</td>\n",
              "      <td>Chrome</td>\n",
              "      <td>Web</td>\n",
              "      <td>en-gb</td>\n",
              "      <td>Chrome</td>\n",
              "      <td>(not set)</td>\n",
              "      <td>(not set)</td>\n",
              "      <td>(none)</td>\n",
              "      <td>(direct)</td>\n",
              "      <td>Direct</td>\n",
              "      <td>2021-01-19</td>\n",
              "      <td>&lt;NA&gt;</td>\n",
              "      <td>None</td>\n",
              "      <td>None</td>\n",
              "      <td>NaN</td>\n",
              "      <td>None</td>\n",
              "      <td>&lt;NA&gt;</td>\n",
              "      <td>&lt;NA&gt;</td>\n",
              "      <td>&lt;NA&gt;</td>\n",
              "    </tr>\n",
              "    <tr>\n",
              "      <th>1</th>\n",
              "      <td>8321293308</td>\n",
              "      <td>desktop</td>\n",
              "      <td>Chrome</td>\n",
              "      <td>Web</td>\n",
              "      <td>None</td>\n",
              "      <td>Chrome</td>\n",
              "      <td>(not set)</td>\n",
              "      <td>(not set)</td>\n",
              "      <td>(none)</td>\n",
              "      <td>(direct)</td>\n",
              "      <td>Direct</td>\n",
              "      <td>2021-01-06</td>\n",
              "      <td>&lt;NA&gt;</td>\n",
              "      <td>None</td>\n",
              "      <td>None</td>\n",
              "      <td>NaN</td>\n",
              "      <td>None</td>\n",
              "      <td>&lt;NA&gt;</td>\n",
              "      <td>&lt;NA&gt;</td>\n",
              "      <td>&lt;NA&gt;</td>\n",
              "    </tr>\n",
              "    <tr>\n",
              "      <th>2</th>\n",
              "      <td>4392362373</td>\n",
              "      <td>desktop</td>\n",
              "      <td>Chrome</td>\n",
              "      <td>Web</td>\n",
              "      <td>None</td>\n",
              "      <td>Chrome</td>\n",
              "      <td>(not set)</td>\n",
              "      <td>(not set)</td>\n",
              "      <td>organic</td>\n",
              "      <td>(organic)</td>\n",
              "      <td>Organic Search</td>\n",
              "      <td>2020-11-05</td>\n",
              "      <td>&lt;NA&gt;</td>\n",
              "      <td>None</td>\n",
              "      <td>None</td>\n",
              "      <td>NaN</td>\n",
              "      <td>None</td>\n",
              "      <td>&lt;NA&gt;</td>\n",
              "      <td>&lt;NA&gt;</td>\n",
              "      <td>&lt;NA&gt;</td>\n",
              "    </tr>\n",
              "    <tr>\n",
              "      <th>3</th>\n",
              "      <td>140108698</td>\n",
              "      <td>desktop</td>\n",
              "      <td>Safari</td>\n",
              "      <td>Web</td>\n",
              "      <td>en-us</td>\n",
              "      <td>Chrome</td>\n",
              "      <td>(not set)</td>\n",
              "      <td>(not set)</td>\n",
              "      <td>(none)</td>\n",
              "      <td>(direct)</td>\n",
              "      <td>Direct</td>\n",
              "      <td>2020-12-09</td>\n",
              "      <td>&lt;NA&gt;</td>\n",
              "      <td>None</td>\n",
              "      <td>None</td>\n",
              "      <td>NaN</td>\n",
              "      <td>None</td>\n",
              "      <td>&lt;NA&gt;</td>\n",
              "      <td>&lt;NA&gt;</td>\n",
              "      <td>&lt;NA&gt;</td>\n",
              "    </tr>\n",
              "    <tr>\n",
              "      <th>4</th>\n",
              "      <td>8351127264</td>\n",
              "      <td>mobile</td>\n",
              "      <td>iPhone</td>\n",
              "      <td>Web</td>\n",
              "      <td>en-us</td>\n",
              "      <td>Safari</td>\n",
              "      <td>(not set)</td>\n",
              "      <td>(not set)</td>\n",
              "      <td>organic</td>\n",
              "      <td>(organic)</td>\n",
              "      <td>Organic Search</td>\n",
              "      <td>2020-11-10</td>\n",
              "      <td>&lt;NA&gt;</td>\n",
              "      <td>None</td>\n",
              "      <td>None</td>\n",
              "      <td>NaN</td>\n",
              "      <td>None</td>\n",
              "      <td>&lt;NA&gt;</td>\n",
              "      <td>&lt;NA&gt;</td>\n",
              "      <td>&lt;NA&gt;</td>\n",
              "    </tr>\n",
              "  </tbody>\n",
              "</table>\n",
              "</div>\n",
              "    <div class=\"colab-df-buttons\">\n",
              "\n",
              "  <div class=\"colab-df-container\">\n",
              "    <button class=\"colab-df-convert\" onclick=\"convertToInteractive('df-ce852978-c5ac-4b76-b144-44ba68c28b3f')\"\n",
              "            title=\"Convert this dataframe to an interactive table.\"\n",
              "            style=\"display:none;\">\n",
              "\n",
              "  <svg xmlns=\"http://www.w3.org/2000/svg\" height=\"24px\" viewBox=\"0 -960 960 960\">\n",
              "    <path d=\"M120-120v-720h720v720H120Zm60-500h600v-160H180v160Zm220 220h160v-160H400v160Zm0 220h160v-160H400v160ZM180-400h160v-160H180v160Zm440 0h160v-160H620v160ZM180-180h160v-160H180v160Zm440 0h160v-160H620v160Z\"/>\n",
              "  </svg>\n",
              "    </button>\n",
              "\n",
              "  <style>\n",
              "    .colab-df-container {\n",
              "      display:flex;\n",
              "      gap: 12px;\n",
              "    }\n",
              "\n",
              "    .colab-df-convert {\n",
              "      background-color: #E8F0FE;\n",
              "      border: none;\n",
              "      border-radius: 50%;\n",
              "      cursor: pointer;\n",
              "      display: none;\n",
              "      fill: #1967D2;\n",
              "      height: 32px;\n",
              "      padding: 0 0 0 0;\n",
              "      width: 32px;\n",
              "    }\n",
              "\n",
              "    .colab-df-convert:hover {\n",
              "      background-color: #E2EBFA;\n",
              "      box-shadow: 0px 1px 2px rgba(60, 64, 67, 0.3), 0px 1px 3px 1px rgba(60, 64, 67, 0.15);\n",
              "      fill: #174EA6;\n",
              "    }\n",
              "\n",
              "    .colab-df-buttons div {\n",
              "      margin-bottom: 4px;\n",
              "    }\n",
              "\n",
              "    [theme=dark] .colab-df-convert {\n",
              "      background-color: #3B4455;\n",
              "      fill: #D2E3FC;\n",
              "    }\n",
              "\n",
              "    [theme=dark] .colab-df-convert:hover {\n",
              "      background-color: #434B5C;\n",
              "      box-shadow: 0px 1px 3px 1px rgba(0, 0, 0, 0.15);\n",
              "      filter: drop-shadow(0px 1px 2px rgba(0, 0, 0, 0.3));\n",
              "      fill: #FFFFFF;\n",
              "    }\n",
              "  </style>\n",
              "\n",
              "    <script>\n",
              "      const buttonEl =\n",
              "        document.querySelector('#df-ce852978-c5ac-4b76-b144-44ba68c28b3f button.colab-df-convert');\n",
              "      buttonEl.style.display =\n",
              "        google.colab.kernel.accessAllowed ? 'block' : 'none';\n",
              "\n",
              "      async function convertToInteractive(key) {\n",
              "        const element = document.querySelector('#df-ce852978-c5ac-4b76-b144-44ba68c28b3f');\n",
              "        const dataTable =\n",
              "          await google.colab.kernel.invokeFunction('convertToInteractive',\n",
              "                                                    [key], {});\n",
              "        if (!dataTable) return;\n",
              "\n",
              "        const docLinkHtml = 'Like what you see? Visit the ' +\n",
              "          '<a target=\"_blank\" href=https://colab.research.google.com/notebooks/data_table.ipynb>data table notebook</a>'\n",
              "          + ' to learn more about interactive tables.';\n",
              "        element.innerHTML = '';\n",
              "        dataTable['output_type'] = 'display_data';\n",
              "        await google.colab.output.renderOutput(dataTable, element);\n",
              "        const docLink = document.createElement('div');\n",
              "        docLink.innerHTML = docLinkHtml;\n",
              "        element.appendChild(docLink);\n",
              "      }\n",
              "    </script>\n",
              "  </div>\n",
              "\n",
              "\n",
              "    <div id=\"df-37932963-6be6-46fe-a026-4c42531ac39f\">\n",
              "      <button class=\"colab-df-quickchart\" onclick=\"quickchart('df-37932963-6be6-46fe-a026-4c42531ac39f')\"\n",
              "                title=\"Suggest charts\"\n",
              "                style=\"display:none;\">\n",
              "\n",
              "<svg xmlns=\"http://www.w3.org/2000/svg\" height=\"24px\"viewBox=\"0 0 24 24\"\n",
              "     width=\"24px\">\n",
              "    <g>\n",
              "        <path d=\"M19 3H5c-1.1 0-2 .9-2 2v14c0 1.1.9 2 2 2h14c1.1 0 2-.9 2-2V5c0-1.1-.9-2-2-2zM9 17H7v-7h2v7zm4 0h-2V7h2v10zm4 0h-2v-4h2v4z\"/>\n",
              "    </g>\n",
              "</svg>\n",
              "      </button>\n",
              "\n",
              "<style>\n",
              "  .colab-df-quickchart {\n",
              "      --bg-color: #E8F0FE;\n",
              "      --fill-color: #1967D2;\n",
              "      --hover-bg-color: #E2EBFA;\n",
              "      --hover-fill-color: #174EA6;\n",
              "      --disabled-fill-color: #AAA;\n",
              "      --disabled-bg-color: #DDD;\n",
              "  }\n",
              "\n",
              "  [theme=dark] .colab-df-quickchart {\n",
              "      --bg-color: #3B4455;\n",
              "      --fill-color: #D2E3FC;\n",
              "      --hover-bg-color: #434B5C;\n",
              "      --hover-fill-color: #FFFFFF;\n",
              "      --disabled-bg-color: #3B4455;\n",
              "      --disabled-fill-color: #666;\n",
              "  }\n",
              "\n",
              "  .colab-df-quickchart {\n",
              "    background-color: var(--bg-color);\n",
              "    border: none;\n",
              "    border-radius: 50%;\n",
              "    cursor: pointer;\n",
              "    display: none;\n",
              "    fill: var(--fill-color);\n",
              "    height: 32px;\n",
              "    padding: 0;\n",
              "    width: 32px;\n",
              "  }\n",
              "\n",
              "  .colab-df-quickchart:hover {\n",
              "    background-color: var(--hover-bg-color);\n",
              "    box-shadow: 0 1px 2px rgba(60, 64, 67, 0.3), 0 1px 3px 1px rgba(60, 64, 67, 0.15);\n",
              "    fill: var(--button-hover-fill-color);\n",
              "  }\n",
              "\n",
              "  .colab-df-quickchart-complete:disabled,\n",
              "  .colab-df-quickchart-complete:disabled:hover {\n",
              "    background-color: var(--disabled-bg-color);\n",
              "    fill: var(--disabled-fill-color);\n",
              "    box-shadow: none;\n",
              "  }\n",
              "\n",
              "  .colab-df-spinner {\n",
              "    border: 2px solid var(--fill-color);\n",
              "    border-color: transparent;\n",
              "    border-bottom-color: var(--fill-color);\n",
              "    animation:\n",
              "      spin 1s steps(1) infinite;\n",
              "  }\n",
              "\n",
              "  @keyframes spin {\n",
              "    0% {\n",
              "      border-color: transparent;\n",
              "      border-bottom-color: var(--fill-color);\n",
              "      border-left-color: var(--fill-color);\n",
              "    }\n",
              "    20% {\n",
              "      border-color: transparent;\n",
              "      border-left-color: var(--fill-color);\n",
              "      border-top-color: var(--fill-color);\n",
              "    }\n",
              "    30% {\n",
              "      border-color: transparent;\n",
              "      border-left-color: var(--fill-color);\n",
              "      border-top-color: var(--fill-color);\n",
              "      border-right-color: var(--fill-color);\n",
              "    }\n",
              "    40% {\n",
              "      border-color: transparent;\n",
              "      border-right-color: var(--fill-color);\n",
              "      border-top-color: var(--fill-color);\n",
              "    }\n",
              "    60% {\n",
              "      border-color: transparent;\n",
              "      border-right-color: var(--fill-color);\n",
              "    }\n",
              "    80% {\n",
              "      border-color: transparent;\n",
              "      border-right-color: var(--fill-color);\n",
              "      border-bottom-color: var(--fill-color);\n",
              "    }\n",
              "    90% {\n",
              "      border-color: transparent;\n",
              "      border-bottom-color: var(--fill-color);\n",
              "    }\n",
              "  }\n",
              "</style>\n",
              "\n",
              "      <script>\n",
              "        async function quickchart(key) {\n",
              "          const quickchartButtonEl =\n",
              "            document.querySelector('#' + key + ' button');\n",
              "          quickchartButtonEl.disabled = true;  // To prevent multiple clicks.\n",
              "          quickchartButtonEl.classList.add('colab-df-spinner');\n",
              "          try {\n",
              "            const charts = await google.colab.kernel.invokeFunction(\n",
              "                'suggestCharts', [key], {});\n",
              "          } catch (error) {\n",
              "            console.error('Error during call to suggestCharts:', error);\n",
              "          }\n",
              "          quickchartButtonEl.classList.remove('colab-df-spinner');\n",
              "          quickchartButtonEl.classList.add('colab-df-quickchart-complete');\n",
              "        }\n",
              "        (() => {\n",
              "          let quickchartButtonEl =\n",
              "            document.querySelector('#df-37932963-6be6-46fe-a026-4c42531ac39f button');\n",
              "          quickchartButtonEl.style.display =\n",
              "            google.colab.kernel.accessAllowed ? 'block' : 'none';\n",
              "        })();\n",
              "      </script>\n",
              "    </div>\n",
              "    </div>\n",
              "  </div>\n"
            ],
            "application/vnd.google.colaboratory.intrinsic+json": {
              "type": "dataframe",
              "variable_name": "df"
            }
          },
          "metadata": {},
          "execution_count": 7
        }
      ]
    },
    {
      "cell_type": "markdown",
      "source": [
        "Поєднуємо датасети, щоб мати інформацію про суб-регіон:"
      ],
      "metadata": {
        "id": "tTacBqlpwDpg"
      }
    },
    {
      "cell_type": "code",
      "source": [
        "df = pd.merge(df, df_countries[['country','sub-region']], on = 'country', how = 'left')"
      ],
      "metadata": {
        "id": "2jAosgXFwK9G"
      },
      "execution_count": 8,
      "outputs": []
    },
    {
      "cell_type": "code",
      "source": [
        "df.to_csv(\"my_data.csv\", index=False, encoding=\"utf-8-sig\")\n",
        "files.download(\"my_data.csv\")"
      ],
      "metadata": {
        "colab": {
          "base_uri": "https://localhost:8080/",
          "height": 0
        },
        "id": "bFwGq2hc0Vb6",
        "outputId": "6492c25f-753e-4af4-9cd0-772a812ae37d"
      },
      "execution_count": 9,
      "outputs": [
        {
          "output_type": "display_data",
          "data": {
            "text/plain": [
              "<IPython.core.display.Javascript object>"
            ],
            "application/javascript": [
              "\n",
              "    async function download(id, filename, size) {\n",
              "      if (!google.colab.kernel.accessAllowed) {\n",
              "        return;\n",
              "      }\n",
              "      const div = document.createElement('div');\n",
              "      const label = document.createElement('label');\n",
              "      label.textContent = `Downloading \"${filename}\": `;\n",
              "      div.appendChild(label);\n",
              "      const progress = document.createElement('progress');\n",
              "      progress.max = size;\n",
              "      div.appendChild(progress);\n",
              "      document.body.appendChild(div);\n",
              "\n",
              "      const buffers = [];\n",
              "      let downloaded = 0;\n",
              "\n",
              "      const channel = await google.colab.kernel.comms.open(id);\n",
              "      // Send a message to notify the kernel that we're ready.\n",
              "      channel.send({})\n",
              "\n",
              "      for await (const message of channel.messages) {\n",
              "        // Send a message to notify the kernel that we're ready.\n",
              "        channel.send({})\n",
              "        if (message.buffers) {\n",
              "          for (const buffer of message.buffers) {\n",
              "            buffers.push(buffer);\n",
              "            downloaded += buffer.byteLength;\n",
              "            progress.value = downloaded;\n",
              "          }\n",
              "        }\n",
              "      }\n",
              "      const blob = new Blob(buffers, {type: 'application/binary'});\n",
              "      const a = document.createElement('a');\n",
              "      a.href = window.URL.createObjectURL(blob);\n",
              "      a.download = filename;\n",
              "      div.appendChild(a);\n",
              "      a.click();\n",
              "      div.remove();\n",
              "    }\n",
              "  "
            ]
          },
          "metadata": {}
        },
        {
          "output_type": "display_data",
          "data": {
            "text/plain": [
              "<IPython.core.display.Javascript object>"
            ],
            "application/javascript": [
              "download(\"download_e016febc-29ee-4d0b-92a5-5e9aad9c6a03\", \"my_data.csv\", 46548208)"
            ]
          },
          "metadata": {}
        }
      ]
    },
    {
      "cell_type": "markdown",
      "source": [
        "#Огляд та очистка даних"
      ],
      "metadata": {
        "id": "6Pq7On9-DRSs"
      }
    },
    {
      "cell_type": "code",
      "source": [
        "df.info()"
      ],
      "metadata": {
        "id": "0V2PHzNLCFOn",
        "colab": {
          "base_uri": "https://localhost:8080/"
        },
        "outputId": "51e0a576-7602-40c0-816e-246a333cce4c"
      },
      "execution_count": 10,
      "outputs": [
        {
          "output_type": "stream",
          "name": "stdout",
          "text": [
            "<class 'pandas.core.frame.DataFrame'>\n",
            "RangeIndex: 349545 entries, 0 to 349544\n",
            "Data columns (total 21 columns):\n",
            " #   Column             Non-Null Count   Dtype  \n",
            "---  ------             --------------   -----  \n",
            " 0   ga_session_id      349545 non-null  Int64  \n",
            " 1   device             349545 non-null  object \n",
            " 2   mobile_model_name  349545 non-null  object \n",
            " 3   operating_system   349545 non-null  object \n",
            " 4   language           235279 non-null  object \n",
            " 5   browser            349545 non-null  object \n",
            " 6   continent          349545 non-null  object \n",
            " 7   country            349545 non-null  object \n",
            " 8   medium             349545 non-null  object \n",
            " 9   name               349545 non-null  object \n",
            " 10  channel            349545 non-null  object \n",
            " 11  date               349545 non-null  dbdate \n",
            " 12  item_id            33538 non-null   Int64  \n",
            " 13  name_1             33538 non-null   object \n",
            " 14  category           33538 non-null   object \n",
            " 15  price              33538 non-null   float64\n",
            " 16  short_description  33538 non-null   object \n",
            " 17  account_id         27945 non-null   Int64  \n",
            " 18  is_verified        27945 non-null   Int64  \n",
            " 19  is_unsubscribed    27945 non-null   Int64  \n",
            " 20  sub-region         345184 non-null  object \n",
            "dtypes: Int64(5), dbdate(1), float64(1), object(14)\n",
            "memory usage: 57.7+ MB\n"
          ]
        }
      ]
    },
    {
      "cell_type": "markdown",
      "source": [
        "Бачимо що Id зараз мають числові типи даних.Оскільки в нашому випадку id складаються тільки з цифр, то можемо так і залишити.  \n",
        "Змінемо формат дати на datetime.  \n",
        "Перейменуємо деякі колонки , щоб вони краще відображали суть і не дублювались , як name та name_1"
      ],
      "metadata": {
        "id": "SC20PjVHLUG4"
      }
    },
    {
      "cell_type": "code",
      "source": [
        "df['date'] = pd.to_datetime(df['date'])\n",
        "\n",
        "df.rename(columns = {'name': 'traffic_info', 'name_1': 'product_name', 'category': 'product_category'}, inplace = True)\n",
        "\n",
        "df.head()"
      ],
      "metadata": {
        "id": "CPfqosNyLnUQ",
        "colab": {
          "base_uri": "https://localhost:8080/",
          "height": 0
        },
        "outputId": "e39def5f-4125-4ad3-bc61-b6123416a03f"
      },
      "execution_count": 11,
      "outputs": [
        {
          "output_type": "execute_result",
          "data": {
            "text/plain": [
              "   ga_session_id   device mobile_model_name operating_system language browser  \\\n",
              "0     7268004754  desktop            Chrome              Web    en-gb  Chrome   \n",
              "1     8321293308  desktop            Chrome              Web     None  Chrome   \n",
              "2     4392362373  desktop            Chrome              Web     None  Chrome   \n",
              "3      140108698  desktop            Safari              Web    en-us  Chrome   \n",
              "4     8351127264   mobile            iPhone              Web    en-us  Safari   \n",
              "\n",
              "   continent    country   medium traffic_info  ...       date item_id  \\\n",
              "0  (not set)  (not set)   (none)     (direct)  ... 2021-01-19    <NA>   \n",
              "1  (not set)  (not set)   (none)     (direct)  ... 2021-01-06    <NA>   \n",
              "2  (not set)  (not set)  organic    (organic)  ... 2020-11-05    <NA>   \n",
              "3  (not set)  (not set)   (none)     (direct)  ... 2020-12-09    <NA>   \n",
              "4  (not set)  (not set)  organic    (organic)  ... 2020-11-10    <NA>   \n",
              "\n",
              "   product_name product_category price  short_description account_id  \\\n",
              "0          None             None   NaN               None       <NA>   \n",
              "1          None             None   NaN               None       <NA>   \n",
              "2          None             None   NaN               None       <NA>   \n",
              "3          None             None   NaN               None       <NA>   \n",
              "4          None             None   NaN               None       <NA>   \n",
              "\n",
              "   is_verified  is_unsubscribed  sub-region  \n",
              "0         <NA>             <NA>         NaN  \n",
              "1         <NA>             <NA>         NaN  \n",
              "2         <NA>             <NA>         NaN  \n",
              "3         <NA>             <NA>         NaN  \n",
              "4         <NA>             <NA>         NaN  \n",
              "\n",
              "[5 rows x 21 columns]"
            ],
            "text/html": [
              "\n",
              "  <div id=\"df-a7ec0456-0d34-47fa-8678-32e057f9d723\" class=\"colab-df-container\">\n",
              "    <div>\n",
              "<style scoped>\n",
              "    .dataframe tbody tr th:only-of-type {\n",
              "        vertical-align: middle;\n",
              "    }\n",
              "\n",
              "    .dataframe tbody tr th {\n",
              "        vertical-align: top;\n",
              "    }\n",
              "\n",
              "    .dataframe thead th {\n",
              "        text-align: right;\n",
              "    }\n",
              "</style>\n",
              "<table border=\"1\" class=\"dataframe\">\n",
              "  <thead>\n",
              "    <tr style=\"text-align: right;\">\n",
              "      <th></th>\n",
              "      <th>ga_session_id</th>\n",
              "      <th>device</th>\n",
              "      <th>mobile_model_name</th>\n",
              "      <th>operating_system</th>\n",
              "      <th>language</th>\n",
              "      <th>browser</th>\n",
              "      <th>continent</th>\n",
              "      <th>country</th>\n",
              "      <th>medium</th>\n",
              "      <th>traffic_info</th>\n",
              "      <th>...</th>\n",
              "      <th>date</th>\n",
              "      <th>item_id</th>\n",
              "      <th>product_name</th>\n",
              "      <th>product_category</th>\n",
              "      <th>price</th>\n",
              "      <th>short_description</th>\n",
              "      <th>account_id</th>\n",
              "      <th>is_verified</th>\n",
              "      <th>is_unsubscribed</th>\n",
              "      <th>sub-region</th>\n",
              "    </tr>\n",
              "  </thead>\n",
              "  <tbody>\n",
              "    <tr>\n",
              "      <th>0</th>\n",
              "      <td>7268004754</td>\n",
              "      <td>desktop</td>\n",
              "      <td>Chrome</td>\n",
              "      <td>Web</td>\n",
              "      <td>en-gb</td>\n",
              "      <td>Chrome</td>\n",
              "      <td>(not set)</td>\n",
              "      <td>(not set)</td>\n",
              "      <td>(none)</td>\n",
              "      <td>(direct)</td>\n",
              "      <td>...</td>\n",
              "      <td>2021-01-19</td>\n",
              "      <td>&lt;NA&gt;</td>\n",
              "      <td>None</td>\n",
              "      <td>None</td>\n",
              "      <td>NaN</td>\n",
              "      <td>None</td>\n",
              "      <td>&lt;NA&gt;</td>\n",
              "      <td>&lt;NA&gt;</td>\n",
              "      <td>&lt;NA&gt;</td>\n",
              "      <td>NaN</td>\n",
              "    </tr>\n",
              "    <tr>\n",
              "      <th>1</th>\n",
              "      <td>8321293308</td>\n",
              "      <td>desktop</td>\n",
              "      <td>Chrome</td>\n",
              "      <td>Web</td>\n",
              "      <td>None</td>\n",
              "      <td>Chrome</td>\n",
              "      <td>(not set)</td>\n",
              "      <td>(not set)</td>\n",
              "      <td>(none)</td>\n",
              "      <td>(direct)</td>\n",
              "      <td>...</td>\n",
              "      <td>2021-01-06</td>\n",
              "      <td>&lt;NA&gt;</td>\n",
              "      <td>None</td>\n",
              "      <td>None</td>\n",
              "      <td>NaN</td>\n",
              "      <td>None</td>\n",
              "      <td>&lt;NA&gt;</td>\n",
              "      <td>&lt;NA&gt;</td>\n",
              "      <td>&lt;NA&gt;</td>\n",
              "      <td>NaN</td>\n",
              "    </tr>\n",
              "    <tr>\n",
              "      <th>2</th>\n",
              "      <td>4392362373</td>\n",
              "      <td>desktop</td>\n",
              "      <td>Chrome</td>\n",
              "      <td>Web</td>\n",
              "      <td>None</td>\n",
              "      <td>Chrome</td>\n",
              "      <td>(not set)</td>\n",
              "      <td>(not set)</td>\n",
              "      <td>organic</td>\n",
              "      <td>(organic)</td>\n",
              "      <td>...</td>\n",
              "      <td>2020-11-05</td>\n",
              "      <td>&lt;NA&gt;</td>\n",
              "      <td>None</td>\n",
              "      <td>None</td>\n",
              "      <td>NaN</td>\n",
              "      <td>None</td>\n",
              "      <td>&lt;NA&gt;</td>\n",
              "      <td>&lt;NA&gt;</td>\n",
              "      <td>&lt;NA&gt;</td>\n",
              "      <td>NaN</td>\n",
              "    </tr>\n",
              "    <tr>\n",
              "      <th>3</th>\n",
              "      <td>140108698</td>\n",
              "      <td>desktop</td>\n",
              "      <td>Safari</td>\n",
              "      <td>Web</td>\n",
              "      <td>en-us</td>\n",
              "      <td>Chrome</td>\n",
              "      <td>(not set)</td>\n",
              "      <td>(not set)</td>\n",
              "      <td>(none)</td>\n",
              "      <td>(direct)</td>\n",
              "      <td>...</td>\n",
              "      <td>2020-12-09</td>\n",
              "      <td>&lt;NA&gt;</td>\n",
              "      <td>None</td>\n",
              "      <td>None</td>\n",
              "      <td>NaN</td>\n",
              "      <td>None</td>\n",
              "      <td>&lt;NA&gt;</td>\n",
              "      <td>&lt;NA&gt;</td>\n",
              "      <td>&lt;NA&gt;</td>\n",
              "      <td>NaN</td>\n",
              "    </tr>\n",
              "    <tr>\n",
              "      <th>4</th>\n",
              "      <td>8351127264</td>\n",
              "      <td>mobile</td>\n",
              "      <td>iPhone</td>\n",
              "      <td>Web</td>\n",
              "      <td>en-us</td>\n",
              "      <td>Safari</td>\n",
              "      <td>(not set)</td>\n",
              "      <td>(not set)</td>\n",
              "      <td>organic</td>\n",
              "      <td>(organic)</td>\n",
              "      <td>...</td>\n",
              "      <td>2020-11-10</td>\n",
              "      <td>&lt;NA&gt;</td>\n",
              "      <td>None</td>\n",
              "      <td>None</td>\n",
              "      <td>NaN</td>\n",
              "      <td>None</td>\n",
              "      <td>&lt;NA&gt;</td>\n",
              "      <td>&lt;NA&gt;</td>\n",
              "      <td>&lt;NA&gt;</td>\n",
              "      <td>NaN</td>\n",
              "    </tr>\n",
              "  </tbody>\n",
              "</table>\n",
              "<p>5 rows × 21 columns</p>\n",
              "</div>\n",
              "    <div class=\"colab-df-buttons\">\n",
              "\n",
              "  <div class=\"colab-df-container\">\n",
              "    <button class=\"colab-df-convert\" onclick=\"convertToInteractive('df-a7ec0456-0d34-47fa-8678-32e057f9d723')\"\n",
              "            title=\"Convert this dataframe to an interactive table.\"\n",
              "            style=\"display:none;\">\n",
              "\n",
              "  <svg xmlns=\"http://www.w3.org/2000/svg\" height=\"24px\" viewBox=\"0 -960 960 960\">\n",
              "    <path d=\"M120-120v-720h720v720H120Zm60-500h600v-160H180v160Zm220 220h160v-160H400v160Zm0 220h160v-160H400v160ZM180-400h160v-160H180v160Zm440 0h160v-160H620v160ZM180-180h160v-160H180v160Zm440 0h160v-160H620v160Z\"/>\n",
              "  </svg>\n",
              "    </button>\n",
              "\n",
              "  <style>\n",
              "    .colab-df-container {\n",
              "      display:flex;\n",
              "      gap: 12px;\n",
              "    }\n",
              "\n",
              "    .colab-df-convert {\n",
              "      background-color: #E8F0FE;\n",
              "      border: none;\n",
              "      border-radius: 50%;\n",
              "      cursor: pointer;\n",
              "      display: none;\n",
              "      fill: #1967D2;\n",
              "      height: 32px;\n",
              "      padding: 0 0 0 0;\n",
              "      width: 32px;\n",
              "    }\n",
              "\n",
              "    .colab-df-convert:hover {\n",
              "      background-color: #E2EBFA;\n",
              "      box-shadow: 0px 1px 2px rgba(60, 64, 67, 0.3), 0px 1px 3px 1px rgba(60, 64, 67, 0.15);\n",
              "      fill: #174EA6;\n",
              "    }\n",
              "\n",
              "    .colab-df-buttons div {\n",
              "      margin-bottom: 4px;\n",
              "    }\n",
              "\n",
              "    [theme=dark] .colab-df-convert {\n",
              "      background-color: #3B4455;\n",
              "      fill: #D2E3FC;\n",
              "    }\n",
              "\n",
              "    [theme=dark] .colab-df-convert:hover {\n",
              "      background-color: #434B5C;\n",
              "      box-shadow: 0px 1px 3px 1px rgba(0, 0, 0, 0.15);\n",
              "      filter: drop-shadow(0px 1px 2px rgba(0, 0, 0, 0.3));\n",
              "      fill: #FFFFFF;\n",
              "    }\n",
              "  </style>\n",
              "\n",
              "    <script>\n",
              "      const buttonEl =\n",
              "        document.querySelector('#df-a7ec0456-0d34-47fa-8678-32e057f9d723 button.colab-df-convert');\n",
              "      buttonEl.style.display =\n",
              "        google.colab.kernel.accessAllowed ? 'block' : 'none';\n",
              "\n",
              "      async function convertToInteractive(key) {\n",
              "        const element = document.querySelector('#df-a7ec0456-0d34-47fa-8678-32e057f9d723');\n",
              "        const dataTable =\n",
              "          await google.colab.kernel.invokeFunction('convertToInteractive',\n",
              "                                                    [key], {});\n",
              "        if (!dataTable) return;\n",
              "\n",
              "        const docLinkHtml = 'Like what you see? Visit the ' +\n",
              "          '<a target=\"_blank\" href=https://colab.research.google.com/notebooks/data_table.ipynb>data table notebook</a>'\n",
              "          + ' to learn more about interactive tables.';\n",
              "        element.innerHTML = '';\n",
              "        dataTable['output_type'] = 'display_data';\n",
              "        await google.colab.output.renderOutput(dataTable, element);\n",
              "        const docLink = document.createElement('div');\n",
              "        docLink.innerHTML = docLinkHtml;\n",
              "        element.appendChild(docLink);\n",
              "      }\n",
              "    </script>\n",
              "  </div>\n",
              "\n",
              "\n",
              "    <div id=\"df-015f5de1-8c60-46ba-a5d8-860245c91ab9\">\n",
              "      <button class=\"colab-df-quickchart\" onclick=\"quickchart('df-015f5de1-8c60-46ba-a5d8-860245c91ab9')\"\n",
              "                title=\"Suggest charts\"\n",
              "                style=\"display:none;\">\n",
              "\n",
              "<svg xmlns=\"http://www.w3.org/2000/svg\" height=\"24px\"viewBox=\"0 0 24 24\"\n",
              "     width=\"24px\">\n",
              "    <g>\n",
              "        <path d=\"M19 3H5c-1.1 0-2 .9-2 2v14c0 1.1.9 2 2 2h14c1.1 0 2-.9 2-2V5c0-1.1-.9-2-2-2zM9 17H7v-7h2v7zm4 0h-2V7h2v10zm4 0h-2v-4h2v4z\"/>\n",
              "    </g>\n",
              "</svg>\n",
              "      </button>\n",
              "\n",
              "<style>\n",
              "  .colab-df-quickchart {\n",
              "      --bg-color: #E8F0FE;\n",
              "      --fill-color: #1967D2;\n",
              "      --hover-bg-color: #E2EBFA;\n",
              "      --hover-fill-color: #174EA6;\n",
              "      --disabled-fill-color: #AAA;\n",
              "      --disabled-bg-color: #DDD;\n",
              "  }\n",
              "\n",
              "  [theme=dark] .colab-df-quickchart {\n",
              "      --bg-color: #3B4455;\n",
              "      --fill-color: #D2E3FC;\n",
              "      --hover-bg-color: #434B5C;\n",
              "      --hover-fill-color: #FFFFFF;\n",
              "      --disabled-bg-color: #3B4455;\n",
              "      --disabled-fill-color: #666;\n",
              "  }\n",
              "\n",
              "  .colab-df-quickchart {\n",
              "    background-color: var(--bg-color);\n",
              "    border: none;\n",
              "    border-radius: 50%;\n",
              "    cursor: pointer;\n",
              "    display: none;\n",
              "    fill: var(--fill-color);\n",
              "    height: 32px;\n",
              "    padding: 0;\n",
              "    width: 32px;\n",
              "  }\n",
              "\n",
              "  .colab-df-quickchart:hover {\n",
              "    background-color: var(--hover-bg-color);\n",
              "    box-shadow: 0 1px 2px rgba(60, 64, 67, 0.3), 0 1px 3px 1px rgba(60, 64, 67, 0.15);\n",
              "    fill: var(--button-hover-fill-color);\n",
              "  }\n",
              "\n",
              "  .colab-df-quickchart-complete:disabled,\n",
              "  .colab-df-quickchart-complete:disabled:hover {\n",
              "    background-color: var(--disabled-bg-color);\n",
              "    fill: var(--disabled-fill-color);\n",
              "    box-shadow: none;\n",
              "  }\n",
              "\n",
              "  .colab-df-spinner {\n",
              "    border: 2px solid var(--fill-color);\n",
              "    border-color: transparent;\n",
              "    border-bottom-color: var(--fill-color);\n",
              "    animation:\n",
              "      spin 1s steps(1) infinite;\n",
              "  }\n",
              "\n",
              "  @keyframes spin {\n",
              "    0% {\n",
              "      border-color: transparent;\n",
              "      border-bottom-color: var(--fill-color);\n",
              "      border-left-color: var(--fill-color);\n",
              "    }\n",
              "    20% {\n",
              "      border-color: transparent;\n",
              "      border-left-color: var(--fill-color);\n",
              "      border-top-color: var(--fill-color);\n",
              "    }\n",
              "    30% {\n",
              "      border-color: transparent;\n",
              "      border-left-color: var(--fill-color);\n",
              "      border-top-color: var(--fill-color);\n",
              "      border-right-color: var(--fill-color);\n",
              "    }\n",
              "    40% {\n",
              "      border-color: transparent;\n",
              "      border-right-color: var(--fill-color);\n",
              "      border-top-color: var(--fill-color);\n",
              "    }\n",
              "    60% {\n",
              "      border-color: transparent;\n",
              "      border-right-color: var(--fill-color);\n",
              "    }\n",
              "    80% {\n",
              "      border-color: transparent;\n",
              "      border-right-color: var(--fill-color);\n",
              "      border-bottom-color: var(--fill-color);\n",
              "    }\n",
              "    90% {\n",
              "      border-color: transparent;\n",
              "      border-bottom-color: var(--fill-color);\n",
              "    }\n",
              "  }\n",
              "</style>\n",
              "\n",
              "      <script>\n",
              "        async function quickchart(key) {\n",
              "          const quickchartButtonEl =\n",
              "            document.querySelector('#' + key + ' button');\n",
              "          quickchartButtonEl.disabled = true;  // To prevent multiple clicks.\n",
              "          quickchartButtonEl.classList.add('colab-df-spinner');\n",
              "          try {\n",
              "            const charts = await google.colab.kernel.invokeFunction(\n",
              "                'suggestCharts', [key], {});\n",
              "          } catch (error) {\n",
              "            console.error('Error during call to suggestCharts:', error);\n",
              "          }\n",
              "          quickchartButtonEl.classList.remove('colab-df-spinner');\n",
              "          quickchartButtonEl.classList.add('colab-df-quickchart-complete');\n",
              "        }\n",
              "        (() => {\n",
              "          let quickchartButtonEl =\n",
              "            document.querySelector('#df-015f5de1-8c60-46ba-a5d8-860245c91ab9 button');\n",
              "          quickchartButtonEl.style.display =\n",
              "            google.colab.kernel.accessAllowed ? 'block' : 'none';\n",
              "        })();\n",
              "      </script>\n",
              "    </div>\n",
              "    </div>\n",
              "  </div>\n"
            ],
            "application/vnd.google.colaboratory.intrinsic+json": {
              "type": "dataframe",
              "variable_name": "df"
            }
          },
          "metadata": {},
          "execution_count": 11
        }
      ]
    },
    {
      "cell_type": "code",
      "source": [
        "print(f' Kількість рядків та колонок: {df.shape}')\n",
        "print(f' Числові колонки: {df.select_dtypes(include = np.number).columns}')\n",
        "print(f' Категоріальні колонки: {df.select_dtypes(exclude = np.number).columns}')"
      ],
      "metadata": {
        "id": "XVzPNWYLDFLy",
        "colab": {
          "base_uri": "https://localhost:8080/"
        },
        "outputId": "06862581-3205-4d6d-d6f5-eee400baaa84"
      },
      "execution_count": 12,
      "outputs": [
        {
          "output_type": "stream",
          "name": "stdout",
          "text": [
            " Kількість рядків та колонок: (349545, 21)\n",
            " Числові колонки: Index(['ga_session_id', 'item_id', 'price', 'account_id', 'is_verified',\n",
            "       'is_unsubscribed'],\n",
            "      dtype='object')\n",
            " Категоріальні колонки: Index(['device', 'mobile_model_name', 'operating_system', 'language',\n",
            "       'browser', 'continent', 'country', 'medium', 'traffic_info', 'channel',\n",
            "       'date', 'product_name', 'product_category', 'short_description',\n",
            "       'sub-region'],\n",
            "      dtype='object')\n"
          ]
        }
      ]
    },
    {
      "cell_type": "code",
      "source": [
        "print(f' Кількість унікальних сесій: {df['ga_session_id'].nunique()}')"
      ],
      "metadata": {
        "id": "LEbeKQHrEwkz",
        "colab": {
          "base_uri": "https://localhost:8080/"
        },
        "outputId": "6f1ade60-0825-4d44-ab55-23f8ed906c4f"
      },
      "execution_count": 13,
      "outputs": [
        {
          "output_type": "stream",
          "name": "stdout",
          "text": [
            " Кількість унікальних сесій: 349545\n"
          ]
        }
      ]
    },
    {
      "cell_type": "code",
      "source": [
        "print(f' Період за який маємо дані:   {df['date'].min()} - {df['date'].max()}')"
      ],
      "metadata": {
        "id": "1oYEY-KkE82O",
        "colab": {
          "base_uri": "https://localhost:8080/"
        },
        "outputId": "2fc9545b-76c4-4390-bcfa-70a38f73b83a"
      },
      "execution_count": 14,
      "outputs": [
        {
          "output_type": "stream",
          "name": "stdout",
          "text": [
            " Період за який маємо дані:   2020-11-01 00:00:00 - 2021-01-31 00:00:00\n"
          ]
        }
      ]
    },
    {
      "cell_type": "markdown",
      "source": [
        "Перевірка текстових значень:"
      ],
      "metadata": {
        "id": "BgsGRC5VIbTh"
      }
    },
    {
      "cell_type": "code",
      "source": [
        "print(f'Девайси: {df[\"device\"].unique()}\\n')\n",
        "print(f'Mobile_model_name: {df[\"mobile_model_name\"].unique()}\\n')\n",
        "print(f'operating_system: {df[\"operating_system\"].unique()}\\n')\n",
        "print(f'language: {df[\"language\"].unique()}\\n')\n",
        "print(f'browser: {df[\"browser\"].unique()}\\n')\n",
        "print(f'continent: {df[\"continent\"].unique()}\\n')\n",
        "print(f'country: {sorted(df[\"country\"].unique())}\\n')\n",
        "print(f'traffic_info: {df[\"traffic_info\"].unique()}\\n')\n",
        "print(f'channel: {df[\"channel\"].unique()}\\n')\n",
        "print(f'product_category: {df[\"product_category\"].unique()}\\n')"
      ],
      "metadata": {
        "id": "QyumLJx1IehR",
        "colab": {
          "base_uri": "https://localhost:8080/"
        },
        "outputId": "5e80838d-e3fb-429c-9437-4744a4d881e7"
      },
      "execution_count": 15,
      "outputs": [
        {
          "output_type": "stream",
          "name": "stdout",
          "text": [
            "Девайси: ['desktop' 'mobile' 'tablet']\n",
            "\n",
            "Mobile_model_name: ['Chrome' 'Safari' 'iPhone' '<Other>' 'Edge' 'ChromeBook' 'Firefox'\n",
            " 'Pixel 3' 'iPad' 'Pixel 4 XL']\n",
            "\n",
            "operating_system: ['Web' 'iOS' '<Other>' 'Android' 'Windows' 'Macintosh']\n",
            "\n",
            "language: ['en-gb' None 'en-us' 'en-ca' 'en' 'zh' 'de' 'es-es' 'fr' 'ko']\n",
            "\n",
            "browser: ['Chrome' 'Safari' '<Other>' 'Edge' 'Android Webview' 'Firefox']\n",
            "\n",
            "continent: ['(not set)' 'Asia' 'Africa' 'Europe' 'Oceania' 'Americas']\n",
            "\n",
            "country: ['(not set)', 'Albania', 'Algeria', 'Argentina', 'Armenia', 'Australia', 'Austria', 'Azerbaijan', 'Bahamas', 'Bahrain', 'Bangladesh', 'Belarus', 'Belgium', 'Bolivia', 'Bosnia & Herzegovina', 'Brazil', 'Bulgaria', 'Cambodia', 'Canada', 'Chile', 'China', 'Colombia', 'Costa Rica', 'Croatia', 'Cyprus', 'Czechia', 'Denmark', 'Dominican Republic', 'Ecuador', 'Egypt', 'El Salvador', 'Estonia', 'Finland', 'France', 'Georgia', 'Germany', 'Ghana', 'Greece', 'Guatemala', 'Honduras', 'Hong Kong', 'Hungary', 'Iceland', 'India', 'Indonesia', 'Iraq', 'Ireland', 'Israel', 'Italy', 'Jamaica', 'Japan', 'Jordan', 'Kazakhstan', 'Kenya', 'Kosovo', 'Kuwait', 'Latvia', 'Lebanon', 'Lithuania', 'Luxembourg', 'Macao', 'Malaysia', 'Malta', 'Mexico', 'Mongolia', 'Morocco', 'Myanmar (Burma)', 'Nepal', 'Netherlands', 'New Zealand', 'Nigeria', 'North Macedonia', 'Norway', 'Oman', 'Pakistan', 'Palestine', 'Panama', 'Paraguay', 'Peru', 'Philippines', 'Poland', 'Portugal', 'Puerto Rico', 'Qatar', 'Romania', 'Saudi Arabia', 'Serbia', 'Singapore', 'Slovakia', 'Slovenia', 'South Africa', 'South Korea', 'Spain', 'Sri Lanka', 'Sweden', 'Switzerland', 'Taiwan', 'Thailand', 'Trinidad & Tobago', 'Tunisia', 'Turkey', 'Ukraine', 'United Arab Emirates', 'United Kingdom', 'United States', 'Uruguay', 'Venezuela', 'Vietnam']\n",
            "\n",
            "traffic_info: ['(direct)' '(organic)' '(referral)' '<Other>' '(data deleted)']\n",
            "\n",
            "channel: ['Direct' 'Organic Search' 'Paid Search' 'Undefined' 'Social Search']\n",
            "\n",
            "product_category: [None 'Cabinets & cupboards' 'Tables & desks' 'Chairs' 'Beds'\n",
            " 'Bookcases & shelving units' 'Nursery furniture' 'Outdoor furniture'\n",
            " 'Sofas & armchairs' 'Café furniture' \"Children's furniture\"\n",
            " 'Chests of drawers & drawer units' 'Bar furniture'\n",
            " 'Sideboards, buffets & console tables' 'Room dividers']\n",
            "\n"
          ]
        }
      ]
    },
    {
      "cell_type": "code",
      "source": [
        "df.select_dtypes(include = 'object').apply(lambda x: x.nunique()) - df.select_dtypes(include = 'object').apply(lambda x: x.str.lower().str.strip().nunique()) # перевіряємо на проблеми з регістром та зайвими пробілами\n"
      ],
      "metadata": {
        "id": "ruOlYUU3PKy_",
        "colab": {
          "base_uri": "https://localhost:8080/",
          "height": 0
        },
        "outputId": "a6406581-fc64-4482-cf24-15a467c15029"
      },
      "execution_count": 16,
      "outputs": [
        {
          "output_type": "execute_result",
          "data": {
            "text/plain": [
              "device               0\n",
              "mobile_model_name    0\n",
              "operating_system     0\n",
              "language             0\n",
              "browser              0\n",
              "continent            0\n",
              "country              0\n",
              "medium               0\n",
              "traffic_info         0\n",
              "channel              0\n",
              "product_name         0\n",
              "product_category     0\n",
              "short_description    0\n",
              "sub-region           0\n",
              "dtype: int64"
            ],
            "text/html": [
              "<div>\n",
              "<style scoped>\n",
              "    .dataframe tbody tr th:only-of-type {\n",
              "        vertical-align: middle;\n",
              "    }\n",
              "\n",
              "    .dataframe tbody tr th {\n",
              "        vertical-align: top;\n",
              "    }\n",
              "\n",
              "    .dataframe thead th {\n",
              "        text-align: right;\n",
              "    }\n",
              "</style>\n",
              "<table border=\"1\" class=\"dataframe\">\n",
              "  <thead>\n",
              "    <tr style=\"text-align: right;\">\n",
              "      <th></th>\n",
              "      <th>0</th>\n",
              "    </tr>\n",
              "  </thead>\n",
              "  <tbody>\n",
              "    <tr>\n",
              "      <th>device</th>\n",
              "      <td>0</td>\n",
              "    </tr>\n",
              "    <tr>\n",
              "      <th>mobile_model_name</th>\n",
              "      <td>0</td>\n",
              "    </tr>\n",
              "    <tr>\n",
              "      <th>operating_system</th>\n",
              "      <td>0</td>\n",
              "    </tr>\n",
              "    <tr>\n",
              "      <th>language</th>\n",
              "      <td>0</td>\n",
              "    </tr>\n",
              "    <tr>\n",
              "      <th>browser</th>\n",
              "      <td>0</td>\n",
              "    </tr>\n",
              "    <tr>\n",
              "      <th>continent</th>\n",
              "      <td>0</td>\n",
              "    </tr>\n",
              "    <tr>\n",
              "      <th>country</th>\n",
              "      <td>0</td>\n",
              "    </tr>\n",
              "    <tr>\n",
              "      <th>medium</th>\n",
              "      <td>0</td>\n",
              "    </tr>\n",
              "    <tr>\n",
              "      <th>traffic_info</th>\n",
              "      <td>0</td>\n",
              "    </tr>\n",
              "    <tr>\n",
              "      <th>channel</th>\n",
              "      <td>0</td>\n",
              "    </tr>\n",
              "    <tr>\n",
              "      <th>product_name</th>\n",
              "      <td>0</td>\n",
              "    </tr>\n",
              "    <tr>\n",
              "      <th>product_category</th>\n",
              "      <td>0</td>\n",
              "    </tr>\n",
              "    <tr>\n",
              "      <th>short_description</th>\n",
              "      <td>0</td>\n",
              "    </tr>\n",
              "    <tr>\n",
              "      <th>sub-region</th>\n",
              "      <td>0</td>\n",
              "    </tr>\n",
              "  </tbody>\n",
              "</table>\n",
              "</div><br><label><b>dtype:</b> int64</label>"
            ]
          },
          "metadata": {},
          "execution_count": 16
        }
      ]
    },
    {
      "cell_type": "markdown",
      "source": [
        "Бачимо , що немає явних проблем з регістром , пробілами , зайвими сивмолами та іншими критеріями , які можуть спричиняти не зразу помітні дублікати(нариклад: Asia, asia)"
      ],
      "metadata": {
        "id": "PofuqfuuN-gn"
      }
    },
    {
      "cell_type": "markdown",
      "source": [
        "Пропущені значення:"
      ],
      "metadata": {
        "id": "aWWEDU5-IWP5"
      }
    },
    {
      "cell_type": "code",
      "source": [
        "mis_values = pd.DataFrame()\n",
        "mis_values['count'] = df.isnull().sum()\n",
        "mis_values['percent from total'] = df.isnull().sum() / len(df) * 100.0\n",
        "mis_values"
      ],
      "metadata": {
        "id": "ehboq5fMFRI_",
        "colab": {
          "base_uri": "https://localhost:8080/",
          "height": 0
        },
        "outputId": "867c1242-e2e7-4624-a353-abe82a89f1c9"
      },
      "execution_count": 17,
      "outputs": [
        {
          "output_type": "execute_result",
          "data": {
            "text/plain": [
              "                    count  percent from total\n",
              "ga_session_id           0            0.000000\n",
              "device                  0            0.000000\n",
              "mobile_model_name       0            0.000000\n",
              "operating_system        0            0.000000\n",
              "language           114266           32.689925\n",
              "browser                 0            0.000000\n",
              "continent               0            0.000000\n",
              "country                 0            0.000000\n",
              "medium                  0            0.000000\n",
              "traffic_info            0            0.000000\n",
              "channel                 0            0.000000\n",
              "date                    0            0.000000\n",
              "item_id            316007           90.405241\n",
              "product_name       316007           90.405241\n",
              "product_category   316007           90.405241\n",
              "price              316007           90.405241\n",
              "short_description  316007           90.405241\n",
              "account_id         321600           92.005321\n",
              "is_verified        321600           92.005321\n",
              "is_unsubscribed    321600           92.005321\n",
              "sub-region           4361            1.247622"
            ],
            "text/html": [
              "\n",
              "  <div id=\"df-e1c317b5-e79c-433b-af56-478b3fea9342\" class=\"colab-df-container\">\n",
              "    <div>\n",
              "<style scoped>\n",
              "    .dataframe tbody tr th:only-of-type {\n",
              "        vertical-align: middle;\n",
              "    }\n",
              "\n",
              "    .dataframe tbody tr th {\n",
              "        vertical-align: top;\n",
              "    }\n",
              "\n",
              "    .dataframe thead th {\n",
              "        text-align: right;\n",
              "    }\n",
              "</style>\n",
              "<table border=\"1\" class=\"dataframe\">\n",
              "  <thead>\n",
              "    <tr style=\"text-align: right;\">\n",
              "      <th></th>\n",
              "      <th>count</th>\n",
              "      <th>percent from total</th>\n",
              "    </tr>\n",
              "  </thead>\n",
              "  <tbody>\n",
              "    <tr>\n",
              "      <th>ga_session_id</th>\n",
              "      <td>0</td>\n",
              "      <td>0.000000</td>\n",
              "    </tr>\n",
              "    <tr>\n",
              "      <th>device</th>\n",
              "      <td>0</td>\n",
              "      <td>0.000000</td>\n",
              "    </tr>\n",
              "    <tr>\n",
              "      <th>mobile_model_name</th>\n",
              "      <td>0</td>\n",
              "      <td>0.000000</td>\n",
              "    </tr>\n",
              "    <tr>\n",
              "      <th>operating_system</th>\n",
              "      <td>0</td>\n",
              "      <td>0.000000</td>\n",
              "    </tr>\n",
              "    <tr>\n",
              "      <th>language</th>\n",
              "      <td>114266</td>\n",
              "      <td>32.689925</td>\n",
              "    </tr>\n",
              "    <tr>\n",
              "      <th>browser</th>\n",
              "      <td>0</td>\n",
              "      <td>0.000000</td>\n",
              "    </tr>\n",
              "    <tr>\n",
              "      <th>continent</th>\n",
              "      <td>0</td>\n",
              "      <td>0.000000</td>\n",
              "    </tr>\n",
              "    <tr>\n",
              "      <th>country</th>\n",
              "      <td>0</td>\n",
              "      <td>0.000000</td>\n",
              "    </tr>\n",
              "    <tr>\n",
              "      <th>medium</th>\n",
              "      <td>0</td>\n",
              "      <td>0.000000</td>\n",
              "    </tr>\n",
              "    <tr>\n",
              "      <th>traffic_info</th>\n",
              "      <td>0</td>\n",
              "      <td>0.000000</td>\n",
              "    </tr>\n",
              "    <tr>\n",
              "      <th>channel</th>\n",
              "      <td>0</td>\n",
              "      <td>0.000000</td>\n",
              "    </tr>\n",
              "    <tr>\n",
              "      <th>date</th>\n",
              "      <td>0</td>\n",
              "      <td>0.000000</td>\n",
              "    </tr>\n",
              "    <tr>\n",
              "      <th>item_id</th>\n",
              "      <td>316007</td>\n",
              "      <td>90.405241</td>\n",
              "    </tr>\n",
              "    <tr>\n",
              "      <th>product_name</th>\n",
              "      <td>316007</td>\n",
              "      <td>90.405241</td>\n",
              "    </tr>\n",
              "    <tr>\n",
              "      <th>product_category</th>\n",
              "      <td>316007</td>\n",
              "      <td>90.405241</td>\n",
              "    </tr>\n",
              "    <tr>\n",
              "      <th>price</th>\n",
              "      <td>316007</td>\n",
              "      <td>90.405241</td>\n",
              "    </tr>\n",
              "    <tr>\n",
              "      <th>short_description</th>\n",
              "      <td>316007</td>\n",
              "      <td>90.405241</td>\n",
              "    </tr>\n",
              "    <tr>\n",
              "      <th>account_id</th>\n",
              "      <td>321600</td>\n",
              "      <td>92.005321</td>\n",
              "    </tr>\n",
              "    <tr>\n",
              "      <th>is_verified</th>\n",
              "      <td>321600</td>\n",
              "      <td>92.005321</td>\n",
              "    </tr>\n",
              "    <tr>\n",
              "      <th>is_unsubscribed</th>\n",
              "      <td>321600</td>\n",
              "      <td>92.005321</td>\n",
              "    </tr>\n",
              "    <tr>\n",
              "      <th>sub-region</th>\n",
              "      <td>4361</td>\n",
              "      <td>1.247622</td>\n",
              "    </tr>\n",
              "  </tbody>\n",
              "</table>\n",
              "</div>\n",
              "    <div class=\"colab-df-buttons\">\n",
              "\n",
              "  <div class=\"colab-df-container\">\n",
              "    <button class=\"colab-df-convert\" onclick=\"convertToInteractive('df-e1c317b5-e79c-433b-af56-478b3fea9342')\"\n",
              "            title=\"Convert this dataframe to an interactive table.\"\n",
              "            style=\"display:none;\">\n",
              "\n",
              "  <svg xmlns=\"http://www.w3.org/2000/svg\" height=\"24px\" viewBox=\"0 -960 960 960\">\n",
              "    <path d=\"M120-120v-720h720v720H120Zm60-500h600v-160H180v160Zm220 220h160v-160H400v160Zm0 220h160v-160H400v160ZM180-400h160v-160H180v160Zm440 0h160v-160H620v160ZM180-180h160v-160H180v160Zm440 0h160v-160H620v160Z\"/>\n",
              "  </svg>\n",
              "    </button>\n",
              "\n",
              "  <style>\n",
              "    .colab-df-container {\n",
              "      display:flex;\n",
              "      gap: 12px;\n",
              "    }\n",
              "\n",
              "    .colab-df-convert {\n",
              "      background-color: #E8F0FE;\n",
              "      border: none;\n",
              "      border-radius: 50%;\n",
              "      cursor: pointer;\n",
              "      display: none;\n",
              "      fill: #1967D2;\n",
              "      height: 32px;\n",
              "      padding: 0 0 0 0;\n",
              "      width: 32px;\n",
              "    }\n",
              "\n",
              "    .colab-df-convert:hover {\n",
              "      background-color: #E2EBFA;\n",
              "      box-shadow: 0px 1px 2px rgba(60, 64, 67, 0.3), 0px 1px 3px 1px rgba(60, 64, 67, 0.15);\n",
              "      fill: #174EA6;\n",
              "    }\n",
              "\n",
              "    .colab-df-buttons div {\n",
              "      margin-bottom: 4px;\n",
              "    }\n",
              "\n",
              "    [theme=dark] .colab-df-convert {\n",
              "      background-color: #3B4455;\n",
              "      fill: #D2E3FC;\n",
              "    }\n",
              "\n",
              "    [theme=dark] .colab-df-convert:hover {\n",
              "      background-color: #434B5C;\n",
              "      box-shadow: 0px 1px 3px 1px rgba(0, 0, 0, 0.15);\n",
              "      filter: drop-shadow(0px 1px 2px rgba(0, 0, 0, 0.3));\n",
              "      fill: #FFFFFF;\n",
              "    }\n",
              "  </style>\n",
              "\n",
              "    <script>\n",
              "      const buttonEl =\n",
              "        document.querySelector('#df-e1c317b5-e79c-433b-af56-478b3fea9342 button.colab-df-convert');\n",
              "      buttonEl.style.display =\n",
              "        google.colab.kernel.accessAllowed ? 'block' : 'none';\n",
              "\n",
              "      async function convertToInteractive(key) {\n",
              "        const element = document.querySelector('#df-e1c317b5-e79c-433b-af56-478b3fea9342');\n",
              "        const dataTable =\n",
              "          await google.colab.kernel.invokeFunction('convertToInteractive',\n",
              "                                                    [key], {});\n",
              "        if (!dataTable) return;\n",
              "\n",
              "        const docLinkHtml = 'Like what you see? Visit the ' +\n",
              "          '<a target=\"_blank\" href=https://colab.research.google.com/notebooks/data_table.ipynb>data table notebook</a>'\n",
              "          + ' to learn more about interactive tables.';\n",
              "        element.innerHTML = '';\n",
              "        dataTable['output_type'] = 'display_data';\n",
              "        await google.colab.output.renderOutput(dataTable, element);\n",
              "        const docLink = document.createElement('div');\n",
              "        docLink.innerHTML = docLinkHtml;\n",
              "        element.appendChild(docLink);\n",
              "      }\n",
              "    </script>\n",
              "  </div>\n",
              "\n",
              "\n",
              "    <div id=\"df-07846586-6b90-4d3c-9803-f67570f7aacf\">\n",
              "      <button class=\"colab-df-quickchart\" onclick=\"quickchart('df-07846586-6b90-4d3c-9803-f67570f7aacf')\"\n",
              "                title=\"Suggest charts\"\n",
              "                style=\"display:none;\">\n",
              "\n",
              "<svg xmlns=\"http://www.w3.org/2000/svg\" height=\"24px\"viewBox=\"0 0 24 24\"\n",
              "     width=\"24px\">\n",
              "    <g>\n",
              "        <path d=\"M19 3H5c-1.1 0-2 .9-2 2v14c0 1.1.9 2 2 2h14c1.1 0 2-.9 2-2V5c0-1.1-.9-2-2-2zM9 17H7v-7h2v7zm4 0h-2V7h2v10zm4 0h-2v-4h2v4z\"/>\n",
              "    </g>\n",
              "</svg>\n",
              "      </button>\n",
              "\n",
              "<style>\n",
              "  .colab-df-quickchart {\n",
              "      --bg-color: #E8F0FE;\n",
              "      --fill-color: #1967D2;\n",
              "      --hover-bg-color: #E2EBFA;\n",
              "      --hover-fill-color: #174EA6;\n",
              "      --disabled-fill-color: #AAA;\n",
              "      --disabled-bg-color: #DDD;\n",
              "  }\n",
              "\n",
              "  [theme=dark] .colab-df-quickchart {\n",
              "      --bg-color: #3B4455;\n",
              "      --fill-color: #D2E3FC;\n",
              "      --hover-bg-color: #434B5C;\n",
              "      --hover-fill-color: #FFFFFF;\n",
              "      --disabled-bg-color: #3B4455;\n",
              "      --disabled-fill-color: #666;\n",
              "  }\n",
              "\n",
              "  .colab-df-quickchart {\n",
              "    background-color: var(--bg-color);\n",
              "    border: none;\n",
              "    border-radius: 50%;\n",
              "    cursor: pointer;\n",
              "    display: none;\n",
              "    fill: var(--fill-color);\n",
              "    height: 32px;\n",
              "    padding: 0;\n",
              "    width: 32px;\n",
              "  }\n",
              "\n",
              "  .colab-df-quickchart:hover {\n",
              "    background-color: var(--hover-bg-color);\n",
              "    box-shadow: 0 1px 2px rgba(60, 64, 67, 0.3), 0 1px 3px 1px rgba(60, 64, 67, 0.15);\n",
              "    fill: var(--button-hover-fill-color);\n",
              "  }\n",
              "\n",
              "  .colab-df-quickchart-complete:disabled,\n",
              "  .colab-df-quickchart-complete:disabled:hover {\n",
              "    background-color: var(--disabled-bg-color);\n",
              "    fill: var(--disabled-fill-color);\n",
              "    box-shadow: none;\n",
              "  }\n",
              "\n",
              "  .colab-df-spinner {\n",
              "    border: 2px solid var(--fill-color);\n",
              "    border-color: transparent;\n",
              "    border-bottom-color: var(--fill-color);\n",
              "    animation:\n",
              "      spin 1s steps(1) infinite;\n",
              "  }\n",
              "\n",
              "  @keyframes spin {\n",
              "    0% {\n",
              "      border-color: transparent;\n",
              "      border-bottom-color: var(--fill-color);\n",
              "      border-left-color: var(--fill-color);\n",
              "    }\n",
              "    20% {\n",
              "      border-color: transparent;\n",
              "      border-left-color: var(--fill-color);\n",
              "      border-top-color: var(--fill-color);\n",
              "    }\n",
              "    30% {\n",
              "      border-color: transparent;\n",
              "      border-left-color: var(--fill-color);\n",
              "      border-top-color: var(--fill-color);\n",
              "      border-right-color: var(--fill-color);\n",
              "    }\n",
              "    40% {\n",
              "      border-color: transparent;\n",
              "      border-right-color: var(--fill-color);\n",
              "      border-top-color: var(--fill-color);\n",
              "    }\n",
              "    60% {\n",
              "      border-color: transparent;\n",
              "      border-right-color: var(--fill-color);\n",
              "    }\n",
              "    80% {\n",
              "      border-color: transparent;\n",
              "      border-right-color: var(--fill-color);\n",
              "      border-bottom-color: var(--fill-color);\n",
              "    }\n",
              "    90% {\n",
              "      border-color: transparent;\n",
              "      border-bottom-color: var(--fill-color);\n",
              "    }\n",
              "  }\n",
              "</style>\n",
              "\n",
              "      <script>\n",
              "        async function quickchart(key) {\n",
              "          const quickchartButtonEl =\n",
              "            document.querySelector('#' + key + ' button');\n",
              "          quickchartButtonEl.disabled = true;  // To prevent multiple clicks.\n",
              "          quickchartButtonEl.classList.add('colab-df-spinner');\n",
              "          try {\n",
              "            const charts = await google.colab.kernel.invokeFunction(\n",
              "                'suggestCharts', [key], {});\n",
              "          } catch (error) {\n",
              "            console.error('Error during call to suggestCharts:', error);\n",
              "          }\n",
              "          quickchartButtonEl.classList.remove('colab-df-spinner');\n",
              "          quickchartButtonEl.classList.add('colab-df-quickchart-complete');\n",
              "        }\n",
              "        (() => {\n",
              "          let quickchartButtonEl =\n",
              "            document.querySelector('#df-07846586-6b90-4d3c-9803-f67570f7aacf button');\n",
              "          quickchartButtonEl.style.display =\n",
              "            google.colab.kernel.accessAllowed ? 'block' : 'none';\n",
              "        })();\n",
              "      </script>\n",
              "    </div>\n",
              "    </div>\n",
              "  </div>\n"
            ],
            "application/vnd.google.colaboratory.intrinsic+json": {
              "type": "dataframe",
              "variable_name": "mis_values",
              "summary": "{\n  \"name\": \"mis_values\",\n  \"rows\": 21,\n  \"fields\": [\n    {\n      \"column\": \"count\",\n      \"properties\": {\n        \"dtype\": \"number\",\n        \"std\": 155699,\n        \"min\": 0,\n        \"max\": 321600,\n        \"num_unique_values\": 5,\n        \"samples\": [\n          114266,\n          4361,\n          316007\n        ],\n        \"semantic_type\": \"\",\n        \"description\": \"\"\n      }\n    },\n    {\n      \"column\": \"percent from total\",\n      \"properties\": {\n        \"dtype\": \"number\",\n        \"std\": 44.54347368929529,\n        \"min\": 0.0,\n        \"max\": 92.00532120327854,\n        \"num_unique_values\": 5,\n        \"samples\": [\n          32.689925474545475,\n          1.2476219084810252,\n          90.40524109914317\n        ],\n        \"semantic_type\": \"\",\n        \"description\": \"\"\n      }\n    }\n  ]\n}"
            }
          },
          "metadata": {},
          "execution_count": 17
        }
      ]
    },
    {
      "cell_type": "markdown",
      "source": [
        "Найбільше пропущених значень в колонках, які відображають хар-ки товару та регістрацію юзера. Це пов'язано з тим, що тільки в 10 % сесій робиться замовлення і тільки 8% сесій припадає на зареєстрованих користувачів  \n",
        "Єдине поле , яке має пропущені значення через їх завантаження і якість - це поле language. Тут треба розбиратись з причинами незаповнення цих даних"
      ],
      "metadata": {
        "id": "_yCe7Y9AGv3K"
      }
    },
    {
      "cell_type": "markdown",
      "source": [
        "Дублікати:"
      ],
      "metadata": {
        "id": "zXN4HllnIYHp"
      }
    },
    {
      "cell_type": "code",
      "source": [
        "df[df.duplicated() == True]"
      ],
      "metadata": {
        "id": "WHkpz3CoHF-V",
        "colab": {
          "base_uri": "https://localhost:8080/",
          "height": 0
        },
        "outputId": "7285d852-b743-4abf-807c-dbb9fb72b1ce"
      },
      "execution_count": 18,
      "outputs": [
        {
          "output_type": "execute_result",
          "data": {
            "text/plain": [
              "Empty DataFrame\n",
              "Columns: [ga_session_id, device, mobile_model_name, operating_system, language, browser, continent, country, medium, traffic_info, channel, date, item_id, product_name, product_category, price, short_description, account_id, is_verified, is_unsubscribed, sub-region]\n",
              "Index: []\n",
              "\n",
              "[0 rows x 21 columns]"
            ],
            "text/html": [
              "\n",
              "  <div id=\"df-fa198819-8d28-4f2c-96c3-590ad724e73b\" class=\"colab-df-container\">\n",
              "    <div>\n",
              "<style scoped>\n",
              "    .dataframe tbody tr th:only-of-type {\n",
              "        vertical-align: middle;\n",
              "    }\n",
              "\n",
              "    .dataframe tbody tr th {\n",
              "        vertical-align: top;\n",
              "    }\n",
              "\n",
              "    .dataframe thead th {\n",
              "        text-align: right;\n",
              "    }\n",
              "</style>\n",
              "<table border=\"1\" class=\"dataframe\">\n",
              "  <thead>\n",
              "    <tr style=\"text-align: right;\">\n",
              "      <th></th>\n",
              "      <th>ga_session_id</th>\n",
              "      <th>device</th>\n",
              "      <th>mobile_model_name</th>\n",
              "      <th>operating_system</th>\n",
              "      <th>language</th>\n",
              "      <th>browser</th>\n",
              "      <th>continent</th>\n",
              "      <th>country</th>\n",
              "      <th>medium</th>\n",
              "      <th>traffic_info</th>\n",
              "      <th>...</th>\n",
              "      <th>date</th>\n",
              "      <th>item_id</th>\n",
              "      <th>product_name</th>\n",
              "      <th>product_category</th>\n",
              "      <th>price</th>\n",
              "      <th>short_description</th>\n",
              "      <th>account_id</th>\n",
              "      <th>is_verified</th>\n",
              "      <th>is_unsubscribed</th>\n",
              "      <th>sub-region</th>\n",
              "    </tr>\n",
              "  </thead>\n",
              "  <tbody>\n",
              "  </tbody>\n",
              "</table>\n",
              "<p>0 rows × 21 columns</p>\n",
              "</div>\n",
              "    <div class=\"colab-df-buttons\">\n",
              "\n",
              "  <div class=\"colab-df-container\">\n",
              "    <button class=\"colab-df-convert\" onclick=\"convertToInteractive('df-fa198819-8d28-4f2c-96c3-590ad724e73b')\"\n",
              "            title=\"Convert this dataframe to an interactive table.\"\n",
              "            style=\"display:none;\">\n",
              "\n",
              "  <svg xmlns=\"http://www.w3.org/2000/svg\" height=\"24px\" viewBox=\"0 -960 960 960\">\n",
              "    <path d=\"M120-120v-720h720v720H120Zm60-500h600v-160H180v160Zm220 220h160v-160H400v160Zm0 220h160v-160H400v160ZM180-400h160v-160H180v160Zm440 0h160v-160H620v160ZM180-180h160v-160H180v160Zm440 0h160v-160H620v160Z\"/>\n",
              "  </svg>\n",
              "    </button>\n",
              "\n",
              "  <style>\n",
              "    .colab-df-container {\n",
              "      display:flex;\n",
              "      gap: 12px;\n",
              "    }\n",
              "\n",
              "    .colab-df-convert {\n",
              "      background-color: #E8F0FE;\n",
              "      border: none;\n",
              "      border-radius: 50%;\n",
              "      cursor: pointer;\n",
              "      display: none;\n",
              "      fill: #1967D2;\n",
              "      height: 32px;\n",
              "      padding: 0 0 0 0;\n",
              "      width: 32px;\n",
              "    }\n",
              "\n",
              "    .colab-df-convert:hover {\n",
              "      background-color: #E2EBFA;\n",
              "      box-shadow: 0px 1px 2px rgba(60, 64, 67, 0.3), 0px 1px 3px 1px rgba(60, 64, 67, 0.15);\n",
              "      fill: #174EA6;\n",
              "    }\n",
              "\n",
              "    .colab-df-buttons div {\n",
              "      margin-bottom: 4px;\n",
              "    }\n",
              "\n",
              "    [theme=dark] .colab-df-convert {\n",
              "      background-color: #3B4455;\n",
              "      fill: #D2E3FC;\n",
              "    }\n",
              "\n",
              "    [theme=dark] .colab-df-convert:hover {\n",
              "      background-color: #434B5C;\n",
              "      box-shadow: 0px 1px 3px 1px rgba(0, 0, 0, 0.15);\n",
              "      filter: drop-shadow(0px 1px 2px rgba(0, 0, 0, 0.3));\n",
              "      fill: #FFFFFF;\n",
              "    }\n",
              "  </style>\n",
              "\n",
              "    <script>\n",
              "      const buttonEl =\n",
              "        document.querySelector('#df-fa198819-8d28-4f2c-96c3-590ad724e73b button.colab-df-convert');\n",
              "      buttonEl.style.display =\n",
              "        google.colab.kernel.accessAllowed ? 'block' : 'none';\n",
              "\n",
              "      async function convertToInteractive(key) {\n",
              "        const element = document.querySelector('#df-fa198819-8d28-4f2c-96c3-590ad724e73b');\n",
              "        const dataTable =\n",
              "          await google.colab.kernel.invokeFunction('convertToInteractive',\n",
              "                                                    [key], {});\n",
              "        if (!dataTable) return;\n",
              "\n",
              "        const docLinkHtml = 'Like what you see? Visit the ' +\n",
              "          '<a target=\"_blank\" href=https://colab.research.google.com/notebooks/data_table.ipynb>data table notebook</a>'\n",
              "          + ' to learn more about interactive tables.';\n",
              "        element.innerHTML = '';\n",
              "        dataTable['output_type'] = 'display_data';\n",
              "        await google.colab.output.renderOutput(dataTable, element);\n",
              "        const docLink = document.createElement('div');\n",
              "        docLink.innerHTML = docLinkHtml;\n",
              "        element.appendChild(docLink);\n",
              "      }\n",
              "    </script>\n",
              "  </div>\n",
              "\n",
              "    </div>\n",
              "  </div>\n"
            ],
            "application/vnd.google.colaboratory.intrinsic+json": {
              "type": "dataframe"
            }
          },
          "metadata": {},
          "execution_count": 18
        }
      ]
    },
    {
      "cell_type": "markdown",
      "source": [
        "Дублікатів в датасеті немає"
      ],
      "metadata": {
        "id": "M4A-3LG9IJKp"
      }
    },
    {
      "cell_type": "markdown",
      "source": [
        "Створюємо копію датасета з якою будемо працювати"
      ],
      "metadata": {
        "id": "ph-UKLML-SJA"
      }
    },
    {
      "cell_type": "code",
      "source": [
        "copy_df = df.copy()"
      ],
      "metadata": {
        "id": "E9nR-qRq-Nlf"
      },
      "execution_count": 19,
      "outputs": []
    },
    {
      "cell_type": "markdown",
      "source": [
        "#Аналіз:"
      ],
      "metadata": {
        "id": "GD6cZ9ueTEIl"
      }
    },
    {
      "cell_type": "markdown",
      "source": [
        "Покриття ринків:"
      ],
      "metadata": {
        "id": "KZKpIBjPzQmt"
      }
    },
    {
      "cell_type": "code",
      "source": [
        "print(f'Regions: {copy_df['continent'].nunique()}')\n",
        "print(f'Sub-regions: {copy_df['sub-region'].nunique()}')\n",
        "print(f'Countries: {copy_df['country'].nunique()}')"
      ],
      "metadata": {
        "id": "b7H_DPYytPDm",
        "colab": {
          "base_uri": "https://localhost:8080/"
        },
        "outputId": "8bf17648-bf07-48ea-810e-b74d72b7c29e"
      },
      "execution_count": 20,
      "outputs": [
        {
          "output_type": "stream",
          "name": "stdout",
          "text": [
            "Regions: 6\n",
            "Sub-regions: 14\n",
            "Countries: 108\n"
          ]
        }
      ]
    },
    {
      "cell_type": "markdown",
      "source": [
        "Наша компанія представлена на 6 континентах, в 14 суб-регіонах та в 108-и країнах.  \n",
        "Можно стверджувати, що компанія представлена по всьому світі\n"
      ],
      "metadata": {
        "id": "582Jes9rzvf9"
      }
    },
    {
      "cell_type": "markdown",
      "source": [
        "##Аналіз в розрізі регіонів:"
      ],
      "metadata": {
        "id": "ofPCZIqz47sT"
      }
    },
    {
      "cell_type": "markdown",
      "source": [
        "Дохід по регіонам:"
      ],
      "metadata": {
        "id": "k79Upl916ogh"
      }
    },
    {
      "cell_type": "code",
      "source": [
        "parametr = ['continent', 'sub-region','country']\n",
        "parametr_sel = widgets.Dropdown(options = parametr, value = 'continent', description = 'By:')\n",
        "tops =  ['all'] + list(range(1, 11))\n",
        "top_sel = widgets.Dropdown(options = tops, value = 'all', description = 'Top:')"
      ],
      "metadata": {
        "id": "HybK5GXsxRbd"
      },
      "execution_count": 21,
      "outputs": []
    },
    {
      "cell_type": "markdown",
      "source": [
        "##Загальні метрики:"
      ],
      "metadata": {
        "id": "6XqlOVeaSCd4"
      }
    },
    {
      "cell_type": "code",
      "source": [
        "\n",
        "def interactive_vis (par,top):\n",
        "        grouped_data = copy_df.groupby(par, as_index = False).agg(revenue = ('price', 'sum'),\n",
        "                                                                    aov = ('price', 'mean'),\n",
        "                                                                    total_sessions = ('ga_session_id', 'count'),\n",
        "                                                                    sessions_with_orders = ('product_name', 'count'),\n",
        "                                                                    register_users = ('account_id', 'count'),\n",
        "                                                                    sub_count = ('account_id', lambda x: ((copy_df.loc[x.index, 'is_unsubscribed'] == 0) &\n",
        "                                                                                                          (copy_df.loc[x.index, 'is_verified'] == 0)).sum()),\n",
        "                                                                    ver_count = ('account_id', lambda x: ((copy_df.loc[x.index, 'is_verified'] == 1) &\n",
        "                                                                                                           (copy_df.loc[x.index, 'is_unsubscribed'] == 1)).sum()),\n",
        "                                                                    sub_ver_count = ('account_id', lambda x: ((copy_df.loc[x.index, 'is_verified'] == 1) &\n",
        "                                                                                                              (copy_df.loc[x.index, 'is_unsubscribed'] == 0)).sum()),\n",
        "                                                                    other_reg_cnt = ('account_id', lambda x: ((copy_df.loc[x.index, 'is_verified'] == 0) &\n",
        "                                                                                                              (copy_df.loc[x.index, 'is_unsubscribed'] == 1)).sum())\n",
        "\n",
        "  )\n",
        "        grouped_data['% from total'] = grouped_data['revenue'] / copy_df['price'].sum() * 100.0\n",
        "        grouped_data['conversation_rate'] = grouped_data['sessions_with_orders'] / grouped_data['total_sessions']\n",
        "        grouped_data['coef_sub'] = grouped_data['sub_count'] / grouped_data['register_users']\n",
        "        grouped_data['coef_ver'] = grouped_data['ver_count'] / grouped_data['register_users']\n",
        "        grouped_data['sessions_without_orders'] = grouped_data['total_sessions'] - grouped_data['sessions_with_orders']\n",
        "        if top != 'all':\n",
        "\n",
        "          sorted_revenue = grouped_data.sort_values( by ='revenue', ascending = False).head(top)\n",
        "          sorted_per_from_total = grouped_data.sort_values (by ='% from total', ascending = False).head(top)\n",
        "          sorted_aov = grouped_data.sort_values(by = 'aov', ascending = False).head(top)\n",
        "          sorted_sessions = grouped_data.sort_values(by = 'total_sessions', ascending = True).head(top)\n",
        "          sorted_reg = grouped_data.sort_values(by = 'register_users', ascending = True).head(top)\n",
        "        else:\n",
        "          sorted_revenue = grouped_data.sort_values( by ='revenue', ascending = False)\n",
        "          sorted_per_from_total = grouped_data.sort_values (by ='% from total', ascending = False)\n",
        "          sorted_aov = grouped_data.sort_values(by = 'aov', ascending = False)\n",
        "          sorted_sessions = grouped_data.sort_values(by = 'total_sessions', ascending = True)\n",
        "          sorted_reg = grouped_data.sort_values(by = 'register_users', ascending = True)\n",
        "\n",
        "        fig1 = go.Treemap(\n",
        "                         labels=sorted_revenue[par],\n",
        "                         values=sorted_revenue['revenue'],\n",
        "                         parents=['']*len(sorted_revenue),\n",
        "                         marker=dict(\n",
        "                           colors=sorted_revenue['revenue'],\n",
        "                           colorscale='blugrn',\n",
        "                           colorbar=dict(title='Revenue'),\n",
        "                           showscale = False\n",
        "                                     ),\n",
        "                        hovertemplate='<b>%{label}</b><br>Revenue: %{value}<extra></extra>',\n",
        "                        text=[\n",
        "                               f\"<span style='color:white'><b>{label}</b></span><br>\"\n",
        "                               f\"<span style='font-size:10px; color:white'>${val/1e6:.2f}M</span>\"\n",
        "                               for label, val in zip(sorted_revenue[par], sorted_revenue['revenue'])\n",
        "                         ],\n",
        "                        textinfo = 'text'\n",
        "    )\n",
        "\n",
        "        fig2 = go.Treemap(\n",
        "                          labels=sorted_per_from_total[par],\n",
        "                          values=sorted_per_from_total['% from total'],\n",
        "                          parents=['']*len(sorted_per_from_total),\n",
        "                          marker=dict(\n",
        "                                      colors=sorted_per_from_total['% from total'],\n",
        "                                      colorscale='blugrn',\n",
        "                                      colorbar=dict(title='% of Total'),\n",
        "                                      showscale = False\n",
        "                                      ),\n",
        "                          text=[\n",
        "                               f\"<span style='color:white'><b>{label}</b></span><br>\"\n",
        "                               f\"<span style='font-size:10px; color:white'>{val:.2f}%</span>\"\n",
        "                               for label, val in zip(sorted_per_from_total[par], sorted_per_from_total['% from total'])\n",
        "                          ],\n",
        "                          textinfo = 'text',\n",
        "                          hovertemplate='<b>%{label}</b><br>% of Total: %{value:.2f}%<extra></extra>',\n",
        "\n",
        "    )\n",
        "        fig3 = go.Bar(x = sorted_aov[par],\n",
        "                      y = sorted_aov['aov'],\n",
        "                      marker = dict(color = sorted_aov['aov'],\n",
        "                                    colorscale = 'blugrn'),\n",
        "                      text = (sorted_aov[\"aov\"].round(0)),\n",
        "                      textposition = 'outside',\n",
        "                      textfont = dict(color = 'black',\n",
        "                                      size = 9),\n",
        "                      cliponaxis=True\n",
        "        )\n",
        "\n",
        "        fig4_orders = go.Bar( x = sorted_sessions['sessions_with_orders'], y = sorted_sessions[par], orientation = 'h', showlegend=True, legendgroup='orders',\n",
        "                             marker_color = 'darkcyan',\n",
        "                             text = (sorted_sessions['sessions_with_orders'] / sorted_sessions['total_sessions'] * 100).round(2).astype(str) + '%',\n",
        "                             textposition='inside',\n",
        "                             textfont =dict(color = 'white',\n",
        "                                            size = 7),\n",
        "                             insidetextanchor='middle',\n",
        "                             textangle=0,\n",
        "                             hovertext = (sorted_sessions['sessions_with_orders'] / 1000).astype(str) + 'K',\n",
        "                             hoverinfo = 'text')\n",
        "        fig4_sessions = go.Bar( x = sorted_sessions['sessions_without_orders'], y = sorted_sessions[par], orientation = 'h', showlegend=True, legendgroup='orders',\n",
        "                               marker_color = 'seagreen',\n",
        "                               text = (sorted_sessions['sessions_without_orders'] / sorted_sessions['total_sessions'] * 100).round(2).astype(str) + '%',\n",
        "                                textposition = 'inside',\n",
        "                                textfont = dict(color = 'white',\n",
        "                                                size = 7),\n",
        "                                insidetextanchor = 'middle',\n",
        "                                textangle = 0,\n",
        "                                hovertext = (sorted_sessions['sessions_without_orders'] / 1000).astype(str) + 'K',\n",
        "                                hoverinfo = 'text')\n",
        "        fig4_total_sessions = go.Scatter( x = sorted_sessions['total_sessions'] *1.05 + 4000,\n",
        "                                         y = sorted_sessions[par],\n",
        "                                         mode='text',\n",
        "                                         text=(sorted_sessions['total_sessions'] / 1000).round(2).astype(str) + 'K',\n",
        "                                         textfont=dict(color = 'black',\n",
        "                                                       size=10),\n",
        "                                         showlegend=False,\n",
        "                                         hoverinfo='skip'\n",
        "                                          )\n",
        "        fig5_subs = go.Bar( x = sorted_reg['sub_count'], y = sorted_reg[par], orientation = 'h', showlegend=True, legendgroup='users',\n",
        "                           marker_color = 'darkcyan',\n",
        "                           text = (sorted_reg['sub_count'] / sorted_reg['register_users'] * 100).round(2).astype(str) + '%',\n",
        "                           textposition='inside',\n",
        "                           textfont =dict(color = 'white',\n",
        "                                          size = 7),\n",
        "                           insidetextanchor='middle',\n",
        "                           textangle=0,\n",
        "                           hovertext = (sorted_reg['sub_count'] / 1000).astype(str) + 'K',\n",
        "                           hoverinfo = 'text')\n",
        "        fig5_ver = go.Bar ( x = sorted_reg['ver_count'],  y = sorted_reg[par], orientation = 'h', showlegend=True, legendgroup='users',\n",
        "                           marker_color = 'mediumaquamarine',\n",
        "                           text = (sorted_reg['ver_count'] / sorted_reg['register_users'] * 100).round(2).astype(str) + '%',\n",
        "                           textposition='inside',\n",
        "                           textfont =dict(color = 'white',\n",
        "                                          size = 7),\n",
        "                           insidetextanchor='middle',\n",
        "                           textangle=0,\n",
        "                           hovertext = (sorted_reg['ver_count'] / 1000).astype(str) + 'K',\n",
        "                           hoverinfo = 'text')\n",
        "        fig5_sub_ver = go.Bar( x = sorted_reg['sub_ver_count'], y = sorted_reg[par], orientation = 'h', showlegend=True, legendgroup='users',\n",
        "                              marker_color = 'seagreen',\n",
        "                              text = (sorted_reg['sub_ver_count'] / sorted_reg['register_users'] * 100).round(2).astype(str) + '%',\n",
        "                              textposition='inside',\n",
        "                              textfont =dict(color = 'white',\n",
        "                                             size = 7),\n",
        "                              insidetextanchor='middle',\n",
        "                              textangle=0,\n",
        "                              hovertext = (sorted_reg['sub_ver_count'] / 1000).astype(str) + 'K',\n",
        "                              hoverinfo = 'text')\n",
        "        fig5_other_reg = go.Bar( x = sorted_reg['other_reg_cnt'], y = sorted_reg[par], orientation = 'h', showlegend=True, legendgroup='users',\n",
        "                                marker_color = 'rosybrown',\n",
        "                                text = (sorted_reg['other_reg_cnt'] / sorted_reg['register_users'] * 100).round(2).astype(str) + '%',\n",
        "                                textposition='inside',\n",
        "                                textfont =dict(color = 'white',\n",
        "                                               size = 7),\n",
        "                                insidetextanchor='middle',\n",
        "                                textangle=0,\n",
        "                                hovertext = (sorted_reg['other_reg_cnt'] / 1000).astype(str) + 'K',\n",
        "                                hoverinfo = 'text')\n",
        "        fig5_total_reg = go.Scatter( x=sorted_reg['sub_count'] + sorted_reg['ver_count'] + sorted_reg['sub_ver_count'] + sorted_reg['other_reg_cnt'] * 1.03 + 500,\n",
        "                                          y=sorted_reg[par],\n",
        "                                          mode='text',\n",
        "                                          text=(sorted_reg['register_users'] / 1000).round(2).astype(str) + 'K',\n",
        "                                          textfont=dict(size=10, color='black'),\n",
        "                                          showlegend=False,\n",
        "                                          hoverinfo='skip'\n",
        "                                   )\n",
        "\n",
        "\n",
        "        fig = make_subplots(rows=3, cols=2,\n",
        "                            specs = [[{'type': 'domain'}, {'type': 'domain'}], [{\"colspan\": 2}, None], [{}, {}]],\n",
        "                            subplot_titles = (\n",
        "            f'Revenue by {par}',\n",
        "            f'% Revenue from Total by {par}',\n",
        "            f'AOV by {par}',\n",
        "            f'Sessions & orders by {par}',\n",
        "            f'Register users(verified & subscribed) by {par}')\n",
        "        )\n",
        "\n",
        "        fig.add_trace(fig1, row=1, col=1)\n",
        "        fig.add_trace(fig2, row=1, col=2)\n",
        "        fig.add_trace(fig3, row=2, col=1)\n",
        "        fig.add_trace(fig4_orders, row=3, col=1)\n",
        "        fig.add_trace(fig4_sessions, row=3, col=1)\n",
        "        fig.add_trace(fig4_total_sessions, row = 3 , col = 1)\n",
        "\n",
        "        fig.add_trace(fig5_subs, row=3, col=2)\n",
        "        fig.add_trace(fig5_ver, row=3, col=2)\n",
        "        fig.add_trace(fig5_sub_ver, row=3, col=2)\n",
        "        fig.add_trace(fig5_other_reg, row = 3 , col = 2)\n",
        "        fig.add_trace(fig5_total_reg, row = 3 , col = 2)\n",
        "\n",
        "        fig.update_layout(\n",
        "          title=f'Analysis by {par}',\n",
        "          height=1000,\n",
        "          width=1500,\n",
        "          showlegend= False,\n",
        "          margin=dict(t=50, b=50, l=25, r=25),\n",
        "          barmode = 'stack',\n",
        "          plot_bgcolor = 'aliceblue',\n",
        "          paper_bgcolor ='lightcyan',\n",
        "          legend=dict(\n",
        "            x=0.0,\n",
        "            y=0.1,\n",
        "            traceorder=\"normal\",\n",
        "            font=dict(size=12),\n",
        "            bgcolor=\"rgba(255, 255, 255, 0.5)\"\n",
        "        )\n",
        "\n",
        "    )\n",
        "        fig.update_xaxes(title_text=par, row=2, col=1)\n",
        "        fig.update_yaxes(title_text='AOV', row=2, col=1)\n",
        "\n",
        "        fig.add_annotation(\n",
        "                           x=0.999, y=0.23,  # Розміщуємо легенду поруч із графіком\n",
        "                           text=(\n",
        "                                  '<span style=\"color:#008080;font-size:18px;\">■</span> **verified**<br>'\n",
        "                                  '<span style=\"color:#3CB371;font-size:18px;\">■</span> **subscribed**<br>'\n",
        "                                  '<span style=\"color:#B7E1FC;font-size:18px;\">■</span> **other reg**'\n",
        "                                ),\n",
        "                           showarrow=False,\n",
        "                           xref=\"paper\", yref=\"paper\",\n",
        "                           align=\"left\",\n",
        "                           bgcolor=\"rgba(255, 255, 255, 0.8)\",\n",
        "                           font=dict(size=10)\n",
        "                          )\n",
        "        fig.add_annotation(\n",
        "                           x=0.4, y=0.23,  # Розміщуємо легенду поруч із графіком\n",
        "                           text=(\n",
        "                                  '<span style=\"color:#3CB371;font-size:18px;\">■</span> **orders**<br>'\n",
        "                                  '<span style=\"color:#B7E1FC;font-size:18px;\">■</span> **sessions without orders**'\n",
        "                                ),\n",
        "                           showarrow=False,\n",
        "                           xref=\"paper\", yref=\"paper\",\n",
        "                           align=\"left\",\n",
        "                           bgcolor=\"rgba(255, 255, 255, 0.8)\",\n",
        "                           font=dict(size=10)\n",
        "                          )\n",
        "\n",
        "\n",
        "        fig.show()\n",
        "\n",
        "widgets.interact(interactive_vis, par=parametr_sel, top = top_sel)\n",
        "\n"
      ],
      "metadata": {
        "id": "zzANYf8pxvsE",
        "colab": {
          "base_uri": "https://localhost:8080/",
          "height": 1000,
          "referenced_widgets": [
            "583e7a68549e42e895dc2252f59aad13",
            "b2d21c6ec9de4fc083336bd4decb6ca1",
            "b0b2fc1a0e41479db9447bcfdfd3d7e1",
            "b71a7f9ff9ca47b6bdce75ac2d6861f4",
            "3d1cb93d72d64b7caa84af4f987e560d",
            "06ccbabc80b840c3ba6f8fb0b9dfdf16",
            "25044454c8f14d7393a5a3dc8e175a93",
            "f0d30468f3f046f58d374de8dde6a8b6",
            "1430e32260ba49d890577e3c54a92869",
            "46ff62b944764fc7a49ef9cdd3d5a959"
          ]
        },
        "outputId": "624eda6c-2658-4d19-8023-f5fd2b8bac96"
      },
      "execution_count": 22,
      "outputs": [
        {
          "output_type": "display_data",
          "data": {
            "text/plain": [
              "interactive(children=(Dropdown(description='By:', options=('continent', 'sub-region', 'country'), value='conti…"
            ],
            "application/vnd.jupyter.widget-view+json": {
              "version_major": 2,
              "version_minor": 0,
              "model_id": "583e7a68549e42e895dc2252f59aad13"
            }
          },
          "metadata": {
            "application/vnd.jupyter.widget-view+json": {
              "colab": {
                "custom_widget_manager": {
                  "url": "https://ssl.gstatic.com/colaboratory-static/widgets/colab-cdn-widget-manager/2b70e893a8ba7c0f/manager.min.js"
                }
              }
            }
          }
        },
        {
          "output_type": "execute_result",
          "data": {
            "text/plain": [
              "<function __main__.interactive_vis(par, top)>"
            ],
            "text/html": [
              "<div style=\"max-width:800px; border: 1px solid var(--colab-border-color);\"><style>\n",
              "      pre.function-repr-contents {\n",
              "        overflow-x: auto;\n",
              "        padding: 8px 12px;\n",
              "        max-height: 500px;\n",
              "      }\n",
              "\n",
              "      pre.function-repr-contents.function-repr-contents-collapsed {\n",
              "        cursor: pointer;\n",
              "        max-height: 100px;\n",
              "      }\n",
              "    </style>\n",
              "    <pre style=\"white-space: initial; background:\n",
              "         var(--colab-secondary-surface-color); padding: 8px 12px;\n",
              "         border-bottom: 1px solid var(--colab-border-color);\"><b>interactive_vis</b><br/>def interactive_vis(par, top)</pre><pre class=\"function-repr-contents function-repr-contents-collapsed\" style=\"\"><a class=\"filepath\" style=\"display:none\" href=\"#\">/tmp/ipython-input-4255961376.py</a>&lt;no docstring&gt;</pre></div>"
            ]
          },
          "metadata": {},
          "execution_count": 22
        }
      ]
    },
    {
      "cell_type": "markdown",
      "source": [
        "**По регіонам:**  \n",
        "\n",
        "Більше половину доходу приносить континент Америка - 55%.Європа та Азія в сумі приносять близько 42% доходу. Відповідно ці 3 континента формують  основний дохід компанії.   \n",
        "Така сама ситуація по кількості сесій, замовлень та зарєстрованим користувачам, ці 3 континента формуть майже всю частку показників компанії.  \n",
        "Також співвідношення кількості сесій до кількості замовлень майже однаково, що свідчить про однаково ефективні стратегії залучення клієнтів.  \n",
        "Якщо дивитись на середній чек бачимо що він знаходиться в достатньо вузькому діапазоні 950-1000, що свідчить про наявність купівельної спроможності на всіх континентах  \n",
        "Бачимо , метрики сесій та реєстрацій мають таку саму послідовність регіонів, як і дохід, що може свідчити про взаємозв'язок цих метрик і потребує перевірки.Натомість середній чек може не мати вплива на розмір доходу.  \n",
        "\n",
        "**По суб-регіонам(топ-10):**  \n",
        "\n",
        "Поглиблюючись бачимо , що прибуток 55% прибутку формує не просто континент Америка а саме Північна Америка -51 % від доходу.Також цей суб-регіон займає лідерство і по кількості сесій і по кількості зареєстрованих користувачів, формуючи більшу частку цих показників.  \n",
        "Всі інші суб-регіони мають меньше 10% від загального прибутку кожен.  \n",
        "Конверсія сесії-замовлення має близькі значення для топ-10 суб-регіонів  \n",
        "\n",
        "**По країнам(топ-10):**  \n",
        "Поглиблюючись ще на один рівень, вже бачимо картину, що 42% доходу від 51% доходу суб-регіону формує саме США, тоді як Канада формує  тільки 7.6%.Так само США домінують і по кількості сесій і по кількості зареєстрованих користувачів.  \n",
        "По іншим регіонам: найприбутковіша країна Азії -Індія 8.8% , Європи - Великобританія - 3%. Країн Африки немає в топ-10.  \n",
        "На рівні країн теж зберігається майже ідентична послідовність по доходу, по кількості сесій, та по кількості зареєстрованих юзерів.І зберігається візуальна відсутність взаємозв'язку з середнім чеком.\n"
      ],
      "metadata": {
        "id": "wbz_Ue2XkLYK"
      }
    },
    {
      "cell_type": "markdown",
      "source": [
        " **Оскільки всього 1 країна(США) формує 42% доходу компанії проведемо ризик- аналіз такого розподілу.  \n",
        "Також на основі візуальної інформації можно сформувати декілька гіпотез:  \n",
        "Гіпотеза 1: зі збільшенням кількості сесій  в географічній зоні - зростає дохід.  \n",
        "Гіпотеза 2: зі збільшенням зареєстрованих користувачів в географічній зоні - зростає дохід.  \n",
        "Гіпотеза 3: розмір середнього чеку не впливає на дохід в географічній зоні.  \n",
        "Ці гіпотези ми перевіремо після закінчення аналізу в розділі \"Пошук взаємозв'язків\"**"
      ],
      "metadata": {
        "id": "55Gze5p4roMS"
      }
    },
    {
      "cell_type": "code",
      "source": [],
      "metadata": {
        "id": "2_BJJa_5z1hu"
      },
      "execution_count": 22,
      "outputs": []
    },
    {
      "cell_type": "markdown",
      "source": [
        "##Аналіз популярності девайсів:"
      ],
      "metadata": {
        "id": "ZizHzdUP-rDW"
      }
    },
    {
      "cell_type": "code",
      "source": [
        "def interactive_vis2(par):\n",
        "  clear_output(wait=True)\n",
        "  grouped_data = copy_df.groupby([par, 'device'], as_index = False).agg(total_revenue = ('price', 'sum'),\n",
        "                                          aov = ('price', 'mean'))\n",
        "  sorted_revenue = grouped_data.groupby(par, as_index = False)['total_revenue'].sum().sort_values(by = 'total_revenue', ascending = False).head(10)\n",
        "  filter_data = grouped_data[grouped_data[par].isin(sorted_revenue[par])].sort_values(by = 'total_revenue', ascending = False)\n",
        "  fig1 = px.bar(\n",
        "      filter_data,\n",
        "      x = par,\n",
        "      y = 'total_revenue',\n",
        "      color = 'device',\n",
        "      color_discrete_map = {'desktop': 'steelblue',\n",
        "                            'mobile': 'mediumaquamarine',\n",
        "                            'tablet': 'wheat'},\n",
        "      barmode = 'group',\n",
        "      title = 'Revenue by devices'\n",
        "  )\n",
        "  fig2 = px.bar(\n",
        "      filter_data,\n",
        "      x = par,\n",
        "      y = 'aov',\n",
        "      color = 'device',\n",
        "      color_discrete_map = {'desktop': 'steelblue',\n",
        "                            'mobile': 'mediumaquamarine',\n",
        "                            'tablet': 'wheat'},\n",
        "      barmode = 'group',\n",
        "      title = 'AOV by devices'\n",
        "  )\n",
        "\n",
        "  fig =make_subplots(rows = 1, cols = 2,\n",
        "                    subplot_titles = ('Revenue by devices',\n",
        "                                     'AOV by devices'\n",
        "                    )\n",
        "                   )\n",
        "  for trace in fig1.data:\n",
        "        trace.showlegend = True\n",
        "        fig.add_trace(trace, row=1, col=1)\n",
        "\n",
        "  for trace in fig2.data:\n",
        "        trace.showlegend = False\n",
        "        fig.add_trace(trace, row=1, col=2)\n",
        "\n",
        "  fig.update_layout(title = 'Analysis by Devices',\n",
        "                    barmode='group',\n",
        "                    height = 500,\n",
        "                    width = 1200,\n",
        "                    showlegend = True,\n",
        "                    plot_bgcolor = 'aliceblue',\n",
        "                    paper_bgcolor ='lightcyan')\n",
        "\n",
        "  fig.show()\n",
        "\n",
        "widgets.interact(interactive_vis2, par = parametr_sel)"
      ],
      "metadata": {
        "colab": {
          "base_uri": "https://localhost:8080/",
          "height": 635,
          "referenced_widgets": [
            "d0b183d8bd8846ca99547d8c96284330",
            "b2d21c6ec9de4fc083336bd4decb6ca1",
            "6091f3c842804e32bb49c40e1e8f76e1",
            "9c7ae845845442c18d977ac89edaad6b",
            "06ccbabc80b840c3ba6f8fb0b9dfdf16",
            "25044454c8f14d7393a5a3dc8e175a93",
            "e156337744da42f19f24da2afbd3f295"
          ]
        },
        "id": "fscE68qNI-eE",
        "outputId": "54a95f10-afd3-43e7-8486-0e485c040f19"
      },
      "execution_count": 23,
      "outputs": [
        {
          "output_type": "display_data",
          "data": {
            "text/plain": [
              "interactive(children=(Dropdown(description='By:', options=('continent', 'sub-region', 'country'), value='conti…"
            ],
            "application/vnd.jupyter.widget-view+json": {
              "version_major": 2,
              "version_minor": 0,
              "model_id": "d0b183d8bd8846ca99547d8c96284330"
            }
          },
          "metadata": {
            "application/vnd.jupyter.widget-view+json": {
              "colab": {
                "custom_widget_manager": {
                  "url": "https://ssl.gstatic.com/colaboratory-static/widgets/colab-cdn-widget-manager/2b70e893a8ba7c0f/manager.min.js"
                }
              }
            }
          }
        },
        {
          "output_type": "execute_result",
          "data": {
            "text/plain": [
              "<function __main__.interactive_vis2(par)>"
            ],
            "text/html": [
              "<div style=\"max-width:800px; border: 1px solid var(--colab-border-color);\"><style>\n",
              "      pre.function-repr-contents {\n",
              "        overflow-x: auto;\n",
              "        padding: 8px 12px;\n",
              "        max-height: 500px;\n",
              "      }\n",
              "\n",
              "      pre.function-repr-contents.function-repr-contents-collapsed {\n",
              "        cursor: pointer;\n",
              "        max-height: 100px;\n",
              "      }\n",
              "    </style>\n",
              "    <pre style=\"white-space: initial; background:\n",
              "         var(--colab-secondary-surface-color); padding: 8px 12px;\n",
              "         border-bottom: 1px solid var(--colab-border-color);\"><b>interactive_vis2</b><br/>def interactive_vis2(par)</pre><pre class=\"function-repr-contents function-repr-contents-collapsed\" style=\"\"><a class=\"filepath\" style=\"display:none\" href=\"#\">/tmp/ipython-input-2767946174.py</a>&lt;no docstring&gt;</pre></div>"
            ]
          },
          "metadata": {},
          "execution_count": 23
        }
      ]
    },
    {
      "cell_type": "markdown",
      "source": [
        "Найбільше доходу в усіх розрізах нам приносять користувачі, які здійснюють покупку через desktop. Також другий по прибутку mobile теж вносить значну частину доходу до загального  \n",
        "Якщо ми дивимся на середній чек ситуація інакша.В більшості суб-регіонів розкид середьного чека невеликий, але для Південної та Східної Азії та для Північної Європи явним лідером є середній чек користувачів, які здійснюють покупку через tablet.  \n",
        "Треба дослідити портрет цих користувачів. Це можуть бути просто заможні люди, або люди певної професії, які купують дорогі товари по робочим потребам , тощо. Після дослідження в разі виявлення паттернів робити акцент в цих суб-регіонах саме на цій групі , оскільки це потенціал для розвитку"
      ],
      "metadata": {
        "id": "3M3QPL7jQvmR"
      }
    },
    {
      "cell_type": "markdown",
      "source": [
        "##Аналіз популярності браузерів:"
      ],
      "metadata": {
        "id": "NG6SmS_Vv-DP"
      }
    },
    {
      "cell_type": "code",
      "source": [
        "def interactive_vis3(par):\n",
        "  clear_output(wait=True)\n",
        "  grouped_data = copy_df.groupby([par, 'browser'], as_index = False).agg(total_revenue = ('price', 'sum'),\n",
        "                                          aov = ('price', 'mean'))\n",
        "  grouped_data = grouped_data[(grouped_data['browser'] != '<Other>') & (grouped_data[par] != '(not set)')]\n",
        "  sorted_revenue = grouped_data.groupby(par, as_index = False)['total_revenue'].sum().sort_values(by = 'total_revenue', ascending = False).head(10)\n",
        "  filter_data = grouped_data[grouped_data[par].isin(sorted_revenue[par])].sort_values(by = 'total_revenue', ascending = False)\n",
        "  fig1 = px.bar(\n",
        "      filter_data,\n",
        "      x = par,\n",
        "      y = 'total_revenue',\n",
        "      color = 'browser',\n",
        "      color_discrete_map = {'Chrome': 'steelblue',\n",
        "                            'Safari': 'mediumaquamarine',\n",
        "                            'Edge': 'wheat',\n",
        "                            'Firefox': 'darksalmon',\n",
        "                            'Android Webview': 'rosybrown'\n",
        "                            },\n",
        "      barmode = 'group',\n",
        "      title = 'Revenue by browsers'\n",
        "  )\n",
        "  fig2 = px.bar(\n",
        "      filter_data,\n",
        "      x = par,\n",
        "      y = 'aov',\n",
        "      color = 'browser',\n",
        "      color_discrete_map = {'Chrome': 'steelblue',\n",
        "                            'Safari': 'mediumaquamarine',\n",
        "                            'Edge': 'wheat',\n",
        "                            'Firefox': 'darksalmon',\n",
        "                            'Android Webview': 'rosybrown'\n",
        "                            },\n",
        "      barmode = 'group',\n",
        "      title = 'AOV by browsers'\n",
        "  )\n",
        "\n",
        "  fig =make_subplots(rows = 1, cols = 2,\n",
        "                    subplot_titles = ('Revenue by browsers',\n",
        "                                     'AOV by browsers'\n",
        "                    )\n",
        "                   )\n",
        "  for trace in fig1.data:\n",
        "        trace.showlegend = True\n",
        "        fig.add_trace(trace, row=1, col=1)\n",
        "\n",
        "  for trace in fig2.data:\n",
        "        trace.showlegend = False\n",
        "        fig.add_trace(trace, row=1, col=2)\n",
        "\n",
        "  fig.update_layout(title = 'Analysis by Browsers',\n",
        "                    barmode='group',\n",
        "                    height = 500,\n",
        "                    width = 1200,\n",
        "                    showlegend = True,\n",
        "                    plot_bgcolor = 'aliceblue',\n",
        "                    paper_bgcolor ='lightcyan')\n",
        "\n",
        "  fig.show()\n",
        "\n",
        "widgets.interact(interactive_vis3, par = parametr_sel)"
      ],
      "metadata": {
        "id": "SBm9IHmPwFI8",
        "colab": {
          "base_uri": "https://localhost:8080/",
          "height": 635,
          "referenced_widgets": [
            "248abe6802f64465b08587aca6c223e0",
            "b2d21c6ec9de4fc083336bd4decb6ca1",
            "d9c0e6797f504d4bb2ece37ee0f9a9f3",
            "e6bf0cde3d794b21bd0d4887df48cb3d",
            "06ccbabc80b840c3ba6f8fb0b9dfdf16",
            "25044454c8f14d7393a5a3dc8e175a93",
            "8e6627707a9d4c999099fa0b087b70fb"
          ]
        },
        "outputId": "ea75da8c-1a49-473e-dea2-24a02cf7df0d"
      },
      "execution_count": 24,
      "outputs": [
        {
          "output_type": "display_data",
          "data": {
            "text/plain": [
              "interactive(children=(Dropdown(description='By:', options=('continent', 'sub-region', 'country'), value='conti…"
            ],
            "application/vnd.jupyter.widget-view+json": {
              "version_major": 2,
              "version_minor": 0,
              "model_id": "248abe6802f64465b08587aca6c223e0"
            }
          },
          "metadata": {
            "application/vnd.jupyter.widget-view+json": {
              "colab": {
                "custom_widget_manager": {
                  "url": "https://ssl.gstatic.com/colaboratory-static/widgets/colab-cdn-widget-manager/2b70e893a8ba7c0f/manager.min.js"
                }
              }
            }
          }
        },
        {
          "output_type": "execute_result",
          "data": {
            "text/plain": [
              "<function __main__.interactive_vis3(par)>"
            ],
            "text/html": [
              "<div style=\"max-width:800px; border: 1px solid var(--colab-border-color);\"><style>\n",
              "      pre.function-repr-contents {\n",
              "        overflow-x: auto;\n",
              "        padding: 8px 12px;\n",
              "        max-height: 500px;\n",
              "      }\n",
              "\n",
              "      pre.function-repr-contents.function-repr-contents-collapsed {\n",
              "        cursor: pointer;\n",
              "        max-height: 100px;\n",
              "      }\n",
              "    </style>\n",
              "    <pre style=\"white-space: initial; background:\n",
              "         var(--colab-secondary-surface-color); padding: 8px 12px;\n",
              "         border-bottom: 1px solid var(--colab-border-color);\"><b>interactive_vis3</b><br/>def interactive_vis3(par)</pre><pre class=\"function-repr-contents function-repr-contents-collapsed\" style=\"\"><a class=\"filepath\" style=\"display:none\" href=\"#\">/tmp/ipython-input-517109505.py</a>&lt;no docstring&gt;</pre></div>"
            ]
          },
          "metadata": {},
          "execution_count": 24
        }
      ]
    },
    {
      "cell_type": "markdown",
      "source": [
        "Найприбутковішим  в усіх розрізах браузером у є Chrome з сильним відрівом. Також помітну частку займає Safari.  \n",
        "Оскільки середній чек показує зовсім іншу картину, де лідерами стають Firefox та Android Webview для суб-регіонів та країн Океанії та Афріки, а також по наприбутковішим регіонам всі браузери мають невеликий розкид середнього чеку можно зробити висновок, що прибутковість визначається більшої кількістю відвідувачів через Chrome  а не купівельною спроможність.  \n",
        "Тому можно дослідити причини настільки більшого середнього чеку для непопулярних браузерів в Океанії та  в Африці, дослідити портрет цих користувачів і налаштувати таргетну рекламу  конкретно під них, а не на загальну  аудиторію"
      ],
      "metadata": {
        "id": "OvnB2kjFNCET"
      }
    },
    {
      "cell_type": "markdown",
      "source": [
        "##Аналіз популярності операційних систем:"
      ],
      "metadata": {
        "id": "7b9YxtwK1OlS"
      }
    },
    {
      "cell_type": "code",
      "source": [
        "def interactive_vis4(par):\n",
        "  clear_output(wait=True)\n",
        "  grouped_data = copy_df.groupby([par, 'operating_system'], as_index = False).agg(total_revenue = ('price', 'sum'),\n",
        "                                          aov = ('price', 'mean'))\n",
        "  grouped_data = grouped_data[(grouped_data['operating_system'] != '<Other>') & (grouped_data[par] != '(not set)')]\n",
        "  sorted_revenue = grouped_data.groupby(par, as_index = False)['total_revenue'].sum().sort_values(by = 'total_revenue', ascending = False).head(10)\n",
        "  filter_data = grouped_data[grouped_data[par].isin(sorted_revenue[par])].sort_values(by = 'total_revenue', ascending = False)\n",
        "  fig1 = px.bar(\n",
        "      filter_data,\n",
        "      x = par,\n",
        "      y = 'total_revenue',\n",
        "      color = 'operating_system',\n",
        "      color_discrete_map = {'Web': 'steelblue',\n",
        "                            'Windows': 'mediumaquamarine',\n",
        "                            'iOS': 'wheat',\n",
        "                            'Android': 'darksalmon',\n",
        "                            'Macintosh': 'rosybrown'\n",
        "                            },\n",
        "      barmode = 'group',\n",
        "      title = 'Revenue by OS'\n",
        "  )\n",
        "  fig2 = px.bar(\n",
        "      filter_data,\n",
        "      x = par,\n",
        "      y = 'aov',\n",
        "      color = 'operating_system',\n",
        "      color_discrete_map = {'Web': 'steelblue',\n",
        "                            'Windows': 'mediumaquamarine',\n",
        "                            'iOS': 'wheat',\n",
        "                            'Android': 'darksalmon',\n",
        "                            'Macintosh': 'rosybrown'\n",
        "                            },\n",
        "      barmode = 'group',\n",
        "      title = 'AOV by OS'\n",
        "  )\n",
        "\n",
        "  fig =make_subplots(rows = 1, cols = 2,\n",
        "                    subplot_titles = ('Revenue by OS',\n",
        "                                     'AOV by OS'\n",
        "                    )\n",
        "                   )\n",
        "  for trace in fig1.data:\n",
        "        trace.showlegend = True\n",
        "        fig.add_trace(trace, row=1, col=1)\n",
        "\n",
        "  for trace in fig2.data:\n",
        "        trace.showlegend = False\n",
        "        fig.add_trace(trace, row=1, col=2)\n",
        "\n",
        "  fig.update_layout(title = 'Analysis by OS',\n",
        "                    barmode='group',\n",
        "                    height = 500,\n",
        "                    width = 1200,\n",
        "                    showlegend = True,\n",
        "                    plot_bgcolor = 'aliceblue',\n",
        "                    paper_bgcolor ='lightcyan')\n",
        "\n",
        "  fig.show()\n",
        "\n",
        "widgets.interact(interactive_vis4, par = parametr_sel)"
      ],
      "metadata": {
        "id": "T9Wq1pry1RTh",
        "colab": {
          "base_uri": "https://localhost:8080/",
          "height": 635,
          "referenced_widgets": [
            "3ae2e2eabe2240248928b6a8cb35013e",
            "b2d21c6ec9de4fc083336bd4decb6ca1",
            "dff82f848f3c4c9eb52379276735df7a",
            "c47564fa18ac4c069471264e7e79c4a7",
            "06ccbabc80b840c3ba6f8fb0b9dfdf16",
            "25044454c8f14d7393a5a3dc8e175a93",
            "3cc2d9076f254614b35889c592712f1e"
          ]
        },
        "outputId": "6ebc595c-a972-4668-9c5d-c956a29fce2e"
      },
      "execution_count": 25,
      "outputs": [
        {
          "output_type": "display_data",
          "data": {
            "text/plain": [
              "interactive(children=(Dropdown(description='By:', options=('continent', 'sub-region', 'country'), value='conti…"
            ],
            "application/vnd.jupyter.widget-view+json": {
              "version_major": 2,
              "version_minor": 0,
              "model_id": "3ae2e2eabe2240248928b6a8cb35013e"
            }
          },
          "metadata": {
            "application/vnd.jupyter.widget-view+json": {
              "colab": {
                "custom_widget_manager": {
                  "url": "https://ssl.gstatic.com/colaboratory-static/widgets/colab-cdn-widget-manager/2b70e893a8ba7c0f/manager.min.js"
                }
              }
            }
          }
        },
        {
          "output_type": "execute_result",
          "data": {
            "text/plain": [
              "<function __main__.interactive_vis4(par)>"
            ],
            "text/html": [
              "<div style=\"max-width:800px; border: 1px solid var(--colab-border-color);\"><style>\n",
              "      pre.function-repr-contents {\n",
              "        overflow-x: auto;\n",
              "        padding: 8px 12px;\n",
              "        max-height: 500px;\n",
              "      }\n",
              "\n",
              "      pre.function-repr-contents.function-repr-contents-collapsed {\n",
              "        cursor: pointer;\n",
              "        max-height: 100px;\n",
              "      }\n",
              "    </style>\n",
              "    <pre style=\"white-space: initial; background:\n",
              "         var(--colab-secondary-surface-color); padding: 8px 12px;\n",
              "         border-bottom: 1px solid var(--colab-border-color);\"><b>interactive_vis4</b><br/>def interactive_vis4(par)</pre><pre class=\"function-repr-contents function-repr-contents-collapsed\" style=\"\"><a class=\"filepath\" style=\"display:none\" href=\"#\">/tmp/ipython-input-4037403848.py</a>&lt;no docstring&gt;</pre></div>"
            ]
          },
          "metadata": {},
          "execution_count": 25
        }
      ]
    },
    {
      "cell_type": "markdown",
      "source": [
        "Тут найприбутковішою категорією є Web в усіх розрізах з сильним відривом(в усіх інших операційних систем в сумі прибуток меньше ніж у Web). Це означає, що більшість наших користувачів роблять покупку не через певні додатки, а через вебінтерфейс.  \n",
        "Середній чек для трьох найприбутковіших регіонів немає відчутніх змін між операційними системами.Тому додатково вкладання грошей в розвиток і рекламу додатків не призведе до збільшення прибутку і є неефективним.  \n",
        "Водночас для Oкеанії та АзіЇ(в особливості для Китая та Сингапура) середній чек найбільший для непопулярної системи Macintosh. Тут теж треба дослідити портрет цих юзерів і робити акцент в рекламі саме на них."
      ],
      "metadata": {
        "id": "yNCqquTWOtKC"
      }
    },
    {
      "cell_type": "markdown",
      "source": [
        "##Аналіз ефективності каналів трафіка:"
      ],
      "metadata": {
        "id": "lgIRnL6l5W2z"
      }
    },
    {
      "cell_type": "code",
      "source": [
        "def interactive_vis5(par):\n",
        "  grouped_data = copy_df.groupby([par, 'channel'], as_index = False).agg(total_revenue = ('price', 'sum'),\n",
        "                                          aov = ('price','mean'),\n",
        "                                          conv_rate =( 'product_name', lambda x: x.notna().mean())\n",
        "                                          )\n",
        "  sorted_revenue = grouped_data.groupby(par, as_index = False)['total_revenue'].sum().sort_values(by = 'total_revenue', ascending = False).head(10)\n",
        "  filter_data = grouped_data[grouped_data[par].isin(sorted_revenue[par])].sort_values(by ='total_revenue', ascending = False)\n",
        "  pivot_data_aov = filter_data.pivot_table(index = par,\n",
        "                                        columns = 'channel',\n",
        "                                        values = 'aov')\n",
        "  pivot_data_conv = filter_data.pivot_table(index = par,\n",
        "                                        columns = 'channel',\n",
        "                                        values = 'conv_rate')\n",
        "\n",
        "  fig1 = px.bar(\n",
        "      filter_data,\n",
        "      x = par,\n",
        "      y ='total_revenue',\n",
        "      color = 'channel',\n",
        "      color_discrete_map = {'Organic Search': 'steelblue',\n",
        "                            'Paid Search': 'mediumaquamarine',\n",
        "                            'Direct': 'wheat',\n",
        "                            'Social Search': 'darksalmon',\n",
        "                            'Undefined': 'rosybrown'\n",
        "                            },\n",
        "      barmode = 'group'\n",
        "\n",
        "  )\n",
        "  fig2 = go.Heatmap(z = pivot_data_aov.values,\n",
        "                    x = pivot_data_aov.columns,\n",
        "                    y = pivot_data_aov.index,\n",
        "                    text = pivot_data_aov.values.round(0),\n",
        "                    texttemplate = '%{text}',\n",
        "                    textfont = dict(size = 8),\n",
        "                    colorscale = 'GnBU',\n",
        "                    showscale = False)\n",
        "  fig3 = go.Heatmap( z = pivot_data_conv.values,\n",
        "                     x = pivot_data_conv.columns,\n",
        "                     y = pivot_data_conv.index,\n",
        "                     text = pivot_data_conv.values.round(4),\n",
        "                     texttemplate = '%{text}',\n",
        "                     textfont = dict(size = 8),\n",
        "                     colorscale = 'GnBU',\n",
        "                     showscale = False)\n",
        "  fig = make_subplots(rows = 2, cols = 2,\n",
        "                      specs = [[{\"colspan\": 2}, None], [{}, {}]],\n",
        "                      subplot_titles = ('Revenue by Channel',\n",
        "                                        'AOV by Channel',\n",
        "                                        'Conversion by Channel'\n",
        "                                       )\n",
        "                     )\n",
        "  for trace in fig1.data:\n",
        "      trace.showlegend = True\n",
        "      fig.add_trace(trace, row=1, col=1)\n",
        "  fig.add_trace(fig2, row=2, col=1)\n",
        "  fig.add_trace(fig3, row=2, col=2)\n",
        "\n",
        "  fig.update_yaxes(\n",
        "      tickangle = 45,\n",
        "      tickfont = dict(size = 10),\n",
        "      row =2,\n",
        "      col =1\n",
        "  )\n",
        "  fig.update_yaxes(\n",
        "      tickangle = 45,\n",
        "      tickfont = dict(size = 10),\n",
        "      row = 2,\n",
        "      col = 2\n",
        "  )\n",
        "\n",
        "  fig.update_layout(title =f'Analysis by Channels({par})',\n",
        "                    height = 1000,\n",
        "                    width = 1300,\n",
        "                    barmode = 'group',\n",
        "                    plot_bgcolor = 'aliceblue',\n",
        "                    paper_bgcolor ='lightcyan')\n",
        "  fig.show()\n",
        "\n",
        "widgets.interact(interactive_vis5, par = parametr_sel)"
      ],
      "metadata": {
        "id": "ZAOGH0GH5ZTu",
        "colab": {
          "base_uri": "https://localhost:8080/",
          "height": 1000,
          "referenced_widgets": [
            "d2fbfaf714e14ff6b39d54d9dc9372d0",
            "b2d21c6ec9de4fc083336bd4decb6ca1",
            "088d6688e4fe41d090c1d82f7be3dd85",
            "2a9e5ef6cb8f4181b0aefc6afc22e996",
            "06ccbabc80b840c3ba6f8fb0b9dfdf16",
            "25044454c8f14d7393a5a3dc8e175a93",
            "14974d6c82494cb2a94305bc3bfbf250"
          ]
        },
        "outputId": "86071780-f196-4b1c-ede5-0f46184edcfa"
      },
      "execution_count": 26,
      "outputs": [
        {
          "output_type": "display_data",
          "data": {
            "text/plain": [
              "interactive(children=(Dropdown(description='By:', options=('continent', 'sub-region', 'country'), value='conti…"
            ],
            "application/vnd.jupyter.widget-view+json": {
              "version_major": 2,
              "version_minor": 0,
              "model_id": "d2fbfaf714e14ff6b39d54d9dc9372d0"
            }
          },
          "metadata": {
            "application/vnd.jupyter.widget-view+json": {
              "colab": {
                "custom_widget_manager": {
                  "url": "https://ssl.gstatic.com/colaboratory-static/widgets/colab-cdn-widget-manager/2b70e893a8ba7c0f/manager.min.js"
                }
              }
            }
          }
        },
        {
          "output_type": "execute_result",
          "data": {
            "text/plain": [
              "<function __main__.interactive_vis5(par)>"
            ],
            "text/html": [
              "<div style=\"max-width:800px; border: 1px solid var(--colab-border-color);\"><style>\n",
              "      pre.function-repr-contents {\n",
              "        overflow-x: auto;\n",
              "        padding: 8px 12px;\n",
              "        max-height: 500px;\n",
              "      }\n",
              "\n",
              "      pre.function-repr-contents.function-repr-contents-collapsed {\n",
              "        cursor: pointer;\n",
              "        max-height: 100px;\n",
              "      }\n",
              "    </style>\n",
              "    <pre style=\"white-space: initial; background:\n",
              "         var(--colab-secondary-surface-color); padding: 8px 12px;\n",
              "         border-bottom: 1px solid var(--colab-border-color);\"><b>interactive_vis5</b><br/>def interactive_vis5(par)</pre><pre class=\"function-repr-contents function-repr-contents-collapsed\" style=\"\"><a class=\"filepath\" style=\"display:none\" href=\"#\">/tmp/ipython-input-1396121738.py</a>&lt;no docstring&gt;</pre></div>"
            ]
          },
          "metadata": {},
          "execution_count": 26
        }
      ]
    },
    {
      "cell_type": "markdown",
      "source": [
        "**Organic Search**\n",
        "\n",
        "Найбільший генератор доходу в усіх розрізах, особливо у  розрізі регіону Північної Америки (~6M).\n",
        "\n",
        "У поєднанні з середнім AOV і стабільною конверсією це базовий канал для всіх ринків.\n",
        "\n",
        "Варто підтримувати як основу, інвестуючи у SEO та контент.\n",
        "\n",
        "**Paid Search**\n",
        "\n",
        "Значний внесок у дохід у загальному та особливо у Північній Америці (~4.2M) та Європі (Західна, Східна, Північна – по 0.5–0.7M кожна).\n",
        "\n",
        "В цих регіонах він ефективний і по конверсії, і по AOV.Варто підтримувати на тому самому рівні.\n",
        "\n",
        "У Латинській Америці, Азії та Західній Азії дохід мінімальний.Канал там неефективний, краще перерозподілити інвестиції.\n",
        "\n",
        "**Direct**\n",
        "\n",
        "Дає великий дохід у Північній Америці (4M) та стабільний у всіх інших регіонах (~0.3–0.7M).\n",
        "\n",
        "Має середній AOV і стабільну конверсію.Канал підтримки, який працює всюди.\n",
        "\n",
        "**Social Search**\n",
        "\n",
        "Хоч і показує найвищі показники AOV та конверсії, але по доходу відстає: у Північній Америці лише ~1.3M, в інших регіонах ще менше.\n",
        "\n",
        "Це означає, що аудиторія тут поки невелика, але потенціал високий. Масштабування трафіка  можне суттєво збільшити дохід.\n",
        "\n",
        "\n"
      ],
      "metadata": {
        "id": "04ksLbBVS5n4"
      }
    },
    {
      "cell_type": "markdown",
      "source": [
        "##Аналіз прибутковості категорій:"
      ],
      "metadata": {
        "id": "rZKaeDSESEgo"
      }
    },
    {
      "cell_type": "markdown",
      "source": [
        "Загальний прибуток по категоріям:"
      ],
      "metadata": {
        "id": "K2b7nuxI5QDw"
      }
    },
    {
      "cell_type": "code",
      "source": [
        "def interactive_pivot(par):\n",
        "  pivot_data = copy_df.pivot_table(index = par, columns = 'product_category', values = 'price', aggfunc = 'sum', fill_value = 0)\n",
        "  pivot_data_sort = pivot_data.reindex(pivot_data.sum(axis=1).sort_values(ascending=False).index).round(0)\n",
        "  styled_data = pivot_data.style.highlight_max(axis = 1, color = 'lightskyblue').format('{:,.0f}$')\n",
        "  return styled_data\n",
        "widgets.interact(interactive_pivot, par = parametr_sel)"
      ],
      "metadata": {
        "id": "Ty1XeUGMUYTp",
        "colab": {
          "base_uri": "https://localhost:8080/",
          "height": 404,
          "referenced_widgets": [
            "39aa883b2f3d42a3958b5469d413fc6e",
            "b2d21c6ec9de4fc083336bd4decb6ca1",
            "336d266bba484fa88fa726fd317c6b6d",
            "5137cfa8834045c287223b2052292f8c",
            "06ccbabc80b840c3ba6f8fb0b9dfdf16",
            "25044454c8f14d7393a5a3dc8e175a93",
            "26870403dc874de18ba9117b9308e34a"
          ]
        },
        "outputId": "27119999-7d29-4d87-b24f-1fc1be9d7ebf"
      },
      "execution_count": 27,
      "outputs": [
        {
          "output_type": "display_data",
          "data": {
            "text/plain": [
              "interactive(children=(Dropdown(description='By:', options=('continent', 'sub-region', 'country'), value='conti…"
            ],
            "application/vnd.jupyter.widget-view+json": {
              "version_major": 2,
              "version_minor": 0,
              "model_id": "39aa883b2f3d42a3958b5469d413fc6e"
            }
          },
          "metadata": {
            "application/vnd.jupyter.widget-view+json": {
              "colab": {
                "custom_widget_manager": {
                  "url": "https://ssl.gstatic.com/colaboratory-static/widgets/colab-cdn-widget-manager/2b70e893a8ba7c0f/manager.min.js"
                }
              }
            }
          }
        },
        {
          "output_type": "execute_result",
          "data": {
            "text/plain": [
              "<function __main__.interactive_pivot(par)>"
            ],
            "text/html": [
              "<div style=\"max-width:800px; border: 1px solid var(--colab-border-color);\"><style>\n",
              "      pre.function-repr-contents {\n",
              "        overflow-x: auto;\n",
              "        padding: 8px 12px;\n",
              "        max-height: 500px;\n",
              "      }\n",
              "\n",
              "      pre.function-repr-contents.function-repr-contents-collapsed {\n",
              "        cursor: pointer;\n",
              "        max-height: 100px;\n",
              "      }\n",
              "    </style>\n",
              "    <pre style=\"white-space: initial; background:\n",
              "         var(--colab-secondary-surface-color); padding: 8px 12px;\n",
              "         border-bottom: 1px solid var(--colab-border-color);\"><b>interactive_pivot</b><br/>def interactive_pivot(par)</pre><pre class=\"function-repr-contents function-repr-contents-collapsed\" style=\"\"><a class=\"filepath\" style=\"display:none\" href=\"#\">/tmp/ipython-input-956806959.py</a>&lt;no docstring&gt;</pre></div>"
            ]
          },
          "metadata": {},
          "execution_count": 27
        }
      ]
    },
    {
      "cell_type": "markdown",
      "source": [
        "Голубим кольором відзначена найприбутковіша категорія для кожної географічної зони"
      ],
      "metadata": {
        "id": "x5GC0z8asUYM"
      }
    },
    {
      "cell_type": "markdown",
      "source": [
        "**Бачимо що в розрізі континентів та суб-регіонів по всім елементам найбільш прибутковою категорією є Sofas & amrchairs.**\n",
        "\n",
        " **В розрізі країн ця тенденція для великою кількості країн зберігається,але також в багатьох країнах лідерство займають інші категорії.  \n",
        "Наприклад в Румунії 32000$ приносить категорія Chairs , що вдвічі більше за будь-яку іншу категорію в цій країні.Також ця категорія є лідером для Турції- 79 800, Південної Кореї- 88 400,Японії- 96 300 та для багатьох інших.**  \n",
        "\n",
        "**В жодній країні лідерами не є такі категорії:Chests of drawers & drawer units,\tChildren's furniture,\tNursery furniture,Room dividers.**\n"
      ],
      "metadata": {
        "id": "AKuqIYo5qLof"
      }
    },
    {
      "cell_type": "markdown",
      "source": [
        "Побудуєм графік індекса афінності, щоб зрозуміти, в яких географічних зонах категорії мають найбільшу популярність"
      ],
      "metadata": {
        "id": "B9KhXYXQsKJd"
      }
    },
    {
      "cell_type": "markdown",
      "source": [
        "Індекс афінності:"
      ],
      "metadata": {
        "id": "o_QiJrGE5TNY"
      }
    },
    {
      "cell_type": "code",
      "source": [
        "def interactive_vis6(par):\n",
        "  grouped_data = copy_df.groupby([par, 'product_category'], as_index = False)['price'].sum()\n",
        "  sorted_revenue = copy_df.groupby(par, as_index = False)['price'].sum().sort_values(by = 'price', ascending = False).head(10)\n",
        "  filter_data = grouped_data[grouped_data[par].isin(sorted_revenue[par])]\n",
        "  pivot_data = filter_data.pivot_table( index = par,\n",
        "                                        columns = 'product_category',\n",
        "                                        values = 'price',\n",
        "                                        fill_value = 0\n",
        "                                        )\n",
        "  pivot_data = pivot_data.round(2)\n",
        "\n",
        "  category_part = pivot_data.apply(lambda row: row / row.sum(), axis = 1)\n",
        "  global_category_part = copy_df.groupby('product_category')['price'].sum() / copy_df['price'].sum()\n",
        "  affinity_index = category_part.div(global_category_part, axis = 1) # афініті індекс для хітмапи\n",
        "\n",
        "\n",
        "  fig = go.Figure(\n",
        "                    data = go.Heatmap( z = affinity_index.values,\n",
        "                                       x = affinity_index.columns,\n",
        "                                       y = affinity_index.index,\n",
        "                                       text = affinity_index.values.round(2),\n",
        "                                       texttemplate = '%{text}',\n",
        "                                       textfont = dict(size = 8),\n",
        "                                       colorscale = 'GnBU',\n",
        "                                       showscale = False)\n",
        "  )\n",
        "\n",
        "\n",
        "  fig.update_layout( title = f'Afinnity Index by Category({par})',\n",
        "                    height = 700,\n",
        "                    width = 800,\n",
        "                    barmode = 'group',\n",
        "                    plot_bgcolor = 'aliceblue',\n",
        "                    paper_bgcolor ='lightcyan'\n",
        "                   )\n",
        "  fig.show()\n",
        "\n",
        "widgets.interact(interactive_vis6, par = parametr_sel)\n"
      ],
      "metadata": {
        "id": "Q83m2SpGSHbJ",
        "colab": {
          "base_uri": "https://localhost:8080/",
          "height": 835,
          "referenced_widgets": [
            "fbc162be4eab45f281612b6dd8250676",
            "b2d21c6ec9de4fc083336bd4decb6ca1",
            "b090d71c1a7444aebfed18a0545e8980",
            "3e834b4af7044365a1f6830d2c1bb4bb",
            "06ccbabc80b840c3ba6f8fb0b9dfdf16",
            "25044454c8f14d7393a5a3dc8e175a93",
            "fc1c231631254e449beb2a98e7a77275"
          ]
        },
        "outputId": "4a278c2f-0045-46e0-a8b8-f5adbcfc0837"
      },
      "execution_count": 28,
      "outputs": [
        {
          "output_type": "display_data",
          "data": {
            "text/plain": [
              "interactive(children=(Dropdown(description='By:', options=('continent', 'sub-region', 'country'), value='conti…"
            ],
            "application/vnd.jupyter.widget-view+json": {
              "version_major": 2,
              "version_minor": 0,
              "model_id": "fbc162be4eab45f281612b6dd8250676"
            }
          },
          "metadata": {
            "application/vnd.jupyter.widget-view+json": {
              "colab": {
                "custom_widget_manager": {
                  "url": "https://ssl.gstatic.com/colaboratory-static/widgets/colab-cdn-widget-manager/2b70e893a8ba7c0f/manager.min.js"
                }
              }
            }
          }
        },
        {
          "output_type": "execute_result",
          "data": {
            "text/plain": [
              "<function __main__.interactive_vis6(par)>"
            ],
            "text/html": [
              "<div style=\"max-width:800px; border: 1px solid var(--colab-border-color);\"><style>\n",
              "      pre.function-repr-contents {\n",
              "        overflow-x: auto;\n",
              "        padding: 8px 12px;\n",
              "        max-height: 500px;\n",
              "      }\n",
              "\n",
              "      pre.function-repr-contents.function-repr-contents-collapsed {\n",
              "        cursor: pointer;\n",
              "        max-height: 100px;\n",
              "      }\n",
              "    </style>\n",
              "    <pre style=\"white-space: initial; background:\n",
              "         var(--colab-secondary-surface-color); padding: 8px 12px;\n",
              "         border-bottom: 1px solid var(--colab-border-color);\"><b>interactive_vis6</b><br/>def interactive_vis6(par)</pre><pre class=\"function-repr-contents function-repr-contents-collapsed\" style=\"\"><a class=\"filepath\" style=\"display:none\" href=\"#\">/tmp/ipython-input-3250690351.py</a>&lt;no docstring&gt;</pre></div>"
            ]
          },
          "metadata": {},
          "execution_count": 28
        }
      ]
    },
    {
      "cell_type": "markdown",
      "source": [
        "Що таке афініті індекс  - показує, наскільки краще, частіше або щільніше цільова аудиторія контактує з  продуктом, ніж уся базова аудиторія.Тобто це % прибутку категорії від усіх категорій географічної зони поділений на % прибутку цією категорії від загального прибутку."
      ],
      "metadata": {
        "id": "jDBngneLHSLI"
      }
    },
    {
      "cell_type": "markdown",
      "source": [
        "**Континентальні особливості:**  \n",
        "\n",
        "Америка,Європа та Азія показують стабільний індекс по всім категоріям.Це гарне поле для тестування нової продукції та масштабування.  \n",
        "Океанія та Африка потребують максимізування маржі на спеціалізованих найбільш популярних категоріях таких як Bar furniture.  \n",
        "**Регіональні особливості:**  \n",
        "\n",
        "Північна Америка - збалансований профіль споживання (індекси 0.88-1.06).\n",
        "Стабільний, передбачуваний ринок  \n",
        "Північна Європа - найвищий попит на outdoor furniture (1.77), може бути пов'язано з культурою скандинавських країн життя на природі  \n",
        "Південна Європа - лідирує в room dividers (1.99).  \n",
        "Західна Європа - збалансований попит з піком в room dividers (1.84)  \n",
        "Західна Азія -yнікальна перевага: Chests of drawers (1.17) - найвища серед азійських регіонів.  \n",
        "Південно-східна Азія - сильний фокус на Bar furniture (1.36) та Room dividers (1.33-1.38).  \n",
        "Південна Азія - найбільш збалансований азійський ринок.Tables & desks (1.22) - найвищий показник.\n",
        "Східна Азія - Сильні позиції: Children's furniture (1.25), Chests of drawers (1.13).  \n",
        "**Найсильніші ринки за категоріями:**  \n",
        "\n",
        "*Room dividers*:\n",
        "Німеччина (3.02) та Іспанія (2.65) показують надзвичайно високий попит  \n",
        "*Outdoor furniture*:\n",
        "Велика Британія (2.06) та Китай (1.65) лідирують.\n",
        "Канада (1.48) також показує хороший результат.  \n",
        "**\"(not set)\" - найбільша аномалія:**  \n",
        "Індекс 11.46 для Room dividers по континентам може свідчити або по проблеми з збором та обробкою даних або про величезну можливість для розвитку.Потребує дослідження\n",
        "\n",
        "\n",
        "\n",
        "\n",
        "\n",
        "\n",
        "\n",
        "\n"
      ],
      "metadata": {
        "id": "ErQdReNNuQNl"
      }
    },
    {
      "cell_type": "markdown",
      "source": [
        "#Пошук залежностей:"
      ],
      "metadata": {
        "id": "SuAHpaYVPZWA"
      }
    },
    {
      "cell_type": "markdown",
      "source": [
        "Підготовка даних:"
      ],
      "metadata": {
        "id": "mzuc1YDHUKRM"
      }
    },
    {
      "cell_type": "code",
      "source": [
        "continent_data = copy_df.groupby('continent').agg(total_revenue = ('price', 'sum'),\n",
        "                                                    aov = ('price', 'mean'),\n",
        "                                                    total_sessions = ('ga_session_id', 'count'),\n",
        "                                                    reg_users = ('account_id', 'count')\n",
        "                                                    )\n",
        "subregion_data = copy_df.groupby('sub-region').agg(total_revenue = ('price', 'sum'),\n",
        "                                                    aov = ('price', 'mean'),\n",
        "                                                    total_sessions = ('ga_session_id', 'count'),\n",
        "                                                    reg_users = ('account_id', 'count')\n",
        "                                                    )\n",
        "country_data = copy_df.groupby('country').agg(total_revenue = ('price', 'sum'),\n",
        "                                                    aov = ('price', 'mean'),\n",
        "                                                    total_sessions = ('ga_session_id', 'count'),\n",
        "                                                    reg_users = ('account_id', 'count')\n",
        "                                                    )"
      ],
      "metadata": {
        "id": "FjoKpRUaUMp8"
      },
      "execution_count": 29,
      "outputs": []
    },
    {
      "cell_type": "markdown",
      "source": [
        "##Перевірка нормальності розподілу даних:"
      ],
      "metadata": {
        "id": "G5ZAvyOPPffG"
      }
    },
    {
      "cell_type": "markdown",
      "source": [
        "Для континентів:"
      ],
      "metadata": {
        "id": "3p0Na9JfV6Wz"
      }
    },
    {
      "cell_type": "code",
      "source": [
        "stat, p_value_rev = st.shapiro(continent_data['total_revenue'])\n",
        "stat, p_value_aov = st.shapiro(continent_data['aov'])\n",
        "stat, p_value_ses = st.shapiro(continent_data['total_sessions'])\n",
        "stat, p_value_reg = st.shapiro(continent_data['reg_users'])\n",
        "\n",
        "print(f'p revenue: {p_value_rev}\\np aov: {p_value_aov}\\np sessinos: {p_value_ses}\\np register users: {p_value_reg}')"
      ],
      "metadata": {
        "id": "Bb9t5nL6Wo1t",
        "colab": {
          "base_uri": "https://localhost:8080/"
        },
        "outputId": "442cf2f7-a123-4345-a6be-20f40fdc8613"
      },
      "execution_count": 30,
      "outputs": [
        {
          "output_type": "stream",
          "name": "stdout",
          "text": [
            "p revenue: 0.08085648833572931\n",
            "p aov: 0.2169278796597206\n",
            "p sessinos: 0.08008979328482427\n",
            "p register users: 0.0785520646713255\n"
          ]
        }
      ]
    },
    {
      "cell_type": "markdown",
      "source": [
        "Всі p-value > 0.05 , що свідчить про нормальний розподіл"
      ],
      "metadata": {
        "id": "FKzncUw-W4RU"
      }
    },
    {
      "cell_type": "markdown",
      "source": [
        "Для суб-регіонів:"
      ],
      "metadata": {
        "id": "G8IDd38mW86q"
      }
    },
    {
      "cell_type": "code",
      "source": [
        "stat, p_value_rev = st.shapiro(subregion_data['total_revenue'])\n",
        "stat, p_value_aov = st.shapiro(subregion_data['aov'])\n",
        "stat, p_value_ses = st.shapiro(subregion_data['total_sessions'])\n",
        "stat, p_value_reg = st.shapiro(subregion_data['reg_users'])\n",
        "\n",
        "print(f'p revenue: {p_value_rev}\\np aov: {p_value_aov}\\np sessinos: {p_value_ses}\\np register users: {p_value_reg}')"
      ],
      "metadata": {
        "id": "D6IffHf9V5TN",
        "colab": {
          "base_uri": "https://localhost:8080/"
        },
        "outputId": "c59f1b11-8db3-49d6-9acd-98b1777d7d89"
      },
      "execution_count": 31,
      "outputs": [
        {
          "output_type": "stream",
          "name": "stdout",
          "text": [
            "p revenue: 5.083994173352863e-06\n",
            "p aov: 0.0033369556786995032\n",
            "p sessinos: 5.307012256581308e-06\n",
            "p register users: 5.398913759715056e-06\n"
          ]
        }
      ]
    },
    {
      "cell_type": "markdown",
      "source": [
        "Всі p-value < 0.05 , що свідчить про ненормальний розподіл"
      ],
      "metadata": {
        "id": "BzgbtgzZXQaC"
      }
    },
    {
      "cell_type": "markdown",
      "source": [
        "Для країн:"
      ],
      "metadata": {
        "id": "Y6TFjKD7XVaa"
      }
    },
    {
      "cell_type": "code",
      "source": [
        "stat, p_value_rev = st.shapiro(country_data['total_revenue'])\n",
        "stat, p_value_aov = st.shapiro(country_data['aov'])\n",
        "stat, p_value_ses = st.shapiro(country_data['total_sessions'])\n",
        "stat, p_value_reg = st.shapiro(country_data['reg_users'])\n",
        "\n",
        "print(f'p revenue: {p_value_rev}\\np aov: {p_value_aov}\\np sessinos: {p_value_ses}\\np register users: {p_value_reg}')"
      ],
      "metadata": {
        "id": "yOn06n7oXUQY",
        "colab": {
          "base_uri": "https://localhost:8080/"
        },
        "outputId": "5c5129ad-8c36-4a08-afb8-fe5ba301ab79"
      },
      "execution_count": 32,
      "outputs": [
        {
          "output_type": "stream",
          "name": "stdout",
          "text": [
            "p revenue: 6.940722856167402e-22\n",
            "p aov: 0.0003097408596627876\n",
            "p sessinos: 6.637939518689142e-22\n",
            "p register users: 6.495252202264297e-22\n"
          ]
        }
      ]
    },
    {
      "cell_type": "markdown",
      "source": [
        "Всі p-value < 0.05 , що свідчить про ненормальний розподіл\n"
      ],
      "metadata": {
        "id": "RnYJqyWOXb-y"
      }
    },
    {
      "cell_type": "markdown",
      "source": [
        "**За результатами перевірки для регіонів будем використовувати кореляцію пірсона, а для суб-регіонів та країн - спірмен**а"
      ],
      "metadata": {
        "id": "Y3XSuE4QX49T"
      }
    },
    {
      "cell_type": "markdown",
      "source": [
        "##Перевірка залежності доходу від середнього чеку, кількості сесій  та кількості реєстрацій:"
      ],
      "metadata": {
        "id": "NT6KafjoYDma"
      }
    },
    {
      "cell_type": "markdown",
      "source": [
        "Кореляція в розрізі регіонів:"
      ],
      "metadata": {
        "id": "1-jkPohMYHRJ"
      }
    },
    {
      "cell_type": "code",
      "source": [
        "con_corr_aov, p_value_aov = st.pearsonr(continent_data['aov'], continent_data['total_revenue'])\n",
        "con_corr_ses, p_value_ses = st.pearsonr(continent_data['total_sessions'], continent_data['total_revenue'])\n",
        "con_corr_reg, p_value_reg = st.pearsonr(continent_data['reg_users'], continent_data['total_revenue'])\n",
        "\n",
        "print(f'Cor between aov and revenue: {con_corr_aov}\\nCor between sessions and revenue: {con_corr_ses}\\nCor between registrations and revenue: {con_corr_reg}\\n')\n",
        "print(f'p-value aov: {p_value_aov}\\np-value ses: {p_value_ses}\\np-value reg: {p_value_reg}')"
      ],
      "metadata": {
        "id": "5mboKVEoX30V",
        "colab": {
          "base_uri": "https://localhost:8080/"
        },
        "outputId": "a6e3e7d4-6d5b-4edc-d7dc-df6634fb9032"
      },
      "execution_count": 33,
      "outputs": [
        {
          "output_type": "stream",
          "name": "stdout",
          "text": [
            "Cor between aov and revenue: -0.666936528889279\n",
            "Cor between sessions and revenue: 0.9999977187918115\n",
            "Cor between registrations and revenue: 0.9999965886949237\n",
            "\n",
            "p-value aov: 0.1479233357980835\n",
            "p-value ses: 7.805860263798734e-12\n",
            "p-value reg: 1.745548363563065e-11\n"
          ]
        }
      ]
    },
    {
      "cell_type": "markdown",
      "source": [
        "Кореляція в розрізі суб-регіонів:"
      ],
      "metadata": {
        "id": "sEdI9pgKbkQ5"
      }
    },
    {
      "cell_type": "code",
      "source": [
        "sub_corr_aov, p_value_aov = st.spearmanr(subregion_data['aov'], subregion_data['total_revenue'])\n",
        "sub_corr_ses, p_value_ses = st.spearmanr(subregion_data['total_sessions'], subregion_data['total_revenue'])\n",
        "sub_corr_reg, p_value_reg = st.spearmanr(subregion_data['reg_users'], subregion_data['total_revenue'])\n",
        "\n",
        "print(f'Cor between aov and revenue: {sub_corr_aov}\\nCor between sessions and revenue: {sub_corr_ses}\\nCor between registrations and revenue: {sub_corr_reg}\\n')\n",
        "print(f'p-value aov: {p_value_aov}\\np-value ses: {p_value_ses}\\np-value reg: {p_value_reg}')"
      ],
      "metadata": {
        "id": "hYYBaWLFbmhc",
        "colab": {
          "base_uri": "https://localhost:8080/"
        },
        "outputId": "7fd86b46-ad2f-42fb-ce68-786c42e67c2e"
      },
      "execution_count": 34,
      "outputs": [
        {
          "output_type": "stream",
          "name": "stdout",
          "text": [
            "Cor between aov and revenue: -0.3758241758241759\n",
            "Cor between sessions and revenue: 0.9956043956043955\n",
            "Cor between registrations and revenue: 0.9956043956043955\n",
            "\n",
            "p-value aov: 0.185410028697123\n",
            "p-value ses: 1.0315953358848785e-13\n",
            "p-value reg: 1.0315953358848785e-13\n"
          ]
        }
      ]
    },
    {
      "cell_type": "markdown",
      "source": [
        "Кореляція в розрізі країн:"
      ],
      "metadata": {
        "id": "K1-gsHLab6Dp"
      }
    },
    {
      "cell_type": "code",
      "source": [
        "coun_corr_aov, p_value_aov = st.spearmanr(country_data['aov'], country_data['total_revenue'])\n",
        "coun_corr_ses, p_value_ses = st.spearmanr(country_data['total_sessions'], country_data['total_revenue'])\n",
        "coun_corr_reg, p_value_reg = st.spearmanr(country_data['reg_users'], country_data['total_revenue'])\n",
        "\n",
        "print(f'Cor between aov and revenue: {coun_corr_aov}\\nCor between sessions and revenue: {coun_corr_ses}\\nCor between registrations and revenue: {coun_corr_reg}\\n')\n",
        "print(f'p-value aov: {p_value_aov}\\np-value ses: {p_value_ses}\\np-value reg: {p_value_reg}')\n"
      ],
      "metadata": {
        "id": "DMYQkBxib73G",
        "colab": {
          "base_uri": "https://localhost:8080/"
        },
        "outputId": "d7ec2969-3a89-4b2e-c1ec-b23c89cc24ef"
      },
      "execution_count": 35,
      "outputs": [
        {
          "output_type": "stream",
          "name": "stdout",
          "text": [
            "Cor between aov and revenue: 0.358474568197624\n",
            "Cor between sessions and revenue: 0.9669842330150515\n",
            "Cor between registrations and revenue: 0.9607744011723133\n",
            "\n",
            "p-value aov: 0.0001392809954940775\n",
            "p-value ses: 9.252197802979456e-65\n",
            "p-value reg: 7.297249328839334e-61\n"
          ]
        }
      ]
    },
    {
      "cell_type": "markdown",
      "source": [
        "В усіх трьох розрізах видно, що є дуже сильний взаємозв'язок між доходом та кількістю сесій та між доходом та кількістю зареєстрованих користувачів. Обидва ці зв'язки є статистично значущими (p-value < 0.05)  \n",
        "При тому середній чек не показує ніякого зв'язку з позицією регіонів, суб-регіонів або країн відносно загального доходу."
      ],
      "metadata": {
        "id": "x8i61g2PxpR7"
      }
    },
    {
      "cell_type": "markdown",
      "source": [
        "##Перевірка динамічної залежності продажів певної категорії між усіма країнами певного суб-регіону"
      ],
      "metadata": {
        "id": "v1hHWNnNggxu"
      }
    },
    {
      "cell_type": "markdown",
      "source": [
        "Віджети:"
      ],
      "metadata": {
        "id": "6yciph7vgs8t"
      }
    },
    {
      "cell_type": "code",
      "source": [
        "subregions = copy_df['sub-region'].unique()\n",
        "sub_sel = widgets.Dropdown(options = subregions, value = 'Northern America', description = 'Sub-region:')\n",
        "categories = copy_df['product_category'].unique()\n",
        "cat_sel = widgets.Dropdown(options = categories, value = 'Chairs', description ='Category:')"
      ],
      "metadata": {
        "id": "ngxKIRTAgpDh"
      },
      "execution_count": 36,
      "outputs": []
    },
    {
      "cell_type": "code",
      "source": [
        "def calculate_p_values(df):\n",
        "    df_columns = df.columns\n",
        "    p_matrix = pd.DataFrame(index=df_columns, columns=df_columns)\n",
        "\n",
        "    for col1 in df_columns:\n",
        "        for col2 in df_columns:\n",
        "            corr, p_value = st.spearmanr(df[col1], df[col2])\n",
        "            p_matrix.loc[col1, col2] = p_value\n",
        "\n",
        "    return p_matrix.astype(float)\n",
        "\n",
        "def interactive_cor(sub, cat):\n",
        "  clear_output(wait = True)\n",
        "  filter_data = copy_df[(copy_df['sub-region'] == sub) & (copy_df['product_category'] == cat) & (copy_df['price'].notna())]\n",
        "  grouped_data = filter_data.groupby(['country', pd.Grouper(key = 'date', freq = 'ME')], as_index = False)['price'].sum()\n",
        "  pivot_data = grouped_data.pivot_table(index = 'date', columns = 'country', values = 'price', fill_value = 0)\n",
        "  correlation_matrix = pivot_data.corr()\n",
        "  pvalue_matrix = calculate_p_values(pivot_data)\n",
        "\n",
        "  fig = make_subplots(rows = 1, cols = 2,\n",
        "                    subplot_titles=(f'Cor matrix for {cat} in {sub}',\n",
        "                                    f'P-Value for {cat} in {sub}'),\n",
        "        horizontal_spacing=0.1\n",
        "                    )\n",
        "\n",
        "  fig.add_heatmap(\n",
        "        z=correlation_matrix.values,\n",
        "        x=correlation_matrix.columns,\n",
        "        y=correlation_matrix.columns,\n",
        "        zmin=-1,\n",
        "        zmax=1,\n",
        "        colorscale='GnBu',\n",
        "        showscale=False,\n",
        "        text=np.round(correlation_matrix.values, 3),\n",
        "        texttemplate=\"%{text}\",\n",
        "        textfont={\"size\": 8},\n",
        "        row=1, col=1\n",
        "    )\n",
        "\n",
        "  fig.add_heatmap(\n",
        "        z=pvalue_matrix.values,\n",
        "        x=pvalue_matrix.columns,\n",
        "        y=pvalue_matrix.index,\n",
        "        zmin=0,\n",
        "        zmax=0.1,\n",
        "        colorscale='Blues_r',\n",
        "        showscale=False,\n",
        "        text=np.round(pvalue_matrix.values, 4),\n",
        "        texttemplate=\"%{text}\",\n",
        "        textfont={\"size\": 8},\n",
        "        row=1, col=2\n",
        "    )\n",
        "\n",
        "  fig.update_layout(height = 600,\n",
        "                    width = 1200,\n",
        "                    plot_bgcolor = 'aliceblue',\n",
        "                    paper_bgcolor ='lightcyan'\n",
        "                    )\n",
        "  fig.show()\n",
        "\n",
        "widgets.interact(interactive_cor, sub = sub_sel, cat = cat_sel)"
      ],
      "metadata": {
        "id": "Ab_-l4yfhF1v",
        "colab": {
          "base_uri": "https://localhost:8080/",
          "height": 767,
          "referenced_widgets": [
            "29f6623893fe410dabe73a1b71e48199",
            "c4ff4c05fe734ce7b996d51ceeb831bd",
            "b5f9789df6c44f92880e403d9f77924d",
            "e2c2b310080040ee9270a3a331991415",
            "b9195953a6b141fa8a3d73a9479111bd",
            "7c3f273855754532aa97e99b9fdf9717",
            "9f53c324398041e7a4ca75a88f7fce35",
            "caa23a472ef14cbf85d36338fc1ca591",
            "b1a7f078631e4fd9a049d120e9d111d3",
            "c2e82849d6134eb6b85058fc074f1508"
          ]
        },
        "outputId": "2aceceb2-2415-4da7-d416-836a762990a9"
      },
      "execution_count": 37,
      "outputs": [
        {
          "output_type": "display_data",
          "data": {
            "text/plain": [
              "interactive(children=(Dropdown(description='Sub-region:', index=13, options=(nan, 'Eastern Asia', 'Southern As…"
            ],
            "application/vnd.jupyter.widget-view+json": {
              "version_major": 2,
              "version_minor": 0,
              "model_id": "29f6623893fe410dabe73a1b71e48199"
            }
          },
          "metadata": {
            "application/vnd.jupyter.widget-view+json": {
              "colab": {
                "custom_widget_manager": {
                  "url": "https://ssl.gstatic.com/colaboratory-static/widgets/colab-cdn-widget-manager/2b70e893a8ba7c0f/manager.min.js"
                }
              }
            }
          }
        },
        {
          "output_type": "execute_result",
          "data": {
            "text/plain": [
              "<function __main__.interactive_cor(sub, cat)>"
            ],
            "text/html": [
              "<div style=\"max-width:800px; border: 1px solid var(--colab-border-color);\"><style>\n",
              "      pre.function-repr-contents {\n",
              "        overflow-x: auto;\n",
              "        padding: 8px 12px;\n",
              "        max-height: 500px;\n",
              "      }\n",
              "\n",
              "      pre.function-repr-contents.function-repr-contents-collapsed {\n",
              "        cursor: pointer;\n",
              "        max-height: 100px;\n",
              "      }\n",
              "    </style>\n",
              "    <pre style=\"white-space: initial; background:\n",
              "         var(--colab-secondary-surface-color); padding: 8px 12px;\n",
              "         border-bottom: 1px solid var(--colab-border-color);\"><b>interactive_cor</b><br/>def interactive_cor(sub, cat)</pre><pre class=\"function-repr-contents function-repr-contents-collapsed\" style=\"\"><a class=\"filepath\" style=\"display:none\" href=\"#\">/tmp/ipython-input-3749089620.py</a>&lt;no docstring&gt;</pre></div>"
            ]
          },
          "metadata": {},
          "execution_count": 37
        }
      ]
    },
    {
      "cell_type": "markdown",
      "source": [
        "Справа на графіку - матриця кореляцій яка показує взаємозв'язок продажів вибраної  категорій по країнам певного суб-регіону.  \n",
        "Зліва на графіку - матриця p-value, яка дозволяє нам зрозуміти статистичну значущість відповідної кореляції. Якщо значення < 0.05 ми будемо вважати кореляцію такою, що варта уваги й ймовірно не є випадковою."
      ],
      "metadata": {
        "id": "OR7JbwLB8T7K"
      }
    },
    {
      "cell_type": "markdown",
      "source": [
        "###Візуальне нотування кореляцій в топ -3 суб-регіонах за доходом :"
      ],
      "metadata": {
        "id": "fFxwBLQb6YYR"
      }
    },
    {
      "cell_type": "markdown",
      "source": [
        "Америка Канада - Cabinets & cupboards,Tables & desks,Beds,Bookcases & Shelving units, Sofas & Armchairs,Childrens Funiture. Cafe furniture -зворотня   \n",
        "Southern Asia, Cabinets & cupboards -Індія бангладеш зворотня дуже сильна ,  \n",
        "Tables & desks -Пакістан Бангдалеш , Шрі ланка Індія зворотня сильна,  \n",
        "Chairs - Непал Шріланка , Пакістан індія зворотня сильна,  \n",
        "Beds - Пакістан Індія сильна пряма,  \n",
        "Bookcases & Shelving units - Шріланка Непал - сильна пряма,  \n",
        "Outdoor funiture - Пакістан Бангладеш зворотня сильна,  \n",
        "Sofas & armchairs - Пакістан Бангладеш, Індія Бангладеш зворотня сильна.Пакістан Індія пряма ідеальна.  \n",
        "Childrens Funiture - Пакістан Індія майже ідеальна пряма.  \n",
        "Chests of drawers & drawer - Індія Пакістан дуже сильна пряма.  \n",
        "Bar Funiture - Індія Пакістан дуже сильна пряма.  \n",
        "\n",
        "Eastern Asia:  \n",
        "Cabinets & cupboards - Південна Корея Хон Конг зворотня , Південна Корея Японія дуже сильна пряма.  \n",
        "Tables & desks - Макао,Тайвань, Південна Корея  з Хон Конгом дуже сильна пряма,Монголія Японія дуже сильна зворотня.  \n",
        "Chairs - Південна Корея Китай дуже сильна зворотня,Японія Хон Конг пряма.  \n",
        "Beds - Тайвань з Хон Конг та Японією дуже сильна пряма, Японія з Хонконгом дуже сильна пряма.  \n",
        "Bookcases & Shelving units - Тайвань Китай сильна пряма.Південна Корея з Хонконг Японією та Макао дуже сильна зворотня.Макао Хонконг та Макао Японія дуже сильна пряма. Японія Хон Конгмайже ідеальна пряма.  \n",
        "Nursery Funiture - Японія з Китаємо дуже сильна зворотня.  \n",
        "Outdoor funiture - Південна Корея Хон Конг майже ідеальна зворотня, Південна Корея Японія майже ідеальна пряма.Японія Хон Конг майже ідеальна зворотня.  \n",
        "Sofas & armchairs - Тайвань Хон Конг дуже сильна зворотня. Південна Корея Японія пряма.\n",
        "Cafe Furniture - Тайвань Південна Корея дуже сильна пряма.  \n",
        "Childrens Funiture  -  Тайвань та Південна Корея з Хон Конгом дуже сильна пряма. Тайвань Південна Корея майже ідеальна пряма.  \n",
        "Chests of drawers & drawer - Південна Корея Китай сильна пряма.Тайвань Японія дуже сильна зворотня.  \n",
        "Bar Funiture -  Тайвань з Китаєм та Японією дуже сильна зворотня.Японія з Китаєм і Хон Конгом сильна пряма.Хон Конг з Китаєм пряма.  \n",
        "Sideboards, buffets & console tables - Південна Корея Хонконг майже ідеальна пряма.  \n",
        "Room dividers - Південна Корея Тайвань майже ідеаьна пряма.Хон Конг Китай майже ідеальна пряма.   \n",
        "\n"
      ],
      "metadata": {
        "id": "ZFCjJO7rx50x"
      }
    },
    {
      "cell_type": "markdown",
      "source": [
        "### Висновки по кореляціям,які підтверджуться статистичною значущостю на основі записів:"
      ],
      "metadata": {
        "id": "Sd4jBEj86hKO"
      }
    },
    {
      "cell_type": "markdown",
      "source": [
        "**Північна америка:**  \n",
        "Попит на Cabinets & Cupboards, Tables & Desks, Beds, Bookcases & Shelving Units, Sofas & Armchairs, Childrens Furniture рухається синхронно між США та Канадою. Тобто якщо якась категорія/товар з цієї категорії показує успіх в одній країні, висока ймовірність повторення цього тренду в іншій.  \n",
        "Cafe Furniture  між США та Канадою - якщо зростає в одній країні, то інша може показати спад.Це означає різні цикли розвитку в цій сфері.  \n",
        "  \n",
        "**Південна Азія:**  \n",
        "Є низка сильних прямих пар (наприклад Beds: Пакистан–Індія, Childrens Furniture: Пакистан–Індія, Chests of Drawers & Drawer / Bar Furniture: Індія–Пакистан). Це означає: якщо категорія зростає в одній з цих країн, то варто швидко масштабувати її на партнерську.  \n",
        "Водночас є сильні зворотні зв’язки (наприклад Tables & Desks: Пакистан–Бангладеш, Chairs: Непал–Шрі-Ланка). Тут важливо не дублювати стратегії: зростання в одному ринку часто означає падіння в іншому.Це дає змогу вибудовувати дзеркальні стратегії.  \n",
        "\n",
        "**Східна Азія:**  \n",
        "Є ідеальні прямі зв’язки (Beds: Тайвань–Хонконг, Японія–Хонконг; Tables & Desks: Макао–Тайвань, Корея–Хонконг), що дозволяють прогнозувати попит і будувати «ланцюговий ефект».  \n",
        "Одночасно є дуже сильні зворотні кореляції (Chairs: Корея–Китай, Chests of Drawers: Тайвань–Японія, Bar Furniture: Тайвань–Японія). Це вказує на те, що ці ринки конкурують за тренди – споживачі швидко переключаються.  \n",
        "Для Outdoor Furniture, Cafe Furniture, Childrens Furniture часто фіксуються майже ідеальні прямі кореляції (наприклад Тайвань–Корея, Корея–Японія). Це означає, що  ці сегменти тут ростуть синхронно й можна масштабувати успішні кампанії одночасно в кількох країнах.  \n",
        "\n",
        "**Варто враховувати:**   \n",
        "Зі збільшенням даних по продажам, ми зможемо отримати більше важливих кореляцій за рахунок більшої кількості статистично значущих результатів.\n",
        "\n",
        "\n",
        "\n"
      ],
      "metadata": {
        "id": "xRVR9JM66loD"
      }
    },
    {
      "cell_type": "markdown",
      "source": [
        "#Загальні Висновки:"
      ],
      "metadata": {
        "id": "TY99zfTN-cGk"
      }
    },
    {
      "cell_type": "markdown",
      "source": [
        "Компанія формує основний дохід за рахунок трьох континентів - Америки, Європи та Азії, при цьому Північна Америка є беззаперечним лідером (понад половина загального доходу). США виступають ключовим драйвером бізнесу, формуючи майже половину виручки компанії, що створює як значну точку зростання, так і ризик концентрації на одному ринку. Європейські та азійські країни дають менші частки, але забезпечують диверсифікацію, особливо Індія та Велика Британія.\n",
        "\n",
        "В усіх розрізах чітко простежується: дохід прямо залежить від кількості сесій і зареєстрованих користувачів, тоді як середній чек не має суттєвого впливу на результат. Це означає, що основна стратегія зростання повинна ґрунтуватися на масштабуванні трафіку та залученні нових користувачів, а не на підвищенні середнього чеку.\n",
        "\n",
        "Найбільшу частину доходу генерують користувачі з desktop, але mobile теж має значний потенціал. Tablet в окремих субрегіонах (Південна та Східна Азія, Північна Європа) показує високий середній чек, що вимагає додаткового дослідження аудиторії. Аналогічно варто дослідити сегменти користувачів з непопулярними браузерами та системами (наприклад, Firefox, Macintosh), які демонструють високий середній чек у специфічних регіонах.\n",
        "\n",
        "Канали трафіку мають чітку ієрархію: Organic Search - ключовий драйвер доходу, Paid Search ефективний переважно у Північній Америці та Європі, Direct стабільно працює всюди, а Social Search поки відстає за обсягами, але має високий потенціал масштабування.\n",
        "\n",
        "За категоріями найбільш прибутковою глобально є Sofas & Armchairs, однак у багатьох країнах домінують інші сегменти (наприклад, Chairs у Туреччині, Японії, Південній Кореї). Це свідчить про важливість локальних адаптацій асортименту. Додатково афінність по регіонах відкриває перспективні ніші: Outdoor Furniture у Північній Європі, Room Dividers у Південній Європі, Bar Furniture у Південно-Східній Азії.\n",
        "\n",
        "Кореляційний аналіз між країнами в межах субрегіонів показав:\n",
        "\n",
        "У Північній Америці більшість категорій рухаються синхронно між США та Канадою.\n",
        "\n",
        "У Південній Азії є як прямі, так і зворотні пари, що дозволяє прогнозувати попит та будувати дзеркальні стратегії.\n",
        "\n",
        "У Східній Азії ринок найбільш динамічний: тут одночасно існують ідеальні прямі та сильні зворотні залежності, що створює як можливості масштабування, так і потребу в гнучкому управлінні асортиментом.\n",
        "\n",
        "Загалом компанія має стійку основу в Північній Америці та перспективи росту в Азії й Європі за рахунок правильної локалізації, оптимізації трафіку та використання міжкраїнових кореляцій для прогнозування попиту. Наступним кроком є глибше дослідження специфічних сегментів користувачів і перевірка нових категорій у регіонах із високим індексом афінності."
      ],
      "metadata": {
        "id": "7zv5eCCS-gtb"
      }
    },
    {
      "cell_type": "code",
      "source": [],
      "metadata": {
        "id": "CA5uN4hbx9nA"
      },
      "execution_count": 37,
      "outputs": []
    },
    {
      "cell_type": "markdown",
      "source": [
        "#Дашборд для більш зручного візуального аналізу всіх результатів:"
      ],
      "metadata": {
        "id": "oWtrUOM-BuT2"
      }
    },
    {
      "cell_type": "markdown",
      "source": [
        "**Як користуватись:**"
      ],
      "metadata": {
        "id": "E8xoJvPTFp6K"
      }
    },
    {
      "cell_type": "markdown",
      "source": [
        "Під заголовком по центру є 4 фільтри:  \n",
        "1. Geographic Zone - визначає рівень агрегації для всіх графіків, тобто ми можемо подивитись інформацію в трьох розрізах на вибір: континенти, суб-регіони, країни  \n",
        "2. Elements in Geographic Zone - тут показуються всі елементи, які входять до вибраного розріза, тобто для континентів тут буде список континентів і т.д.  \n",
        "3. Date - фільтр дати, де рухая повзунок можно побачити інформацію тільки за певний період.  \n",
        "4. TOP -  цей фільтр дозволяє нам залишити певний топ елементів за доходом. Якщо ми хочем повернути всі елементи можно просто натиснути ALL.\n",
        "\n",
        "**Рекомендовано користуватись фільтрами в тій же послідовності в якій вони розташовані на дашборді.**"
      ],
      "metadata": {
        "id": "YLSI5L1wFtoT"
      }
    },
    {
      "cell_type": "markdown",
      "source": [
        "**Посилання:**"
      ],
      "metadata": {
        "id": "F7NPBbOxCJsK"
      }
    },
    {
      "cell_type": "markdown",
      "source": [
        "https://public.tableau.com/views/GeographicalAnalysis_17590589104860/Geographicanalysise-commerce?:language=en-US&publish=yes&:sid=&:redirect=auth&:display_count=n&:origin=viz_share_link"
      ],
      "metadata": {
        "id": "tUzzjOAxCKcz"
      }
    },
    {
      "cell_type": "code",
      "source": [],
      "metadata": {
        "id": "dVw6_rg9CI9n"
      },
      "execution_count": 37,
      "outputs": []
    }
  ]
}